{
 "cells": [
  {
   "cell_type": "code",
   "execution_count": 1,
   "metadata": {},
   "outputs": [],
   "source": [
    "import numpy as np\n",
    "import pandas as pd\n",
    "import plotly\n",
    "import os\n",
    "import json\n",
    "import requests\n",
    "import plotly.graph_objects as go"
   ]
  },
  {
   "cell_type": "code",
   "execution_count": 63,
   "metadata": {},
   "outputs": [],
   "source": [
    "df_prod = pd.read_pickle('data/df_prod.pkl')\n",
    "df_prod.columns = ['Area', 'Item', 'Element', 'Unit'] + [str(year) for year in range(1993, 2017)] \n",
    "df_prod_brazil = df_prod.loc[df_prod['Area'] == 'Brazil']\\\n",
    "                        .loc[df_prod['Element'] == 'Production']\\\n",
    "                        .sort_values(['2016'], ascending=False)\\\n",
    "                        .reset_index()\n",
    "df_prod_brazil = df_prod_brazil[df_prod_brazil['2016'] != 0]"
   ]
  },
  {
   "cell_type": "code",
   "execution_count": 59,
   "metadata": {
    "collapsed": true,
    "jupyter": {
     "outputs_hidden": true
    }
   },
   "outputs": [
    {
     "data": {
      "text/html": [
       "<div>\n",
       "<style scoped>\n",
       "    .dataframe tbody tr th:only-of-type {\n",
       "        vertical-align: middle;\n",
       "    }\n",
       "\n",
       "    .dataframe tbody tr th {\n",
       "        vertical-align: top;\n",
       "    }\n",
       "\n",
       "    .dataframe thead th {\n",
       "        text-align: right;\n",
       "    }\n",
       "</style>\n",
       "<table border=\"1\" class=\"dataframe\">\n",
       "  <thead>\n",
       "    <tr style=\"text-align: right;\">\n",
       "      <th></th>\n",
       "      <th>index</th>\n",
       "      <th>Area</th>\n",
       "      <th>Item</th>\n",
       "      <th>Element</th>\n",
       "      <th>Unit</th>\n",
       "      <th>1993</th>\n",
       "      <th>1994</th>\n",
       "      <th>1995</th>\n",
       "      <th>1996</th>\n",
       "      <th>1997</th>\n",
       "      <th>...</th>\n",
       "      <th>2007</th>\n",
       "      <th>2008</th>\n",
       "      <th>2009</th>\n",
       "      <th>2010</th>\n",
       "      <th>2011</th>\n",
       "      <th>2012</th>\n",
       "      <th>2013</th>\n",
       "      <th>2014</th>\n",
       "      <th>2015</th>\n",
       "      <th>2016</th>\n",
       "    </tr>\n",
       "  </thead>\n",
       "  <tbody>\n",
       "    <tr>\n",
       "      <td>0</td>\n",
       "      <td>4275</td>\n",
       "      <td>Brazil</td>\n",
       "      <td>Soybeans</td>\n",
       "      <td>Production</td>\n",
       "      <td>tonnes</td>\n",
       "      <td>22590978.0</td>\n",
       "      <td>24931832.0</td>\n",
       "      <td>25682637.0</td>\n",
       "      <td>23166874.0</td>\n",
       "      <td>26392636.0</td>\n",
       "      <td>...</td>\n",
       "      <td>57857172.0</td>\n",
       "      <td>59833104.0</td>\n",
       "      <td>57345382.0</td>\n",
       "      <td>68756343.0</td>\n",
       "      <td>74815447.0</td>\n",
       "      <td>65848857.0</td>\n",
       "      <td>81724477.0</td>\n",
       "      <td>86760520.0</td>\n",
       "      <td>97464936.0</td>\n",
       "      <td>96394820.0</td>\n",
       "    </tr>\n",
       "    <tr>\n",
       "      <td>1</td>\n",
       "      <td>4187</td>\n",
       "      <td>Brazil</td>\n",
       "      <td>Maize</td>\n",
       "      <td>Production</td>\n",
       "      <td>tonnes</td>\n",
       "      <td>30055633.0</td>\n",
       "      <td>32487625.0</td>\n",
       "      <td>36266951.0</td>\n",
       "      <td>29652791.0</td>\n",
       "      <td>32948044.0</td>\n",
       "      <td>...</td>\n",
       "      <td>52112217.0</td>\n",
       "      <td>58933347.0</td>\n",
       "      <td>50719822.0</td>\n",
       "      <td>55364271.0</td>\n",
       "      <td>55660235.0</td>\n",
       "      <td>71072810.0</td>\n",
       "      <td>80273172.0</td>\n",
       "      <td>79881614.0</td>\n",
       "      <td>85283074.0</td>\n",
       "      <td>64143414.0</td>\n",
       "    </tr>\n",
       "    <tr>\n",
       "      <td>2</td>\n",
       "      <td>4140</td>\n",
       "      <td>Brazil</td>\n",
       "      <td>Cassava</td>\n",
       "      <td>Production</td>\n",
       "      <td>tonnes</td>\n",
       "      <td>21855690.0</td>\n",
       "      <td>24464290.0</td>\n",
       "      <td>25422960.0</td>\n",
       "      <td>17743160.0</td>\n",
       "      <td>19896200.0</td>\n",
       "      <td>...</td>\n",
       "      <td>26541200.0</td>\n",
       "      <td>26703040.0</td>\n",
       "      <td>24403981.0</td>\n",
       "      <td>24967052.0</td>\n",
       "      <td>25349542.0</td>\n",
       "      <td>23044557.0</td>\n",
       "      <td>21484218.0</td>\n",
       "      <td>23253514.0</td>\n",
       "      <td>23059704.0</td>\n",
       "      <td>21084418.0</td>\n",
       "    </tr>\n",
       "    <tr>\n",
       "      <td>3</td>\n",
       "      <td>4216</td>\n",
       "      <td>Brazil</td>\n",
       "      <td>Oranges</td>\n",
       "      <td>Production</td>\n",
       "      <td>tonnes</td>\n",
       "      <td>18797188.0</td>\n",
       "      <td>17445968.0</td>\n",
       "      <td>19837212.0</td>\n",
       "      <td>21079044.0</td>\n",
       "      <td>23046800.0</td>\n",
       "      <td>...</td>\n",
       "      <td>18684984.0</td>\n",
       "      <td>18538084.0</td>\n",
       "      <td>17618450.0</td>\n",
       "      <td>18503139.0</td>\n",
       "      <td>19811064.0</td>\n",
       "      <td>18012560.0</td>\n",
       "      <td>17549536.0</td>\n",
       "      <td>16928457.0</td>\n",
       "      <td>16939635.0</td>\n",
       "      <td>17262314.0</td>\n",
       "    </tr>\n",
       "    <tr>\n",
       "      <td>4</td>\n",
       "      <td>4317</td>\n",
       "      <td>Brazil</td>\n",
       "      <td>Wheat</td>\n",
       "      <td>Production</td>\n",
       "      <td>tonnes</td>\n",
       "      <td>2197354.0</td>\n",
       "      <td>2096259.0</td>\n",
       "      <td>1533871.0</td>\n",
       "      <td>3292777.0</td>\n",
       "      <td>2489070.0</td>\n",
       "      <td>...</td>\n",
       "      <td>4114057.0</td>\n",
       "      <td>6027131.0</td>\n",
       "      <td>5055525.0</td>\n",
       "      <td>6171250.0</td>\n",
       "      <td>5690043.0</td>\n",
       "      <td>4418388.0</td>\n",
       "      <td>5738473.0</td>\n",
       "      <td>6261895.0</td>\n",
       "      <td>5508451.0</td>\n",
       "      <td>6834421.0</td>\n",
       "    </tr>\n",
       "    <tr>\n",
       "      <td>5</td>\n",
       "      <td>4115</td>\n",
       "      <td>Brazil</td>\n",
       "      <td>Bananas</td>\n",
       "      <td>Production</td>\n",
       "      <td>tonnes</td>\n",
       "      <td>5802992.0</td>\n",
       "      <td>5955238.0</td>\n",
       "      <td>5801110.0</td>\n",
       "      <td>5160178.0</td>\n",
       "      <td>5412360.0</td>\n",
       "      <td>...</td>\n",
       "      <td>7098350.0</td>\n",
       "      <td>6998150.0</td>\n",
       "      <td>6783490.0</td>\n",
       "      <td>6969306.0</td>\n",
       "      <td>7329471.0</td>\n",
       "      <td>6902184.0</td>\n",
       "      <td>6892622.0</td>\n",
       "      <td>6953747.0</td>\n",
       "      <td>6859227.0</td>\n",
       "      <td>6735260.0</td>\n",
       "    </tr>\n",
       "    <tr>\n",
       "      <td>6</td>\n",
       "      <td>4299</td>\n",
       "      <td>Brazil</td>\n",
       "      <td>Tomatoes</td>\n",
       "      <td>Production</td>\n",
       "      <td>tonnes</td>\n",
       "      <td>2348498.0</td>\n",
       "      <td>2688570.0</td>\n",
       "      <td>2715016.0</td>\n",
       "      <td>2648627.0</td>\n",
       "      <td>2717965.0</td>\n",
       "      <td>...</td>\n",
       "      <td>3431232.0</td>\n",
       "      <td>3867655.0</td>\n",
       "      <td>4310477.0</td>\n",
       "      <td>4106846.0</td>\n",
       "      <td>4416652.0</td>\n",
       "      <td>3873985.0</td>\n",
       "      <td>4187646.0</td>\n",
       "      <td>4302777.0</td>\n",
       "      <td>4187729.0</td>\n",
       "      <td>4167629.0</td>\n",
       "    </tr>\n",
       "    <tr>\n",
       "      <td>7</td>\n",
       "      <td>4241</td>\n",
       "      <td>Brazil</td>\n",
       "      <td>Potatoes</td>\n",
       "      <td>Production</td>\n",
       "      <td>tonnes</td>\n",
       "      <td>2367571.0</td>\n",
       "      <td>2488461.0</td>\n",
       "      <td>2692234.0</td>\n",
       "      <td>2412546.0</td>\n",
       "      <td>2670493.0</td>\n",
       "      <td>...</td>\n",
       "      <td>3550510.0</td>\n",
       "      <td>3676938.0</td>\n",
       "      <td>3443712.0</td>\n",
       "      <td>3547510.0</td>\n",
       "      <td>3917234.0</td>\n",
       "      <td>3731798.0</td>\n",
       "      <td>3553772.0</td>\n",
       "      <td>3689836.0</td>\n",
       "      <td>3867681.0</td>\n",
       "      <td>3851396.0</td>\n",
       "    </tr>\n",
       "    <tr>\n",
       "      <td>8</td>\n",
       "      <td>4308</td>\n",
       "      <td>Brazil</td>\n",
       "      <td>Vegetables, fresh nes</td>\n",
       "      <td>Production</td>\n",
       "      <td>tonnes</td>\n",
       "      <td>2000000.0</td>\n",
       "      <td>2050000.0</td>\n",
       "      <td>2100000.0</td>\n",
       "      <td>2100000.0</td>\n",
       "      <td>2150000.0</td>\n",
       "      <td>...</td>\n",
       "      <td>2410000.0</td>\n",
       "      <td>2410000.0</td>\n",
       "      <td>2650000.0</td>\n",
       "      <td>2842215.0</td>\n",
       "      <td>2873134.0</td>\n",
       "      <td>2900000.0</td>\n",
       "      <td>2900000.0</td>\n",
       "      <td>2911788.0</td>\n",
       "      <td>2977044.0</td>\n",
       "      <td>3033272.0</td>\n",
       "    </tr>\n",
       "    <tr>\n",
       "      <td>9</td>\n",
       "      <td>4153</td>\n",
       "      <td>Brazil</td>\n",
       "      <td>Coffee, green</td>\n",
       "      <td>Production</td>\n",
       "      <td>tonnes</td>\n",
       "      <td>1278759.0</td>\n",
       "      <td>1307289.0</td>\n",
       "      <td>930135.0</td>\n",
       "      <td>1369196.0</td>\n",
       "      <td>1228513.0</td>\n",
       "      <td>...</td>\n",
       "      <td>2249011.0</td>\n",
       "      <td>2796927.0</td>\n",
       "      <td>2440056.0</td>\n",
       "      <td>2907265.0</td>\n",
       "      <td>2700540.0</td>\n",
       "      <td>3037534.0</td>\n",
       "      <td>2964538.0</td>\n",
       "      <td>2804070.0</td>\n",
       "      <td>2647504.0</td>\n",
       "      <td>3019228.0</td>\n",
       "    </tr>\n",
       "    <tr>\n",
       "      <td>10</td>\n",
       "      <td>4238</td>\n",
       "      <td>Brazil</td>\n",
       "      <td>Pineapples</td>\n",
       "      <td>Production</td>\n",
       "      <td>tonnes</td>\n",
       "      <td>1251873.0</td>\n",
       "      <td>1484327.0</td>\n",
       "      <td>1426361.0</td>\n",
       "      <td>1145981.0</td>\n",
       "      <td>1609895.0</td>\n",
       "      <td>...</td>\n",
       "      <td>2676323.0</td>\n",
       "      <td>2568547.0</td>\n",
       "      <td>2206492.0</td>\n",
       "      <td>2205586.0</td>\n",
       "      <td>2365455.0</td>\n",
       "      <td>2546601.0</td>\n",
       "      <td>2483831.0</td>\n",
       "      <td>2646243.0</td>\n",
       "      <td>2653646.0</td>\n",
       "      <td>2695230.0</td>\n",
       "    </tr>\n",
       "    <tr>\n",
       "      <td>11</td>\n",
       "      <td>4150</td>\n",
       "      <td>Brazil</td>\n",
       "      <td>Coconuts</td>\n",
       "      <td>Production</td>\n",
       "      <td>tonnes</td>\n",
       "      <td>1256189.0</td>\n",
       "      <td>1378233.0</td>\n",
       "      <td>1450016.0</td>\n",
       "      <td>1434806.0</td>\n",
       "      <td>1450970.0</td>\n",
       "      <td>...</td>\n",
       "      <td>2831004.0</td>\n",
       "      <td>3223983.0</td>\n",
       "      <td>2960049.0</td>\n",
       "      <td>2843453.0</td>\n",
       "      <td>2943651.0</td>\n",
       "      <td>2931531.0</td>\n",
       "      <td>2890286.0</td>\n",
       "      <td>2919110.0</td>\n",
       "      <td>2679218.0</td>\n",
       "      <td>2650299.0</td>\n",
       "    </tr>\n",
       "    <tr>\n",
       "      <td>12</td>\n",
       "      <td>4124</td>\n",
       "      <td>Brazil</td>\n",
       "      <td>Beans, dry</td>\n",
       "      <td>Production</td>\n",
       "      <td>tonnes</td>\n",
       "      <td>2478325.0</td>\n",
       "      <td>3369684.0</td>\n",
       "      <td>2946168.0</td>\n",
       "      <td>2452036.0</td>\n",
       "      <td>2840243.0</td>\n",
       "      <td>...</td>\n",
       "      <td>3169356.0</td>\n",
       "      <td>3461194.0</td>\n",
       "      <td>3486763.0</td>\n",
       "      <td>3158905.0</td>\n",
       "      <td>3435366.0</td>\n",
       "      <td>2794854.0</td>\n",
       "      <td>2892599.0</td>\n",
       "      <td>3294586.0</td>\n",
       "      <td>3088926.0</td>\n",
       "      <td>2615832.0</td>\n",
       "    </tr>\n",
       "    <tr>\n",
       "      <td>13</td>\n",
       "      <td>4314</td>\n",
       "      <td>Brazil</td>\n",
       "      <td>Watermelons</td>\n",
       "      <td>Production</td>\n",
       "      <td>tonnes</td>\n",
       "      <td>441477.0</td>\n",
       "      <td>447963.0</td>\n",
       "      <td>763236.0</td>\n",
       "      <td>541758.0</td>\n",
       "      <td>624687.0</td>\n",
       "      <td>...</td>\n",
       "      <td>2092628.0</td>\n",
       "      <td>1995206.0</td>\n",
       "      <td>2065167.0</td>\n",
       "      <td>2052928.0</td>\n",
       "      <td>2198624.0</td>\n",
       "      <td>2079547.0</td>\n",
       "      <td>2163501.0</td>\n",
       "      <td>2171448.0</td>\n",
       "      <td>2119559.0</td>\n",
       "      <td>2090432.0</td>\n",
       "    </tr>\n",
       "    <tr>\n",
       "      <td>14</td>\n",
       "      <td>4213</td>\n",
       "      <td>Brazil</td>\n",
       "      <td>Onions, dry</td>\n",
       "      <td>Production</td>\n",
       "      <td>tonnes</td>\n",
       "      <td>928704.0</td>\n",
       "      <td>1020035.0</td>\n",
       "      <td>940537.0</td>\n",
       "      <td>906643.0</td>\n",
       "      <td>881134.0</td>\n",
       "      <td>...</td>\n",
       "      <td>1360300.0</td>\n",
       "      <td>1367066.0</td>\n",
       "      <td>1511853.0</td>\n",
       "      <td>1753311.0</td>\n",
       "      <td>1523316.0</td>\n",
       "      <td>1519022.0</td>\n",
       "      <td>1538929.0</td>\n",
       "      <td>1646498.0</td>\n",
       "      <td>1445989.0</td>\n",
       "      <td>1657441.0</td>\n",
       "    </tr>\n",
       "    <tr>\n",
       "      <td>15</td>\n",
       "      <td>4137</td>\n",
       "      <td>Brazil</td>\n",
       "      <td>Cashewapple</td>\n",
       "      <td>Production</td>\n",
       "      <td>tonnes</td>\n",
       "      <td>1700000.0</td>\n",
       "      <td>1550000.0</td>\n",
       "      <td>1600000.0</td>\n",
       "      <td>1650000.0</td>\n",
       "      <td>1700000.0</td>\n",
       "      <td>...</td>\n",
       "      <td>1748296.0</td>\n",
       "      <td>1778819.0</td>\n",
       "      <td>1803131.0</td>\n",
       "      <td>1791634.0</td>\n",
       "      <td>1827489.0</td>\n",
       "      <td>1805000.0</td>\n",
       "      <td>1805000.0</td>\n",
       "      <td>1743020.0</td>\n",
       "      <td>1575185.0</td>\n",
       "      <td>1431295.0</td>\n",
       "    </tr>\n",
       "    <tr>\n",
       "      <td>16</td>\n",
       "      <td>4220</td>\n",
       "      <td>Brazil</td>\n",
       "      <td>Papayas</td>\n",
       "      <td>Production</td>\n",
       "      <td>tonnes</td>\n",
       "      <td>918878.0</td>\n",
       "      <td>1003997.0</td>\n",
       "      <td>1040746.0</td>\n",
       "      <td>932960.0</td>\n",
       "      <td>1301367.0</td>\n",
       "      <td>...</td>\n",
       "      <td>1811535.0</td>\n",
       "      <td>1890286.0</td>\n",
       "      <td>1792594.0</td>\n",
       "      <td>1871961.0</td>\n",
       "      <td>1854343.0</td>\n",
       "      <td>1517696.0</td>\n",
       "      <td>1582638.0</td>\n",
       "      <td>1603351.0</td>\n",
       "      <td>1481190.0</td>\n",
       "      <td>1424677.0</td>\n",
       "    </tr>\n",
       "    <tr>\n",
       "      <td>17</td>\n",
       "      <td>4190</td>\n",
       "      <td>Brazil</td>\n",
       "      <td>Mangoes, mangosteens, guavas</td>\n",
       "      <td>Production</td>\n",
       "      <td>tonnes</td>\n",
       "      <td>563511.0</td>\n",
       "      <td>604906.0</td>\n",
       "      <td>638371.0</td>\n",
       "      <td>593423.0</td>\n",
       "      <td>508350.0</td>\n",
       "      <td>...</td>\n",
       "      <td>1272184.0</td>\n",
       "      <td>1154649.0</td>\n",
       "      <td>1197694.0</td>\n",
       "      <td>1189651.0</td>\n",
       "      <td>1591981.0</td>\n",
       "      <td>1521067.0</td>\n",
       "      <td>1512615.0</td>\n",
       "      <td>1491812.0</td>\n",
       "      <td>1400342.0</td>\n",
       "      <td>1417448.0</td>\n",
       "    </tr>\n",
       "    <tr>\n",
       "      <td>18</td>\n",
       "      <td>4181</td>\n",
       "      <td>Brazil</td>\n",
       "      <td>Lemons and limes</td>\n",
       "      <td>Production</td>\n",
       "      <td>tonnes</td>\n",
       "      <td>505401.0</td>\n",
       "      <td>491400.0</td>\n",
       "      <td>454632.0</td>\n",
       "      <td>468987.0</td>\n",
       "      <td>508539.0</td>\n",
       "      <td>...</td>\n",
       "      <td>1018703.0</td>\n",
       "      <td>965333.0</td>\n",
       "      <td>899821.0</td>\n",
       "      <td>1020741.0</td>\n",
       "      <td>1126736.0</td>\n",
       "      <td>1208275.0</td>\n",
       "      <td>1169370.0</td>\n",
       "      <td>1101799.0</td>\n",
       "      <td>1180443.0</td>\n",
       "      <td>1270246.0</td>\n",
       "    </tr>\n",
       "    <tr>\n",
       "      <td>19</td>\n",
       "      <td>4272</td>\n",
       "      <td>Brazil</td>\n",
       "      <td>Sorghum</td>\n",
       "      <td>Production</td>\n",
       "      <td>tonnes</td>\n",
       "      <td>281912.0</td>\n",
       "      <td>315908.0</td>\n",
       "      <td>276832.0</td>\n",
       "      <td>356567.0</td>\n",
       "      <td>542581.0</td>\n",
       "      <td>...</td>\n",
       "      <td>1440750.0</td>\n",
       "      <td>2004005.0</td>\n",
       "      <td>1853934.0</td>\n",
       "      <td>1532064.0</td>\n",
       "      <td>1931135.0</td>\n",
       "      <td>2016873.0</td>\n",
       "      <td>2126179.0</td>\n",
       "      <td>2279114.0</td>\n",
       "      <td>2136450.0</td>\n",
       "      <td>1154456.0</td>\n",
       "    </tr>\n",
       "    <tr>\n",
       "      <td>20</td>\n",
       "      <td>4109</td>\n",
       "      <td>Brazil</td>\n",
       "      <td>Apples</td>\n",
       "      <td>Production</td>\n",
       "      <td>tonnes</td>\n",
       "      <td>698765.0</td>\n",
       "      <td>699935.0</td>\n",
       "      <td>686373.0</td>\n",
       "      <td>700777.0</td>\n",
       "      <td>793585.0</td>\n",
       "      <td>...</td>\n",
       "      <td>1115379.0</td>\n",
       "      <td>1124155.0</td>\n",
       "      <td>1222885.0</td>\n",
       "      <td>1279124.0</td>\n",
       "      <td>1338995.0</td>\n",
       "      <td>1339771.0</td>\n",
       "      <td>1231472.0</td>\n",
       "      <td>1378617.0</td>\n",
       "      <td>1264651.0</td>\n",
       "      <td>1049251.0</td>\n",
       "    </tr>\n",
       "    <tr>\n",
       "      <td>21</td>\n",
       "      <td>4290</td>\n",
       "      <td>Brazil</td>\n",
       "      <td>Tangerines, mandarins, clementines, satsumas</td>\n",
       "      <td>Production</td>\n",
       "      <td>tonnes</td>\n",
       "      <td>733624.0</td>\n",
       "      <td>759900.0</td>\n",
       "      <td>749153.0</td>\n",
       "      <td>687738.0</td>\n",
       "      <td>782420.0</td>\n",
       "      <td>...</td>\n",
       "      <td>1205579.0</td>\n",
       "      <td>1079697.0</td>\n",
       "      <td>1094429.0</td>\n",
       "      <td>1122009.0</td>\n",
       "      <td>1004727.0</td>\n",
       "      <td>959672.0</td>\n",
       "      <td>937819.0</td>\n",
       "      <td>965167.0</td>\n",
       "      <td>1000546.0</td>\n",
       "      <td>1012767.0</td>\n",
       "    </tr>\n",
       "    <tr>\n",
       "      <td>22</td>\n",
       "      <td>4171</td>\n",
       "      <td>Brazil</td>\n",
       "      <td>Grapes</td>\n",
       "      <td>Production</td>\n",
       "      <td>tonnes</td>\n",
       "      <td>787363.0</td>\n",
       "      <td>807520.0</td>\n",
       "      <td>836545.0</td>\n",
       "      <td>684902.0</td>\n",
       "      <td>890708.0</td>\n",
       "      <td>...</td>\n",
       "      <td>1371555.0</td>\n",
       "      <td>1421431.0</td>\n",
       "      <td>1365491.0</td>\n",
       "      <td>1355461.0</td>\n",
       "      <td>1495336.0</td>\n",
       "      <td>1514768.0</td>\n",
       "      <td>1439535.0</td>\n",
       "      <td>1454183.0</td>\n",
       "      <td>1497302.0</td>\n",
       "      <td>985074.0</td>\n",
       "    </tr>\n",
       "    <tr>\n",
       "      <td>23</td>\n",
       "      <td>4202</td>\n",
       "      <td>Brazil</td>\n",
       "      <td>Oats</td>\n",
       "      <td>Production</td>\n",
       "      <td>tonnes</td>\n",
       "      <td>262816.0</td>\n",
       "      <td>260995.0</td>\n",
       "      <td>180880.0</td>\n",
       "      <td>217426.0</td>\n",
       "      <td>228741.0</td>\n",
       "      <td>...</td>\n",
       "      <td>237801.0</td>\n",
       "      <td>238516.0</td>\n",
       "      <td>252503.0</td>\n",
       "      <td>395056.0</td>\n",
       "      <td>373009.0</td>\n",
       "      <td>431024.0</td>\n",
       "      <td>520397.0</td>\n",
       "      <td>432136.0</td>\n",
       "      <td>504957.0</td>\n",
       "      <td>878713.0</td>\n",
       "    </tr>\n",
       "    <tr>\n",
       "      <td>24</td>\n",
       "      <td>4162</td>\n",
       "      <td>Brazil</td>\n",
       "      <td>Fruit, tropical fresh nes</td>\n",
       "      <td>Production</td>\n",
       "      <td>tonnes</td>\n",
       "      <td>450399.0</td>\n",
       "      <td>474899.0</td>\n",
       "      <td>507083.0</td>\n",
       "      <td>512754.0</td>\n",
       "      <td>447641.0</td>\n",
       "      <td>...</td>\n",
       "      <td>664286.0</td>\n",
       "      <td>684376.0</td>\n",
       "      <td>713515.0</td>\n",
       "      <td>922334.0</td>\n",
       "      <td>923035.0</td>\n",
       "      <td>776097.0</td>\n",
       "      <td>838244.0</td>\n",
       "      <td>823284.0</td>\n",
       "      <td>704369.0</td>\n",
       "      <td>704253.0</td>\n",
       "    </tr>\n",
       "    <tr>\n",
       "      <td>25</td>\n",
       "      <td>4296</td>\n",
       "      <td>Brazil</td>\n",
       "      <td>Tobacco, unmanufactured</td>\n",
       "      <td>Production</td>\n",
       "      <td>tonnes</td>\n",
       "      <td>655739.0</td>\n",
       "      <td>519541.0</td>\n",
       "      <td>455986.0</td>\n",
       "      <td>476638.0</td>\n",
       "      <td>596952.0</td>\n",
       "      <td>...</td>\n",
       "      <td>908679.0</td>\n",
       "      <td>851058.0</td>\n",
       "      <td>863079.0</td>\n",
       "      <td>787817.0</td>\n",
       "      <td>951933.0</td>\n",
       "      <td>810550.0</td>\n",
       "      <td>850673.0</td>\n",
       "      <td>862396.0</td>\n",
       "      <td>867355.0</td>\n",
       "      <td>677472.0</td>\n",
       "    </tr>\n",
       "    <tr>\n",
       "      <td>26</td>\n",
       "      <td>4287</td>\n",
       "      <td>Brazil</td>\n",
       "      <td>Sweet potatoes</td>\n",
       "      <td>Production</td>\n",
       "      <td>tonnes</td>\n",
       "      <td>575872.0</td>\n",
       "      <td>655613.0</td>\n",
       "      <td>619186.0</td>\n",
       "      <td>414283.0</td>\n",
       "      <td>490087.0</td>\n",
       "      <td>...</td>\n",
       "      <td>529531.0</td>\n",
       "      <td>548438.0</td>\n",
       "      <td>477472.0</td>\n",
       "      <td>495182.0</td>\n",
       "      <td>544820.0</td>\n",
       "      <td>479425.0</td>\n",
       "      <td>505350.0</td>\n",
       "      <td>525814.0</td>\n",
       "      <td>595977.0</td>\n",
       "      <td>669454.0</td>\n",
       "    </tr>\n",
       "    <tr>\n",
       "      <td>27</td>\n",
       "      <td>4193</td>\n",
       "      <td>Brazil</td>\n",
       "      <td>Maté</td>\n",
       "      <td>Production</td>\n",
       "      <td>tonnes</td>\n",
       "      <td>227338.0</td>\n",
       "      <td>222377.0</td>\n",
       "      <td>247214.0</td>\n",
       "      <td>214576.0</td>\n",
       "      <td>307327.0</td>\n",
       "      <td>...</td>\n",
       "      <td>438474.0</td>\n",
       "      <td>434727.0</td>\n",
       "      <td>443126.0</td>\n",
       "      <td>430305.0</td>\n",
       "      <td>443635.0</td>\n",
       "      <td>513256.0</td>\n",
       "      <td>515451.0</td>\n",
       "      <td>602559.0</td>\n",
       "      <td>602929.0</td>\n",
       "      <td>617851.0</td>\n",
       "    </tr>\n",
       "    <tr>\n",
       "      <td>28</td>\n",
       "      <td>4196</td>\n",
       "      <td>Brazil</td>\n",
       "      <td>Melons, other (inc.cantaloupes)</td>\n",
       "      <td>Production</td>\n",
       "      <td>tonnes</td>\n",
       "      <td>91219.0</td>\n",
       "      <td>86866.0</td>\n",
       "      <td>127414.0</td>\n",
       "      <td>119599.0</td>\n",
       "      <td>118530.0</td>\n",
       "      <td>...</td>\n",
       "      <td>495323.0</td>\n",
       "      <td>340464.0</td>\n",
       "      <td>402959.0</td>\n",
       "      <td>478392.0</td>\n",
       "      <td>499330.0</td>\n",
       "      <td>575386.0</td>\n",
       "      <td>565900.0</td>\n",
       "      <td>589939.0</td>\n",
       "      <td>521596.0</td>\n",
       "      <td>596430.0</td>\n",
       "    </tr>\n",
       "    <tr>\n",
       "      <td>29</td>\n",
       "      <td>4118</td>\n",
       "      <td>Brazil</td>\n",
       "      <td>Barley</td>\n",
       "      <td>Production</td>\n",
       "      <td>tonnes</td>\n",
       "      <td>109952.0</td>\n",
       "      <td>90614.0</td>\n",
       "      <td>104634.0</td>\n",
       "      <td>209215.0</td>\n",
       "      <td>258847.0</td>\n",
       "      <td>...</td>\n",
       "      <td>235577.0</td>\n",
       "      <td>236912.0</td>\n",
       "      <td>201249.0</td>\n",
       "      <td>278558.0</td>\n",
       "      <td>303872.0</td>\n",
       "      <td>265025.0</td>\n",
       "      <td>330682.0</td>\n",
       "      <td>251539.0</td>\n",
       "      <td>186285.0</td>\n",
       "      <td>379687.0</td>\n",
       "    </tr>\n",
       "    <tr>\n",
       "      <td>30</td>\n",
       "      <td>4147</td>\n",
       "      <td>Brazil</td>\n",
       "      <td>Cocoa, beans</td>\n",
       "      <td>Production</td>\n",
       "      <td>tonnes</td>\n",
       "      <td>340885.0</td>\n",
       "      <td>330577.0</td>\n",
       "      <td>296705.0</td>\n",
       "      <td>256777.0</td>\n",
       "      <td>277966.0</td>\n",
       "      <td>...</td>\n",
       "      <td>201651.0</td>\n",
       "      <td>202030.0</td>\n",
       "      <td>218487.0</td>\n",
       "      <td>235389.0</td>\n",
       "      <td>248524.0</td>\n",
       "      <td>253211.0</td>\n",
       "      <td>256186.0</td>\n",
       "      <td>273793.0</td>\n",
       "      <td>278299.0</td>\n",
       "      <td>213843.0</td>\n",
       "    </tr>\n",
       "    <tr>\n",
       "      <td>31</td>\n",
       "      <td>4112</td>\n",
       "      <td>Brazil</td>\n",
       "      <td>Avocados</td>\n",
       "      <td>Production</td>\n",
       "      <td>tonnes</td>\n",
       "      <td>105801.0</td>\n",
       "      <td>102644.0</td>\n",
       "      <td>93767.0</td>\n",
       "      <td>80733.0</td>\n",
       "      <td>84043.0</td>\n",
       "      <td>...</td>\n",
       "      <td>154096.0</td>\n",
       "      <td>147214.0</td>\n",
       "      <td>139089.0</td>\n",
       "      <td>153189.0</td>\n",
       "      <td>160376.0</td>\n",
       "      <td>159903.0</td>\n",
       "      <td>157482.0</td>\n",
       "      <td>156699.0</td>\n",
       "      <td>180652.0</td>\n",
       "      <td>196422.0</td>\n",
       "    </tr>\n",
       "    <tr>\n",
       "      <td>32</td>\n",
       "      <td>4223</td>\n",
       "      <td>Brazil</td>\n",
       "      <td>Peaches and nectarines</td>\n",
       "      <td>Production</td>\n",
       "      <td>tonnes</td>\n",
       "      <td>127321.0</td>\n",
       "      <td>136187.0</td>\n",
       "      <td>149867.0</td>\n",
       "      <td>103577.0</td>\n",
       "      <td>128281.0</td>\n",
       "      <td>...</td>\n",
       "      <td>185959.0</td>\n",
       "      <td>239149.0</td>\n",
       "      <td>216236.0</td>\n",
       "      <td>222402.0</td>\n",
       "      <td>222180.0</td>\n",
       "      <td>232987.0</td>\n",
       "      <td>217706.0</td>\n",
       "      <td>211109.0</td>\n",
       "      <td>216241.0</td>\n",
       "      <td>191900.0</td>\n",
       "    </tr>\n",
       "    <tr>\n",
       "      <td>33</td>\n",
       "      <td>4257</td>\n",
       "      <td>Brazil</td>\n",
       "      <td>Rubber, natural</td>\n",
       "      <td>Production</td>\n",
       "      <td>tonnes</td>\n",
       "      <td>40663.0</td>\n",
       "      <td>45197.0</td>\n",
       "      <td>44355.0</td>\n",
       "      <td>53437.0</td>\n",
       "      <td>58400.0</td>\n",
       "      <td>...</td>\n",
       "      <td>111407.0</td>\n",
       "      <td>120905.0</td>\n",
       "      <td>126973.0</td>\n",
       "      <td>133981.0</td>\n",
       "      <td>164498.0</td>\n",
       "      <td>177088.0</td>\n",
       "      <td>185725.0</td>\n",
       "      <td>192389.0</td>\n",
       "      <td>191450.0</td>\n",
       "      <td>189780.0</td>\n",
       "    </tr>\n",
       "    <tr>\n",
       "      <td>34</td>\n",
       "      <td>4235</td>\n",
       "      <td>Brazil</td>\n",
       "      <td>Persimmons</td>\n",
       "      <td>Production</td>\n",
       "      <td>tonnes</td>\n",
       "      <td>48086.0</td>\n",
       "      <td>55406.0</td>\n",
       "      <td>51685.0</td>\n",
       "      <td>52548.0</td>\n",
       "      <td>52198.0</td>\n",
       "      <td>...</td>\n",
       "      <td>159851.0</td>\n",
       "      <td>173297.0</td>\n",
       "      <td>171555.0</td>\n",
       "      <td>167215.0</td>\n",
       "      <td>154625.0</td>\n",
       "      <td>158241.0</td>\n",
       "      <td>173169.0</td>\n",
       "      <td>182290.0</td>\n",
       "      <td>192327.0</td>\n",
       "      <td>161052.0</td>\n",
       "    </tr>\n",
       "    <tr>\n",
       "      <td>35</td>\n",
       "      <td>4165</td>\n",
       "      <td>Brazil</td>\n",
       "      <td>Garlic</td>\n",
       "      <td>Production</td>\n",
       "      <td>tonnes</td>\n",
       "      <td>86936.0</td>\n",
       "      <td>84172.0</td>\n",
       "      <td>59017.0</td>\n",
       "      <td>52455.0</td>\n",
       "      <td>60749.0</td>\n",
       "      <td>...</td>\n",
       "      <td>99002.0</td>\n",
       "      <td>91714.0</td>\n",
       "      <td>86752.0</td>\n",
       "      <td>104124.0</td>\n",
       "      <td>143293.0</td>\n",
       "      <td>107009.0</td>\n",
       "      <td>102232.0</td>\n",
       "      <td>93769.0</td>\n",
       "      <td>117272.0</td>\n",
       "      <td>132359.0</td>\n",
       "    </tr>\n",
       "    <tr>\n",
       "      <td>36</td>\n",
       "      <td>4156</td>\n",
       "      <td>Brazil</td>\n",
       "      <td>Fibre crops nes</td>\n",
       "      <td>Production</td>\n",
       "      <td>tonnes</td>\n",
       "      <td>75385.0</td>\n",
       "      <td>83867.0</td>\n",
       "      <td>87554.0</td>\n",
       "      <td>96704.0</td>\n",
       "      <td>98343.0</td>\n",
       "      <td>...</td>\n",
       "      <td>99925.0</td>\n",
       "      <td>99578.0</td>\n",
       "      <td>99827.0</td>\n",
       "      <td>100075.0</td>\n",
       "      <td>100323.0</td>\n",
       "      <td>100572.0</td>\n",
       "      <td>100820.0</td>\n",
       "      <td>101069.0</td>\n",
       "      <td>101317.0</td>\n",
       "      <td>101566.0</td>\n",
       "    </tr>\n",
       "    <tr>\n",
       "      <td>37</td>\n",
       "      <td>4284</td>\n",
       "      <td>Brazil</td>\n",
       "      <td>Sunflower seed</td>\n",
       "      <td>Production</td>\n",
       "      <td>tonnes</td>\n",
       "      <td>30000.0</td>\n",
       "      <td>6000.0</td>\n",
       "      <td>3000.0</td>\n",
       "      <td>22000.0</td>\n",
       "      <td>26000.0</td>\n",
       "      <td>...</td>\n",
       "      <td>104923.0</td>\n",
       "      <td>148297.0</td>\n",
       "      <td>100905.0</td>\n",
       "      <td>86608.0</td>\n",
       "      <td>77932.0</td>\n",
       "      <td>123646.0</td>\n",
       "      <td>108838.0</td>\n",
       "      <td>158563.0</td>\n",
       "      <td>155018.0</td>\n",
       "      <td>80695.0</td>\n",
       "    </tr>\n",
       "    <tr>\n",
       "      <td>38</td>\n",
       "      <td>4168</td>\n",
       "      <td>Brazil</td>\n",
       "      <td>Grapefruit (inc. pomelos)</td>\n",
       "      <td>Production</td>\n",
       "      <td>tonnes</td>\n",
       "      <td>62000.0</td>\n",
       "      <td>61378.0</td>\n",
       "      <td>61646.0</td>\n",
       "      <td>62436.0</td>\n",
       "      <td>63216.0</td>\n",
       "      <td>...</td>\n",
       "      <td>72000.0</td>\n",
       "      <td>72936.0</td>\n",
       "      <td>74013.0</td>\n",
       "      <td>75175.0</td>\n",
       "      <td>76288.0</td>\n",
       "      <td>78000.0</td>\n",
       "      <td>78000.0</td>\n",
       "      <td>78553.0</td>\n",
       "      <td>79610.0</td>\n",
       "      <td>80029.0</td>\n",
       "    </tr>\n",
       "    <tr>\n",
       "      <td>39</td>\n",
       "      <td>4134</td>\n",
       "      <td>Brazil</td>\n",
       "      <td>Cashew nuts, with shell</td>\n",
       "      <td>Production</td>\n",
       "      <td>tonnes</td>\n",
       "      <td>77098.0</td>\n",
       "      <td>149804.0</td>\n",
       "      <td>185229.0</td>\n",
       "      <td>167211.0</td>\n",
       "      <td>125397.0</td>\n",
       "      <td>...</td>\n",
       "      <td>140675.0</td>\n",
       "      <td>243253.0</td>\n",
       "      <td>220505.0</td>\n",
       "      <td>104342.0</td>\n",
       "      <td>230785.0</td>\n",
       "      <td>80630.0</td>\n",
       "      <td>109679.0</td>\n",
       "      <td>107713.0</td>\n",
       "      <td>103363.0</td>\n",
       "      <td>74553.0</td>\n",
       "    </tr>\n",
       "    <tr>\n",
       "      <td>40</td>\n",
       "      <td>4131</td>\n",
       "      <td>Brazil</td>\n",
       "      <td>Buckwheat</td>\n",
       "      <td>Production</td>\n",
       "      <td>tonnes</td>\n",
       "      <td>53000.0</td>\n",
       "      <td>48973.0</td>\n",
       "      <td>50000.0</td>\n",
       "      <td>48816.0</td>\n",
       "      <td>48727.0</td>\n",
       "      <td>...</td>\n",
       "      <td>52000.0</td>\n",
       "      <td>53401.0</td>\n",
       "      <td>54481.0</td>\n",
       "      <td>55525.0</td>\n",
       "      <td>57000.0</td>\n",
       "      <td>60000.0</td>\n",
       "      <td>62000.0</td>\n",
       "      <td>64000.0</td>\n",
       "      <td>62820.0</td>\n",
       "      <td>63122.0</td>\n",
       "    </tr>\n",
       "    <tr>\n",
       "      <td>41</td>\n",
       "      <td>4251</td>\n",
       "      <td>Brazil</td>\n",
       "      <td>Rapeseed</td>\n",
       "      <td>Production</td>\n",
       "      <td>tonnes</td>\n",
       "      <td>16000.0</td>\n",
       "      <td>12000.0</td>\n",
       "      <td>8000.0</td>\n",
       "      <td>9000.0</td>\n",
       "      <td>12000.0</td>\n",
       "      <td>...</td>\n",
       "      <td>42000.0</td>\n",
       "      <td>44000.0</td>\n",
       "      <td>42000.0</td>\n",
       "      <td>70000.0</td>\n",
       "      <td>52000.0</td>\n",
       "      <td>61000.0</td>\n",
       "      <td>36000.0</td>\n",
       "      <td>55000.0</td>\n",
       "      <td>72000.0</td>\n",
       "      <td>60000.0</td>\n",
       "    </tr>\n",
       "    <tr>\n",
       "      <td>42</td>\n",
       "      <td>4232</td>\n",
       "      <td>Brazil</td>\n",
       "      <td>Pepper (piper spp.)</td>\n",
       "      <td>Production</td>\n",
       "      <td>tonnes</td>\n",
       "      <td>42270.0</td>\n",
       "      <td>34927.0</td>\n",
       "      <td>33852.0</td>\n",
       "      <td>32318.0</td>\n",
       "      <td>22359.0</td>\n",
       "      <td>...</td>\n",
       "      <td>77770.0</td>\n",
       "      <td>69600.0</td>\n",
       "      <td>65398.0</td>\n",
       "      <td>52137.0</td>\n",
       "      <td>44610.0</td>\n",
       "      <td>43345.0</td>\n",
       "      <td>42312.0</td>\n",
       "      <td>42339.0</td>\n",
       "      <td>51739.0</td>\n",
       "      <td>54425.0</td>\n",
       "    </tr>\n",
       "    <tr>\n",
       "      <td>43</td>\n",
       "      <td>4302</td>\n",
       "      <td>Brazil</td>\n",
       "      <td>Triticale</td>\n",
       "      <td>Production</td>\n",
       "      <td>tonnes</td>\n",
       "      <td>NaN</td>\n",
       "      <td>NaN</td>\n",
       "      <td>NaN</td>\n",
       "      <td>NaN</td>\n",
       "      <td>NaN</td>\n",
       "      <td>...</td>\n",
       "      <td>183871.0</td>\n",
       "      <td>184604.0</td>\n",
       "      <td>122212.0</td>\n",
       "      <td>124277.0</td>\n",
       "      <td>90469.0</td>\n",
       "      <td>86466.0</td>\n",
       "      <td>62531.0</td>\n",
       "      <td>51832.0</td>\n",
       "      <td>39959.0</td>\n",
       "      <td>46253.0</td>\n",
       "    </tr>\n",
       "    <tr>\n",
       "      <td>44</td>\n",
       "      <td>4159</td>\n",
       "      <td>Brazil</td>\n",
       "      <td>Figs</td>\n",
       "      <td>Production</td>\n",
       "      <td>tonnes</td>\n",
       "      <td>19926.0</td>\n",
       "      <td>14941.0</td>\n",
       "      <td>15924.0</td>\n",
       "      <td>12524.0</td>\n",
       "      <td>13960.0</td>\n",
       "      <td>...</td>\n",
       "      <td>23225.0</td>\n",
       "      <td>22565.0</td>\n",
       "      <td>24146.0</td>\n",
       "      <td>25727.0</td>\n",
       "      <td>26233.0</td>\n",
       "      <td>28010.0</td>\n",
       "      <td>28253.0</td>\n",
       "      <td>28053.0</td>\n",
       "      <td>29071.0</td>\n",
       "      <td>26910.0</td>\n",
       "    </tr>\n",
       "    <tr>\n",
       "      <td>45</td>\n",
       "      <td>4207</td>\n",
       "      <td>Brazil</td>\n",
       "      <td>Oilseeds nes</td>\n",
       "      <td>Production</td>\n",
       "      <td>tonnes</td>\n",
       "      <td>10508.0</td>\n",
       "      <td>11554.0</td>\n",
       "      <td>12000.0</td>\n",
       "      <td>12362.0</td>\n",
       "      <td>12234.0</td>\n",
       "      <td>...</td>\n",
       "      <td>20137.0</td>\n",
       "      <td>21043.0</td>\n",
       "      <td>21939.0</td>\n",
       "      <td>22822.0</td>\n",
       "      <td>23690.0</td>\n",
       "      <td>25500.0</td>\n",
       "      <td>25500.0</td>\n",
       "      <td>25821.0</td>\n",
       "      <td>25723.0</td>\n",
       "      <td>26521.0</td>\n",
       "    </tr>\n",
       "    <tr>\n",
       "      <td>46</td>\n",
       "      <td>4226</td>\n",
       "      <td>Brazil</td>\n",
       "      <td>Pears</td>\n",
       "      <td>Production</td>\n",
       "      <td>tonnes</td>\n",
       "      <td>16812.0</td>\n",
       "      <td>18908.0</td>\n",
       "      <td>18892.0</td>\n",
       "      <td>15703.0</td>\n",
       "      <td>15804.0</td>\n",
       "      <td>...</td>\n",
       "      <td>17074.0</td>\n",
       "      <td>17391.0</td>\n",
       "      <td>14856.0</td>\n",
       "      <td>16397.0</td>\n",
       "      <td>20532.0</td>\n",
       "      <td>21990.0</td>\n",
       "      <td>22078.0</td>\n",
       "      <td>19096.0</td>\n",
       "      <td>21160.0</td>\n",
       "      <td>14915.0</td>\n",
       "    </tr>\n",
       "    <tr>\n",
       "      <td>47</td>\n",
       "      <td>4184</td>\n",
       "      <td>Brazil</td>\n",
       "      <td>Linseed</td>\n",
       "      <td>Production</td>\n",
       "      <td>tonnes</td>\n",
       "      <td>12000.0</td>\n",
       "      <td>11000.0</td>\n",
       "      <td>8000.0</td>\n",
       "      <td>7000.0</td>\n",
       "      <td>7000.0</td>\n",
       "      <td>...</td>\n",
       "      <td>14722.0</td>\n",
       "      <td>11333.0</td>\n",
       "      <td>9873.0</td>\n",
       "      <td>16159.0</td>\n",
       "      <td>11046.0</td>\n",
       "      <td>7338.0</td>\n",
       "      <td>9734.0</td>\n",
       "      <td>4839.0</td>\n",
       "      <td>12245.0</td>\n",
       "      <td>12973.0</td>\n",
       "    </tr>\n",
       "    <tr>\n",
       "      <td>48</td>\n",
       "      <td>4266</td>\n",
       "      <td>Brazil</td>\n",
       "      <td>Sesame seed</td>\n",
       "      <td>Production</td>\n",
       "      <td>tonnes</td>\n",
       "      <td>13000.0</td>\n",
       "      <td>13000.0</td>\n",
       "      <td>13000.0</td>\n",
       "      <td>13000.0</td>\n",
       "      <td>13000.0</td>\n",
       "      <td>...</td>\n",
       "      <td>7000.0</td>\n",
       "      <td>7000.0</td>\n",
       "      <td>6000.0</td>\n",
       "      <td>5000.0</td>\n",
       "      <td>6000.0</td>\n",
       "      <td>6000.0</td>\n",
       "      <td>8000.0</td>\n",
       "      <td>14000.0</td>\n",
       "      <td>10000.0</td>\n",
       "      <td>12000.0</td>\n",
       "    </tr>\n",
       "    <tr>\n",
       "      <td>49</td>\n",
       "      <td>4260</td>\n",
       "      <td>Brazil</td>\n",
       "      <td>Rye</td>\n",
       "      <td>Production</td>\n",
       "      <td>tonnes</td>\n",
       "      <td>5490.0</td>\n",
       "      <td>4169.0</td>\n",
       "      <td>2591.0</td>\n",
       "      <td>7040.0</td>\n",
       "      <td>7145.0</td>\n",
       "      <td>...</td>\n",
       "      <td>4620.0</td>\n",
       "      <td>6085.0</td>\n",
       "      <td>3921.0</td>\n",
       "      <td>3165.0</td>\n",
       "      <td>3519.0</td>\n",
       "      <td>7777.0</td>\n",
       "      <td>5743.0</td>\n",
       "      <td>4452.0</td>\n",
       "      <td>4916.0</td>\n",
       "      <td>6477.0</td>\n",
       "    </tr>\n",
       "    <tr>\n",
       "      <td>50</td>\n",
       "      <td>4311</td>\n",
       "      <td>Brazil</td>\n",
       "      <td>Walnuts, with shell</td>\n",
       "      <td>Production</td>\n",
       "      <td>tonnes</td>\n",
       "      <td>3569.0</td>\n",
       "      <td>2792.0</td>\n",
       "      <td>2946.0</td>\n",
       "      <td>2035.0</td>\n",
       "      <td>2273.0</td>\n",
       "      <td>...</td>\n",
       "      <td>2225.0</td>\n",
       "      <td>2314.0</td>\n",
       "      <td>4571.0</td>\n",
       "      <td>5319.0</td>\n",
       "      <td>5729.0</td>\n",
       "      <td>5817.0</td>\n",
       "      <td>5228.0</td>\n",
       "      <td>5423.0</td>\n",
       "      <td>5201.0</td>\n",
       "      <td>5501.0</td>\n",
       "    </tr>\n",
       "    <tr>\n",
       "      <td>51</td>\n",
       "      <td>4128</td>\n",
       "      <td>Brazil</td>\n",
       "      <td>Broad beans, horse beans, dry</td>\n",
       "      <td>Production</td>\n",
       "      <td>tonnes</td>\n",
       "      <td>9776.0</td>\n",
       "      <td>15601.0</td>\n",
       "      <td>18921.0</td>\n",
       "      <td>21739.0</td>\n",
       "      <td>19819.0</td>\n",
       "      <td>...</td>\n",
       "      <td>15731.0</td>\n",
       "      <td>19890.0</td>\n",
       "      <td>20702.0</td>\n",
       "      <td>7349.0</td>\n",
       "      <td>16680.0</td>\n",
       "      <td>5032.0</td>\n",
       "      <td>7957.0</td>\n",
       "      <td>7680.0</td>\n",
       "      <td>4048.0</td>\n",
       "      <td>3655.0</td>\n",
       "    </tr>\n",
       "    <tr>\n",
       "      <td>52</td>\n",
       "      <td>4229</td>\n",
       "      <td>Brazil</td>\n",
       "      <td>Peas, dry</td>\n",
       "      <td>Production</td>\n",
       "      <td>tonnes</td>\n",
       "      <td>1820.0</td>\n",
       "      <td>944.0</td>\n",
       "      <td>1139.0</td>\n",
       "      <td>2808.0</td>\n",
       "      <td>3494.0</td>\n",
       "      <td>...</td>\n",
       "      <td>3844.0</td>\n",
       "      <td>4729.0</td>\n",
       "      <td>6865.0</td>\n",
       "      <td>5909.0</td>\n",
       "      <td>3901.0</td>\n",
       "      <td>4283.0</td>\n",
       "      <td>2992.0</td>\n",
       "      <td>3692.0</td>\n",
       "      <td>2561.0</td>\n",
       "      <td>3619.0</td>\n",
       "    </tr>\n",
       "    <tr>\n",
       "      <td>53</td>\n",
       "      <td>4278</td>\n",
       "      <td>Brazil</td>\n",
       "      <td>Strawberries</td>\n",
       "      <td>Production</td>\n",
       "      <td>tonnes</td>\n",
       "      <td>2300.0</td>\n",
       "      <td>2329.0</td>\n",
       "      <td>2368.0</td>\n",
       "      <td>2411.0</td>\n",
       "      <td>2453.0</td>\n",
       "      <td>...</td>\n",
       "      <td>2875.0</td>\n",
       "      <td>2947.0</td>\n",
       "      <td>3007.0</td>\n",
       "      <td>3065.0</td>\n",
       "      <td>3122.0</td>\n",
       "      <td>3200.0</td>\n",
       "      <td>3200.0</td>\n",
       "      <td>3257.0</td>\n",
       "      <td>3312.0</td>\n",
       "      <td>3343.0</td>\n",
       "    </tr>\n",
       "    <tr>\n",
       "      <td>54</td>\n",
       "      <td>4245</td>\n",
       "      <td>Brazil</td>\n",
       "      <td>Quinces</td>\n",
       "      <td>Production</td>\n",
       "      <td>tonnes</td>\n",
       "      <td>6048.0</td>\n",
       "      <td>5429.0</td>\n",
       "      <td>3031.0</td>\n",
       "      <td>1007.0</td>\n",
       "      <td>1052.0</td>\n",
       "      <td>...</td>\n",
       "      <td>931.0</td>\n",
       "      <td>905.0</td>\n",
       "      <td>975.0</td>\n",
       "      <td>964.0</td>\n",
       "      <td>780.0</td>\n",
       "      <td>704.0</td>\n",
       "      <td>633.0</td>\n",
       "      <td>570.0</td>\n",
       "      <td>841.0</td>\n",
       "      <td>741.0</td>\n",
       "    </tr>\n",
       "    <tr>\n",
       "      <td>55</td>\n",
       "      <td>4210</td>\n",
       "      <td>Brazil</td>\n",
       "      <td>Olives</td>\n",
       "      <td>Production</td>\n",
       "      <td>tonnes</td>\n",
       "      <td>21.0</td>\n",
       "      <td>4.0</td>\n",
       "      <td>3.0</td>\n",
       "      <td>63.0</td>\n",
       "      <td>64.0</td>\n",
       "      <td>...</td>\n",
       "      <td>1.0</td>\n",
       "      <td>1.0</td>\n",
       "      <td>1.0</td>\n",
       "      <td>39.0</td>\n",
       "      <td>77.0</td>\n",
       "      <td>291.0</td>\n",
       "      <td>265.0</td>\n",
       "      <td>512.0</td>\n",
       "      <td>435.0</td>\n",
       "      <td>647.0</td>\n",
       "    </tr>\n",
       "    <tr>\n",
       "      <td>56</td>\n",
       "      <td>4293</td>\n",
       "      <td>Brazil</td>\n",
       "      <td>Tea</td>\n",
       "      <td>Production</td>\n",
       "      <td>tonnes</td>\n",
       "      <td>10587.0</td>\n",
       "      <td>9807.0</td>\n",
       "      <td>8607.0</td>\n",
       "      <td>6181.0</td>\n",
       "      <td>6156.0</td>\n",
       "      <td>...</td>\n",
       "      <td>1083.0</td>\n",
       "      <td>4752.0</td>\n",
       "      <td>4686.0</td>\n",
       "      <td>4278.0</td>\n",
       "      <td>3520.0</td>\n",
       "      <td>1496.0</td>\n",
       "      <td>763.0</td>\n",
       "      <td>1421.0</td>\n",
       "      <td>633.0</td>\n",
       "      <td>459.0</td>\n",
       "    </tr>\n",
       "    <tr>\n",
       "      <td>57</td>\n",
       "      <td>4178</td>\n",
       "      <td>Brazil</td>\n",
       "      <td>Jute</td>\n",
       "      <td>Production</td>\n",
       "      <td>tonnes</td>\n",
       "      <td>3670.0</td>\n",
       "      <td>2304.0</td>\n",
       "      <td>2135.0</td>\n",
       "      <td>624.0</td>\n",
       "      <td>568.0</td>\n",
       "      <td>...</td>\n",
       "      <td>6362.0</td>\n",
       "      <td>804.0</td>\n",
       "      <td>802.0</td>\n",
       "      <td>934.0</td>\n",
       "      <td>1054.0</td>\n",
       "      <td>993.0</td>\n",
       "      <td>490.0</td>\n",
       "      <td>1172.0</td>\n",
       "      <td>953.0</td>\n",
       "      <td>106.0</td>\n",
       "    </tr>\n",
       "    <tr>\n",
       "      <td>62</td>\n",
       "      <td>4242</td>\n",
       "      <td>Brazil</td>\n",
       "      <td>Pyrethrum, dried</td>\n",
       "      <td>Production</td>\n",
       "      <td>tonnes</td>\n",
       "      <td>NaN</td>\n",
       "      <td>NaN</td>\n",
       "      <td>NaN</td>\n",
       "      <td>NaN</td>\n",
       "      <td>NaN</td>\n",
       "      <td>...</td>\n",
       "      <td>NaN</td>\n",
       "      <td>NaN</td>\n",
       "      <td>NaN</td>\n",
       "      <td>NaN</td>\n",
       "      <td>NaN</td>\n",
       "      <td>NaN</td>\n",
       "      <td>NaN</td>\n",
       "      <td>NaN</td>\n",
       "      <td>NaN</td>\n",
       "      <td>NaN</td>\n",
       "    </tr>\n",
       "  </tbody>\n",
       "</table>\n",
       "<p>59 rows × 29 columns</p>\n",
       "</div>"
      ],
      "text/plain": [
       "    index    Area                                          Item     Element  \\\n",
       "0    4275  Brazil                                      Soybeans  Production   \n",
       "1    4187  Brazil                                         Maize  Production   \n",
       "2    4140  Brazil                                       Cassava  Production   \n",
       "3    4216  Brazil                                       Oranges  Production   \n",
       "4    4317  Brazil                                         Wheat  Production   \n",
       "5    4115  Brazil                                       Bananas  Production   \n",
       "6    4299  Brazil                                      Tomatoes  Production   \n",
       "7    4241  Brazil                                      Potatoes  Production   \n",
       "8    4308  Brazil                         Vegetables, fresh nes  Production   \n",
       "9    4153  Brazil                                 Coffee, green  Production   \n",
       "10   4238  Brazil                                    Pineapples  Production   \n",
       "11   4150  Brazil                                      Coconuts  Production   \n",
       "12   4124  Brazil                                    Beans, dry  Production   \n",
       "13   4314  Brazil                                   Watermelons  Production   \n",
       "14   4213  Brazil                                   Onions, dry  Production   \n",
       "15   4137  Brazil                                   Cashewapple  Production   \n",
       "16   4220  Brazil                                       Papayas  Production   \n",
       "17   4190  Brazil                  Mangoes, mangosteens, guavas  Production   \n",
       "18   4181  Brazil                              Lemons and limes  Production   \n",
       "19   4272  Brazil                                       Sorghum  Production   \n",
       "20   4109  Brazil                                        Apples  Production   \n",
       "21   4290  Brazil  Tangerines, mandarins, clementines, satsumas  Production   \n",
       "22   4171  Brazil                                        Grapes  Production   \n",
       "23   4202  Brazil                                          Oats  Production   \n",
       "24   4162  Brazil                     Fruit, tropical fresh nes  Production   \n",
       "25   4296  Brazil                       Tobacco, unmanufactured  Production   \n",
       "26   4287  Brazil                                Sweet potatoes  Production   \n",
       "27   4193  Brazil                                          Maté  Production   \n",
       "28   4196  Brazil               Melons, other (inc.cantaloupes)  Production   \n",
       "29   4118  Brazil                                        Barley  Production   \n",
       "30   4147  Brazil                                  Cocoa, beans  Production   \n",
       "31   4112  Brazil                                      Avocados  Production   \n",
       "32   4223  Brazil                        Peaches and nectarines  Production   \n",
       "33   4257  Brazil                               Rubber, natural  Production   \n",
       "34   4235  Brazil                                    Persimmons  Production   \n",
       "35   4165  Brazil                                        Garlic  Production   \n",
       "36   4156  Brazil                               Fibre crops nes  Production   \n",
       "37   4284  Brazil                                Sunflower seed  Production   \n",
       "38   4168  Brazil                     Grapefruit (inc. pomelos)  Production   \n",
       "39   4134  Brazil                       Cashew nuts, with shell  Production   \n",
       "40   4131  Brazil                                     Buckwheat  Production   \n",
       "41   4251  Brazil                                      Rapeseed  Production   \n",
       "42   4232  Brazil                           Pepper (piper spp.)  Production   \n",
       "43   4302  Brazil                                     Triticale  Production   \n",
       "44   4159  Brazil                                          Figs  Production   \n",
       "45   4207  Brazil                                  Oilseeds nes  Production   \n",
       "46   4226  Brazil                                         Pears  Production   \n",
       "47   4184  Brazil                                       Linseed  Production   \n",
       "48   4266  Brazil                                   Sesame seed  Production   \n",
       "49   4260  Brazil                                           Rye  Production   \n",
       "50   4311  Brazil                           Walnuts, with shell  Production   \n",
       "51   4128  Brazil                 Broad beans, horse beans, dry  Production   \n",
       "52   4229  Brazil                                     Peas, dry  Production   \n",
       "53   4278  Brazil                                  Strawberries  Production   \n",
       "54   4245  Brazil                                       Quinces  Production   \n",
       "55   4210  Brazil                                        Olives  Production   \n",
       "56   4293  Brazil                                           Tea  Production   \n",
       "57   4178  Brazil                                          Jute  Production   \n",
       "62   4242  Brazil                              Pyrethrum, dried  Production   \n",
       "\n",
       "      Unit        1993        1994        1995        1996        1997  ...  \\\n",
       "0   tonnes  22590978.0  24931832.0  25682637.0  23166874.0  26392636.0  ...   \n",
       "1   tonnes  30055633.0  32487625.0  36266951.0  29652791.0  32948044.0  ...   \n",
       "2   tonnes  21855690.0  24464290.0  25422960.0  17743160.0  19896200.0  ...   \n",
       "3   tonnes  18797188.0  17445968.0  19837212.0  21079044.0  23046800.0  ...   \n",
       "4   tonnes   2197354.0   2096259.0   1533871.0   3292777.0   2489070.0  ...   \n",
       "5   tonnes   5802992.0   5955238.0   5801110.0   5160178.0   5412360.0  ...   \n",
       "6   tonnes   2348498.0   2688570.0   2715016.0   2648627.0   2717965.0  ...   \n",
       "7   tonnes   2367571.0   2488461.0   2692234.0   2412546.0   2670493.0  ...   \n",
       "8   tonnes   2000000.0   2050000.0   2100000.0   2100000.0   2150000.0  ...   \n",
       "9   tonnes   1278759.0   1307289.0    930135.0   1369196.0   1228513.0  ...   \n",
       "10  tonnes   1251873.0   1484327.0   1426361.0   1145981.0   1609895.0  ...   \n",
       "11  tonnes   1256189.0   1378233.0   1450016.0   1434806.0   1450970.0  ...   \n",
       "12  tonnes   2478325.0   3369684.0   2946168.0   2452036.0   2840243.0  ...   \n",
       "13  tonnes    441477.0    447963.0    763236.0    541758.0    624687.0  ...   \n",
       "14  tonnes    928704.0   1020035.0    940537.0    906643.0    881134.0  ...   \n",
       "15  tonnes   1700000.0   1550000.0   1600000.0   1650000.0   1700000.0  ...   \n",
       "16  tonnes    918878.0   1003997.0   1040746.0    932960.0   1301367.0  ...   \n",
       "17  tonnes    563511.0    604906.0    638371.0    593423.0    508350.0  ...   \n",
       "18  tonnes    505401.0    491400.0    454632.0    468987.0    508539.0  ...   \n",
       "19  tonnes    281912.0    315908.0    276832.0    356567.0    542581.0  ...   \n",
       "20  tonnes    698765.0    699935.0    686373.0    700777.0    793585.0  ...   \n",
       "21  tonnes    733624.0    759900.0    749153.0    687738.0    782420.0  ...   \n",
       "22  tonnes    787363.0    807520.0    836545.0    684902.0    890708.0  ...   \n",
       "23  tonnes    262816.0    260995.0    180880.0    217426.0    228741.0  ...   \n",
       "24  tonnes    450399.0    474899.0    507083.0    512754.0    447641.0  ...   \n",
       "25  tonnes    655739.0    519541.0    455986.0    476638.0    596952.0  ...   \n",
       "26  tonnes    575872.0    655613.0    619186.0    414283.0    490087.0  ...   \n",
       "27  tonnes    227338.0    222377.0    247214.0    214576.0    307327.0  ...   \n",
       "28  tonnes     91219.0     86866.0    127414.0    119599.0    118530.0  ...   \n",
       "29  tonnes    109952.0     90614.0    104634.0    209215.0    258847.0  ...   \n",
       "30  tonnes    340885.0    330577.0    296705.0    256777.0    277966.0  ...   \n",
       "31  tonnes    105801.0    102644.0     93767.0     80733.0     84043.0  ...   \n",
       "32  tonnes    127321.0    136187.0    149867.0    103577.0    128281.0  ...   \n",
       "33  tonnes     40663.0     45197.0     44355.0     53437.0     58400.0  ...   \n",
       "34  tonnes     48086.0     55406.0     51685.0     52548.0     52198.0  ...   \n",
       "35  tonnes     86936.0     84172.0     59017.0     52455.0     60749.0  ...   \n",
       "36  tonnes     75385.0     83867.0     87554.0     96704.0     98343.0  ...   \n",
       "37  tonnes     30000.0      6000.0      3000.0     22000.0     26000.0  ...   \n",
       "38  tonnes     62000.0     61378.0     61646.0     62436.0     63216.0  ...   \n",
       "39  tonnes     77098.0    149804.0    185229.0    167211.0    125397.0  ...   \n",
       "40  tonnes     53000.0     48973.0     50000.0     48816.0     48727.0  ...   \n",
       "41  tonnes     16000.0     12000.0      8000.0      9000.0     12000.0  ...   \n",
       "42  tonnes     42270.0     34927.0     33852.0     32318.0     22359.0  ...   \n",
       "43  tonnes         NaN         NaN         NaN         NaN         NaN  ...   \n",
       "44  tonnes     19926.0     14941.0     15924.0     12524.0     13960.0  ...   \n",
       "45  tonnes     10508.0     11554.0     12000.0     12362.0     12234.0  ...   \n",
       "46  tonnes     16812.0     18908.0     18892.0     15703.0     15804.0  ...   \n",
       "47  tonnes     12000.0     11000.0      8000.0      7000.0      7000.0  ...   \n",
       "48  tonnes     13000.0     13000.0     13000.0     13000.0     13000.0  ...   \n",
       "49  tonnes      5490.0      4169.0      2591.0      7040.0      7145.0  ...   \n",
       "50  tonnes      3569.0      2792.0      2946.0      2035.0      2273.0  ...   \n",
       "51  tonnes      9776.0     15601.0     18921.0     21739.0     19819.0  ...   \n",
       "52  tonnes      1820.0       944.0      1139.0      2808.0      3494.0  ...   \n",
       "53  tonnes      2300.0      2329.0      2368.0      2411.0      2453.0  ...   \n",
       "54  tonnes      6048.0      5429.0      3031.0      1007.0      1052.0  ...   \n",
       "55  tonnes        21.0         4.0         3.0        63.0        64.0  ...   \n",
       "56  tonnes     10587.0      9807.0      8607.0      6181.0      6156.0  ...   \n",
       "57  tonnes      3670.0      2304.0      2135.0       624.0       568.0  ...   \n",
       "62  tonnes         NaN         NaN         NaN         NaN         NaN  ...   \n",
       "\n",
       "          2007        2008        2009        2010        2011        2012  \\\n",
       "0   57857172.0  59833104.0  57345382.0  68756343.0  74815447.0  65848857.0   \n",
       "1   52112217.0  58933347.0  50719822.0  55364271.0  55660235.0  71072810.0   \n",
       "2   26541200.0  26703040.0  24403981.0  24967052.0  25349542.0  23044557.0   \n",
       "3   18684984.0  18538084.0  17618450.0  18503139.0  19811064.0  18012560.0   \n",
       "4    4114057.0   6027131.0   5055525.0   6171250.0   5690043.0   4418388.0   \n",
       "5    7098350.0   6998150.0   6783490.0   6969306.0   7329471.0   6902184.0   \n",
       "6    3431232.0   3867655.0   4310477.0   4106846.0   4416652.0   3873985.0   \n",
       "7    3550510.0   3676938.0   3443712.0   3547510.0   3917234.0   3731798.0   \n",
       "8    2410000.0   2410000.0   2650000.0   2842215.0   2873134.0   2900000.0   \n",
       "9    2249011.0   2796927.0   2440056.0   2907265.0   2700540.0   3037534.0   \n",
       "10   2676323.0   2568547.0   2206492.0   2205586.0   2365455.0   2546601.0   \n",
       "11   2831004.0   3223983.0   2960049.0   2843453.0   2943651.0   2931531.0   \n",
       "12   3169356.0   3461194.0   3486763.0   3158905.0   3435366.0   2794854.0   \n",
       "13   2092628.0   1995206.0   2065167.0   2052928.0   2198624.0   2079547.0   \n",
       "14   1360300.0   1367066.0   1511853.0   1753311.0   1523316.0   1519022.0   \n",
       "15   1748296.0   1778819.0   1803131.0   1791634.0   1827489.0   1805000.0   \n",
       "16   1811535.0   1890286.0   1792594.0   1871961.0   1854343.0   1517696.0   \n",
       "17   1272184.0   1154649.0   1197694.0   1189651.0   1591981.0   1521067.0   \n",
       "18   1018703.0    965333.0    899821.0   1020741.0   1126736.0   1208275.0   \n",
       "19   1440750.0   2004005.0   1853934.0   1532064.0   1931135.0   2016873.0   \n",
       "20   1115379.0   1124155.0   1222885.0   1279124.0   1338995.0   1339771.0   \n",
       "21   1205579.0   1079697.0   1094429.0   1122009.0   1004727.0    959672.0   \n",
       "22   1371555.0   1421431.0   1365491.0   1355461.0   1495336.0   1514768.0   \n",
       "23    237801.0    238516.0    252503.0    395056.0    373009.0    431024.0   \n",
       "24    664286.0    684376.0    713515.0    922334.0    923035.0    776097.0   \n",
       "25    908679.0    851058.0    863079.0    787817.0    951933.0    810550.0   \n",
       "26    529531.0    548438.0    477472.0    495182.0    544820.0    479425.0   \n",
       "27    438474.0    434727.0    443126.0    430305.0    443635.0    513256.0   \n",
       "28    495323.0    340464.0    402959.0    478392.0    499330.0    575386.0   \n",
       "29    235577.0    236912.0    201249.0    278558.0    303872.0    265025.0   \n",
       "30    201651.0    202030.0    218487.0    235389.0    248524.0    253211.0   \n",
       "31    154096.0    147214.0    139089.0    153189.0    160376.0    159903.0   \n",
       "32    185959.0    239149.0    216236.0    222402.0    222180.0    232987.0   \n",
       "33    111407.0    120905.0    126973.0    133981.0    164498.0    177088.0   \n",
       "34    159851.0    173297.0    171555.0    167215.0    154625.0    158241.0   \n",
       "35     99002.0     91714.0     86752.0    104124.0    143293.0    107009.0   \n",
       "36     99925.0     99578.0     99827.0    100075.0    100323.0    100572.0   \n",
       "37    104923.0    148297.0    100905.0     86608.0     77932.0    123646.0   \n",
       "38     72000.0     72936.0     74013.0     75175.0     76288.0     78000.0   \n",
       "39    140675.0    243253.0    220505.0    104342.0    230785.0     80630.0   \n",
       "40     52000.0     53401.0     54481.0     55525.0     57000.0     60000.0   \n",
       "41     42000.0     44000.0     42000.0     70000.0     52000.0     61000.0   \n",
       "42     77770.0     69600.0     65398.0     52137.0     44610.0     43345.0   \n",
       "43    183871.0    184604.0    122212.0    124277.0     90469.0     86466.0   \n",
       "44     23225.0     22565.0     24146.0     25727.0     26233.0     28010.0   \n",
       "45     20137.0     21043.0     21939.0     22822.0     23690.0     25500.0   \n",
       "46     17074.0     17391.0     14856.0     16397.0     20532.0     21990.0   \n",
       "47     14722.0     11333.0      9873.0     16159.0     11046.0      7338.0   \n",
       "48      7000.0      7000.0      6000.0      5000.0      6000.0      6000.0   \n",
       "49      4620.0      6085.0      3921.0      3165.0      3519.0      7777.0   \n",
       "50      2225.0      2314.0      4571.0      5319.0      5729.0      5817.0   \n",
       "51     15731.0     19890.0     20702.0      7349.0     16680.0      5032.0   \n",
       "52      3844.0      4729.0      6865.0      5909.0      3901.0      4283.0   \n",
       "53      2875.0      2947.0      3007.0      3065.0      3122.0      3200.0   \n",
       "54       931.0       905.0       975.0       964.0       780.0       704.0   \n",
       "55         1.0         1.0         1.0        39.0        77.0       291.0   \n",
       "56      1083.0      4752.0      4686.0      4278.0      3520.0      1496.0   \n",
       "57      6362.0       804.0       802.0       934.0      1054.0       993.0   \n",
       "62         NaN         NaN         NaN         NaN         NaN         NaN   \n",
       "\n",
       "          2013        2014        2015        2016  \n",
       "0   81724477.0  86760520.0  97464936.0  96394820.0  \n",
       "1   80273172.0  79881614.0  85283074.0  64143414.0  \n",
       "2   21484218.0  23253514.0  23059704.0  21084418.0  \n",
       "3   17549536.0  16928457.0  16939635.0  17262314.0  \n",
       "4    5738473.0   6261895.0   5508451.0   6834421.0  \n",
       "5    6892622.0   6953747.0   6859227.0   6735260.0  \n",
       "6    4187646.0   4302777.0   4187729.0   4167629.0  \n",
       "7    3553772.0   3689836.0   3867681.0   3851396.0  \n",
       "8    2900000.0   2911788.0   2977044.0   3033272.0  \n",
       "9    2964538.0   2804070.0   2647504.0   3019228.0  \n",
       "10   2483831.0   2646243.0   2653646.0   2695230.0  \n",
       "11   2890286.0   2919110.0   2679218.0   2650299.0  \n",
       "12   2892599.0   3294586.0   3088926.0   2615832.0  \n",
       "13   2163501.0   2171448.0   2119559.0   2090432.0  \n",
       "14   1538929.0   1646498.0   1445989.0   1657441.0  \n",
       "15   1805000.0   1743020.0   1575185.0   1431295.0  \n",
       "16   1582638.0   1603351.0   1481190.0   1424677.0  \n",
       "17   1512615.0   1491812.0   1400342.0   1417448.0  \n",
       "18   1169370.0   1101799.0   1180443.0   1270246.0  \n",
       "19   2126179.0   2279114.0   2136450.0   1154456.0  \n",
       "20   1231472.0   1378617.0   1264651.0   1049251.0  \n",
       "21    937819.0    965167.0   1000546.0   1012767.0  \n",
       "22   1439535.0   1454183.0   1497302.0    985074.0  \n",
       "23    520397.0    432136.0    504957.0    878713.0  \n",
       "24    838244.0    823284.0    704369.0    704253.0  \n",
       "25    850673.0    862396.0    867355.0    677472.0  \n",
       "26    505350.0    525814.0    595977.0    669454.0  \n",
       "27    515451.0    602559.0    602929.0    617851.0  \n",
       "28    565900.0    589939.0    521596.0    596430.0  \n",
       "29    330682.0    251539.0    186285.0    379687.0  \n",
       "30    256186.0    273793.0    278299.0    213843.0  \n",
       "31    157482.0    156699.0    180652.0    196422.0  \n",
       "32    217706.0    211109.0    216241.0    191900.0  \n",
       "33    185725.0    192389.0    191450.0    189780.0  \n",
       "34    173169.0    182290.0    192327.0    161052.0  \n",
       "35    102232.0     93769.0    117272.0    132359.0  \n",
       "36    100820.0    101069.0    101317.0    101566.0  \n",
       "37    108838.0    158563.0    155018.0     80695.0  \n",
       "38     78000.0     78553.0     79610.0     80029.0  \n",
       "39    109679.0    107713.0    103363.0     74553.0  \n",
       "40     62000.0     64000.0     62820.0     63122.0  \n",
       "41     36000.0     55000.0     72000.0     60000.0  \n",
       "42     42312.0     42339.0     51739.0     54425.0  \n",
       "43     62531.0     51832.0     39959.0     46253.0  \n",
       "44     28253.0     28053.0     29071.0     26910.0  \n",
       "45     25500.0     25821.0     25723.0     26521.0  \n",
       "46     22078.0     19096.0     21160.0     14915.0  \n",
       "47      9734.0      4839.0     12245.0     12973.0  \n",
       "48      8000.0     14000.0     10000.0     12000.0  \n",
       "49      5743.0      4452.0      4916.0      6477.0  \n",
       "50      5228.0      5423.0      5201.0      5501.0  \n",
       "51      7957.0      7680.0      4048.0      3655.0  \n",
       "52      2992.0      3692.0      2561.0      3619.0  \n",
       "53      3200.0      3257.0      3312.0      3343.0  \n",
       "54       633.0       570.0       841.0       741.0  \n",
       "55       265.0       512.0       435.0       647.0  \n",
       "56       763.0      1421.0       633.0       459.0  \n",
       "57       490.0      1172.0       953.0       106.0  \n",
       "62         NaN         NaN         NaN         NaN  \n",
       "\n",
       "[59 rows x 29 columns]"
      ]
     },
     "execution_count": 59,
     "metadata": {},
     "output_type": "execute_result"
    }
   ],
   "source": [
    "df_prod_brazil"
   ]
  },
  {
   "cell_type": "code",
   "execution_count": 75,
   "metadata": {},
   "outputs": [
    {
     "data": {
      "text/plain": [
       "'top10producedbrazil.html'"
      ]
     },
     "execution_count": 75,
     "metadata": {},
     "output_type": "execute_result"
    }
   ],
   "source": [
    "import plotly.graph_objects as go\n",
    "years = [str(year) for year in range(1993, 2017)] \n",
    "fig = go.Figure()\n",
    "items = df_prod_brazil['Item']\n",
    "for i in range(0, 10):\n",
    "    fig.add_trace(go.Scatter(x=years, y= df_prod_brazil.iloc[i][years], mode='lines', name=items[i], line = dict(width=4)))\n",
    "fig.update_layout(title='Top 10 Produced Items in Brazil',\n",
    "                   xaxis_title='Year',\n",
    "                   yaxis_title='Weight (in tonnes)',\n",
    "                  width=800,\n",
    "                 height=500)\n",
    "plotly.offline.plot(fig, filename='top10producedbrazil.html')"
   ]
  },
  {
   "cell_type": "code",
   "execution_count": 64,
   "metadata": {},
   "outputs": [],
   "source": [
    "df_prod_area_brazil = df_prod.loc[df_prod['Area'] == 'Brazil']\n",
    "df_prod_area_brazil = df_prod_area_brazil[df_prod_area_brazil['Element'] == 'Area harvested']\\\n",
    "                        .sort_values(['2016'], ascending=False)\\\n",
    "                        .reset_index()\\\n",
    "                        .drop(columns=['index'])"
   ]
  },
  {
   "cell_type": "code",
   "execution_count": 65,
   "metadata": {
    "collapsed": true,
    "jupyter": {
     "outputs_hidden": true
    }
   },
   "outputs": [
    {
     "data": {
      "text/html": [
       "<div>\n",
       "<style scoped>\n",
       "    .dataframe tbody tr th:only-of-type {\n",
       "        vertical-align: middle;\n",
       "    }\n",
       "\n",
       "    .dataframe tbody tr th {\n",
       "        vertical-align: top;\n",
       "    }\n",
       "\n",
       "    .dataframe thead th {\n",
       "        text-align: right;\n",
       "    }\n",
       "</style>\n",
       "<table border=\"1\" class=\"dataframe\">\n",
       "  <thead>\n",
       "    <tr style=\"text-align: right;\">\n",
       "      <th></th>\n",
       "      <th>Area</th>\n",
       "      <th>Item</th>\n",
       "      <th>Element</th>\n",
       "      <th>Unit</th>\n",
       "      <th>1993</th>\n",
       "      <th>1994</th>\n",
       "      <th>1995</th>\n",
       "      <th>1996</th>\n",
       "      <th>1997</th>\n",
       "      <th>1998</th>\n",
       "      <th>...</th>\n",
       "      <th>2007</th>\n",
       "      <th>2008</th>\n",
       "      <th>2009</th>\n",
       "      <th>2010</th>\n",
       "      <th>2011</th>\n",
       "      <th>2012</th>\n",
       "      <th>2013</th>\n",
       "      <th>2014</th>\n",
       "      <th>2015</th>\n",
       "      <th>2016</th>\n",
       "    </tr>\n",
       "  </thead>\n",
       "  <tbody>\n",
       "    <tr>\n",
       "      <td>0</td>\n",
       "      <td>Brazil</td>\n",
       "      <td>Soybeans</td>\n",
       "      <td>Area harvested</td>\n",
       "      <td>ha</td>\n",
       "      <td>10635330.0</td>\n",
       "      <td>11525410.0</td>\n",
       "      <td>11675005.0</td>\n",
       "      <td>10299470.0</td>\n",
       "      <td>11486478.0</td>\n",
       "      <td>13303656.0</td>\n",
       "      <td>...</td>\n",
       "      <td>20565279.0</td>\n",
       "      <td>21246302.0</td>\n",
       "      <td>21750468.0</td>\n",
       "      <td>23327296.0</td>\n",
       "      <td>23968663.0</td>\n",
       "      <td>24975258.0</td>\n",
       "      <td>27906675.0</td>\n",
       "      <td>30273763.0</td>\n",
       "      <td>32181243.0</td>\n",
       "      <td>33183119.0</td>\n",
       "    </tr>\n",
       "    <tr>\n",
       "      <td>1</td>\n",
       "      <td>Brazil</td>\n",
       "      <td>Maize</td>\n",
       "      <td>Area harvested</td>\n",
       "      <td>ha</td>\n",
       "      <td>11869663.0</td>\n",
       "      <td>13748813.0</td>\n",
       "      <td>13946320.0</td>\n",
       "      <td>11975811.0</td>\n",
       "      <td>12562130.0</td>\n",
       "      <td>10585498.0</td>\n",
       "      <td>...</td>\n",
       "      <td>13767400.0</td>\n",
       "      <td>14444582.0</td>\n",
       "      <td>13654715.0</td>\n",
       "      <td>12678875.0</td>\n",
       "      <td>13218892.0</td>\n",
       "      <td>14198496.0</td>\n",
       "      <td>15279652.0</td>\n",
       "      <td>15432909.0</td>\n",
       "      <td>15407143.0</td>\n",
       "      <td>14958862.0</td>\n",
       "    </tr>\n",
       "    <tr>\n",
       "      <td>2</td>\n",
       "      <td>Brazil</td>\n",
       "      <td>Beans, dry</td>\n",
       "      <td>Area harvested</td>\n",
       "      <td>ha</td>\n",
       "      <td>3884340.0</td>\n",
       "      <td>5471320.0</td>\n",
       "      <td>5006400.0</td>\n",
       "      <td>4300513.0</td>\n",
       "      <td>4401770.0</td>\n",
       "      <td>3313620.0</td>\n",
       "      <td>...</td>\n",
       "      <td>3788279.0</td>\n",
       "      <td>3781908.0</td>\n",
       "      <td>4099991.0</td>\n",
       "      <td>3423646.0</td>\n",
       "      <td>3673162.0</td>\n",
       "      <td>2709485.0</td>\n",
       "      <td>2813506.0</td>\n",
       "      <td>3185745.0</td>\n",
       "      <td>2865396.0</td>\n",
       "      <td>2584170.0</td>\n",
       "    </tr>\n",
       "    <tr>\n",
       "      <td>3</td>\n",
       "      <td>Brazil</td>\n",
       "      <td>Wheat</td>\n",
       "      <td>Area harvested</td>\n",
       "      <td>ha</td>\n",
       "      <td>1482230.0</td>\n",
       "      <td>1348850.0</td>\n",
       "      <td>994734.0</td>\n",
       "      <td>1796005.0</td>\n",
       "      <td>1521545.0</td>\n",
       "      <td>1408850.0</td>\n",
       "      <td>...</td>\n",
       "      <td>1853224.0</td>\n",
       "      <td>2363893.0</td>\n",
       "      <td>2430253.0</td>\n",
       "      <td>2181567.0</td>\n",
       "      <td>2138916.0</td>\n",
       "      <td>1912711.0</td>\n",
       "      <td>2087395.0</td>\n",
       "      <td>2834945.0</td>\n",
       "      <td>2472628.0</td>\n",
       "      <td>2166170.0</td>\n",
       "    </tr>\n",
       "    <tr>\n",
       "      <td>4</td>\n",
       "      <td>Brazil</td>\n",
       "      <td>Coffee, green</td>\n",
       "      <td>Area harvested</td>\n",
       "      <td>ha</td>\n",
       "      <td>2259330.0</td>\n",
       "      <td>2097650.0</td>\n",
       "      <td>1869980.0</td>\n",
       "      <td>1920250.0</td>\n",
       "      <td>1988190.0</td>\n",
       "      <td>2070410.0</td>\n",
       "      <td>...</td>\n",
       "      <td>2264129.0</td>\n",
       "      <td>2222224.0</td>\n",
       "      <td>2135508.0</td>\n",
       "      <td>2159785.0</td>\n",
       "      <td>2148775.0</td>\n",
       "      <td>2120080.0</td>\n",
       "      <td>2085522.0</td>\n",
       "      <td>1997827.0</td>\n",
       "      <td>1977714.0</td>\n",
       "      <td>1994908.0</td>\n",
       "    </tr>\n",
       "    <tr>\n",
       "      <td>5</td>\n",
       "      <td>Brazil</td>\n",
       "      <td>Cassava</td>\n",
       "      <td>Area harvested</td>\n",
       "      <td>ha</td>\n",
       "      <td>1811830.0</td>\n",
       "      <td>1850930.0</td>\n",
       "      <td>1946160.0</td>\n",
       "      <td>1508920.0</td>\n",
       "      <td>1551970.0</td>\n",
       "      <td>1578880.0</td>\n",
       "      <td>...</td>\n",
       "      <td>1894460.0</td>\n",
       "      <td>1888859.0</td>\n",
       "      <td>1760578.0</td>\n",
       "      <td>1789769.0</td>\n",
       "      <td>1733541.0</td>\n",
       "      <td>1692986.0</td>\n",
       "      <td>1525918.0</td>\n",
       "      <td>1568253.0</td>\n",
       "      <td>1512660.0</td>\n",
       "      <td>1406512.0</td>\n",
       "    </tr>\n",
       "    <tr>\n",
       "      <td>6</td>\n",
       "      <td>Brazil</td>\n",
       "      <td>Cocoa, beans</td>\n",
       "      <td>Area harvested</td>\n",
       "      <td>ha</td>\n",
       "      <td>734124.0</td>\n",
       "      <td>698634.0</td>\n",
       "      <td>738536.0</td>\n",
       "      <td>661923.0</td>\n",
       "      <td>715671.0</td>\n",
       "      <td>709798.0</td>\n",
       "      <td>...</td>\n",
       "      <td>628928.0</td>\n",
       "      <td>641337.0</td>\n",
       "      <td>635975.0</td>\n",
       "      <td>660711.0</td>\n",
       "      <td>680484.0</td>\n",
       "      <td>684333.0</td>\n",
       "      <td>689276.0</td>\n",
       "      <td>704122.0</td>\n",
       "      <td>702841.0</td>\n",
       "      <td>720053.0</td>\n",
       "    </tr>\n",
       "    <tr>\n",
       "      <td>7</td>\n",
       "      <td>Brazil</td>\n",
       "      <td>Oranges</td>\n",
       "      <td>Area harvested</td>\n",
       "      <td>ha</td>\n",
       "      <td>800505.0</td>\n",
       "      <td>897985.0</td>\n",
       "      <td>856419.0</td>\n",
       "      <td>964373.0</td>\n",
       "      <td>985521.0</td>\n",
       "      <td>1018576.0</td>\n",
       "      <td>...</td>\n",
       "      <td>821244.0</td>\n",
       "      <td>836602.0</td>\n",
       "      <td>787250.0</td>\n",
       "      <td>792753.0</td>\n",
       "      <td>817292.0</td>\n",
       "      <td>729583.0</td>\n",
       "      <td>702200.0</td>\n",
       "      <td>680324.0</td>\n",
       "      <td>678807.0</td>\n",
       "      <td>659042.0</td>\n",
       "    </tr>\n",
       "    <tr>\n",
       "      <td>8</td>\n",
       "      <td>Brazil</td>\n",
       "      <td>Cashewapple</td>\n",
       "      <td>Area harvested</td>\n",
       "      <td>ha</td>\n",
       "      <td>726140.0</td>\n",
       "      <td>680615.0</td>\n",
       "      <td>699936.0</td>\n",
       "      <td>547720.0</td>\n",
       "      <td>582210.0</td>\n",
       "      <td>621419.0</td>\n",
       "      <td>...</td>\n",
       "      <td>731412.0</td>\n",
       "      <td>747434.0</td>\n",
       "      <td>758085.0</td>\n",
       "      <td>758988.0</td>\n",
       "      <td>764472.0</td>\n",
       "      <td>756846.0</td>\n",
       "      <td>695289.0</td>\n",
       "      <td>627137.0</td>\n",
       "      <td>590913.0</td>\n",
       "      <td>567557.0</td>\n",
       "    </tr>\n",
       "    <tr>\n",
       "      <td>9</td>\n",
       "      <td>Brazil</td>\n",
       "      <td>Cashew nuts, with shell</td>\n",
       "      <td>Area harvested</td>\n",
       "      <td>ha</td>\n",
       "      <td>726140.0</td>\n",
       "      <td>680615.0</td>\n",
       "      <td>699936.0</td>\n",
       "      <td>547720.0</td>\n",
       "      <td>582210.0</td>\n",
       "      <td>621419.0</td>\n",
       "      <td>...</td>\n",
       "      <td>731412.0</td>\n",
       "      <td>747434.0</td>\n",
       "      <td>758085.0</td>\n",
       "      <td>758988.0</td>\n",
       "      <td>764472.0</td>\n",
       "      <td>756846.0</td>\n",
       "      <td>695289.0</td>\n",
       "      <td>627137.0</td>\n",
       "      <td>590913.0</td>\n",
       "      <td>567557.0</td>\n",
       "    </tr>\n",
       "    <tr>\n",
       "      <td>10</td>\n",
       "      <td>Brazil</td>\n",
       "      <td>Sorghum</td>\n",
       "      <td>Area harvested</td>\n",
       "      <td>ha</td>\n",
       "      <td>139787.0</td>\n",
       "      <td>165781.0</td>\n",
       "      <td>153961.0</td>\n",
       "      <td>196803.0</td>\n",
       "      <td>274623.0</td>\n",
       "      <td>331967.0</td>\n",
       "      <td>...</td>\n",
       "      <td>662994.0</td>\n",
       "      <td>831354.0</td>\n",
       "      <td>793027.0</td>\n",
       "      <td>661180.0</td>\n",
       "      <td>757410.0</td>\n",
       "      <td>687952.0</td>\n",
       "      <td>792838.0</td>\n",
       "      <td>840093.0</td>\n",
       "      <td>732981.0</td>\n",
       "      <td>558189.0</td>\n",
       "    </tr>\n",
       "    <tr>\n",
       "      <td>11</td>\n",
       "      <td>Brazil</td>\n",
       "      <td>Bananas</td>\n",
       "      <td>Area harvested</td>\n",
       "      <td>ha</td>\n",
       "      <td>520014.0</td>\n",
       "      <td>516087.0</td>\n",
       "      <td>509365.0</td>\n",
       "      <td>496593.0</td>\n",
       "      <td>532745.0</td>\n",
       "      <td>518433.0</td>\n",
       "      <td>...</td>\n",
       "      <td>515346.0</td>\n",
       "      <td>513097.0</td>\n",
       "      <td>479614.0</td>\n",
       "      <td>487790.0</td>\n",
       "      <td>503354.0</td>\n",
       "      <td>481116.0</td>\n",
       "      <td>485075.0</td>\n",
       "      <td>478765.0</td>\n",
       "      <td>478169.0</td>\n",
       "      <td>468754.0</td>\n",
       "    </tr>\n",
       "    <tr>\n",
       "      <td>12</td>\n",
       "      <td>Brazil</td>\n",
       "      <td>Tobacco, unmanufactured</td>\n",
       "      <td>Area harvested</td>\n",
       "      <td>ha</td>\n",
       "      <td>372912.0</td>\n",
       "      <td>320185.0</td>\n",
       "      <td>293425.0</td>\n",
       "      <td>317279.0</td>\n",
       "      <td>338059.0</td>\n",
       "      <td>353679.0</td>\n",
       "      <td>...</td>\n",
       "      <td>459481.0</td>\n",
       "      <td>432182.0</td>\n",
       "      <td>442397.0</td>\n",
       "      <td>449629.0</td>\n",
       "      <td>454501.0</td>\n",
       "      <td>410225.0</td>\n",
       "      <td>405253.0</td>\n",
       "      <td>415842.0</td>\n",
       "      <td>405881.0</td>\n",
       "      <td>376503.0</td>\n",
       "    </tr>\n",
       "    <tr>\n",
       "      <td>13</td>\n",
       "      <td>Brazil</td>\n",
       "      <td>Oats</td>\n",
       "      <td>Area harvested</td>\n",
       "      <td>ha</td>\n",
       "      <td>268018.0</td>\n",
       "      <td>281545.0</td>\n",
       "      <td>165179.0</td>\n",
       "      <td>160466.0</td>\n",
       "      <td>196803.0</td>\n",
       "      <td>188822.0</td>\n",
       "      <td>...</td>\n",
       "      <td>136955.0</td>\n",
       "      <td>117058.0</td>\n",
       "      <td>134040.0</td>\n",
       "      <td>173455.0</td>\n",
       "      <td>172127.0</td>\n",
       "      <td>208730.0</td>\n",
       "      <td>227632.0</td>\n",
       "      <td>238465.0</td>\n",
       "      <td>296608.0</td>\n",
       "      <td>335434.0</td>\n",
       "    </tr>\n",
       "    <tr>\n",
       "      <td>14</td>\n",
       "      <td>Brazil</td>\n",
       "      <td>Vegetables, fresh nes</td>\n",
       "      <td>Area harvested</td>\n",
       "      <td>ha</td>\n",
       "      <td>167000.0</td>\n",
       "      <td>175000.0</td>\n",
       "      <td>182000.0</td>\n",
       "      <td>182000.0</td>\n",
       "      <td>185000.0</td>\n",
       "      <td>190000.0</td>\n",
       "      <td>...</td>\n",
       "      <td>210000.0</td>\n",
       "      <td>210000.0</td>\n",
       "      <td>230000.0</td>\n",
       "      <td>237000.0</td>\n",
       "      <td>232327.0</td>\n",
       "      <td>225000.0</td>\n",
       "      <td>225000.0</td>\n",
       "      <td>225759.0</td>\n",
       "      <td>239096.0</td>\n",
       "      <td>241458.0</td>\n",
       "    </tr>\n",
       "    <tr>\n",
       "      <td>15</td>\n",
       "      <td>Brazil</td>\n",
       "      <td>Coconuts</td>\n",
       "      <td>Area harvested</td>\n",
       "      <td>ha</td>\n",
       "      <td>231660.0</td>\n",
       "      <td>237038.0</td>\n",
       "      <td>242549.0</td>\n",
       "      <td>217286.0</td>\n",
       "      <td>231039.0</td>\n",
       "      <td>239462.0</td>\n",
       "      <td>...</td>\n",
       "      <td>283205.0</td>\n",
       "      <td>287016.0</td>\n",
       "      <td>284058.0</td>\n",
       "      <td>275091.0</td>\n",
       "      <td>270541.0</td>\n",
       "      <td>257742.0</td>\n",
       "      <td>257462.0</td>\n",
       "      <td>250554.0</td>\n",
       "      <td>242253.0</td>\n",
       "      <td>234128.0</td>\n",
       "    </tr>\n",
       "    <tr>\n",
       "      <td>16</td>\n",
       "      <td>Brazil</td>\n",
       "      <td>Rubber, natural</td>\n",
       "      <td>Area harvested</td>\n",
       "      <td>ha</td>\n",
       "      <td>41000.0</td>\n",
       "      <td>47098.0</td>\n",
       "      <td>47979.0</td>\n",
       "      <td>59000.0</td>\n",
       "      <td>65000.0</td>\n",
       "      <td>70000.0</td>\n",
       "      <td>...</td>\n",
       "      <td>114842.0</td>\n",
       "      <td>124933.0</td>\n",
       "      <td>128900.0</td>\n",
       "      <td>124946.0</td>\n",
       "      <td>134947.0</td>\n",
       "      <td>137813.0</td>\n",
       "      <td>139998.0</td>\n",
       "      <td>146552.0</td>\n",
       "      <td>143972.0</td>\n",
       "      <td>146669.0</td>\n",
       "    </tr>\n",
       "    <tr>\n",
       "      <td>17</td>\n",
       "      <td>Brazil</td>\n",
       "      <td>Potatoes</td>\n",
       "      <td>Area harvested</td>\n",
       "      <td>ha</td>\n",
       "      <td>162063.0</td>\n",
       "      <td>171853.0</td>\n",
       "      <td>176767.0</td>\n",
       "      <td>164672.0</td>\n",
       "      <td>174830.0</td>\n",
       "      <td>177972.0</td>\n",
       "      <td>...</td>\n",
       "      <td>147719.0</td>\n",
       "      <td>144916.0</td>\n",
       "      <td>138692.0</td>\n",
       "      <td>137044.0</td>\n",
       "      <td>149212.0</td>\n",
       "      <td>135970.0</td>\n",
       "      <td>128056.0</td>\n",
       "      <td>132058.0</td>\n",
       "      <td>131931.0</td>\n",
       "      <td>129842.0</td>\n",
       "    </tr>\n",
       "    <tr>\n",
       "      <td>18</td>\n",
       "      <td>Brazil</td>\n",
       "      <td>Barley</td>\n",
       "      <td>Area harvested</td>\n",
       "      <td>ha</td>\n",
       "      <td>67063.0</td>\n",
       "      <td>53607.0</td>\n",
       "      <td>69458.0</td>\n",
       "      <td>84067.0</td>\n",
       "      <td>127633.0</td>\n",
       "      <td>156005.0</td>\n",
       "      <td>...</td>\n",
       "      <td>100298.0</td>\n",
       "      <td>79270.0</td>\n",
       "      <td>77452.0</td>\n",
       "      <td>84118.0</td>\n",
       "      <td>88236.0</td>\n",
       "      <td>102749.0</td>\n",
       "      <td>88321.0</td>\n",
       "      <td>89451.0</td>\n",
       "      <td>86409.0</td>\n",
       "      <td>91055.0</td>\n",
       "    </tr>\n",
       "    <tr>\n",
       "      <td>19</td>\n",
       "      <td>Brazil</td>\n",
       "      <td>Watermelons</td>\n",
       "      <td>Area harvested</td>\n",
       "      <td>ha</td>\n",
       "      <td>67392.0</td>\n",
       "      <td>72213.0</td>\n",
       "      <td>79347.0</td>\n",
       "      <td>75301.0</td>\n",
       "      <td>81664.0</td>\n",
       "      <td>77022.0</td>\n",
       "      <td>...</td>\n",
       "      <td>96556.0</td>\n",
       "      <td>88189.0</td>\n",
       "      <td>93726.0</td>\n",
       "      <td>94946.0</td>\n",
       "      <td>97718.0</td>\n",
       "      <td>94612.0</td>\n",
       "      <td>92021.0</td>\n",
       "      <td>94375.0</td>\n",
       "      <td>95965.0</td>\n",
       "      <td>90447.0</td>\n",
       "    </tr>\n",
       "    <tr>\n",
       "      <td>20</td>\n",
       "      <td>Brazil</td>\n",
       "      <td>Mangoes, mangosteens, guavas</td>\n",
       "      <td>Area harvested</td>\n",
       "      <td>ha</td>\n",
       "      <td>53107.0</td>\n",
       "      <td>55444.0</td>\n",
       "      <td>56502.0</td>\n",
       "      <td>62146.0</td>\n",
       "      <td>64726.0</td>\n",
       "      <td>66838.0</td>\n",
       "      <td>...</td>\n",
       "      <td>75911.0</td>\n",
       "      <td>74003.0</td>\n",
       "      <td>75178.0</td>\n",
       "      <td>75179.0</td>\n",
       "      <td>92298.0</td>\n",
       "      <td>88481.0</td>\n",
       "      <td>85354.0</td>\n",
       "      <td>86148.0</td>\n",
       "      <td>81868.0</td>\n",
       "      <td>78985.0</td>\n",
       "    </tr>\n",
       "    <tr>\n",
       "      <td>21</td>\n",
       "      <td>Brazil</td>\n",
       "      <td>Grapes</td>\n",
       "      <td>Area harvested</td>\n",
       "      <td>ha</td>\n",
       "      <td>60200.0</td>\n",
       "      <td>60251.0</td>\n",
       "      <td>60810.0</td>\n",
       "      <td>55916.0</td>\n",
       "      <td>56682.0</td>\n",
       "      <td>60721.0</td>\n",
       "      <td>...</td>\n",
       "      <td>78273.0</td>\n",
       "      <td>79946.0</td>\n",
       "      <td>81355.0</td>\n",
       "      <td>81518.0</td>\n",
       "      <td>81839.0</td>\n",
       "      <td>82063.0</td>\n",
       "      <td>79483.0</td>\n",
       "      <td>78765.0</td>\n",
       "      <td>78011.0</td>\n",
       "      <td>77052.0</td>\n",
       "    </tr>\n",
       "    <tr>\n",
       "      <td>22</td>\n",
       "      <td>Brazil</td>\n",
       "      <td>Maté</td>\n",
       "      <td>Area harvested</td>\n",
       "      <td>ha</td>\n",
       "      <td>18841.0</td>\n",
       "      <td>16457.0</td>\n",
       "      <td>22754.0</td>\n",
       "      <td>32836.0</td>\n",
       "      <td>39379.0</td>\n",
       "      <td>57429.0</td>\n",
       "      <td>...</td>\n",
       "      <td>74526.0</td>\n",
       "      <td>71217.0</td>\n",
       "      <td>70588.0</td>\n",
       "      <td>68183.0</td>\n",
       "      <td>71185.0</td>\n",
       "      <td>76347.0</td>\n",
       "      <td>67397.0</td>\n",
       "      <td>70835.0</td>\n",
       "      <td>70650.0</td>\n",
       "      <td>73973.0</td>\n",
       "    </tr>\n",
       "    <tr>\n",
       "      <td>23</td>\n",
       "      <td>Brazil</td>\n",
       "      <td>Pineapples</td>\n",
       "      <td>Area harvested</td>\n",
       "      <td>ha</td>\n",
       "      <td>39719.0</td>\n",
       "      <td>45218.0</td>\n",
       "      <td>44384.0</td>\n",
       "      <td>45843.0</td>\n",
       "      <td>53567.0</td>\n",
       "      <td>54998.0</td>\n",
       "      <td>...</td>\n",
       "      <td>71823.0</td>\n",
       "      <td>65982.0</td>\n",
       "      <td>60176.0</td>\n",
       "      <td>58507.0</td>\n",
       "      <td>62481.0</td>\n",
       "      <td>65502.0</td>\n",
       "      <td>63204.0</td>\n",
       "      <td>66599.0</td>\n",
       "      <td>67922.0</td>\n",
       "      <td>68899.0</td>\n",
       "    </tr>\n",
       "    <tr>\n",
       "      <td>24</td>\n",
       "      <td>Brazil</td>\n",
       "      <td>Tomatoes</td>\n",
       "      <td>Area harvested</td>\n",
       "      <td>ha</td>\n",
       "      <td>53734.0</td>\n",
       "      <td>61939.0</td>\n",
       "      <td>62054.0</td>\n",
       "      <td>70976.0</td>\n",
       "      <td>65052.0</td>\n",
       "      <td>63901.0</td>\n",
       "      <td>...</td>\n",
       "      <td>58404.0</td>\n",
       "      <td>60912.0</td>\n",
       "      <td>67605.0</td>\n",
       "      <td>67892.0</td>\n",
       "      <td>71473.0</td>\n",
       "      <td>63859.0</td>\n",
       "      <td>62687.0</td>\n",
       "      <td>64363.0</td>\n",
       "      <td>63572.0</td>\n",
       "      <td>63980.0</td>\n",
       "    </tr>\n",
       "    <tr>\n",
       "      <td>25</td>\n",
       "      <td>Brazil</td>\n",
       "      <td>Sunflower seed</td>\n",
       "      <td>Area harvested</td>\n",
       "      <td>ha</td>\n",
       "      <td>21000.0</td>\n",
       "      <td>5000.0</td>\n",
       "      <td>4000.0</td>\n",
       "      <td>19000.0</td>\n",
       "      <td>20000.0</td>\n",
       "      <td>22000.0</td>\n",
       "      <td>...</td>\n",
       "      <td>72548.0</td>\n",
       "      <td>114375.0</td>\n",
       "      <td>81267.0</td>\n",
       "      <td>76492.0</td>\n",
       "      <td>62535.0</td>\n",
       "      <td>77928.0</td>\n",
       "      <td>69070.0</td>\n",
       "      <td>115617.0</td>\n",
       "      <td>111803.0</td>\n",
       "      <td>61167.0</td>\n",
       "    </tr>\n",
       "    <tr>\n",
       "      <td>26</td>\n",
       "      <td>Brazil</td>\n",
       "      <td>Onions, dry</td>\n",
       "      <td>Area harvested</td>\n",
       "      <td>ha</td>\n",
       "      <td>71910.0</td>\n",
       "      <td>81638.0</td>\n",
       "      <td>74676.0</td>\n",
       "      <td>71338.0</td>\n",
       "      <td>67763.0</td>\n",
       "      <td>67745.0</td>\n",
       "      <td>...</td>\n",
       "      <td>63622.0</td>\n",
       "      <td>65164.0</td>\n",
       "      <td>66013.0</td>\n",
       "      <td>70429.0</td>\n",
       "      <td>63481.0</td>\n",
       "      <td>60931.0</td>\n",
       "      <td>57402.0</td>\n",
       "      <td>59190.0</td>\n",
       "      <td>56677.0</td>\n",
       "      <td>57464.0</td>\n",
       "    </tr>\n",
       "    <tr>\n",
       "      <td>27</td>\n",
       "      <td>Brazil</td>\n",
       "      <td>Fruit, tropical fresh nes</td>\n",
       "      <td>Area harvested</td>\n",
       "      <td>ha</td>\n",
       "      <td>32539.0</td>\n",
       "      <td>33487.0</td>\n",
       "      <td>38522.0</td>\n",
       "      <td>44462.0</td>\n",
       "      <td>38343.0</td>\n",
       "      <td>33012.0</td>\n",
       "      <td>...</td>\n",
       "      <td>46866.0</td>\n",
       "      <td>48752.0</td>\n",
       "      <td>50795.0</td>\n",
       "      <td>62177.0</td>\n",
       "      <td>61631.0</td>\n",
       "      <td>57848.0</td>\n",
       "      <td>57277.0</td>\n",
       "      <td>56825.0</td>\n",
       "      <td>51442.0</td>\n",
       "      <td>49971.0</td>\n",
       "    </tr>\n",
       "    <tr>\n",
       "      <td>28</td>\n",
       "      <td>Brazil</td>\n",
       "      <td>Tangerines, mandarins, clementines, satsumas</td>\n",
       "      <td>Area harvested</td>\n",
       "      <td>ha</td>\n",
       "      <td>48586.0</td>\n",
       "      <td>51458.0</td>\n",
       "      <td>50319.0</td>\n",
       "      <td>51237.0</td>\n",
       "      <td>53989.0</td>\n",
       "      <td>56537.0</td>\n",
       "      <td>...</td>\n",
       "      <td>59637.0</td>\n",
       "      <td>53892.0</td>\n",
       "      <td>54814.0</td>\n",
       "      <td>57513.0</td>\n",
       "      <td>53244.0</td>\n",
       "      <td>51841.0</td>\n",
       "      <td>50672.0</td>\n",
       "      <td>49861.0</td>\n",
       "      <td>48999.0</td>\n",
       "      <td>49610.0</td>\n",
       "    </tr>\n",
       "    <tr>\n",
       "      <td>29</td>\n",
       "      <td>Brazil</td>\n",
       "      <td>Buckwheat</td>\n",
       "      <td>Area harvested</td>\n",
       "      <td>ha</td>\n",
       "      <td>50000.0</td>\n",
       "      <td>46301.0</td>\n",
       "      <td>47000.0</td>\n",
       "      <td>45816.0</td>\n",
       "      <td>45601.0</td>\n",
       "      <td>45624.0</td>\n",
       "      <td>...</td>\n",
       "      <td>48000.0</td>\n",
       "      <td>47185.0</td>\n",
       "      <td>46859.0</td>\n",
       "      <td>46665.0</td>\n",
       "      <td>46000.0</td>\n",
       "      <td>47000.0</td>\n",
       "      <td>48000.0</td>\n",
       "      <td>49000.0</td>\n",
       "      <td>48599.0</td>\n",
       "      <td>48492.0</td>\n",
       "    </tr>\n",
       "    <tr>\n",
       "      <td>30</td>\n",
       "      <td>Brazil</td>\n",
       "      <td>Rapeseed</td>\n",
       "      <td>Area harvested</td>\n",
       "      <td>ha</td>\n",
       "      <td>15000.0</td>\n",
       "      <td>12000.0</td>\n",
       "      <td>7000.0</td>\n",
       "      <td>8000.0</td>\n",
       "      <td>10000.0</td>\n",
       "      <td>16000.0</td>\n",
       "      <td>...</td>\n",
       "      <td>32000.0</td>\n",
       "      <td>33000.0</td>\n",
       "      <td>31000.0</td>\n",
       "      <td>46000.0</td>\n",
       "      <td>42000.0</td>\n",
       "      <td>46000.0</td>\n",
       "      <td>45000.0</td>\n",
       "      <td>44000.0</td>\n",
       "      <td>48000.0</td>\n",
       "      <td>48000.0</td>\n",
       "    </tr>\n",
       "    <tr>\n",
       "      <td>31</td>\n",
       "      <td>Brazil</td>\n",
       "      <td>Lemons and limes</td>\n",
       "      <td>Area harvested</td>\n",
       "      <td>ha</td>\n",
       "      <td>43967.0</td>\n",
       "      <td>40590.0</td>\n",
       "      <td>40147.0</td>\n",
       "      <td>41426.0</td>\n",
       "      <td>43898.0</td>\n",
       "      <td>45817.0</td>\n",
       "      <td>...</td>\n",
       "      <td>45410.0</td>\n",
       "      <td>43922.0</td>\n",
       "      <td>41029.0</td>\n",
       "      <td>42779.0</td>\n",
       "      <td>47267.0</td>\n",
       "      <td>47349.0</td>\n",
       "      <td>45690.0</td>\n",
       "      <td>43399.0</td>\n",
       "      <td>46088.0</td>\n",
       "      <td>47610.0</td>\n",
       "    </tr>\n",
       "    <tr>\n",
       "      <td>32</td>\n",
       "      <td>Brazil</td>\n",
       "      <td>Sweet potatoes</td>\n",
       "      <td>Area harvested</td>\n",
       "      <td>ha</td>\n",
       "      <td>53361.0</td>\n",
       "      <td>57983.0</td>\n",
       "      <td>55946.0</td>\n",
       "      <td>47941.0</td>\n",
       "      <td>49812.0</td>\n",
       "      <td>42811.0</td>\n",
       "      <td>...</td>\n",
       "      <td>43879.0</td>\n",
       "      <td>45552.0</td>\n",
       "      <td>42241.0</td>\n",
       "      <td>41802.0</td>\n",
       "      <td>43843.0</td>\n",
       "      <td>39321.0</td>\n",
       "      <td>38602.0</td>\n",
       "      <td>39705.0</td>\n",
       "      <td>43920.0</td>\n",
       "      <td>47573.0</td>\n",
       "    </tr>\n",
       "    <tr>\n",
       "      <td>33</td>\n",
       "      <td>Brazil</td>\n",
       "      <td>Apples</td>\n",
       "      <td>Area harvested</td>\n",
       "      <td>ha</td>\n",
       "      <td>25652.0</td>\n",
       "      <td>27112.0</td>\n",
       "      <td>26704.0</td>\n",
       "      <td>25326.0</td>\n",
       "      <td>26418.0</td>\n",
       "      <td>26318.0</td>\n",
       "      <td>...</td>\n",
       "      <td>37832.0</td>\n",
       "      <td>38072.0</td>\n",
       "      <td>38205.0</td>\n",
       "      <td>38723.0</td>\n",
       "      <td>38077.0</td>\n",
       "      <td>38688.0</td>\n",
       "      <td>38284.0</td>\n",
       "      <td>37041.0</td>\n",
       "      <td>35842.0</td>\n",
       "      <td>33981.0</td>\n",
       "    </tr>\n",
       "    <tr>\n",
       "      <td>34</td>\n",
       "      <td>Brazil</td>\n",
       "      <td>Papayas</td>\n",
       "      <td>Area harvested</td>\n",
       "      <td>ha</td>\n",
       "      <td>26322.0</td>\n",
       "      <td>29078.0</td>\n",
       "      <td>32926.0</td>\n",
       "      <td>33243.0</td>\n",
       "      <td>39323.0</td>\n",
       "      <td>39733.0</td>\n",
       "      <td>...</td>\n",
       "      <td>34779.0</td>\n",
       "      <td>36585.0</td>\n",
       "      <td>34213.0</td>\n",
       "      <td>34417.0</td>\n",
       "      <td>35531.0</td>\n",
       "      <td>31310.0</td>\n",
       "      <td>31989.0</td>\n",
       "      <td>32031.0</td>\n",
       "      <td>30545.0</td>\n",
       "      <td>30382.0</td>\n",
       "    </tr>\n",
       "    <tr>\n",
       "      <td>35</td>\n",
       "      <td>Brazil</td>\n",
       "      <td>Pepper (piper spp.)</td>\n",
       "      <td>Area harvested</td>\n",
       "      <td>ha</td>\n",
       "      <td>23572.0</td>\n",
       "      <td>21023.0</td>\n",
       "      <td>18743.0</td>\n",
       "      <td>16669.0</td>\n",
       "      <td>12040.0</td>\n",
       "      <td>11175.0</td>\n",
       "      <td>...</td>\n",
       "      <td>32857.0</td>\n",
       "      <td>29549.0</td>\n",
       "      <td>27415.0</td>\n",
       "      <td>23263.0</td>\n",
       "      <td>21089.0</td>\n",
       "      <td>19427.0</td>\n",
       "      <td>18472.0</td>\n",
       "      <td>19070.0</td>\n",
       "      <td>22105.0</td>\n",
       "      <td>25830.0</td>\n",
       "    </tr>\n",
       "    <tr>\n",
       "      <td>36</td>\n",
       "      <td>Brazil</td>\n",
       "      <td>Melons, other (inc.cantaloupes)</td>\n",
       "      <td>Area harvested</td>\n",
       "      <td>ha</td>\n",
       "      <td>11730.0</td>\n",
       "      <td>11506.0</td>\n",
       "      <td>13294.0</td>\n",
       "      <td>13926.0</td>\n",
       "      <td>13594.0</td>\n",
       "      <td>13855.0</td>\n",
       "      <td>...</td>\n",
       "      <td>21576.0</td>\n",
       "      <td>15746.0</td>\n",
       "      <td>17544.0</td>\n",
       "      <td>18861.0</td>\n",
       "      <td>19695.0</td>\n",
       "      <td>22789.0</td>\n",
       "      <td>22021.0</td>\n",
       "      <td>21996.0</td>\n",
       "      <td>20762.0</td>\n",
       "      <td>23105.0</td>\n",
       "    </tr>\n",
       "    <tr>\n",
       "      <td>37</td>\n",
       "      <td>Brazil</td>\n",
       "      <td>Peaches and nectarines</td>\n",
       "      <td>Area harvested</td>\n",
       "      <td>ha</td>\n",
       "      <td>18954.0</td>\n",
       "      <td>19765.0</td>\n",
       "      <td>20258.0</td>\n",
       "      <td>17492.0</td>\n",
       "      <td>18309.0</td>\n",
       "      <td>21723.0</td>\n",
       "      <td>...</td>\n",
       "      <td>22398.0</td>\n",
       "      <td>21320.0</td>\n",
       "      <td>19043.0</td>\n",
       "      <td>20290.0</td>\n",
       "      <td>20148.0</td>\n",
       "      <td>19155.0</td>\n",
       "      <td>18091.0</td>\n",
       "      <td>18206.0</td>\n",
       "      <td>17436.0</td>\n",
       "      <td>17288.0</td>\n",
       "    </tr>\n",
       "    <tr>\n",
       "      <td>38</td>\n",
       "      <td>Brazil</td>\n",
       "      <td>Triticale</td>\n",
       "      <td>Area harvested</td>\n",
       "      <td>ha</td>\n",
       "      <td>NaN</td>\n",
       "      <td>NaN</td>\n",
       "      <td>NaN</td>\n",
       "      <td>NaN</td>\n",
       "      <td>NaN</td>\n",
       "      <td>NaN</td>\n",
       "      <td>...</td>\n",
       "      <td>80107.0</td>\n",
       "      <td>75640.0</td>\n",
       "      <td>65505.0</td>\n",
       "      <td>50543.0</td>\n",
       "      <td>39628.0</td>\n",
       "      <td>34746.0</td>\n",
       "      <td>25399.0</td>\n",
       "      <td>23111.0</td>\n",
       "      <td>18326.0</td>\n",
       "      <td>17063.0</td>\n",
       "    </tr>\n",
       "    <tr>\n",
       "      <td>39</td>\n",
       "      <td>Brazil</td>\n",
       "      <td>Sesame seed</td>\n",
       "      <td>Area harvested</td>\n",
       "      <td>ha</td>\n",
       "      <td>21000.0</td>\n",
       "      <td>22000.0</td>\n",
       "      <td>22000.0</td>\n",
       "      <td>22000.0</td>\n",
       "      <td>22000.0</td>\n",
       "      <td>22000.0</td>\n",
       "      <td>...</td>\n",
       "      <td>11000.0</td>\n",
       "      <td>10000.0</td>\n",
       "      <td>9000.0</td>\n",
       "      <td>8000.0</td>\n",
       "      <td>9000.0</td>\n",
       "      <td>10000.0</td>\n",
       "      <td>12000.0</td>\n",
       "      <td>20000.0</td>\n",
       "      <td>15000.0</td>\n",
       "      <td>17000.0</td>\n",
       "    </tr>\n",
       "    <tr>\n",
       "      <td>40</td>\n",
       "      <td>Brazil</td>\n",
       "      <td>Broad beans, horse beans, dry</td>\n",
       "      <td>Area harvested</td>\n",
       "      <td>ha</td>\n",
       "      <td>44789.0</td>\n",
       "      <td>75051.0</td>\n",
       "      <td>74261.0</td>\n",
       "      <td>82442.0</td>\n",
       "      <td>69585.0</td>\n",
       "      <td>17007.0</td>\n",
       "      <td>...</td>\n",
       "      <td>34797.0</td>\n",
       "      <td>41785.0</td>\n",
       "      <td>45276.0</td>\n",
       "      <td>27728.0</td>\n",
       "      <td>37132.0</td>\n",
       "      <td>20969.0</td>\n",
       "      <td>23469.0</td>\n",
       "      <td>21591.0</td>\n",
       "      <td>18621.0</td>\n",
       "      <td>16533.0</td>\n",
       "    </tr>\n",
       "    <tr>\n",
       "      <td>41</td>\n",
       "      <td>Brazil</td>\n",
       "      <td>Linseed</td>\n",
       "      <td>Area harvested</td>\n",
       "      <td>ha</td>\n",
       "      <td>17000.0</td>\n",
       "      <td>16000.0</td>\n",
       "      <td>12000.0</td>\n",
       "      <td>11000.0</td>\n",
       "      <td>11000.0</td>\n",
       "      <td>9000.0</td>\n",
       "      <td>...</td>\n",
       "      <td>16223.0</td>\n",
       "      <td>12245.0</td>\n",
       "      <td>13037.0</td>\n",
       "      <td>16584.0</td>\n",
       "      <td>11190.0</td>\n",
       "      <td>8403.0</td>\n",
       "      <td>8757.0</td>\n",
       "      <td>8860.0</td>\n",
       "      <td>14655.0</td>\n",
       "      <td>11660.0</td>\n",
       "    </tr>\n",
       "    <tr>\n",
       "      <td>42</td>\n",
       "      <td>Brazil</td>\n",
       "      <td>Garlic</td>\n",
       "      <td>Area harvested</td>\n",
       "      <td>ha</td>\n",
       "      <td>17441.0</td>\n",
       "      <td>17648.0</td>\n",
       "      <td>12758.0</td>\n",
       "      <td>12144.0</td>\n",
       "      <td>12903.0</td>\n",
       "      <td>10879.0</td>\n",
       "      <td>...</td>\n",
       "      <td>11258.0</td>\n",
       "      <td>10228.0</td>\n",
       "      <td>10063.0</td>\n",
       "      <td>10450.0</td>\n",
       "      <td>12928.0</td>\n",
       "      <td>10064.0</td>\n",
       "      <td>9567.0</td>\n",
       "      <td>9638.0</td>\n",
       "      <td>10789.0</td>\n",
       "      <td>11403.0</td>\n",
       "    </tr>\n",
       "    <tr>\n",
       "      <td>43</td>\n",
       "      <td>Brazil</td>\n",
       "      <td>Avocados</td>\n",
       "      <td>Area harvested</td>\n",
       "      <td>ha</td>\n",
       "      <td>15112.0</td>\n",
       "      <td>14933.0</td>\n",
       "      <td>13441.0</td>\n",
       "      <td>13319.0</td>\n",
       "      <td>13339.0</td>\n",
       "      <td>13729.0</td>\n",
       "      <td>...</td>\n",
       "      <td>9774.0</td>\n",
       "      <td>9453.0</td>\n",
       "      <td>8411.0</td>\n",
       "      <td>11111.0</td>\n",
       "      <td>10753.0</td>\n",
       "      <td>9568.0</td>\n",
       "      <td>9664.0</td>\n",
       "      <td>9450.0</td>\n",
       "      <td>10356.0</td>\n",
       "      <td>10907.0</td>\n",
       "    </tr>\n",
       "    <tr>\n",
       "      <td>44</td>\n",
       "      <td>Brazil</td>\n",
       "      <td>Persimmons</td>\n",
       "      <td>Area harvested</td>\n",
       "      <td>ha</td>\n",
       "      <td>4337.0</td>\n",
       "      <td>4605.0</td>\n",
       "      <td>4819.0</td>\n",
       "      <td>5155.0</td>\n",
       "      <td>5168.0</td>\n",
       "      <td>5524.0</td>\n",
       "      <td>...</td>\n",
       "      <td>8065.0</td>\n",
       "      <td>8797.0</td>\n",
       "      <td>8638.0</td>\n",
       "      <td>8755.0</td>\n",
       "      <td>8349.0</td>\n",
       "      <td>8170.0</td>\n",
       "      <td>8550.0</td>\n",
       "      <td>8323.0</td>\n",
       "      <td>8588.0</td>\n",
       "      <td>8175.0</td>\n",
       "    </tr>\n",
       "    <tr>\n",
       "      <td>45</td>\n",
       "      <td>Brazil</td>\n",
       "      <td>Grapefruit (inc. pomelos)</td>\n",
       "      <td>Area harvested</td>\n",
       "      <td>ha</td>\n",
       "      <td>3210.0</td>\n",
       "      <td>3172.0</td>\n",
       "      <td>3180.0</td>\n",
       "      <td>3215.0</td>\n",
       "      <td>3242.0</td>\n",
       "      <td>3300.0</td>\n",
       "      <td>...</td>\n",
       "      <td>4300.0</td>\n",
       "      <td>4265.0</td>\n",
       "      <td>4265.0</td>\n",
       "      <td>4278.0</td>\n",
       "      <td>4288.0</td>\n",
       "      <td>4300.0</td>\n",
       "      <td>4300.0</td>\n",
       "      <td>4417.0</td>\n",
       "      <td>4523.0</td>\n",
       "      <td>4500.0</td>\n",
       "    </tr>\n",
       "    <tr>\n",
       "      <td>46</td>\n",
       "      <td>Brazil</td>\n",
       "      <td>Walnuts, with shell</td>\n",
       "      <td>Area harvested</td>\n",
       "      <td>ha</td>\n",
       "      <td>2000.0</td>\n",
       "      <td>2514.0</td>\n",
       "      <td>2445.0</td>\n",
       "      <td>1972.0</td>\n",
       "      <td>1245.0</td>\n",
       "      <td>1264.0</td>\n",
       "      <td>...</td>\n",
       "      <td>1666.0</td>\n",
       "      <td>1614.0</td>\n",
       "      <td>2192.0</td>\n",
       "      <td>2473.0</td>\n",
       "      <td>2435.0</td>\n",
       "      <td>2408.0</td>\n",
       "      <td>2829.0</td>\n",
       "      <td>3274.0</td>\n",
       "      <td>3129.0</td>\n",
       "      <td>3508.0</td>\n",
       "    </tr>\n",
       "    <tr>\n",
       "      <td>47</td>\n",
       "      <td>Brazil</td>\n",
       "      <td>Rye</td>\n",
       "      <td>Area harvested</td>\n",
       "      <td>ha</td>\n",
       "      <td>5631.0</td>\n",
       "      <td>4235.0</td>\n",
       "      <td>2647.0</td>\n",
       "      <td>5263.0</td>\n",
       "      <td>8224.0</td>\n",
       "      <td>9907.0</td>\n",
       "      <td>...</td>\n",
       "      <td>3866.0</td>\n",
       "      <td>4748.0</td>\n",
       "      <td>3629.0</td>\n",
       "      <td>2343.0</td>\n",
       "      <td>2341.0</td>\n",
       "      <td>5554.0</td>\n",
       "      <td>3744.0</td>\n",
       "      <td>3082.0</td>\n",
       "      <td>3615.0</td>\n",
       "      <td>3469.0</td>\n",
       "    </tr>\n",
       "    <tr>\n",
       "      <td>48</td>\n",
       "      <td>Brazil</td>\n",
       "      <td>Figs</td>\n",
       "      <td>Area harvested</td>\n",
       "      <td>ha</td>\n",
       "      <td>2531.0</td>\n",
       "      <td>2178.0</td>\n",
       "      <td>2249.0</td>\n",
       "      <td>2349.0</td>\n",
       "      <td>2082.0</td>\n",
       "      <td>2314.0</td>\n",
       "      <td>...</td>\n",
       "      <td>2850.0</td>\n",
       "      <td>2859.0</td>\n",
       "      <td>2886.0</td>\n",
       "      <td>2933.0</td>\n",
       "      <td>3041.0</td>\n",
       "      <td>2925.0</td>\n",
       "      <td>2814.0</td>\n",
       "      <td>2808.0</td>\n",
       "      <td>2856.0</td>\n",
       "      <td>2804.0</td>\n",
       "    </tr>\n",
       "    <tr>\n",
       "      <td>49</td>\n",
       "      <td>Brazil</td>\n",
       "      <td>Pears</td>\n",
       "      <td>Area harvested</td>\n",
       "      <td>ha</td>\n",
       "      <td>2177.0</td>\n",
       "      <td>2284.0</td>\n",
       "      <td>2238.0</td>\n",
       "      <td>2117.0</td>\n",
       "      <td>1942.0</td>\n",
       "      <td>1994.0</td>\n",
       "      <td>...</td>\n",
       "      <td>1650.0</td>\n",
       "      <td>1609.0</td>\n",
       "      <td>1394.0</td>\n",
       "      <td>1535.0</td>\n",
       "      <td>1750.0</td>\n",
       "      <td>1668.0</td>\n",
       "      <td>1680.0</td>\n",
       "      <td>1473.0</td>\n",
       "      <td>1453.0</td>\n",
       "      <td>1249.0</td>\n",
       "    </tr>\n",
       "    <tr>\n",
       "      <td>50</td>\n",
       "      <td>Brazil</td>\n",
       "      <td>Peas, dry</td>\n",
       "      <td>Area harvested</td>\n",
       "      <td>ha</td>\n",
       "      <td>974.0</td>\n",
       "      <td>570.0</td>\n",
       "      <td>654.0</td>\n",
       "      <td>1442.0</td>\n",
       "      <td>1676.0</td>\n",
       "      <td>1730.0</td>\n",
       "      <td>...</td>\n",
       "      <td>1727.0</td>\n",
       "      <td>2068.0</td>\n",
       "      <td>3040.0</td>\n",
       "      <td>2569.0</td>\n",
       "      <td>1538.0</td>\n",
       "      <td>1748.0</td>\n",
       "      <td>1259.0</td>\n",
       "      <td>1848.0</td>\n",
       "      <td>1373.0</td>\n",
       "      <td>1052.0</td>\n",
       "    </tr>\n",
       "    <tr>\n",
       "      <td>51</td>\n",
       "      <td>Brazil</td>\n",
       "      <td>Olives</td>\n",
       "      <td>Area harvested</td>\n",
       "      <td>ha</td>\n",
       "      <td>16.0</td>\n",
       "      <td>4.0</td>\n",
       "      <td>3.0</td>\n",
       "      <td>43.0</td>\n",
       "      <td>45.0</td>\n",
       "      <td>46.0</td>\n",
       "      <td>...</td>\n",
       "      <td>6.0</td>\n",
       "      <td>6.0</td>\n",
       "      <td>6.0</td>\n",
       "      <td>43.0</td>\n",
       "      <td>43.0</td>\n",
       "      <td>96.0</td>\n",
       "      <td>146.0</td>\n",
       "      <td>241.0</td>\n",
       "      <td>366.0</td>\n",
       "      <td>574.0</td>\n",
       "    </tr>\n",
       "    <tr>\n",
       "      <td>52</td>\n",
       "      <td>Brazil</td>\n",
       "      <td>Strawberries</td>\n",
       "      <td>Area harvested</td>\n",
       "      <td>ha</td>\n",
       "      <td>314.0</td>\n",
       "      <td>316.0</td>\n",
       "      <td>320.0</td>\n",
       "      <td>326.0</td>\n",
       "      <td>317.0</td>\n",
       "      <td>320.0</td>\n",
       "      <td>...</td>\n",
       "      <td>373.0</td>\n",
       "      <td>374.0</td>\n",
       "      <td>376.0</td>\n",
       "      <td>378.0</td>\n",
       "      <td>379.0</td>\n",
       "      <td>380.0</td>\n",
       "      <td>380.0</td>\n",
       "      <td>386.0</td>\n",
       "      <td>395.0</td>\n",
       "      <td>397.0</td>\n",
       "    </tr>\n",
       "    <tr>\n",
       "      <td>53</td>\n",
       "      <td>Brazil</td>\n",
       "      <td>Tea</td>\n",
       "      <td>Area harvested</td>\n",
       "      <td>ha</td>\n",
       "      <td>5787.0</td>\n",
       "      <td>4972.0</td>\n",
       "      <td>4532.0</td>\n",
       "      <td>3303.0</td>\n",
       "      <td>3286.0</td>\n",
       "      <td>3264.0</td>\n",
       "      <td>...</td>\n",
       "      <td>311.0</td>\n",
       "      <td>2597.0</td>\n",
       "      <td>2597.0</td>\n",
       "      <td>2399.0</td>\n",
       "      <td>2291.0</td>\n",
       "      <td>867.0</td>\n",
       "      <td>372.0</td>\n",
       "      <td>822.0</td>\n",
       "      <td>215.0</td>\n",
       "      <td>185.0</td>\n",
       "    </tr>\n",
       "    <tr>\n",
       "      <td>54</td>\n",
       "      <td>Brazil</td>\n",
       "      <td>Quinces</td>\n",
       "      <td>Area harvested</td>\n",
       "      <td>ha</td>\n",
       "      <td>1727.0</td>\n",
       "      <td>1363.0</td>\n",
       "      <td>733.0</td>\n",
       "      <td>202.0</td>\n",
       "      <td>223.0</td>\n",
       "      <td>199.0</td>\n",
       "      <td>...</td>\n",
       "      <td>196.0</td>\n",
       "      <td>197.0</td>\n",
       "      <td>211.0</td>\n",
       "      <td>209.0</td>\n",
       "      <td>160.0</td>\n",
       "      <td>149.0</td>\n",
       "      <td>126.0</td>\n",
       "      <td>111.0</td>\n",
       "      <td>116.0</td>\n",
       "      <td>113.0</td>\n",
       "    </tr>\n",
       "    <tr>\n",
       "      <td>55</td>\n",
       "      <td>Brazil</td>\n",
       "      <td>Jute</td>\n",
       "      <td>Area harvested</td>\n",
       "      <td>ha</td>\n",
       "      <td>2721.0</td>\n",
       "      <td>1755.0</td>\n",
       "      <td>1651.0</td>\n",
       "      <td>442.0</td>\n",
       "      <td>429.0</td>\n",
       "      <td>687.0</td>\n",
       "      <td>...</td>\n",
       "      <td>4501.0</td>\n",
       "      <td>710.0</td>\n",
       "      <td>599.0</td>\n",
       "      <td>723.0</td>\n",
       "      <td>855.0</td>\n",
       "      <td>837.0</td>\n",
       "      <td>396.0</td>\n",
       "      <td>769.0</td>\n",
       "      <td>664.0</td>\n",
       "      <td>94.0</td>\n",
       "    </tr>\n",
       "  </tbody>\n",
       "</table>\n",
       "<p>56 rows × 28 columns</p>\n",
       "</div>"
      ],
      "text/plain": [
       "      Area                                          Item         Element Unit  \\\n",
       "0   Brazil                                      Soybeans  Area harvested   ha   \n",
       "1   Brazil                                         Maize  Area harvested   ha   \n",
       "2   Brazil                                    Beans, dry  Area harvested   ha   \n",
       "3   Brazil                                         Wheat  Area harvested   ha   \n",
       "4   Brazil                                 Coffee, green  Area harvested   ha   \n",
       "5   Brazil                                       Cassava  Area harvested   ha   \n",
       "6   Brazil                                  Cocoa, beans  Area harvested   ha   \n",
       "7   Brazil                                       Oranges  Area harvested   ha   \n",
       "8   Brazil                                   Cashewapple  Area harvested   ha   \n",
       "9   Brazil                       Cashew nuts, with shell  Area harvested   ha   \n",
       "10  Brazil                                       Sorghum  Area harvested   ha   \n",
       "11  Brazil                                       Bananas  Area harvested   ha   \n",
       "12  Brazil                       Tobacco, unmanufactured  Area harvested   ha   \n",
       "13  Brazil                                          Oats  Area harvested   ha   \n",
       "14  Brazil                         Vegetables, fresh nes  Area harvested   ha   \n",
       "15  Brazil                                      Coconuts  Area harvested   ha   \n",
       "16  Brazil                               Rubber, natural  Area harvested   ha   \n",
       "17  Brazil                                      Potatoes  Area harvested   ha   \n",
       "18  Brazil                                        Barley  Area harvested   ha   \n",
       "19  Brazil                                   Watermelons  Area harvested   ha   \n",
       "20  Brazil                  Mangoes, mangosteens, guavas  Area harvested   ha   \n",
       "21  Brazil                                        Grapes  Area harvested   ha   \n",
       "22  Brazil                                          Maté  Area harvested   ha   \n",
       "23  Brazil                                    Pineapples  Area harvested   ha   \n",
       "24  Brazil                                      Tomatoes  Area harvested   ha   \n",
       "25  Brazil                                Sunflower seed  Area harvested   ha   \n",
       "26  Brazil                                   Onions, dry  Area harvested   ha   \n",
       "27  Brazil                     Fruit, tropical fresh nes  Area harvested   ha   \n",
       "28  Brazil  Tangerines, mandarins, clementines, satsumas  Area harvested   ha   \n",
       "29  Brazil                                     Buckwheat  Area harvested   ha   \n",
       "30  Brazil                                      Rapeseed  Area harvested   ha   \n",
       "31  Brazil                              Lemons and limes  Area harvested   ha   \n",
       "32  Brazil                                Sweet potatoes  Area harvested   ha   \n",
       "33  Brazil                                        Apples  Area harvested   ha   \n",
       "34  Brazil                                       Papayas  Area harvested   ha   \n",
       "35  Brazil                           Pepper (piper spp.)  Area harvested   ha   \n",
       "36  Brazil               Melons, other (inc.cantaloupes)  Area harvested   ha   \n",
       "37  Brazil                        Peaches and nectarines  Area harvested   ha   \n",
       "38  Brazil                                     Triticale  Area harvested   ha   \n",
       "39  Brazil                                   Sesame seed  Area harvested   ha   \n",
       "40  Brazil                 Broad beans, horse beans, dry  Area harvested   ha   \n",
       "41  Brazil                                       Linseed  Area harvested   ha   \n",
       "42  Brazil                                        Garlic  Area harvested   ha   \n",
       "43  Brazil                                      Avocados  Area harvested   ha   \n",
       "44  Brazil                                    Persimmons  Area harvested   ha   \n",
       "45  Brazil                     Grapefruit (inc. pomelos)  Area harvested   ha   \n",
       "46  Brazil                           Walnuts, with shell  Area harvested   ha   \n",
       "47  Brazil                                           Rye  Area harvested   ha   \n",
       "48  Brazil                                          Figs  Area harvested   ha   \n",
       "49  Brazil                                         Pears  Area harvested   ha   \n",
       "50  Brazil                                     Peas, dry  Area harvested   ha   \n",
       "51  Brazil                                        Olives  Area harvested   ha   \n",
       "52  Brazil                                  Strawberries  Area harvested   ha   \n",
       "53  Brazil                                           Tea  Area harvested   ha   \n",
       "54  Brazil                                       Quinces  Area harvested   ha   \n",
       "55  Brazil                                          Jute  Area harvested   ha   \n",
       "\n",
       "          1993        1994        1995        1996        1997        1998  \\\n",
       "0   10635330.0  11525410.0  11675005.0  10299470.0  11486478.0  13303656.0   \n",
       "1   11869663.0  13748813.0  13946320.0  11975811.0  12562130.0  10585498.0   \n",
       "2    3884340.0   5471320.0   5006400.0   4300513.0   4401770.0   3313620.0   \n",
       "3    1482230.0   1348850.0    994734.0   1796005.0   1521545.0   1408850.0   \n",
       "4    2259330.0   2097650.0   1869980.0   1920250.0   1988190.0   2070410.0   \n",
       "5    1811830.0   1850930.0   1946160.0   1508920.0   1551970.0   1578880.0   \n",
       "6     734124.0    698634.0    738536.0    661923.0    715671.0    709798.0   \n",
       "7     800505.0    897985.0    856419.0    964373.0    985521.0   1018576.0   \n",
       "8     726140.0    680615.0    699936.0    547720.0    582210.0    621419.0   \n",
       "9     726140.0    680615.0    699936.0    547720.0    582210.0    621419.0   \n",
       "10    139787.0    165781.0    153961.0    196803.0    274623.0    331967.0   \n",
       "11    520014.0    516087.0    509365.0    496593.0    532745.0    518433.0   \n",
       "12    372912.0    320185.0    293425.0    317279.0    338059.0    353679.0   \n",
       "13    268018.0    281545.0    165179.0    160466.0    196803.0    188822.0   \n",
       "14    167000.0    175000.0    182000.0    182000.0    185000.0    190000.0   \n",
       "15    231660.0    237038.0    242549.0    217286.0    231039.0    239462.0   \n",
       "16     41000.0     47098.0     47979.0     59000.0     65000.0     70000.0   \n",
       "17    162063.0    171853.0    176767.0    164672.0    174830.0    177972.0   \n",
       "18     67063.0     53607.0     69458.0     84067.0    127633.0    156005.0   \n",
       "19     67392.0     72213.0     79347.0     75301.0     81664.0     77022.0   \n",
       "20     53107.0     55444.0     56502.0     62146.0     64726.0     66838.0   \n",
       "21     60200.0     60251.0     60810.0     55916.0     56682.0     60721.0   \n",
       "22     18841.0     16457.0     22754.0     32836.0     39379.0     57429.0   \n",
       "23     39719.0     45218.0     44384.0     45843.0     53567.0     54998.0   \n",
       "24     53734.0     61939.0     62054.0     70976.0     65052.0     63901.0   \n",
       "25     21000.0      5000.0      4000.0     19000.0     20000.0     22000.0   \n",
       "26     71910.0     81638.0     74676.0     71338.0     67763.0     67745.0   \n",
       "27     32539.0     33487.0     38522.0     44462.0     38343.0     33012.0   \n",
       "28     48586.0     51458.0     50319.0     51237.0     53989.0     56537.0   \n",
       "29     50000.0     46301.0     47000.0     45816.0     45601.0     45624.0   \n",
       "30     15000.0     12000.0      7000.0      8000.0     10000.0     16000.0   \n",
       "31     43967.0     40590.0     40147.0     41426.0     43898.0     45817.0   \n",
       "32     53361.0     57983.0     55946.0     47941.0     49812.0     42811.0   \n",
       "33     25652.0     27112.0     26704.0     25326.0     26418.0     26318.0   \n",
       "34     26322.0     29078.0     32926.0     33243.0     39323.0     39733.0   \n",
       "35     23572.0     21023.0     18743.0     16669.0     12040.0     11175.0   \n",
       "36     11730.0     11506.0     13294.0     13926.0     13594.0     13855.0   \n",
       "37     18954.0     19765.0     20258.0     17492.0     18309.0     21723.0   \n",
       "38         NaN         NaN         NaN         NaN         NaN         NaN   \n",
       "39     21000.0     22000.0     22000.0     22000.0     22000.0     22000.0   \n",
       "40     44789.0     75051.0     74261.0     82442.0     69585.0     17007.0   \n",
       "41     17000.0     16000.0     12000.0     11000.0     11000.0      9000.0   \n",
       "42     17441.0     17648.0     12758.0     12144.0     12903.0     10879.0   \n",
       "43     15112.0     14933.0     13441.0     13319.0     13339.0     13729.0   \n",
       "44      4337.0      4605.0      4819.0      5155.0      5168.0      5524.0   \n",
       "45      3210.0      3172.0      3180.0      3215.0      3242.0      3300.0   \n",
       "46      2000.0      2514.0      2445.0      1972.0      1245.0      1264.0   \n",
       "47      5631.0      4235.0      2647.0      5263.0      8224.0      9907.0   \n",
       "48      2531.0      2178.0      2249.0      2349.0      2082.0      2314.0   \n",
       "49      2177.0      2284.0      2238.0      2117.0      1942.0      1994.0   \n",
       "50       974.0       570.0       654.0      1442.0      1676.0      1730.0   \n",
       "51        16.0         4.0         3.0        43.0        45.0        46.0   \n",
       "52       314.0       316.0       320.0       326.0       317.0       320.0   \n",
       "53      5787.0      4972.0      4532.0      3303.0      3286.0      3264.0   \n",
       "54      1727.0      1363.0       733.0       202.0       223.0       199.0   \n",
       "55      2721.0      1755.0      1651.0       442.0       429.0       687.0   \n",
       "\n",
       "    ...        2007        2008        2009        2010        2011  \\\n",
       "0   ...  20565279.0  21246302.0  21750468.0  23327296.0  23968663.0   \n",
       "1   ...  13767400.0  14444582.0  13654715.0  12678875.0  13218892.0   \n",
       "2   ...   3788279.0   3781908.0   4099991.0   3423646.0   3673162.0   \n",
       "3   ...   1853224.0   2363893.0   2430253.0   2181567.0   2138916.0   \n",
       "4   ...   2264129.0   2222224.0   2135508.0   2159785.0   2148775.0   \n",
       "5   ...   1894460.0   1888859.0   1760578.0   1789769.0   1733541.0   \n",
       "6   ...    628928.0    641337.0    635975.0    660711.0    680484.0   \n",
       "7   ...    821244.0    836602.0    787250.0    792753.0    817292.0   \n",
       "8   ...    731412.0    747434.0    758085.0    758988.0    764472.0   \n",
       "9   ...    731412.0    747434.0    758085.0    758988.0    764472.0   \n",
       "10  ...    662994.0    831354.0    793027.0    661180.0    757410.0   \n",
       "11  ...    515346.0    513097.0    479614.0    487790.0    503354.0   \n",
       "12  ...    459481.0    432182.0    442397.0    449629.0    454501.0   \n",
       "13  ...    136955.0    117058.0    134040.0    173455.0    172127.0   \n",
       "14  ...    210000.0    210000.0    230000.0    237000.0    232327.0   \n",
       "15  ...    283205.0    287016.0    284058.0    275091.0    270541.0   \n",
       "16  ...    114842.0    124933.0    128900.0    124946.0    134947.0   \n",
       "17  ...    147719.0    144916.0    138692.0    137044.0    149212.0   \n",
       "18  ...    100298.0     79270.0     77452.0     84118.0     88236.0   \n",
       "19  ...     96556.0     88189.0     93726.0     94946.0     97718.0   \n",
       "20  ...     75911.0     74003.0     75178.0     75179.0     92298.0   \n",
       "21  ...     78273.0     79946.0     81355.0     81518.0     81839.0   \n",
       "22  ...     74526.0     71217.0     70588.0     68183.0     71185.0   \n",
       "23  ...     71823.0     65982.0     60176.0     58507.0     62481.0   \n",
       "24  ...     58404.0     60912.0     67605.0     67892.0     71473.0   \n",
       "25  ...     72548.0    114375.0     81267.0     76492.0     62535.0   \n",
       "26  ...     63622.0     65164.0     66013.0     70429.0     63481.0   \n",
       "27  ...     46866.0     48752.0     50795.0     62177.0     61631.0   \n",
       "28  ...     59637.0     53892.0     54814.0     57513.0     53244.0   \n",
       "29  ...     48000.0     47185.0     46859.0     46665.0     46000.0   \n",
       "30  ...     32000.0     33000.0     31000.0     46000.0     42000.0   \n",
       "31  ...     45410.0     43922.0     41029.0     42779.0     47267.0   \n",
       "32  ...     43879.0     45552.0     42241.0     41802.0     43843.0   \n",
       "33  ...     37832.0     38072.0     38205.0     38723.0     38077.0   \n",
       "34  ...     34779.0     36585.0     34213.0     34417.0     35531.0   \n",
       "35  ...     32857.0     29549.0     27415.0     23263.0     21089.0   \n",
       "36  ...     21576.0     15746.0     17544.0     18861.0     19695.0   \n",
       "37  ...     22398.0     21320.0     19043.0     20290.0     20148.0   \n",
       "38  ...     80107.0     75640.0     65505.0     50543.0     39628.0   \n",
       "39  ...     11000.0     10000.0      9000.0      8000.0      9000.0   \n",
       "40  ...     34797.0     41785.0     45276.0     27728.0     37132.0   \n",
       "41  ...     16223.0     12245.0     13037.0     16584.0     11190.0   \n",
       "42  ...     11258.0     10228.0     10063.0     10450.0     12928.0   \n",
       "43  ...      9774.0      9453.0      8411.0     11111.0     10753.0   \n",
       "44  ...      8065.0      8797.0      8638.0      8755.0      8349.0   \n",
       "45  ...      4300.0      4265.0      4265.0      4278.0      4288.0   \n",
       "46  ...      1666.0      1614.0      2192.0      2473.0      2435.0   \n",
       "47  ...      3866.0      4748.0      3629.0      2343.0      2341.0   \n",
       "48  ...      2850.0      2859.0      2886.0      2933.0      3041.0   \n",
       "49  ...      1650.0      1609.0      1394.0      1535.0      1750.0   \n",
       "50  ...      1727.0      2068.0      3040.0      2569.0      1538.0   \n",
       "51  ...         6.0         6.0         6.0        43.0        43.0   \n",
       "52  ...       373.0       374.0       376.0       378.0       379.0   \n",
       "53  ...       311.0      2597.0      2597.0      2399.0      2291.0   \n",
       "54  ...       196.0       197.0       211.0       209.0       160.0   \n",
       "55  ...      4501.0       710.0       599.0       723.0       855.0   \n",
       "\n",
       "          2012        2013        2014        2015        2016  \n",
       "0   24975258.0  27906675.0  30273763.0  32181243.0  33183119.0  \n",
       "1   14198496.0  15279652.0  15432909.0  15407143.0  14958862.0  \n",
       "2    2709485.0   2813506.0   3185745.0   2865396.0   2584170.0  \n",
       "3    1912711.0   2087395.0   2834945.0   2472628.0   2166170.0  \n",
       "4    2120080.0   2085522.0   1997827.0   1977714.0   1994908.0  \n",
       "5    1692986.0   1525918.0   1568253.0   1512660.0   1406512.0  \n",
       "6     684333.0    689276.0    704122.0    702841.0    720053.0  \n",
       "7     729583.0    702200.0    680324.0    678807.0    659042.0  \n",
       "8     756846.0    695289.0    627137.0    590913.0    567557.0  \n",
       "9     756846.0    695289.0    627137.0    590913.0    567557.0  \n",
       "10    687952.0    792838.0    840093.0    732981.0    558189.0  \n",
       "11    481116.0    485075.0    478765.0    478169.0    468754.0  \n",
       "12    410225.0    405253.0    415842.0    405881.0    376503.0  \n",
       "13    208730.0    227632.0    238465.0    296608.0    335434.0  \n",
       "14    225000.0    225000.0    225759.0    239096.0    241458.0  \n",
       "15    257742.0    257462.0    250554.0    242253.0    234128.0  \n",
       "16    137813.0    139998.0    146552.0    143972.0    146669.0  \n",
       "17    135970.0    128056.0    132058.0    131931.0    129842.0  \n",
       "18    102749.0     88321.0     89451.0     86409.0     91055.0  \n",
       "19     94612.0     92021.0     94375.0     95965.0     90447.0  \n",
       "20     88481.0     85354.0     86148.0     81868.0     78985.0  \n",
       "21     82063.0     79483.0     78765.0     78011.0     77052.0  \n",
       "22     76347.0     67397.0     70835.0     70650.0     73973.0  \n",
       "23     65502.0     63204.0     66599.0     67922.0     68899.0  \n",
       "24     63859.0     62687.0     64363.0     63572.0     63980.0  \n",
       "25     77928.0     69070.0    115617.0    111803.0     61167.0  \n",
       "26     60931.0     57402.0     59190.0     56677.0     57464.0  \n",
       "27     57848.0     57277.0     56825.0     51442.0     49971.0  \n",
       "28     51841.0     50672.0     49861.0     48999.0     49610.0  \n",
       "29     47000.0     48000.0     49000.0     48599.0     48492.0  \n",
       "30     46000.0     45000.0     44000.0     48000.0     48000.0  \n",
       "31     47349.0     45690.0     43399.0     46088.0     47610.0  \n",
       "32     39321.0     38602.0     39705.0     43920.0     47573.0  \n",
       "33     38688.0     38284.0     37041.0     35842.0     33981.0  \n",
       "34     31310.0     31989.0     32031.0     30545.0     30382.0  \n",
       "35     19427.0     18472.0     19070.0     22105.0     25830.0  \n",
       "36     22789.0     22021.0     21996.0     20762.0     23105.0  \n",
       "37     19155.0     18091.0     18206.0     17436.0     17288.0  \n",
       "38     34746.0     25399.0     23111.0     18326.0     17063.0  \n",
       "39     10000.0     12000.0     20000.0     15000.0     17000.0  \n",
       "40     20969.0     23469.0     21591.0     18621.0     16533.0  \n",
       "41      8403.0      8757.0      8860.0     14655.0     11660.0  \n",
       "42     10064.0      9567.0      9638.0     10789.0     11403.0  \n",
       "43      9568.0      9664.0      9450.0     10356.0     10907.0  \n",
       "44      8170.0      8550.0      8323.0      8588.0      8175.0  \n",
       "45      4300.0      4300.0      4417.0      4523.0      4500.0  \n",
       "46      2408.0      2829.0      3274.0      3129.0      3508.0  \n",
       "47      5554.0      3744.0      3082.0      3615.0      3469.0  \n",
       "48      2925.0      2814.0      2808.0      2856.0      2804.0  \n",
       "49      1668.0      1680.0      1473.0      1453.0      1249.0  \n",
       "50      1748.0      1259.0      1848.0      1373.0      1052.0  \n",
       "51        96.0       146.0       241.0       366.0       574.0  \n",
       "52       380.0       380.0       386.0       395.0       397.0  \n",
       "53       867.0       372.0       822.0       215.0       185.0  \n",
       "54       149.0       126.0       111.0       116.0       113.0  \n",
       "55       837.0       396.0       769.0       664.0        94.0  \n",
       "\n",
       "[56 rows x 28 columns]"
      ]
     },
     "execution_count": 65,
     "metadata": {},
     "output_type": "execute_result"
    }
   ],
   "source": [
    "df_prod_area_brazil"
   ]
  },
  {
   "cell_type": "code",
   "execution_count": 78,
   "metadata": {},
   "outputs": [
    {
     "data": {
      "text/plain": [
       "'areaHarvestedSoybeansBrazil.html'"
      ]
     },
     "execution_count": 78,
     "metadata": {},
     "output_type": "execute_result"
    }
   ],
   "source": [
    "import plotly.graph_objects as go\n",
    "years = [str(year) for year in range(1993, 2017)] \n",
    "fig = go.Figure()\n",
    "items = df_prod_area_brazil['Item']\n",
    "for i in range(0, 10):\n",
    "    fig.add_trace(go.Scatter(x=years, y= df_prod_area_brazil.iloc[i][years]/100/41285, mode='lines', name=items[i], line = dict(width=4)))\n",
    "fig.update_layout(title='How many Switzerlands can we fit in the harvested areas for the top produced items in Brazil',\n",
    "                   xaxis_title='Year',\n",
    "                   yaxis_title='Number of Switzerlands',\n",
    "                  width=800,\n",
    "                 height=500)\n",
    "plotly.offline.plot(fig, filename='areaHarvestedSoybeansBrazil.html')"
   ]
  },
  {
   "cell_type": "code",
   "execution_count": 8,
   "metadata": {},
   "outputs": [],
   "source": [
    "df_trade = pd.read_pickle('data/df_trade_merged.pkl')\n",
    "df_exports_brazil = df_trade.loc[df_trade['Exporter'] == 'Brazil']\n",
    "df_exports_brazil = df_exports_brazil.groupby(['Exporter', 'Item']).sum().reset_index()\n",
    "df_exports_brazil = df_exports_brazil.sort_values(['2016'], ascending = False).reset_index().drop(columns=['index'])"
   ]
  },
  {
   "cell_type": "code",
   "execution_count": 9,
   "metadata": {},
   "outputs": [
    {
     "data": {
      "text/html": [
       "<div>\n",
       "<style scoped>\n",
       "    .dataframe tbody tr th:only-of-type {\n",
       "        vertical-align: middle;\n",
       "    }\n",
       "\n",
       "    .dataframe tbody tr th {\n",
       "        vertical-align: top;\n",
       "    }\n",
       "\n",
       "    .dataframe thead th {\n",
       "        text-align: right;\n",
       "    }\n",
       "</style>\n",
       "<table border=\"1\" class=\"dataframe\">\n",
       "  <thead>\n",
       "    <tr style=\"text-align: right;\">\n",
       "      <th></th>\n",
       "      <th>Exporter</th>\n",
       "      <th>Item</th>\n",
       "      <th>1993</th>\n",
       "      <th>1994</th>\n",
       "      <th>1995</th>\n",
       "      <th>1996</th>\n",
       "      <th>1997</th>\n",
       "      <th>1998</th>\n",
       "      <th>1999</th>\n",
       "      <th>2000</th>\n",
       "      <th>...</th>\n",
       "      <th>2007</th>\n",
       "      <th>2008</th>\n",
       "      <th>2009</th>\n",
       "      <th>2010</th>\n",
       "      <th>2011</th>\n",
       "      <th>2012</th>\n",
       "      <th>2013</th>\n",
       "      <th>2014</th>\n",
       "      <th>2015</th>\n",
       "      <th>2016</th>\n",
       "    </tr>\n",
       "  </thead>\n",
       "  <tbody>\n",
       "    <tr>\n",
       "      <td>0</td>\n",
       "      <td>Brazil</td>\n",
       "      <td>Soybeans</td>\n",
       "      <td>4773455.0</td>\n",
       "      <td>6420710.0</td>\n",
       "      <td>4194835.0</td>\n",
       "      <td>4740557.0</td>\n",
       "      <td>10396631.0</td>\n",
       "      <td>9558369.0</td>\n",
       "      <td>9664327.0</td>\n",
       "      <td>12592900.0</td>\n",
       "      <td>...</td>\n",
       "      <td>25381465.0</td>\n",
       "      <td>25597902.0</td>\n",
       "      <td>29875719.0</td>\n",
       "      <td>29612482.0</td>\n",
       "      <td>33886258.0</td>\n",
       "      <td>34843950.0</td>\n",
       "      <td>43256714.0</td>\n",
       "      <td>46832700.0</td>\n",
       "      <td>55178218.0</td>\n",
       "      <td>52754779.0</td>\n",
       "    </tr>\n",
       "    <tr>\n",
       "      <td>1</td>\n",
       "      <td>Brazil</td>\n",
       "      <td>Maize</td>\n",
       "      <td>19065.0</td>\n",
       "      <td>4984.0</td>\n",
       "      <td>51354.0</td>\n",
       "      <td>456036.0</td>\n",
       "      <td>526744.0</td>\n",
       "      <td>45843.0</td>\n",
       "      <td>225069.0</td>\n",
       "      <td>266707.0</td>\n",
       "      <td>...</td>\n",
       "      <td>11387143.0</td>\n",
       "      <td>7107614.0</td>\n",
       "      <td>8223117.0</td>\n",
       "      <td>11204856.0</td>\n",
       "      <td>10222914.0</td>\n",
       "      <td>20254299.0</td>\n",
       "      <td>28568420.0</td>\n",
       "      <td>21484244.0</td>\n",
       "      <td>29549904.0</td>\n",
       "      <td>24889242.0</td>\n",
       "    </tr>\n",
       "    <tr>\n",
       "      <td>2</td>\n",
       "      <td>Brazil</td>\n",
       "      <td>Coffee, green</td>\n",
       "      <td>971818.0</td>\n",
       "      <td>891785.0</td>\n",
       "      <td>764812.0</td>\n",
       "      <td>782220.0</td>\n",
       "      <td>895572.0</td>\n",
       "      <td>990087.0</td>\n",
       "      <td>1259458.0</td>\n",
       "      <td>1053151.0</td>\n",
       "      <td>...</td>\n",
       "      <td>1626946.0</td>\n",
       "      <td>1682163.0</td>\n",
       "      <td>1777607.0</td>\n",
       "      <td>1905489.0</td>\n",
       "      <td>1919081.0</td>\n",
       "      <td>1651463.0</td>\n",
       "      <td>1825797.0</td>\n",
       "      <td>2129355.0</td>\n",
       "      <td>2161662.0</td>\n",
       "      <td>1971825.0</td>\n",
       "    </tr>\n",
       "    <tr>\n",
       "      <td>3</td>\n",
       "      <td>Brazil</td>\n",
       "      <td>Cotton lint</td>\n",
       "      <td>8922.0</td>\n",
       "      <td>3448.0</td>\n",
       "      <td>53701.0</td>\n",
       "      <td>6303.0</td>\n",
       "      <td>859.0</td>\n",
       "      <td>3919.0</td>\n",
       "      <td>4597.0</td>\n",
       "      <td>28942.0</td>\n",
       "      <td>...</td>\n",
       "      <td>429690.0</td>\n",
       "      <td>575043.0</td>\n",
       "      <td>616545.0</td>\n",
       "      <td>534862.0</td>\n",
       "      <td>761440.0</td>\n",
       "      <td>1095898.0</td>\n",
       "      <td>690274.0</td>\n",
       "      <td>753773.0</td>\n",
       "      <td>902980.0</td>\n",
       "      <td>904148.0</td>\n",
       "    </tr>\n",
       "    <tr>\n",
       "      <td>4</td>\n",
       "      <td>Brazil</td>\n",
       "      <td>Wheat</td>\n",
       "      <td>2505.0</td>\n",
       "      <td>5.0</td>\n",
       "      <td>135.0</td>\n",
       "      <td>571.0</td>\n",
       "      <td>55005.0</td>\n",
       "      <td>54958.0</td>\n",
       "      <td>2153.0</td>\n",
       "      <td>2125.0</td>\n",
       "      <td>...</td>\n",
       "      <td>160368.0</td>\n",
       "      <td>761858.0</td>\n",
       "      <td>466649.0</td>\n",
       "      <td>1413994.0</td>\n",
       "      <td>2582650.0</td>\n",
       "      <td>2519188.0</td>\n",
       "      <td>1360142.0</td>\n",
       "      <td>277025.0</td>\n",
       "      <td>1779645.0</td>\n",
       "      <td>892152.0</td>\n",
       "    </tr>\n",
       "    <tr>\n",
       "      <td>...</td>\n",
       "      <td>...</td>\n",
       "      <td>...</td>\n",
       "      <td>...</td>\n",
       "      <td>...</td>\n",
       "      <td>...</td>\n",
       "      <td>...</td>\n",
       "      <td>...</td>\n",
       "      <td>...</td>\n",
       "      <td>...</td>\n",
       "      <td>...</td>\n",
       "      <td>...</td>\n",
       "      <td>...</td>\n",
       "      <td>...</td>\n",
       "      <td>...</td>\n",
       "      <td>...</td>\n",
       "      <td>...</td>\n",
       "      <td>...</td>\n",
       "      <td>...</td>\n",
       "      <td>...</td>\n",
       "      <td>...</td>\n",
       "      <td>...</td>\n",
       "    </tr>\n",
       "    <tr>\n",
       "      <td>86</td>\n",
       "      <td>Brazil</td>\n",
       "      <td>Asparagus</td>\n",
       "      <td>0.0</td>\n",
       "      <td>14.0</td>\n",
       "      <td>6.0</td>\n",
       "      <td>1.0</td>\n",
       "      <td>3.0</td>\n",
       "      <td>1.0</td>\n",
       "      <td>3.0</td>\n",
       "      <td>2.0</td>\n",
       "      <td>...</td>\n",
       "      <td>0.0</td>\n",
       "      <td>2.0</td>\n",
       "      <td>3.0</td>\n",
       "      <td>3.0</td>\n",
       "      <td>29.0</td>\n",
       "      <td>4.0</td>\n",
       "      <td>1.0</td>\n",
       "      <td>2.0</td>\n",
       "      <td>5.0</td>\n",
       "      <td>2.0</td>\n",
       "    </tr>\n",
       "    <tr>\n",
       "      <td>87</td>\n",
       "      <td>Brazil</td>\n",
       "      <td>Spinach</td>\n",
       "      <td>0.0</td>\n",
       "      <td>0.0</td>\n",
       "      <td>0.0</td>\n",
       "      <td>0.0</td>\n",
       "      <td>0.0</td>\n",
       "      <td>0.0</td>\n",
       "      <td>0.0</td>\n",
       "      <td>5.0</td>\n",
       "      <td>...</td>\n",
       "      <td>0.0</td>\n",
       "      <td>0.0</td>\n",
       "      <td>0.0</td>\n",
       "      <td>0.0</td>\n",
       "      <td>0.0</td>\n",
       "      <td>0.0</td>\n",
       "      <td>0.0</td>\n",
       "      <td>2.0</td>\n",
       "      <td>1.0</td>\n",
       "      <td>1.0</td>\n",
       "    </tr>\n",
       "    <tr>\n",
       "      <td>88</td>\n",
       "      <td>Brazil</td>\n",
       "      <td>Pistachios</td>\n",
       "      <td>136.0</td>\n",
       "      <td>4.0</td>\n",
       "      <td>1.0</td>\n",
       "      <td>73.0</td>\n",
       "      <td>0.0</td>\n",
       "      <td>2.0</td>\n",
       "      <td>0.0</td>\n",
       "      <td>0.0</td>\n",
       "      <td>...</td>\n",
       "      <td>75.0</td>\n",
       "      <td>121.0</td>\n",
       "      <td>36.0</td>\n",
       "      <td>50.0</td>\n",
       "      <td>310.0</td>\n",
       "      <td>0.0</td>\n",
       "      <td>2.0</td>\n",
       "      <td>1.0</td>\n",
       "      <td>2.0</td>\n",
       "      <td>1.0</td>\n",
       "    </tr>\n",
       "    <tr>\n",
       "      <td>89</td>\n",
       "      <td>Brazil</td>\n",
       "      <td>Hops</td>\n",
       "      <td>13.0</td>\n",
       "      <td>27.0</td>\n",
       "      <td>38.0</td>\n",
       "      <td>62.0</td>\n",
       "      <td>39.0</td>\n",
       "      <td>0.0</td>\n",
       "      <td>0.0</td>\n",
       "      <td>3.0</td>\n",
       "      <td>...</td>\n",
       "      <td>5.0</td>\n",
       "      <td>11.0</td>\n",
       "      <td>0.0</td>\n",
       "      <td>0.0</td>\n",
       "      <td>0.0</td>\n",
       "      <td>0.0</td>\n",
       "      <td>0.0</td>\n",
       "      <td>1.0</td>\n",
       "      <td>1.0</td>\n",
       "      <td>1.0</td>\n",
       "    </tr>\n",
       "    <tr>\n",
       "      <td>90</td>\n",
       "      <td>Brazil</td>\n",
       "      <td>Millet</td>\n",
       "      <td>0.0</td>\n",
       "      <td>20.0</td>\n",
       "      <td>27.0</td>\n",
       "      <td>0.0</td>\n",
       "      <td>75.0</td>\n",
       "      <td>8.0</td>\n",
       "      <td>3.0</td>\n",
       "      <td>0.0</td>\n",
       "      <td>...</td>\n",
       "      <td>1.0</td>\n",
       "      <td>0.0</td>\n",
       "      <td>2.0</td>\n",
       "      <td>2.0</td>\n",
       "      <td>2.0</td>\n",
       "      <td>3.0</td>\n",
       "      <td>2.0</td>\n",
       "      <td>96.0</td>\n",
       "      <td>2.0</td>\n",
       "      <td>1.0</td>\n",
       "    </tr>\n",
       "  </tbody>\n",
       "</table>\n",
       "<p>91 rows × 26 columns</p>\n",
       "</div>"
      ],
      "text/plain": [
       "   Exporter           Item       1993       1994       1995       1996  \\\n",
       "0    Brazil       Soybeans  4773455.0  6420710.0  4194835.0  4740557.0   \n",
       "1    Brazil          Maize    19065.0     4984.0    51354.0   456036.0   \n",
       "2    Brazil  Coffee, green   971818.0   891785.0   764812.0   782220.0   \n",
       "3    Brazil    Cotton lint     8922.0     3448.0    53701.0     6303.0   \n",
       "4    Brazil          Wheat     2505.0        5.0      135.0      571.0   \n",
       "..      ...            ...        ...        ...        ...        ...   \n",
       "86   Brazil      Asparagus        0.0       14.0        6.0        1.0   \n",
       "87   Brazil        Spinach        0.0        0.0        0.0        0.0   \n",
       "88   Brazil     Pistachios      136.0        4.0        1.0       73.0   \n",
       "89   Brazil           Hops       13.0       27.0       38.0       62.0   \n",
       "90   Brazil         Millet        0.0       20.0       27.0        0.0   \n",
       "\n",
       "          1997       1998       1999        2000  ...        2007        2008  \\\n",
       "0   10396631.0  9558369.0  9664327.0  12592900.0  ...  25381465.0  25597902.0   \n",
       "1     526744.0    45843.0   225069.0    266707.0  ...  11387143.0   7107614.0   \n",
       "2     895572.0   990087.0  1259458.0   1053151.0  ...   1626946.0   1682163.0   \n",
       "3        859.0     3919.0     4597.0     28942.0  ...    429690.0    575043.0   \n",
       "4      55005.0    54958.0     2153.0      2125.0  ...    160368.0    761858.0   \n",
       "..         ...        ...        ...         ...  ...         ...         ...   \n",
       "86         3.0        1.0        3.0         2.0  ...         0.0         2.0   \n",
       "87         0.0        0.0        0.0         5.0  ...         0.0         0.0   \n",
       "88         0.0        2.0        0.0         0.0  ...        75.0       121.0   \n",
       "89        39.0        0.0        0.0         3.0  ...         5.0        11.0   \n",
       "90        75.0        8.0        3.0         0.0  ...         1.0         0.0   \n",
       "\n",
       "          2009        2010        2011        2012        2013        2014  \\\n",
       "0   29875719.0  29612482.0  33886258.0  34843950.0  43256714.0  46832700.0   \n",
       "1    8223117.0  11204856.0  10222914.0  20254299.0  28568420.0  21484244.0   \n",
       "2    1777607.0   1905489.0   1919081.0   1651463.0   1825797.0   2129355.0   \n",
       "3     616545.0    534862.0    761440.0   1095898.0    690274.0    753773.0   \n",
       "4     466649.0   1413994.0   2582650.0   2519188.0   1360142.0    277025.0   \n",
       "..         ...         ...         ...         ...         ...         ...   \n",
       "86         3.0         3.0        29.0         4.0         1.0         2.0   \n",
       "87         0.0         0.0         0.0         0.0         0.0         2.0   \n",
       "88        36.0        50.0       310.0         0.0         2.0         1.0   \n",
       "89         0.0         0.0         0.0         0.0         0.0         1.0   \n",
       "90         2.0         2.0         2.0         3.0         2.0        96.0   \n",
       "\n",
       "          2015        2016  \n",
       "0   55178218.0  52754779.0  \n",
       "1   29549904.0  24889242.0  \n",
       "2    2161662.0   1971825.0  \n",
       "3     902980.0    904148.0  \n",
       "4    1779645.0    892152.0  \n",
       "..         ...         ...  \n",
       "86         5.0         2.0  \n",
       "87         1.0         1.0  \n",
       "88         2.0         1.0  \n",
       "89         1.0         1.0  \n",
       "90         2.0         1.0  \n",
       "\n",
       "[91 rows x 26 columns]"
      ]
     },
     "execution_count": 9,
     "metadata": {},
     "output_type": "execute_result"
    }
   ],
   "source": [
    "df_exports_brazil[df_exports_brazil['2016'] != 0]"
   ]
  },
  {
   "cell_type": "code",
   "execution_count": 77,
   "metadata": {},
   "outputs": [
    {
     "data": {
      "text/plain": [
       "'top10ExportedBrazil.html'"
      ]
     },
     "execution_count": 77,
     "metadata": {},
     "output_type": "execute_result"
    }
   ],
   "source": [
    "import plotly.graph_objects as go\n",
    "years = [str(year) for year in range(1993, 2017)] \n",
    "fig = go.Figure()\n",
    "items = df_exports_brazil['Item']\n",
    "for i in range(0, 10):\n",
    "    fig.add_trace(go.Scatter(x=years, y=df_exports_brazil.iloc[i][years], mode='lines', name=items[i], line = dict(width=4)))\n",
    "fig.update_layout(title='Top 10 Exported Items by Brazil',\n",
    "                   xaxis_title='Year',\n",
    "                   yaxis_title='Weight[tonnes]',\n",
    "                  width=800,\n",
    "                 height=500)\n",
    "plotly.offline.plot(fig, filename='top10ExportedBrazil.html')"
   ]
  },
  {
   "cell_type": "code",
   "execution_count": 11,
   "metadata": {},
   "outputs": [
    {
     "data": {
      "text/html": [
       "<div>\n",
       "<style scoped>\n",
       "    .dataframe tbody tr th:only-of-type {\n",
       "        vertical-align: middle;\n",
       "    }\n",
       "\n",
       "    .dataframe tbody tr th {\n",
       "        vertical-align: top;\n",
       "    }\n",
       "\n",
       "    .dataframe thead th {\n",
       "        text-align: right;\n",
       "    }\n",
       "</style>\n",
       "<table border=\"1\" class=\"dataframe\">\n",
       "  <thead>\n",
       "    <tr style=\"text-align: right;\">\n",
       "      <th></th>\n",
       "      <th>Importer</th>\n",
       "      <th>Item</th>\n",
       "      <th>1993</th>\n",
       "      <th>1994</th>\n",
       "      <th>1995</th>\n",
       "      <th>1996</th>\n",
       "      <th>1997</th>\n",
       "      <th>1998</th>\n",
       "      <th>1999</th>\n",
       "      <th>2000</th>\n",
       "      <th>...</th>\n",
       "      <th>2007</th>\n",
       "      <th>2008</th>\n",
       "      <th>2009</th>\n",
       "      <th>2010</th>\n",
       "      <th>2011</th>\n",
       "      <th>2012</th>\n",
       "      <th>2013</th>\n",
       "      <th>2014</th>\n",
       "      <th>2015</th>\n",
       "      <th>2016</th>\n",
       "    </tr>\n",
       "  </thead>\n",
       "  <tbody>\n",
       "    <tr>\n",
       "      <td>0</td>\n",
       "      <td>Brazil</td>\n",
       "      <td>Wheat</td>\n",
       "      <td>6115768.0</td>\n",
       "      <td>6978869.0</td>\n",
       "      <td>6474255.0</td>\n",
       "      <td>8085885.0</td>\n",
       "      <td>5013566.0</td>\n",
       "      <td>6539666.0</td>\n",
       "      <td>6891008.0</td>\n",
       "      <td>7601386.0</td>\n",
       "      <td>...</td>\n",
       "      <td>6795641.0</td>\n",
       "      <td>6065774.0</td>\n",
       "      <td>5600332.0</td>\n",
       "      <td>6373241.0</td>\n",
       "      <td>5824146.0</td>\n",
       "      <td>6964204.0</td>\n",
       "      <td>7889646.0</td>\n",
       "      <td>6041161.0</td>\n",
       "      <td>5441503.0</td>\n",
       "      <td>7133356.0</td>\n",
       "    </tr>\n",
       "    <tr>\n",
       "      <td>1</td>\n",
       "      <td>Brazil</td>\n",
       "      <td>Maize</td>\n",
       "      <td>1389242.0</td>\n",
       "      <td>1502192.0</td>\n",
       "      <td>1309333.0</td>\n",
       "      <td>335436.0</td>\n",
       "      <td>597231.0</td>\n",
       "      <td>1869705.0</td>\n",
       "      <td>822292.0</td>\n",
       "      <td>1834324.0</td>\n",
       "      <td>...</td>\n",
       "      <td>1382351.0</td>\n",
       "      <td>770260.0</td>\n",
       "      <td>1232245.0</td>\n",
       "      <td>476119.0</td>\n",
       "      <td>749137.0</td>\n",
       "      <td>853901.0</td>\n",
       "      <td>911602.0</td>\n",
       "      <td>824634.0</td>\n",
       "      <td>370313.0</td>\n",
       "      <td>3319466.0</td>\n",
       "    </tr>\n",
       "    <tr>\n",
       "      <td>2</td>\n",
       "      <td>Brazil</td>\n",
       "      <td>Barley</td>\n",
       "      <td>124625.0</td>\n",
       "      <td>205541.0</td>\n",
       "      <td>268850.0</td>\n",
       "      <td>260412.0</td>\n",
       "      <td>129558.0</td>\n",
       "      <td>107261.0</td>\n",
       "      <td>61399.0</td>\n",
       "      <td>133776.0</td>\n",
       "      <td>...</td>\n",
       "      <td>264470.0</td>\n",
       "      <td>375168.0</td>\n",
       "      <td>489691.0</td>\n",
       "      <td>390796.0</td>\n",
       "      <td>320166.0</td>\n",
       "      <td>286509.0</td>\n",
       "      <td>409040.0</td>\n",
       "      <td>419878.0</td>\n",
       "      <td>477028.0</td>\n",
       "      <td>762613.0</td>\n",
       "    </tr>\n",
       "    <tr>\n",
       "      <td>3</td>\n",
       "      <td>Brazil</td>\n",
       "      <td>Soybeans</td>\n",
       "      <td>159333.0</td>\n",
       "      <td>1186342.0</td>\n",
       "      <td>878664.0</td>\n",
       "      <td>1064921.0</td>\n",
       "      <td>1451203.0</td>\n",
       "      <td>828228.0</td>\n",
       "      <td>611655.0</td>\n",
       "      <td>807541.0</td>\n",
       "      <td>...</td>\n",
       "      <td>156454.0</td>\n",
       "      <td>202817.0</td>\n",
       "      <td>251951.0</td>\n",
       "      <td>140465.0</td>\n",
       "      <td>57792.0</td>\n",
       "      <td>305061.0</td>\n",
       "      <td>321305.0</td>\n",
       "      <td>590515.0</td>\n",
       "      <td>341476.0</td>\n",
       "      <td>399390.0</td>\n",
       "    </tr>\n",
       "    <tr>\n",
       "      <td>4</td>\n",
       "      <td>Brazil</td>\n",
       "      <td>Beans, dry</td>\n",
       "      <td>79874.0</td>\n",
       "      <td>221772.0</td>\n",
       "      <td>171505.0</td>\n",
       "      <td>82628.0</td>\n",
       "      <td>171787.0</td>\n",
       "      <td>228354.0</td>\n",
       "      <td>101207.0</td>\n",
       "      <td>81353.0</td>\n",
       "      <td>...</td>\n",
       "      <td>99284.0</td>\n",
       "      <td>220657.0</td>\n",
       "      <td>110238.0</td>\n",
       "      <td>196922.0</td>\n",
       "      <td>214073.0</td>\n",
       "      <td>324698.0</td>\n",
       "      <td>304083.0</td>\n",
       "      <td>142427.0</td>\n",
       "      <td>156788.0</td>\n",
       "      <td>343396.0</td>\n",
       "    </tr>\n",
       "    <tr>\n",
       "      <td>...</td>\n",
       "      <td>...</td>\n",
       "      <td>...</td>\n",
       "      <td>...</td>\n",
       "      <td>...</td>\n",
       "      <td>...</td>\n",
       "      <td>...</td>\n",
       "      <td>...</td>\n",
       "      <td>...</td>\n",
       "      <td>...</td>\n",
       "      <td>...</td>\n",
       "      <td>...</td>\n",
       "      <td>...</td>\n",
       "      <td>...</td>\n",
       "      <td>...</td>\n",
       "      <td>...</td>\n",
       "      <td>...</td>\n",
       "      <td>...</td>\n",
       "      <td>...</td>\n",
       "      <td>...</td>\n",
       "      <td>...</td>\n",
       "      <td>...</td>\n",
       "    </tr>\n",
       "    <tr>\n",
       "      <td>91</td>\n",
       "      <td>Brazil</td>\n",
       "      <td>Figs</td>\n",
       "      <td>147.0</td>\n",
       "      <td>41.0</td>\n",
       "      <td>202.0</td>\n",
       "      <td>39.0</td>\n",
       "      <td>46.0</td>\n",
       "      <td>121.0</td>\n",
       "      <td>109.0</td>\n",
       "      <td>82.0</td>\n",
       "      <td>...</td>\n",
       "      <td>4.0</td>\n",
       "      <td>10.0</td>\n",
       "      <td>1.0</td>\n",
       "      <td>15.0</td>\n",
       "      <td>3.0</td>\n",
       "      <td>3.0</td>\n",
       "      <td>3.0</td>\n",
       "      <td>4.0</td>\n",
       "      <td>2.0</td>\n",
       "      <td>2.0</td>\n",
       "    </tr>\n",
       "    <tr>\n",
       "      <td>92</td>\n",
       "      <td>Brazil</td>\n",
       "      <td>Fruit, tropical fresh nes</td>\n",
       "      <td>0.0</td>\n",
       "      <td>0.0</td>\n",
       "      <td>0.0</td>\n",
       "      <td>0.0</td>\n",
       "      <td>0.0</td>\n",
       "      <td>0.0</td>\n",
       "      <td>0.0</td>\n",
       "      <td>1.0</td>\n",
       "      <td>...</td>\n",
       "      <td>0.0</td>\n",
       "      <td>13.0</td>\n",
       "      <td>0.0</td>\n",
       "      <td>0.0</td>\n",
       "      <td>0.0</td>\n",
       "      <td>49.0</td>\n",
       "      <td>74.0</td>\n",
       "      <td>26.0</td>\n",
       "      <td>0.0</td>\n",
       "      <td>1.0</td>\n",
       "    </tr>\n",
       "    <tr>\n",
       "      <td>93</td>\n",
       "      <td>Brazil</td>\n",
       "      <td>Vanilla</td>\n",
       "      <td>3.0</td>\n",
       "      <td>5.0</td>\n",
       "      <td>23.0</td>\n",
       "      <td>23.0</td>\n",
       "      <td>5.0</td>\n",
       "      <td>9.0</td>\n",
       "      <td>8.0</td>\n",
       "      <td>15.0</td>\n",
       "      <td>...</td>\n",
       "      <td>35.0</td>\n",
       "      <td>8.0</td>\n",
       "      <td>16.0</td>\n",
       "      <td>5.0</td>\n",
       "      <td>1.0</td>\n",
       "      <td>1.0</td>\n",
       "      <td>2.0</td>\n",
       "      <td>4.0</td>\n",
       "      <td>3.0</td>\n",
       "      <td>1.0</td>\n",
       "    </tr>\n",
       "    <tr>\n",
       "      <td>94</td>\n",
       "      <td>Brazil</td>\n",
       "      <td>Kola nuts</td>\n",
       "      <td>0.0</td>\n",
       "      <td>0.0</td>\n",
       "      <td>0.0</td>\n",
       "      <td>0.0</td>\n",
       "      <td>0.0</td>\n",
       "      <td>0.0</td>\n",
       "      <td>0.0</td>\n",
       "      <td>0.0</td>\n",
       "      <td>...</td>\n",
       "      <td>0.0</td>\n",
       "      <td>0.0</td>\n",
       "      <td>0.0</td>\n",
       "      <td>0.0</td>\n",
       "      <td>0.0</td>\n",
       "      <td>0.0</td>\n",
       "      <td>0.0</td>\n",
       "      <td>0.0</td>\n",
       "      <td>0.0</td>\n",
       "      <td>1.0</td>\n",
       "    </tr>\n",
       "    <tr>\n",
       "      <td>95</td>\n",
       "      <td>Brazil</td>\n",
       "      <td>Maize, green</td>\n",
       "      <td>0.0</td>\n",
       "      <td>0.0</td>\n",
       "      <td>0.0</td>\n",
       "      <td>0.0</td>\n",
       "      <td>81.0</td>\n",
       "      <td>2.0</td>\n",
       "      <td>0.0</td>\n",
       "      <td>0.0</td>\n",
       "      <td>...</td>\n",
       "      <td>0.0</td>\n",
       "      <td>0.0</td>\n",
       "      <td>0.0</td>\n",
       "      <td>0.0</td>\n",
       "      <td>0.0</td>\n",
       "      <td>1.0</td>\n",
       "      <td>0.0</td>\n",
       "      <td>2.0</td>\n",
       "      <td>0.0</td>\n",
       "      <td>1.0</td>\n",
       "    </tr>\n",
       "  </tbody>\n",
       "</table>\n",
       "<p>96 rows × 26 columns</p>\n",
       "</div>"
      ],
      "text/plain": [
       "   Importer                       Item       1993       1994       1995  \\\n",
       "0    Brazil                      Wheat  6115768.0  6978869.0  6474255.0   \n",
       "1    Brazil                      Maize  1389242.0  1502192.0  1309333.0   \n",
       "2    Brazil                     Barley   124625.0   205541.0   268850.0   \n",
       "3    Brazil                   Soybeans   159333.0  1186342.0   878664.0   \n",
       "4    Brazil                 Beans, dry    79874.0   221772.0   171505.0   \n",
       "..      ...                        ...        ...        ...        ...   \n",
       "91   Brazil                       Figs      147.0       41.0      202.0   \n",
       "92   Brazil  Fruit, tropical fresh nes        0.0        0.0        0.0   \n",
       "93   Brazil                    Vanilla        3.0        5.0       23.0   \n",
       "94   Brazil                  Kola nuts        0.0        0.0        0.0   \n",
       "95   Brazil               Maize, green        0.0        0.0        0.0   \n",
       "\n",
       "         1996       1997       1998       1999       2000  ...       2007  \\\n",
       "0   8085885.0  5013566.0  6539666.0  6891008.0  7601386.0  ...  6795641.0   \n",
       "1    335436.0   597231.0  1869705.0   822292.0  1834324.0  ...  1382351.0   \n",
       "2    260412.0   129558.0   107261.0    61399.0   133776.0  ...   264470.0   \n",
       "3   1064921.0  1451203.0   828228.0   611655.0   807541.0  ...   156454.0   \n",
       "4     82628.0   171787.0   228354.0   101207.0    81353.0  ...    99284.0   \n",
       "..        ...        ...        ...        ...        ...  ...        ...   \n",
       "91       39.0       46.0      121.0      109.0       82.0  ...        4.0   \n",
       "92        0.0        0.0        0.0        0.0        1.0  ...        0.0   \n",
       "93       23.0        5.0        9.0        8.0       15.0  ...       35.0   \n",
       "94        0.0        0.0        0.0        0.0        0.0  ...        0.0   \n",
       "95        0.0       81.0        2.0        0.0        0.0  ...        0.0   \n",
       "\n",
       "         2008       2009       2010       2011       2012       2013  \\\n",
       "0   6065774.0  5600332.0  6373241.0  5824146.0  6964204.0  7889646.0   \n",
       "1    770260.0  1232245.0   476119.0   749137.0   853901.0   911602.0   \n",
       "2    375168.0   489691.0   390796.0   320166.0   286509.0   409040.0   \n",
       "3    202817.0   251951.0   140465.0    57792.0   305061.0   321305.0   \n",
       "4    220657.0   110238.0   196922.0   214073.0   324698.0   304083.0   \n",
       "..        ...        ...        ...        ...        ...        ...   \n",
       "91       10.0        1.0       15.0        3.0        3.0        3.0   \n",
       "92       13.0        0.0        0.0        0.0       49.0       74.0   \n",
       "93        8.0       16.0        5.0        1.0        1.0        2.0   \n",
       "94        0.0        0.0        0.0        0.0        0.0        0.0   \n",
       "95        0.0        0.0        0.0        0.0        1.0        0.0   \n",
       "\n",
       "         2014       2015       2016  \n",
       "0   6041161.0  5441503.0  7133356.0  \n",
       "1    824634.0   370313.0  3319466.0  \n",
       "2    419878.0   477028.0   762613.0  \n",
       "3    590515.0   341476.0   399390.0  \n",
       "4    142427.0   156788.0   343396.0  \n",
       "..        ...        ...        ...  \n",
       "91        4.0        2.0        2.0  \n",
       "92       26.0        0.0        1.0  \n",
       "93        4.0        3.0        1.0  \n",
       "94        0.0        0.0        1.0  \n",
       "95        2.0        0.0        1.0  \n",
       "\n",
       "[96 rows x 26 columns]"
      ]
     },
     "execution_count": 11,
     "metadata": {},
     "output_type": "execute_result"
    }
   ],
   "source": [
    "df_imports_brazil = df_trade.loc[df_trade['Importer'] == 'Brazil']\n",
    "df_imports_brazil = df_imports_brazil.groupby(['Importer', 'Item']).sum().reset_index()\n",
    "df_imports_brazil = df_imports_brazil.sort_values(['2016'], ascending = False).reset_index().drop(columns=['index'])\n",
    "df_imports_brazil[df_imports_brazil['2016'] != 0]"
   ]
  },
  {
   "cell_type": "code",
   "execution_count": 12,
   "metadata": {},
   "outputs": [
    {
     "data": {
      "application/vnd.plotly.v1+json": {
       "config": {
        "plotlyServerURL": "https://plot.ly"
       },
       "data": [
        {
         "line": {
          "width": 4
         },
         "mode": "lines",
         "name": "Wheat",
         "type": "scatter",
         "x": [
          "1993",
          "1994",
          "1995",
          "1996",
          "1997",
          "1998",
          "1999",
          "2000",
          "2001",
          "2002",
          "2003",
          "2004",
          "2005",
          "2006",
          "2007",
          "2008",
          "2009",
          "2010",
          "2011",
          "2012",
          "2013",
          "2014",
          "2015",
          "2016"
         ],
         "y": [
          6115768,
          6978869,
          6474255,
          8085885,
          5013566,
          6539666,
          6891008,
          7601386,
          7016331,
          6644119,
          6622946,
          4857312,
          5316194,
          6664724,
          6795641,
          6065774,
          5600332,
          6373241,
          5824146,
          6964204,
          7889646,
          6041161,
          5441503,
          7133356
         ]
        },
        {
         "line": {
          "width": 4
         },
         "mode": "lines",
         "name": "Maize",
         "type": "scatter",
         "x": [
          "1993",
          "1994",
          "1995",
          "1996",
          "1997",
          "1998",
          "1999",
          "2000",
          "2001",
          "2002",
          "2003",
          "2004",
          "2005",
          "2006",
          "2007",
          "2008",
          "2009",
          "2010",
          "2011",
          "2012",
          "2013",
          "2014",
          "2015",
          "2016"
         ],
         "y": [
          1389242,
          1502192,
          1309333,
          335436,
          597231,
          1869705,
          822292,
          1834324,
          624362,
          384409,
          797797,
          331087,
          597917,
          1105665,
          1382351,
          770260,
          1232245,
          476119,
          749137,
          853901,
          911602,
          824634,
          370313,
          3319466
         ]
        },
        {
         "line": {
          "width": 4
         },
         "mode": "lines",
         "name": "Barley",
         "type": "scatter",
         "x": [
          "1993",
          "1994",
          "1995",
          "1996",
          "1997",
          "1998",
          "1999",
          "2000",
          "2001",
          "2002",
          "2003",
          "2004",
          "2005",
          "2006",
          "2007",
          "2008",
          "2009",
          "2010",
          "2011",
          "2012",
          "2013",
          "2014",
          "2015",
          "2016"
         ],
         "y": [
          124625,
          205541,
          268850,
          260412,
          129558,
          107261,
          61399,
          133776,
          209109,
          211053,
          332545,
          193222,
          164989,
          204195,
          264470,
          375168,
          489691,
          390796,
          320166,
          286509,
          409040,
          419878,
          477028,
          762613
         ]
        },
        {
         "line": {
          "width": 4
         },
         "mode": "lines",
         "name": "Soybeans",
         "type": "scatter",
         "x": [
          "1993",
          "1994",
          "1995",
          "1996",
          "1997",
          "1998",
          "1999",
          "2000",
          "2001",
          "2002",
          "2003",
          "2004",
          "2005",
          "2006",
          "2007",
          "2008",
          "2009",
          "2010",
          "2011",
          "2012",
          "2013",
          "2014",
          "2015",
          "2016"
         ],
         "y": [
          159333,
          1186342,
          878664,
          1064921,
          1451203,
          828228,
          611655,
          807541,
          849634,
          1762422,
          1189229,
          348415,
          368497,
          100455,
          156454,
          202817,
          251951,
          140465,
          57792,
          305061,
          321305,
          590515,
          341476,
          399390
         ]
        },
        {
         "line": {
          "width": 4
         },
         "mode": "lines",
         "name": "Beans, dry",
         "type": "scatter",
         "x": [
          "1993",
          "1994",
          "1995",
          "1996",
          "1997",
          "1998",
          "1999",
          "2000",
          "2001",
          "2002",
          "2003",
          "2004",
          "2005",
          "2006",
          "2007",
          "2008",
          "2009",
          "2010",
          "2011",
          "2012",
          "2013",
          "2014",
          "2015",
          "2016"
         ],
         "y": [
          79874,
          221772,
          171505,
          82628,
          171787,
          228354,
          101207,
          81353,
          133757,
          83817,
          104699,
          80276,
          102999,
          71185,
          99284,
          220657,
          110238,
          196922,
          214073,
          324698,
          304083,
          142427,
          156788,
          343396
         ]
        },
        {
         "line": {
          "width": 4
         },
         "mode": "lines",
         "name": "Oil, palm",
         "type": "scatter",
         "x": [
          "1993",
          "1994",
          "1995",
          "1996",
          "1997",
          "1998",
          "1999",
          "2000",
          "2001",
          "2002",
          "2003",
          "2004",
          "2005",
          "2006",
          "2007",
          "2008",
          "2009",
          "2010",
          "2011",
          "2012",
          "2013",
          "2014",
          "2015",
          "2016"
         ],
         "y": [
          45345,
          43406,
          11455,
          8702,
          33076,
          48735,
          23278,
          26111,
          24550,
          9339,
          29951,
          21763,
          40575,
          95896,
          107738,
          170419,
          136436,
          179585,
          226800,
          246626,
          260716,
          253674,
          233469,
          238397
         ]
        },
        {
         "line": {
          "width": 4
         },
         "mode": "lines",
         "name": "Onions, shallots, green",
         "type": "scatter",
         "x": [
          "1993",
          "1994",
          "1995",
          "1996",
          "1997",
          "1998",
          "1999",
          "2000",
          "2001",
          "2002",
          "2003",
          "2004",
          "2005",
          "2006",
          "2007",
          "2008",
          "2009",
          "2010",
          "2011",
          "2012",
          "2013",
          "2014",
          "2015",
          "2016"
         ],
         "y": [
          95733,
          137466,
          156271,
          228154,
          273086,
          330667,
          224419,
          75153,
          105214,
          111524,
          172688,
          192663,
          169518,
          198772,
          157216,
          200657,
          178238,
          238490,
          195170,
          179639,
          266921,
          150591,
          270325,
          178227
         ]
        },
        {
         "line": {
          "width": 4
         },
         "mode": "lines",
         "name": "Garlic",
         "type": "scatter",
         "x": [
          "1993",
          "1994",
          "1995",
          "1996",
          "1997",
          "1998",
          "1999",
          "2000",
          "2001",
          "2002",
          "2003",
          "2004",
          "2005",
          "2006",
          "2007",
          "2008",
          "2009",
          "2010",
          "2011",
          "2012",
          "2013",
          "2014",
          "2015",
          "2016"
         ],
         "y": [
          47307,
          53781,
          85607,
          100801,
          99467,
          110850,
          97925,
          90437,
          78375,
          88746,
          97563,
          107697,
          136368,
          120564,
          138749,
          149306,
          155451,
          153222,
          172106,
          166083,
          180335,
          167548,
          171867,
          173389
         ]
        },
        {
         "line": {
          "width": 4
         },
         "mode": "lines",
         "name": "Apples",
         "type": "scatter",
         "x": [
          "1993",
          "1994",
          "1995",
          "1996",
          "1997",
          "1998",
          "1999",
          "2000",
          "2001",
          "2002",
          "2003",
          "2004",
          "2005",
          "2006",
          "2007",
          "2008",
          "2009",
          "2010",
          "2011",
          "2012",
          "2013",
          "2014",
          "2015",
          "2016"
         ],
         "y": [
          79034,
          92233,
          248016,
          249131,
          122417,
          127884,
          67473,
          46181,
          82209,
          53833,
          42489,
          42968,
          69585,
          78427,
          69046,
          55338,
          62434,
          77765,
          97226,
          59210,
          94852,
          119927,
          79593,
          166305
         ]
        },
        {
         "line": {
          "width": 4
         },
         "mode": "lines",
         "name": "Onions, dry",
         "type": "scatter",
         "x": [
          "1993",
          "1994",
          "1995",
          "1996",
          "1997",
          "1998",
          "1999",
          "2000",
          "2001",
          "2002",
          "2003",
          "2004",
          "2005",
          "2006",
          "2007",
          "2008",
          "2009",
          "2010",
          "2011",
          "2012",
          "2013",
          "2014",
          "2015",
          "2016"
         ],
         "y": [
          83084,
          115756,
          155306,
          227996,
          250898,
          324769,
          462,
          73309,
          105512,
          109928,
          171266,
          189891,
          169173,
          197823,
          157260,
          201688,
          181789,
          235377,
          200010,
          176748,
          261839,
          151908,
          281231,
          166050
         ]
        }
       ],
       "layout": {
        "autosize": true,
        "template": {
         "data": {
          "bar": [
           {
            "error_x": {
             "color": "#2a3f5f"
            },
            "error_y": {
             "color": "#2a3f5f"
            },
            "marker": {
             "line": {
              "color": "#E5ECF6",
              "width": 0.5
             }
            },
            "type": "bar"
           }
          ],
          "barpolar": [
           {
            "marker": {
             "line": {
              "color": "#E5ECF6",
              "width": 0.5
             }
            },
            "type": "barpolar"
           }
          ],
          "carpet": [
           {
            "aaxis": {
             "endlinecolor": "#2a3f5f",
             "gridcolor": "white",
             "linecolor": "white",
             "minorgridcolor": "white",
             "startlinecolor": "#2a3f5f"
            },
            "baxis": {
             "endlinecolor": "#2a3f5f",
             "gridcolor": "white",
             "linecolor": "white",
             "minorgridcolor": "white",
             "startlinecolor": "#2a3f5f"
            },
            "type": "carpet"
           }
          ],
          "choropleth": [
           {
            "colorbar": {
             "outlinewidth": 0,
             "ticks": ""
            },
            "type": "choropleth"
           }
          ],
          "contour": [
           {
            "colorbar": {
             "outlinewidth": 0,
             "ticks": ""
            },
            "colorscale": [
             [
              0,
              "#0d0887"
             ],
             [
              0.1111111111111111,
              "#46039f"
             ],
             [
              0.2222222222222222,
              "#7201a8"
             ],
             [
              0.3333333333333333,
              "#9c179e"
             ],
             [
              0.4444444444444444,
              "#bd3786"
             ],
             [
              0.5555555555555556,
              "#d8576b"
             ],
             [
              0.6666666666666666,
              "#ed7953"
             ],
             [
              0.7777777777777778,
              "#fb9f3a"
             ],
             [
              0.8888888888888888,
              "#fdca26"
             ],
             [
              1,
              "#f0f921"
             ]
            ],
            "type": "contour"
           }
          ],
          "contourcarpet": [
           {
            "colorbar": {
             "outlinewidth": 0,
             "ticks": ""
            },
            "type": "contourcarpet"
           }
          ],
          "heatmap": [
           {
            "colorbar": {
             "outlinewidth": 0,
             "ticks": ""
            },
            "colorscale": [
             [
              0,
              "#0d0887"
             ],
             [
              0.1111111111111111,
              "#46039f"
             ],
             [
              0.2222222222222222,
              "#7201a8"
             ],
             [
              0.3333333333333333,
              "#9c179e"
             ],
             [
              0.4444444444444444,
              "#bd3786"
             ],
             [
              0.5555555555555556,
              "#d8576b"
             ],
             [
              0.6666666666666666,
              "#ed7953"
             ],
             [
              0.7777777777777778,
              "#fb9f3a"
             ],
             [
              0.8888888888888888,
              "#fdca26"
             ],
             [
              1,
              "#f0f921"
             ]
            ],
            "type": "heatmap"
           }
          ],
          "heatmapgl": [
           {
            "colorbar": {
             "outlinewidth": 0,
             "ticks": ""
            },
            "colorscale": [
             [
              0,
              "#0d0887"
             ],
             [
              0.1111111111111111,
              "#46039f"
             ],
             [
              0.2222222222222222,
              "#7201a8"
             ],
             [
              0.3333333333333333,
              "#9c179e"
             ],
             [
              0.4444444444444444,
              "#bd3786"
             ],
             [
              0.5555555555555556,
              "#d8576b"
             ],
             [
              0.6666666666666666,
              "#ed7953"
             ],
             [
              0.7777777777777778,
              "#fb9f3a"
             ],
             [
              0.8888888888888888,
              "#fdca26"
             ],
             [
              1,
              "#f0f921"
             ]
            ],
            "type": "heatmapgl"
           }
          ],
          "histogram": [
           {
            "marker": {
             "colorbar": {
              "outlinewidth": 0,
              "ticks": ""
             }
            },
            "type": "histogram"
           }
          ],
          "histogram2d": [
           {
            "colorbar": {
             "outlinewidth": 0,
             "ticks": ""
            },
            "colorscale": [
             [
              0,
              "#0d0887"
             ],
             [
              0.1111111111111111,
              "#46039f"
             ],
             [
              0.2222222222222222,
              "#7201a8"
             ],
             [
              0.3333333333333333,
              "#9c179e"
             ],
             [
              0.4444444444444444,
              "#bd3786"
             ],
             [
              0.5555555555555556,
              "#d8576b"
             ],
             [
              0.6666666666666666,
              "#ed7953"
             ],
             [
              0.7777777777777778,
              "#fb9f3a"
             ],
             [
              0.8888888888888888,
              "#fdca26"
             ],
             [
              1,
              "#f0f921"
             ]
            ],
            "type": "histogram2d"
           }
          ],
          "histogram2dcontour": [
           {
            "colorbar": {
             "outlinewidth": 0,
             "ticks": ""
            },
            "colorscale": [
             [
              0,
              "#0d0887"
             ],
             [
              0.1111111111111111,
              "#46039f"
             ],
             [
              0.2222222222222222,
              "#7201a8"
             ],
             [
              0.3333333333333333,
              "#9c179e"
             ],
             [
              0.4444444444444444,
              "#bd3786"
             ],
             [
              0.5555555555555556,
              "#d8576b"
             ],
             [
              0.6666666666666666,
              "#ed7953"
             ],
             [
              0.7777777777777778,
              "#fb9f3a"
             ],
             [
              0.8888888888888888,
              "#fdca26"
             ],
             [
              1,
              "#f0f921"
             ]
            ],
            "type": "histogram2dcontour"
           }
          ],
          "mesh3d": [
           {
            "colorbar": {
             "outlinewidth": 0,
             "ticks": ""
            },
            "type": "mesh3d"
           }
          ],
          "parcoords": [
           {
            "line": {
             "colorbar": {
              "outlinewidth": 0,
              "ticks": ""
             }
            },
            "type": "parcoords"
           }
          ],
          "pie": [
           {
            "automargin": true,
            "type": "pie"
           }
          ],
          "scatter": [
           {
            "marker": {
             "colorbar": {
              "outlinewidth": 0,
              "ticks": ""
             }
            },
            "type": "scatter"
           }
          ],
          "scatter3d": [
           {
            "line": {
             "colorbar": {
              "outlinewidth": 0,
              "ticks": ""
             }
            },
            "marker": {
             "colorbar": {
              "outlinewidth": 0,
              "ticks": ""
             }
            },
            "type": "scatter3d"
           }
          ],
          "scattercarpet": [
           {
            "marker": {
             "colorbar": {
              "outlinewidth": 0,
              "ticks": ""
             }
            },
            "type": "scattercarpet"
           }
          ],
          "scattergeo": [
           {
            "marker": {
             "colorbar": {
              "outlinewidth": 0,
              "ticks": ""
             }
            },
            "type": "scattergeo"
           }
          ],
          "scattergl": [
           {
            "marker": {
             "colorbar": {
              "outlinewidth": 0,
              "ticks": ""
             }
            },
            "type": "scattergl"
           }
          ],
          "scattermapbox": [
           {
            "marker": {
             "colorbar": {
              "outlinewidth": 0,
              "ticks": ""
             }
            },
            "type": "scattermapbox"
           }
          ],
          "scatterpolar": [
           {
            "marker": {
             "colorbar": {
              "outlinewidth": 0,
              "ticks": ""
             }
            },
            "type": "scatterpolar"
           }
          ],
          "scatterpolargl": [
           {
            "marker": {
             "colorbar": {
              "outlinewidth": 0,
              "ticks": ""
             }
            },
            "type": "scatterpolargl"
           }
          ],
          "scatterternary": [
           {
            "marker": {
             "colorbar": {
              "outlinewidth": 0,
              "ticks": ""
             }
            },
            "type": "scatterternary"
           }
          ],
          "surface": [
           {
            "colorbar": {
             "outlinewidth": 0,
             "ticks": ""
            },
            "colorscale": [
             [
              0,
              "#0d0887"
             ],
             [
              0.1111111111111111,
              "#46039f"
             ],
             [
              0.2222222222222222,
              "#7201a8"
             ],
             [
              0.3333333333333333,
              "#9c179e"
             ],
             [
              0.4444444444444444,
              "#bd3786"
             ],
             [
              0.5555555555555556,
              "#d8576b"
             ],
             [
              0.6666666666666666,
              "#ed7953"
             ],
             [
              0.7777777777777778,
              "#fb9f3a"
             ],
             [
              0.8888888888888888,
              "#fdca26"
             ],
             [
              1,
              "#f0f921"
             ]
            ],
            "type": "surface"
           }
          ],
          "table": [
           {
            "cells": {
             "fill": {
              "color": "#EBF0F8"
             },
             "line": {
              "color": "white"
             }
            },
            "header": {
             "fill": {
              "color": "#C8D4E3"
             },
             "line": {
              "color": "white"
             }
            },
            "type": "table"
           }
          ]
         },
         "layout": {
          "annotationdefaults": {
           "arrowcolor": "#2a3f5f",
           "arrowhead": 0,
           "arrowwidth": 1
          },
          "coloraxis": {
           "colorbar": {
            "outlinewidth": 0,
            "ticks": ""
           }
          },
          "colorscale": {
           "diverging": [
            [
             0,
             "#8e0152"
            ],
            [
             0.1,
             "#c51b7d"
            ],
            [
             0.2,
             "#de77ae"
            ],
            [
             0.3,
             "#f1b6da"
            ],
            [
             0.4,
             "#fde0ef"
            ],
            [
             0.5,
             "#f7f7f7"
            ],
            [
             0.6,
             "#e6f5d0"
            ],
            [
             0.7,
             "#b8e186"
            ],
            [
             0.8,
             "#7fbc41"
            ],
            [
             0.9,
             "#4d9221"
            ],
            [
             1,
             "#276419"
            ]
           ],
           "sequential": [
            [
             0,
             "#0d0887"
            ],
            [
             0.1111111111111111,
             "#46039f"
            ],
            [
             0.2222222222222222,
             "#7201a8"
            ],
            [
             0.3333333333333333,
             "#9c179e"
            ],
            [
             0.4444444444444444,
             "#bd3786"
            ],
            [
             0.5555555555555556,
             "#d8576b"
            ],
            [
             0.6666666666666666,
             "#ed7953"
            ],
            [
             0.7777777777777778,
             "#fb9f3a"
            ],
            [
             0.8888888888888888,
             "#fdca26"
            ],
            [
             1,
             "#f0f921"
            ]
           ],
           "sequentialminus": [
            [
             0,
             "#0d0887"
            ],
            [
             0.1111111111111111,
             "#46039f"
            ],
            [
             0.2222222222222222,
             "#7201a8"
            ],
            [
             0.3333333333333333,
             "#9c179e"
            ],
            [
             0.4444444444444444,
             "#bd3786"
            ],
            [
             0.5555555555555556,
             "#d8576b"
            ],
            [
             0.6666666666666666,
             "#ed7953"
            ],
            [
             0.7777777777777778,
             "#fb9f3a"
            ],
            [
             0.8888888888888888,
             "#fdca26"
            ],
            [
             1,
             "#f0f921"
            ]
           ]
          },
          "colorway": [
           "#636efa",
           "#EF553B",
           "#00cc96",
           "#ab63fa",
           "#FFA15A",
           "#19d3f3",
           "#FF6692",
           "#B6E880",
           "#FF97FF",
           "#FECB52"
          ],
          "font": {
           "color": "#2a3f5f"
          },
          "geo": {
           "bgcolor": "white",
           "lakecolor": "white",
           "landcolor": "#E5ECF6",
           "showlakes": true,
           "showland": true,
           "subunitcolor": "white"
          },
          "hoverlabel": {
           "align": "left"
          },
          "hovermode": "closest",
          "mapbox": {
           "style": "light"
          },
          "paper_bgcolor": "white",
          "plot_bgcolor": "#E5ECF6",
          "polar": {
           "angularaxis": {
            "gridcolor": "white",
            "linecolor": "white",
            "ticks": ""
           },
           "bgcolor": "#E5ECF6",
           "radialaxis": {
            "gridcolor": "white",
            "linecolor": "white",
            "ticks": ""
           }
          },
          "scene": {
           "xaxis": {
            "backgroundcolor": "#E5ECF6",
            "gridcolor": "white",
            "gridwidth": 2,
            "linecolor": "white",
            "showbackground": true,
            "ticks": "",
            "zerolinecolor": "white"
           },
           "yaxis": {
            "backgroundcolor": "#E5ECF6",
            "gridcolor": "white",
            "gridwidth": 2,
            "linecolor": "white",
            "showbackground": true,
            "ticks": "",
            "zerolinecolor": "white"
           },
           "zaxis": {
            "backgroundcolor": "#E5ECF6",
            "gridcolor": "white",
            "gridwidth": 2,
            "linecolor": "white",
            "showbackground": true,
            "ticks": "",
            "zerolinecolor": "white"
           }
          },
          "shapedefaults": {
           "line": {
            "color": "#2a3f5f"
           }
          },
          "ternary": {
           "aaxis": {
            "gridcolor": "white",
            "linecolor": "white",
            "ticks": ""
           },
           "baxis": {
            "gridcolor": "white",
            "linecolor": "white",
            "ticks": ""
           },
           "bgcolor": "#E5ECF6",
           "caxis": {
            "gridcolor": "white",
            "linecolor": "white",
            "ticks": ""
           }
          },
          "title": {
           "x": 0.05
          },
          "xaxis": {
           "automargin": true,
           "gridcolor": "white",
           "linecolor": "white",
           "ticks": "",
           "title": {
            "standoff": 15
           },
           "zerolinecolor": "white",
           "zerolinewidth": 2
          },
          "yaxis": {
           "automargin": true,
           "gridcolor": "white",
           "linecolor": "white",
           "ticks": "",
           "title": {
            "standoff": 15
           },
           "zerolinecolor": "white",
           "zerolinewidth": 2
          }
         }
        },
        "title": {
         "text": "Imports Brazil"
        },
        "xaxis": {
         "autorange": true,
         "range": [
          1993,
          2016
         ],
         "title": {
          "text": "Year"
         },
         "type": "linear"
        },
        "yaxis": {
         "autorange": true,
         "range": [
          -448728.1666666667,
          8535075.166666666
         ],
         "title": {
          "text": "Increase fold from 1993"
         },
         "type": "linear"
        }
       }
      },
      "image/png": "[encoded data removed]",
      "text/html": [
       "<div>\n",
       "        \n",
       "        \n",
       "            <div id=\"9565950e-01bd-4c02-9836-e210c58845cc\" class=\"plotly-graph-div\" style=\"height:525px; width:100%;\"></div>\n",
       "            <script type=\"text/javascript\">\n",
       "                require([\"plotly\"], function(Plotly) {\n",
       "                    window.PLOTLYENV=window.PLOTLYENV || {};\n",
       "                    \n",
       "                if (document.getElementById(\"9565950e-01bd-4c02-9836-e210c58845cc\")) {\n",
       "                    Plotly.newPlot(\n",
       "                        '9565950e-01bd-4c02-9836-e210c58845cc',\n",
       "                        [{\"line\": {\"width\": 4}, \"mode\": \"lines\", \"name\": \"Wheat\", \"type\": \"scatter\", \"x\": [\"1993\", \"1994\", \"1995\", \"1996\", \"1997\", \"1998\", \"1999\", \"2000\", \"2001\", \"2002\", \"2003\", \"2004\", \"2005\", \"2006\", \"2007\", \"2008\", \"2009\", \"2010\", \"2011\", \"2012\", \"2013\", \"2014\", \"2015\", \"2016\"], \"y\": [6115768.0, 6978869.0, 6474255.0, 8085885.0, 5013566.0, 6539666.0, 6891008.0, 7601386.0, 7016331.0, 6644119.0, 6622946.0, 4857312.0, 5316194.0, 6664724.0, 6795641.0, 6065774.0, 5600332.0, 6373241.0, 5824146.0, 6964204.0, 7889646.0, 6041161.0, 5441503.0, 7133356.0]}, {\"line\": {\"width\": 4}, \"mode\": \"lines\", \"name\": \"Maize\", \"type\": \"scatter\", \"x\": [\"1993\", \"1994\", \"1995\", \"1996\", \"1997\", \"1998\", \"1999\", \"2000\", \"2001\", \"2002\", \"2003\", \"2004\", \"2005\", \"2006\", \"2007\", \"2008\", \"2009\", \"2010\", \"2011\", \"2012\", \"2013\", \"2014\", \"2015\", \"2016\"], \"y\": [1389242.0, 1502192.0, 1309333.0, 335436.0, 597231.0, 1869705.0, 822292.0, 1834324.0, 624362.0, 384409.0, 797797.0, 331087.0, 597917.0, 1105665.0, 1382351.0, 770260.0, 1232245.0, 476119.0, 749137.0, 853901.0, 911602.0, 824634.0, 370313.0, 3319466.0]}, {\"line\": {\"width\": 4}, \"mode\": \"lines\", \"name\": \"Barley\", \"type\": \"scatter\", \"x\": [\"1993\", \"1994\", \"1995\", \"1996\", \"1997\", \"1998\", \"1999\", \"2000\", \"2001\", \"2002\", \"2003\", \"2004\", \"2005\", \"2006\", \"2007\", \"2008\", \"2009\", \"2010\", \"2011\", \"2012\", \"2013\", \"2014\", \"2015\", \"2016\"], \"y\": [124625.0, 205541.0, 268850.0, 260412.0, 129558.0, 107261.0, 61399.0, 133776.0, 209109.0, 211053.0, 332545.0, 193222.0, 164989.0, 204195.0, 264470.0, 375168.0, 489691.0, 390796.0, 320166.0, 286509.0, 409040.0, 419878.0, 477028.0, 762613.0]}, {\"line\": {\"width\": 4}, \"mode\": \"lines\", \"name\": \"Soybeans\", \"type\": \"scatter\", \"x\": [\"1993\", \"1994\", \"1995\", \"1996\", \"1997\", \"1998\", \"1999\", \"2000\", \"2001\", \"2002\", \"2003\", \"2004\", \"2005\", \"2006\", \"2007\", \"2008\", \"2009\", \"2010\", \"2011\", \"2012\", \"2013\", \"2014\", \"2015\", \"2016\"], \"y\": [159333.0, 1186342.0, 878664.0, 1064921.0, 1451203.0, 828228.0, 611655.0, 807541.0, 849634.0, 1762422.0, 1189229.0, 348415.0, 368497.0, 100455.0, 156454.0, 202817.0, 251951.0, 140465.0, 57792.0, 305061.0, 321305.0, 590515.0, 341476.0, 399390.0]}, {\"line\": {\"width\": 4}, \"mode\": \"lines\", \"name\": \"Beans, dry\", \"type\": \"scatter\", \"x\": [\"1993\", \"1994\", \"1995\", \"1996\", \"1997\", \"1998\", \"1999\", \"2000\", \"2001\", \"2002\", \"2003\", \"2004\", \"2005\", \"2006\", \"2007\", \"2008\", \"2009\", \"2010\", \"2011\", \"2012\", \"2013\", \"2014\", \"2015\", \"2016\"], \"y\": [79874.0, 221772.0, 171505.0, 82628.0, 171787.0, 228354.0, 101207.0, 81353.0, 133757.0, 83817.0, 104699.0, 80276.0, 102999.0, 71185.0, 99284.0, 220657.0, 110238.0, 196922.0, 214073.0, 324698.0, 304083.0, 142427.0, 156788.0, 343396.0]}, {\"line\": {\"width\": 4}, \"mode\": \"lines\", \"name\": \"Oil, palm\", \"type\": \"scatter\", \"x\": [\"1993\", \"1994\", \"1995\", \"1996\", \"1997\", \"1998\", \"1999\", \"2000\", \"2001\", \"2002\", \"2003\", \"2004\", \"2005\", \"2006\", \"2007\", \"2008\", \"2009\", \"2010\", \"2011\", \"2012\", \"2013\", \"2014\", \"2015\", \"2016\"], \"y\": [45345.0, 43406.0, 11455.0, 8702.0, 33076.0, 48735.0, 23278.0, 26111.0, 24550.0, 9339.0, 29951.0, 21763.0, 40575.0, 95896.0, 107738.0, 170419.0, 136436.0, 179585.0, 226800.0, 246626.0, 260716.0, 253674.0, 233469.0, 238397.0]}, {\"line\": {\"width\": 4}, \"mode\": \"lines\", \"name\": \"Onions, shallots, green\", \"type\": \"scatter\", \"x\": [\"1993\", \"1994\", \"1995\", \"1996\", \"1997\", \"1998\", \"1999\", \"2000\", \"2001\", \"2002\", \"2003\", \"2004\", \"2005\", \"2006\", \"2007\", \"2008\", \"2009\", \"2010\", \"2011\", \"2012\", \"2013\", \"2014\", \"2015\", \"2016\"], \"y\": [95733.0, 137466.0, 156271.0, 228154.0, 273086.0, 330667.0, 224419.0, 75153.0, 105214.0, 111524.0, 172688.0, 192663.0, 169518.0, 198772.0, 157216.0, 200657.0, 178238.0, 238490.0, 195170.0, 179639.0, 266921.0, 150591.0, 270325.0, 178227.0]}, {\"line\": {\"width\": 4}, \"mode\": \"lines\", \"name\": \"Garlic\", \"type\": \"scatter\", \"x\": [\"1993\", \"1994\", \"1995\", \"1996\", \"1997\", \"1998\", \"1999\", \"2000\", \"2001\", \"2002\", \"2003\", \"2004\", \"2005\", \"2006\", \"2007\", \"2008\", \"2009\", \"2010\", \"2011\", \"2012\", \"2013\", \"2014\", \"2015\", \"2016\"], \"y\": [47307.0, 53781.0, 85607.0, 100801.0, 99467.0, 110850.0, 97925.0, 90437.0, 78375.0, 88746.0, 97563.0, 107697.0, 136368.0, 120564.0, 138749.0, 149306.0, 155451.0, 153222.0, 172106.0, 166083.0, 180335.0, 167548.0, 171867.0, 173389.0]}, {\"line\": {\"width\": 4}, \"mode\": \"lines\", \"name\": \"Apples\", \"type\": \"scatter\", \"x\": [\"1993\", \"1994\", \"1995\", \"1996\", \"1997\", \"1998\", \"1999\", \"2000\", \"2001\", \"2002\", \"2003\", \"2004\", \"2005\", \"2006\", \"2007\", \"2008\", \"2009\", \"2010\", \"2011\", \"2012\", \"2013\", \"2014\", \"2015\", \"2016\"], \"y\": [79034.0, 92233.0, 248016.0, 249131.0, 122417.0, 127884.0, 67473.0, 46181.0, 82209.0, 53833.0, 42489.0, 42968.0, 69585.0, 78427.0, 69046.0, 55338.0, 62434.0, 77765.0, 97226.0, 59210.0, 94852.0, 119927.0, 79593.0, 166305.0]}, {\"line\": {\"width\": 4}, \"mode\": \"lines\", \"name\": \"Onions, dry\", \"type\": \"scatter\", \"x\": [\"1993\", \"1994\", \"1995\", \"1996\", \"1997\", \"1998\", \"1999\", \"2000\", \"2001\", \"2002\", \"2003\", \"2004\", \"2005\", \"2006\", \"2007\", \"2008\", \"2009\", \"2010\", \"2011\", \"2012\", \"2013\", \"2014\", \"2015\", \"2016\"], \"y\": [83084.0, 115756.0, 155306.0, 227996.0, 250898.0, 324769.0, 462.0, 73309.0, 105512.0, 109928.0, 171266.0, 189891.0, 169173.0, 197823.0, 157260.0, 201688.0, 181789.0, 235377.0, 200010.0, 176748.0, 261839.0, 151908.0, 281231.0, 166050.0]}],\n",
       "                        {\"template\": {\"data\": {\"bar\": [{\"error_x\": {\"color\": \"#2a3f5f\"}, \"error_y\": {\"color\": \"#2a3f5f\"}, \"marker\": {\"line\": {\"color\": \"#E5ECF6\", \"width\": 0.5}}, \"type\": \"bar\"}], \"barpolar\": [{\"marker\": {\"line\": {\"color\": \"#E5ECF6\", \"width\": 0.5}}, \"type\": \"barpolar\"}], \"carpet\": [{\"aaxis\": {\"endlinecolor\": \"#2a3f5f\", \"gridcolor\": \"white\", \"linecolor\": \"white\", \"minorgridcolor\": \"white\", \"startlinecolor\": \"#2a3f5f\"}, \"baxis\": {\"endlinecolor\": \"#2a3f5f\", \"gridcolor\": \"white\", \"linecolor\": \"white\", \"minorgridcolor\": \"white\", \"startlinecolor\": \"#2a3f5f\"}, \"type\": \"carpet\"}], \"choropleth\": [{\"colorbar\": {\"outlinewidth\": 0, \"ticks\": \"\"}, \"type\": \"choropleth\"}], \"contour\": [{\"colorbar\": {\"outlinewidth\": 0, \"ticks\": \"\"}, \"colorscale\": [[0.0, \"#0d0887\"], [0.1111111111111111, \"#46039f\"], [0.2222222222222222, \"#7201a8\"], [0.3333333333333333, \"#9c179e\"], [0.4444444444444444, \"#bd3786\"], [0.5555555555555556, \"#d8576b\"], [0.6666666666666666, \"#ed7953\"], [0.7777777777777778, \"#fb9f3a\"], [0.8888888888888888, \"#fdca26\"], [1.0, \"#f0f921\"]], \"type\": \"contour\"}], \"contourcarpet\": [{\"colorbar\": {\"outlinewidth\": 0, \"ticks\": \"\"}, \"type\": \"contourcarpet\"}], \"heatmap\": [{\"colorbar\": {\"outlinewidth\": 0, \"ticks\": \"\"}, \"colorscale\": [[0.0, \"#0d0887\"], [0.1111111111111111, \"#46039f\"], [0.2222222222222222, \"#7201a8\"], [0.3333333333333333, \"#9c179e\"], [0.4444444444444444, \"#bd3786\"], [0.5555555555555556, \"#d8576b\"], [0.6666666666666666, \"#ed7953\"], [0.7777777777777778, \"#fb9f3a\"], [0.8888888888888888, \"#fdca26\"], [1.0, \"#f0f921\"]], \"type\": \"heatmap\"}], \"heatmapgl\": [{\"colorbar\": {\"outlinewidth\": 0, \"ticks\": \"\"}, \"colorscale\": [[0.0, \"#0d0887\"], [0.1111111111111111, \"#46039f\"], [0.2222222222222222, \"#7201a8\"], [0.3333333333333333, \"#9c179e\"], [0.4444444444444444, \"#bd3786\"], [0.5555555555555556, \"#d8576b\"], [0.6666666666666666, \"#ed7953\"], [0.7777777777777778, \"#fb9f3a\"], [0.8888888888888888, \"#fdca26\"], [1.0, \"#f0f921\"]], \"type\": \"heatmapgl\"}], \"histogram\": [{\"marker\": {\"colorbar\": {\"outlinewidth\": 0, \"ticks\": \"\"}}, \"type\": \"histogram\"}], \"histogram2d\": [{\"colorbar\": {\"outlinewidth\": 0, \"ticks\": \"\"}, \"colorscale\": [[0.0, \"#0d0887\"], [0.1111111111111111, \"#46039f\"], [0.2222222222222222, \"#7201a8\"], [0.3333333333333333, \"#9c179e\"], [0.4444444444444444, \"#bd3786\"], [0.5555555555555556, \"#d8576b\"], [0.6666666666666666, \"#ed7953\"], [0.7777777777777778, \"#fb9f3a\"], [0.8888888888888888, \"#fdca26\"], [1.0, \"#f0f921\"]], \"type\": \"histogram2d\"}], \"histogram2dcontour\": [{\"colorbar\": {\"outlinewidth\": 0, \"ticks\": \"\"}, \"colorscale\": [[0.0, \"#0d0887\"], [0.1111111111111111, \"#46039f\"], [0.2222222222222222, \"#7201a8\"], [0.3333333333333333, \"#9c179e\"], [0.4444444444444444, \"#bd3786\"], [0.5555555555555556, \"#d8576b\"], [0.6666666666666666, \"#ed7953\"], [0.7777777777777778, \"#fb9f3a\"], [0.8888888888888888, \"#fdca26\"], [1.0, \"#f0f921\"]], \"type\": \"histogram2dcontour\"}], \"mesh3d\": [{\"colorbar\": {\"outlinewidth\": 0, \"ticks\": \"\"}, \"type\": \"mesh3d\"}], \"parcoords\": [{\"line\": {\"colorbar\": {\"outlinewidth\": 0, \"ticks\": \"\"}}, \"type\": \"parcoords\"}], \"pie\": [{\"automargin\": true, \"type\": \"pie\"}], \"scatter\": [{\"marker\": {\"colorbar\": {\"outlinewidth\": 0, \"ticks\": \"\"}}, \"type\": \"scatter\"}], \"scatter3d\": [{\"line\": {\"colorbar\": {\"outlinewidth\": 0, \"ticks\": \"\"}}, \"marker\": {\"colorbar\": {\"outlinewidth\": 0, \"ticks\": \"\"}}, \"type\": \"scatter3d\"}], \"scattercarpet\": [{\"marker\": {\"colorbar\": {\"outlinewidth\": 0, \"ticks\": \"\"}}, \"type\": \"scattercarpet\"}], \"scattergeo\": [{\"marker\": {\"colorbar\": {\"outlinewidth\": 0, \"ticks\": \"\"}}, \"type\": \"scattergeo\"}], \"scattergl\": [{\"marker\": {\"colorbar\": {\"outlinewidth\": 0, \"ticks\": \"\"}}, \"type\": \"scattergl\"}], \"scattermapbox\": [{\"marker\": {\"colorbar\": {\"outlinewidth\": 0, \"ticks\": \"\"}}, \"type\": \"scattermapbox\"}], \"scatterpolar\": [{\"marker\": {\"colorbar\": {\"outlinewidth\": 0, \"ticks\": \"\"}}, \"type\": \"scatterpolar\"}], \"scatterpolargl\": [{\"marker\": {\"colorbar\": {\"outlinewidth\": 0, \"ticks\": \"\"}}, \"type\": \"scatterpolargl\"}], \"scatterternary\": [{\"marker\": {\"colorbar\": {\"outlinewidth\": 0, \"ticks\": \"\"}}, \"type\": \"scatterternary\"}], \"surface\": [{\"colorbar\": {\"outlinewidth\": 0, \"ticks\": \"\"}, \"colorscale\": [[0.0, \"#0d0887\"], [0.1111111111111111, \"#46039f\"], [0.2222222222222222, \"#7201a8\"], [0.3333333333333333, \"#9c179e\"], [0.4444444444444444, \"#bd3786\"], [0.5555555555555556, \"#d8576b\"], [0.6666666666666666, \"#ed7953\"], [0.7777777777777778, \"#fb9f3a\"], [0.8888888888888888, \"#fdca26\"], [1.0, \"#f0f921\"]], \"type\": \"surface\"}], \"table\": [{\"cells\": {\"fill\": {\"color\": \"#EBF0F8\"}, \"line\": {\"color\": \"white\"}}, \"header\": {\"fill\": {\"color\": \"#C8D4E3\"}, \"line\": {\"color\": \"white\"}}, \"type\": \"table\"}]}, \"layout\": {\"annotationdefaults\": {\"arrowcolor\": \"#2a3f5f\", \"arrowhead\": 0, \"arrowwidth\": 1}, \"coloraxis\": {\"colorbar\": {\"outlinewidth\": 0, \"ticks\": \"\"}}, \"colorscale\": {\"diverging\": [[0, \"#8e0152\"], [0.1, \"#c51b7d\"], [0.2, \"#de77ae\"], [0.3, \"#f1b6da\"], [0.4, \"#fde0ef\"], [0.5, \"#f7f7f7\"], [0.6, \"#e6f5d0\"], [0.7, \"#b8e186\"], [0.8, \"#7fbc41\"], [0.9, \"#4d9221\"], [1, \"#276419\"]], \"sequential\": [[0.0, \"#0d0887\"], [0.1111111111111111, \"#46039f\"], [0.2222222222222222, \"#7201a8\"], [0.3333333333333333, \"#9c179e\"], [0.4444444444444444, \"#bd3786\"], [0.5555555555555556, \"#d8576b\"], [0.6666666666666666, \"#ed7953\"], [0.7777777777777778, \"#fb9f3a\"], [0.8888888888888888, \"#fdca26\"], [1.0, \"#f0f921\"]], \"sequentialminus\": [[0.0, \"#0d0887\"], [0.1111111111111111, \"#46039f\"], [0.2222222222222222, \"#7201a8\"], [0.3333333333333333, \"#9c179e\"], [0.4444444444444444, \"#bd3786\"], [0.5555555555555556, \"#d8576b\"], [0.6666666666666666, \"#ed7953\"], [0.7777777777777778, \"#fb9f3a\"], [0.8888888888888888, \"#fdca26\"], [1.0, \"#f0f921\"]]}, \"colorway\": [\"#636efa\", \"#EF553B\", \"#00cc96\", \"#ab63fa\", \"#FFA15A\", \"#19d3f3\", \"#FF6692\", \"#B6E880\", \"#FF97FF\", \"#FECB52\"], \"font\": {\"color\": \"#2a3f5f\"}, \"geo\": {\"bgcolor\": \"white\", \"lakecolor\": \"white\", \"landcolor\": \"#E5ECF6\", \"showlakes\": true, \"showland\": true, \"subunitcolor\": \"white\"}, \"hoverlabel\": {\"align\": \"left\"}, \"hovermode\": \"closest\", \"mapbox\": {\"style\": \"light\"}, \"paper_bgcolor\": \"white\", \"plot_bgcolor\": \"#E5ECF6\", \"polar\": {\"angularaxis\": {\"gridcolor\": \"white\", \"linecolor\": \"white\", \"ticks\": \"\"}, \"bgcolor\": \"#E5ECF6\", \"radialaxis\": {\"gridcolor\": \"white\", \"linecolor\": \"white\", \"ticks\": \"\"}}, \"scene\": {\"xaxis\": {\"backgroundcolor\": \"#E5ECF6\", \"gridcolor\": \"white\", \"gridwidth\": 2, \"linecolor\": \"white\", \"showbackground\": true, \"ticks\": \"\", \"zerolinecolor\": \"white\"}, \"yaxis\": {\"backgroundcolor\": \"#E5ECF6\", \"gridcolor\": \"white\", \"gridwidth\": 2, \"linecolor\": \"white\", \"showbackground\": true, \"ticks\": \"\", \"zerolinecolor\": \"white\"}, \"zaxis\": {\"backgroundcolor\": \"#E5ECF6\", \"gridcolor\": \"white\", \"gridwidth\": 2, \"linecolor\": \"white\", \"showbackground\": true, \"ticks\": \"\", \"zerolinecolor\": \"white\"}}, \"shapedefaults\": {\"line\": {\"color\": \"#2a3f5f\"}}, \"ternary\": {\"aaxis\": {\"gridcolor\": \"white\", \"linecolor\": \"white\", \"ticks\": \"\"}, \"baxis\": {\"gridcolor\": \"white\", \"linecolor\": \"white\", \"ticks\": \"\"}, \"bgcolor\": \"#E5ECF6\", \"caxis\": {\"gridcolor\": \"white\", \"linecolor\": \"white\", \"ticks\": \"\"}}, \"title\": {\"x\": 0.05}, \"xaxis\": {\"automargin\": true, \"gridcolor\": \"white\", \"linecolor\": \"white\", \"ticks\": \"\", \"title\": {\"standoff\": 15}, \"zerolinecolor\": \"white\", \"zerolinewidth\": 2}, \"yaxis\": {\"automargin\": true, \"gridcolor\": \"white\", \"linecolor\": \"white\", \"ticks\": \"\", \"title\": {\"standoff\": 15}, \"zerolinecolor\": \"white\", \"zerolinewidth\": 2}}}, \"title\": {\"text\": \"Imports Brazil\"}, \"xaxis\": {\"title\": {\"text\": \"Year\"}}, \"yaxis\": {\"title\": {\"text\": \"Increase fold from 1993\"}}},\n",
       "                        {\"responsive\": true}\n",
       "                    ).then(function(){\n",
       "                            \n",
       "var gd = document.getElementById('9565950e-01bd-4c02-9836-e210c58845cc');\n",
       "var x = new MutationObserver(function (mutations, observer) {{\n",
       "        var display = window.getComputedStyle(gd).display;\n",
       "        if (!display || display === 'none') {{\n",
       "            console.log([gd, 'removed!']);\n",
       "            Plotly.purge(gd);\n",
       "            observer.disconnect();\n",
       "        }}\n",
       "}});\n",
       "\n",
       "// Listen for the removal of the full notebook cells\n",
       "var notebookContainer = gd.closest('#notebook-container');\n",
       "if (notebookContainer) {{\n",
       "    x.observe(notebookContainer, {childList: true});\n",
       "}}\n",
       "\n",
       "// Listen for the clearing of the current output cell\n",
       "var outputEl = gd.closest('.output');\n",
       "if (outputEl) {{\n",
       "    x.observe(outputEl, {childList: true});\n",
       "}}\n",
       "\n",
       "                        })\n",
       "                };\n",
       "                });\n",
       "            </script>\n",
       "        </div>"
      ]
     },
     "metadata": {},
     "output_type": "display_data"
    }
   ],
   "source": [
    "import plotly.graph_objects as go\n",
    "years = [str(year) for year in range(1993, 2017)] \n",
    "fig = go.Figure()\n",
    "items = df_imports_brazil['Item']\n",
    "for i in range(0, 10):\n",
    "    fig.add_trace(go.Scatter(x=years, y=df_imports_brazil.iloc[i][years], mode='lines', name=items[i], line = dict(width=4)))\n",
    "fig.update_layout(title='Imports Brazil',\n",
    "                   xaxis_title='Year',\n",
    "                   yaxis_title='Increase fold from 1993')"
   ]
  },
  {
   "cell_type": "code",
   "execution_count": 40,
   "metadata": {},
   "outputs": [],
   "source": [
    "df_soybeans_importers_brazil = df_trade.loc[df_trade['Exporter'] == 'Brazil'].loc[df_trade['Item'] == 'Soybeans']\n",
    "df_soybeans_importers_brazil = df_soybeans_importers_brazil.groupby(['Exporter', 'Importer'])\\\n",
    "                                                           .sum() \\\n",
    "                                                           .reset_index()\\\n",
    "                                                           .sort_values(['2016'], ascending=False)\\\n",
    "                                                           .reset_index()\\\n",
    "                                                           .drop(columns=['index'])"
   ]
  },
  {
   "cell_type": "code",
   "execution_count": 41,
   "metadata": {},
   "outputs": [
    {
     "data": {
      "text/html": [
       "<div>\n",
       "<style scoped>\n",
       "    .dataframe tbody tr th:only-of-type {\n",
       "        vertical-align: middle;\n",
       "    }\n",
       "\n",
       "    .dataframe tbody tr th {\n",
       "        vertical-align: top;\n",
       "    }\n",
       "\n",
       "    .dataframe thead th {\n",
       "        text-align: right;\n",
       "    }\n",
       "</style>\n",
       "<table border=\"1\" class=\"dataframe\">\n",
       "  <thead>\n",
       "    <tr style=\"text-align: right;\">\n",
       "      <th></th>\n",
       "      <th>index</th>\n",
       "      <th>Exporter</th>\n",
       "      <th>Importer</th>\n",
       "      <th>1993</th>\n",
       "      <th>1994</th>\n",
       "      <th>1995</th>\n",
       "      <th>1996</th>\n",
       "      <th>1997</th>\n",
       "      <th>1998</th>\n",
       "      <th>1999</th>\n",
       "      <th>...</th>\n",
       "      <th>2007</th>\n",
       "      <th>2008</th>\n",
       "      <th>2009</th>\n",
       "      <th>2010</th>\n",
       "      <th>2011</th>\n",
       "      <th>2012</th>\n",
       "      <th>2013</th>\n",
       "      <th>2014</th>\n",
       "      <th>2015</th>\n",
       "      <th>2016</th>\n",
       "    </tr>\n",
       "  </thead>\n",
       "  <tbody>\n",
       "    <tr>\n",
       "      <td>0</td>\n",
       "      <td>38</td>\n",
       "      <td>Brazil</td>\n",
       "      <td>China, mainland</td>\n",
       "      <td>5345.0</td>\n",
       "      <td>4513.0</td>\n",
       "      <td>18518.0</td>\n",
       "      <td>53349.0</td>\n",
       "      <td>443089.0</td>\n",
       "      <td>948178.0</td>\n",
       "      <td>873710.0</td>\n",
       "      <td>...</td>\n",
       "      <td>10668143.0</td>\n",
       "      <td>11918244.0</td>\n",
       "      <td>16143142.0</td>\n",
       "      <td>18774185.0</td>\n",
       "      <td>22494801.0</td>\n",
       "      <td>24418569.0</td>\n",
       "      <td>32537230.0</td>\n",
       "      <td>32953100.0</td>\n",
       "      <td>41281574.0</td>\n",
       "      <td>38879481.0</td>\n",
       "    </tr>\n",
       "    <tr>\n",
       "      <td>1</td>\n",
       "      <td>85</td>\n",
       "      <td>Brazil</td>\n",
       "      <td>Iran (Islamic Republic of)</td>\n",
       "      <td>0.0</td>\n",
       "      <td>0.0</td>\n",
       "      <td>0.0</td>\n",
       "      <td>0.0</td>\n",
       "      <td>15368.0</td>\n",
       "      <td>54851.0</td>\n",
       "      <td>294956.0</td>\n",
       "      <td>...</td>\n",
       "      <td>3119844.0</td>\n",
       "      <td>543807.0</td>\n",
       "      <td>1891836.0</td>\n",
       "      <td>1606530.0</td>\n",
       "      <td>2084199.0</td>\n",
       "      <td>3141785.0</td>\n",
       "      <td>2348631.0</td>\n",
       "      <td>4765630.0</td>\n",
       "      <td>4759892.0</td>\n",
       "      <td>5975745.0</td>\n",
       "    </tr>\n",
       "    <tr>\n",
       "      <td>2</td>\n",
       "      <td>91</td>\n",
       "      <td>Brazil</td>\n",
       "      <td>Japan</td>\n",
       "      <td>708816.0</td>\n",
       "      <td>879887.0</td>\n",
       "      <td>454021.0</td>\n",
       "      <td>475788.0</td>\n",
       "      <td>657264.0</td>\n",
       "      <td>631033.0</td>\n",
       "      <td>700994.0</td>\n",
       "      <td>...</td>\n",
       "      <td>611221.0</td>\n",
       "      <td>751519.0</td>\n",
       "      <td>1010731.0</td>\n",
       "      <td>1384846.0</td>\n",
       "      <td>1595097.0</td>\n",
       "      <td>3767358.0</td>\n",
       "      <td>5211574.0</td>\n",
       "      <td>2102874.0</td>\n",
       "      <td>3493046.0</td>\n",
       "      <td>4450669.0</td>\n",
       "    </tr>\n",
       "    <tr>\n",
       "      <td>3</td>\n",
       "      <td>187</td>\n",
       "      <td>Brazil</td>\n",
       "      <td>Viet Nam</td>\n",
       "      <td>0.0</td>\n",
       "      <td>0.0</td>\n",
       "      <td>115.0</td>\n",
       "      <td>160.0</td>\n",
       "      <td>5637.0</td>\n",
       "      <td>5732.0</td>\n",
       "      <td>431.0</td>\n",
       "      <td>...</td>\n",
       "      <td>10234.0</td>\n",
       "      <td>122069.0</td>\n",
       "      <td>212867.0</td>\n",
       "      <td>407406.0</td>\n",
       "      <td>669488.0</td>\n",
       "      <td>718245.0</td>\n",
       "      <td>1813989.0</td>\n",
       "      <td>3784332.0</td>\n",
       "      <td>6058578.0</td>\n",
       "      <td>3534948.0</td>\n",
       "    </tr>\n",
       "    <tr>\n",
       "      <td>4</td>\n",
       "      <td>143</td>\n",
       "      <td>Brazil</td>\n",
       "      <td>Republic of Korea</td>\n",
       "      <td>116345.0</td>\n",
       "      <td>187850.0</td>\n",
       "      <td>62773.0</td>\n",
       "      <td>124003.0</td>\n",
       "      <td>42044.0</td>\n",
       "      <td>42156.0</td>\n",
       "      <td>111493.0</td>\n",
       "      <td>...</td>\n",
       "      <td>1435164.0</td>\n",
       "      <td>1028629.0</td>\n",
       "      <td>1371642.0</td>\n",
       "      <td>959115.0</td>\n",
       "      <td>716047.0</td>\n",
       "      <td>3122478.0</td>\n",
       "      <td>4687774.0</td>\n",
       "      <td>2534397.0</td>\n",
       "      <td>4061782.0</td>\n",
       "      <td>3276632.0</td>\n",
       "    </tr>\n",
       "    <tr>\n",
       "      <td>...</td>\n",
       "      <td>...</td>\n",
       "      <td>...</td>\n",
       "      <td>...</td>\n",
       "      <td>...</td>\n",
       "      <td>...</td>\n",
       "      <td>...</td>\n",
       "      <td>...</td>\n",
       "      <td>...</td>\n",
       "      <td>...</td>\n",
       "      <td>...</td>\n",
       "      <td>...</td>\n",
       "      <td>...</td>\n",
       "      <td>...</td>\n",
       "      <td>...</td>\n",
       "      <td>...</td>\n",
       "      <td>...</td>\n",
       "      <td>...</td>\n",
       "      <td>...</td>\n",
       "      <td>...</td>\n",
       "      <td>...</td>\n",
       "      <td>...</td>\n",
       "    </tr>\n",
       "    <tr>\n",
       "      <td>186</td>\n",
       "      <td>106</td>\n",
       "      <td>Brazil</td>\n",
       "      <td>Madagascar</td>\n",
       "      <td>27.0</td>\n",
       "      <td>27.0</td>\n",
       "      <td>58.0</td>\n",
       "      <td>0.0</td>\n",
       "      <td>10.0</td>\n",
       "      <td>38.0</td>\n",
       "      <td>29.0</td>\n",
       "      <td>...</td>\n",
       "      <td>258.0</td>\n",
       "      <td>506.0</td>\n",
       "      <td>453.0</td>\n",
       "      <td>40.0</td>\n",
       "      <td>27.0</td>\n",
       "      <td>324.0</td>\n",
       "      <td>24.0</td>\n",
       "      <td>46.0</td>\n",
       "      <td>22.0</td>\n",
       "      <td>0.0</td>\n",
       "    </tr>\n",
       "    <tr>\n",
       "      <td>187</td>\n",
       "      <td>102</td>\n",
       "      <td>Brazil</td>\n",
       "      <td>Liberia</td>\n",
       "      <td>0.0</td>\n",
       "      <td>0.0</td>\n",
       "      <td>0.0</td>\n",
       "      <td>0.0</td>\n",
       "      <td>0.0</td>\n",
       "      <td>0.0</td>\n",
       "      <td>0.0</td>\n",
       "      <td>...</td>\n",
       "      <td>0.0</td>\n",
       "      <td>0.0</td>\n",
       "      <td>0.0</td>\n",
       "      <td>0.0</td>\n",
       "      <td>14000.0</td>\n",
       "      <td>0.0</td>\n",
       "      <td>0.0</td>\n",
       "      <td>25.0</td>\n",
       "      <td>0.0</td>\n",
       "      <td>0.0</td>\n",
       "    </tr>\n",
       "    <tr>\n",
       "      <td>188</td>\n",
       "      <td>97</td>\n",
       "      <td>Brazil</td>\n",
       "      <td>Kyrgyzstan</td>\n",
       "      <td>0.0</td>\n",
       "      <td>0.0</td>\n",
       "      <td>0.0</td>\n",
       "      <td>0.0</td>\n",
       "      <td>0.0</td>\n",
       "      <td>35.0</td>\n",
       "      <td>60.0</td>\n",
       "      <td>...</td>\n",
       "      <td>269.0</td>\n",
       "      <td>267.0</td>\n",
       "      <td>317.0</td>\n",
       "      <td>220.0</td>\n",
       "      <td>358.0</td>\n",
       "      <td>383.0</td>\n",
       "      <td>0.0</td>\n",
       "      <td>0.0</td>\n",
       "      <td>1.0</td>\n",
       "      <td>0.0</td>\n",
       "    </tr>\n",
       "    <tr>\n",
       "      <td>189</td>\n",
       "      <td>90</td>\n",
       "      <td>Brazil</td>\n",
       "      <td>Jamaica</td>\n",
       "      <td>0.0</td>\n",
       "      <td>69.0</td>\n",
       "      <td>59.0</td>\n",
       "      <td>88.0</td>\n",
       "      <td>119.0</td>\n",
       "      <td>236.0</td>\n",
       "      <td>158.0</td>\n",
       "      <td>...</td>\n",
       "      <td>52.0</td>\n",
       "      <td>30.0</td>\n",
       "      <td>91.0</td>\n",
       "      <td>73.0</td>\n",
       "      <td>30.0</td>\n",
       "      <td>20.0</td>\n",
       "      <td>29288.0</td>\n",
       "      <td>28.0</td>\n",
       "      <td>63.0</td>\n",
       "      <td>0.0</td>\n",
       "    </tr>\n",
       "    <tr>\n",
       "      <td>190</td>\n",
       "      <td>190</td>\n",
       "      <td>Brazil</td>\n",
       "      <td>Zimbabwe</td>\n",
       "      <td>1.0</td>\n",
       "      <td>0.0</td>\n",
       "      <td>500.0</td>\n",
       "      <td>1.0</td>\n",
       "      <td>19.0</td>\n",
       "      <td>17239.0</td>\n",
       "      <td>298.0</td>\n",
       "      <td>...</td>\n",
       "      <td>0.0</td>\n",
       "      <td>0.0</td>\n",
       "      <td>0.0</td>\n",
       "      <td>29.0</td>\n",
       "      <td>23470.0</td>\n",
       "      <td>0.0</td>\n",
       "      <td>0.0</td>\n",
       "      <td>50.0</td>\n",
       "      <td>0.0</td>\n",
       "      <td>0.0</td>\n",
       "    </tr>\n",
       "  </tbody>\n",
       "</table>\n",
       "<p>191 rows × 27 columns</p>\n",
       "</div>"
      ],
      "text/plain": [
       "     index Exporter                    Importer      1993      1994      1995  \\\n",
       "0       38   Brazil             China, mainland    5345.0    4513.0   18518.0   \n",
       "1       85   Brazil  Iran (Islamic Republic of)       0.0       0.0       0.0   \n",
       "2       91   Brazil                       Japan  708816.0  879887.0  454021.0   \n",
       "3      187   Brazil                    Viet Nam       0.0       0.0     115.0   \n",
       "4      143   Brazil           Republic of Korea  116345.0  187850.0   62773.0   \n",
       "..     ...      ...                         ...       ...       ...       ...   \n",
       "186    106   Brazil                  Madagascar      27.0      27.0      58.0   \n",
       "187    102   Brazil                     Liberia       0.0       0.0       0.0   \n",
       "188     97   Brazil                  Kyrgyzstan       0.0       0.0       0.0   \n",
       "189     90   Brazil                     Jamaica       0.0      69.0      59.0   \n",
       "190    190   Brazil                    Zimbabwe       1.0       0.0     500.0   \n",
       "\n",
       "         1996      1997      1998      1999  ...        2007        2008  \\\n",
       "0     53349.0  443089.0  948178.0  873710.0  ...  10668143.0  11918244.0   \n",
       "1         0.0   15368.0   54851.0  294956.0  ...   3119844.0    543807.0   \n",
       "2    475788.0  657264.0  631033.0  700994.0  ...    611221.0    751519.0   \n",
       "3       160.0    5637.0    5732.0     431.0  ...     10234.0    122069.0   \n",
       "4    124003.0   42044.0   42156.0  111493.0  ...   1435164.0   1028629.0   \n",
       "..        ...       ...       ...       ...  ...         ...         ...   \n",
       "186       0.0      10.0      38.0      29.0  ...       258.0       506.0   \n",
       "187       0.0       0.0       0.0       0.0  ...         0.0         0.0   \n",
       "188       0.0       0.0      35.0      60.0  ...       269.0       267.0   \n",
       "189      88.0     119.0     236.0     158.0  ...        52.0        30.0   \n",
       "190       1.0      19.0   17239.0     298.0  ...         0.0         0.0   \n",
       "\n",
       "           2009        2010        2011        2012        2013        2014  \\\n",
       "0    16143142.0  18774185.0  22494801.0  24418569.0  32537230.0  32953100.0   \n",
       "1     1891836.0   1606530.0   2084199.0   3141785.0   2348631.0   4765630.0   \n",
       "2     1010731.0   1384846.0   1595097.0   3767358.0   5211574.0   2102874.0   \n",
       "3      212867.0    407406.0    669488.0    718245.0   1813989.0   3784332.0   \n",
       "4     1371642.0    959115.0    716047.0   3122478.0   4687774.0   2534397.0   \n",
       "..          ...         ...         ...         ...         ...         ...   \n",
       "186       453.0        40.0        27.0       324.0        24.0        46.0   \n",
       "187         0.0         0.0     14000.0         0.0         0.0        25.0   \n",
       "188       317.0       220.0       358.0       383.0         0.0         0.0   \n",
       "189        91.0        73.0        30.0        20.0     29288.0        28.0   \n",
       "190         0.0        29.0     23470.0         0.0         0.0        50.0   \n",
       "\n",
       "           2015        2016  \n",
       "0    41281574.0  38879481.0  \n",
       "1     4759892.0   5975745.0  \n",
       "2     3493046.0   4450669.0  \n",
       "3     6058578.0   3534948.0  \n",
       "4     4061782.0   3276632.0  \n",
       "..          ...         ...  \n",
       "186        22.0         0.0  \n",
       "187         0.0         0.0  \n",
       "188         1.0         0.0  \n",
       "189        63.0         0.0  \n",
       "190         0.0         0.0  \n",
       "\n",
       "[191 rows x 27 columns]"
      ]
     },
     "execution_count": 41,
     "metadata": {},
     "output_type": "execute_result"
    }
   ],
   "source": [
    "df_importers_brazil"
   ]
  },
  {
   "cell_type": "code",
   "execution_count": 42,
   "metadata": {},
   "outputs": [
    {
     "data": {
      "application/vnd.plotly.v1+json": {
       "config": {
        "plotlyServerURL": "https://plot.ly"
       },
       "data": [
        {
         "line": {
          "width": 4
         },
         "mode": "lines",
         "name": "China, mainland",
         "type": "scatter",
         "x": [
          "1993",
          "1994",
          "1995",
          "1996",
          "1997",
          "1998",
          "1999",
          "2000",
          "2001",
          "2002",
          "2003",
          "2004",
          "2005",
          "2006",
          "2007",
          "2008",
          "2009",
          "2010",
          "2011",
          "2012",
          "2013",
          "2014",
          "2015",
          "2016"
         ],
         "y": [
          0,
          0,
          7000,
          52747,
          439882,
          944972,
          860105,
          2119545,
          3192323,
          4142665,
          6470159,
          5678005,
          7951712,
          11620230,
          10582110,
          11823570,
          15993810,
          18587210,
          22104720,
          23891340,
          32251520,
          32664328,
          40925507,
          38563909
         ]
        },
        {
         "line": {
          "width": 4
         },
         "mode": "lines",
         "name": "Thailand",
         "type": "scatter",
         "x": [
          "1993",
          "1994",
          "1995",
          "1996",
          "1997",
          "1998",
          "1999",
          "2000",
          "2001",
          "2002",
          "2003",
          "2004",
          "2005",
          "2006",
          "2007",
          "2008",
          "2009",
          "2010",
          "2011",
          "2012",
          "2013",
          "2014",
          "2015",
          "2016"
         ],
         "y": [
          0,
          97988,
          18500,
          8000,
          294166,
          118250,
          70816,
          155162,
          57621,
          104430,
          154353,
          419390,
          632068,
          767080,
          918057,
          1364580,
          929812,
          1288746,
          1242016,
          1294530,
          1121863,
          1244266,
          1761938,
          1979470
         ]
        },
        {
         "line": {
          "width": 4
         },
         "mode": "lines",
         "name": "Spain",
         "type": "scatter",
         "x": [
          "1993",
          "1994",
          "1995",
          "1996",
          "1997",
          "1998",
          "1999",
          "2000",
          "2001",
          "2002",
          "2003",
          "2004",
          "2005",
          "2006",
          "2007",
          "2008",
          "2009",
          "2010",
          "2011",
          "2012",
          "2013",
          "2014",
          "2015",
          "2016"
         ],
         "y": [
          548167,
          360779,
          637871,
          501707,
          922289,
          984170,
          1416228,
          1181662,
          1370864,
          1284067,
          1569663,
          1655738,
          2089359,
          1866685,
          2356073,
          2626567,
          2240901,
          1874991,
          2369270,
          2377674,
          1962643,
          2120346,
          2376257,
          1854043
         ]
        },
        {
         "line": {
          "width": 4
         },
         "mode": "lines",
         "name": "Netherlands",
         "type": "scatter",
         "x": [
          "1993",
          "1994",
          "1995",
          "1996",
          "1997",
          "1998",
          "1999",
          "2000",
          "2001",
          "2002",
          "2003",
          "2004",
          "2005",
          "2006",
          "2007",
          "2008",
          "2009",
          "2010",
          "2011",
          "2012",
          "2013",
          "2014",
          "2015",
          "2016"
         ],
         "y": [
          1895866,
          2965885,
          1738713,
          2075524,
          4320864,
          2972473,
          3021948,
          3448717,
          3501370,
          3235158,
          3669291,
          3569139,
          5049511,
          3742297,
          3359329,
          2413243,
          2366889,
          1437354,
          1520683,
          1036919,
          1585903,
          2000437,
          1496072,
          1518146
         ]
        },
        {
         "line": {
          "width": 4
         },
         "mode": "lines",
         "name": "Iran (Islamic Republic of)",
         "type": "scatter",
         "x": [
          "1993",
          "1994",
          "1995",
          "1996",
          "1997",
          "1998",
          "1999",
          "2000",
          "2001",
          "2002",
          "2003",
          "2004",
          "2005",
          "2006",
          "2007",
          "2008",
          "2009",
          "2010",
          "2011",
          "2012",
          "2013",
          "2014",
          "2015",
          "2016"
         ],
         "y": [
          0,
          0,
          0,
          0,
          0,
          19350,
          136500,
          318544,
          522131,
          355003,
          524119,
          627500,
          842529,
          928809,
          390990,
          68500,
          117000,
          58099,
          174235,
          19706,
          131325,
          66611,
          551592,
          1182706
         ]
        },
        {
         "line": {
          "width": 4
         },
         "mode": "lines",
         "name": "China, Taiwan Province of",
         "type": "scatter",
         "x": [
          "1993",
          "1994",
          "1995",
          "1996",
          "1997",
          "1998",
          "1999",
          "2000",
          "2001",
          "2002",
          "2003",
          "2004",
          "2005",
          "2006",
          "2007",
          "2008",
          "2009",
          "2010",
          "2011",
          "2012",
          "2013",
          "2014",
          "2015",
          "2016"
         ],
         "y": [
          0,
          56691,
          0,
          0,
          355812,
          476814,
          12220,
          185235,
          342451,
          280943,
          584669,
          841004,
          546994,
          526730,
          216107,
          187993,
          621666,
          877730,
          990337,
          1128822,
          984829,
          933890,
          1099321,
          1111411
         ]
        },
        {
         "line": {
          "width": 4
         },
         "mode": "lines",
         "name": "Russian Federation",
         "type": "scatter",
         "x": [
          "1993",
          "1994",
          "1995",
          "1996",
          "1997",
          "1998",
          "1999",
          "2000",
          "2001",
          "2002",
          "2003",
          "2004",
          "2005",
          "2006",
          "2007",
          "2008",
          "2009",
          "2010",
          "2011",
          "2012",
          "2013",
          "2014",
          "2015",
          "2016"
         ],
         "y": [
          0,
          0,
          0,
          0,
          42992,
          4500,
          0,
          0,
          0,
          53192,
          15250,
          0,
          33685,
          0,
          124276,
          396346,
          369571,
          420772,
          302403,
          125104,
          0,
          547105,
          550333,
          1017379
         ]
        },
        {
         "line": {
          "width": 4
         },
         "mode": "lines",
         "name": "Germany",
         "type": "scatter",
         "x": [
          "1993",
          "1994",
          "1995",
          "1996",
          "1997",
          "1998",
          "1999",
          "2000",
          "2001",
          "2002",
          "2003",
          "2004",
          "2005",
          "2006",
          "2007",
          "2008",
          "2009",
          "2010",
          "2011",
          "2012",
          "2013",
          "2014",
          "2015",
          "2016"
         ],
         "y": [
          650083,
          765745,
          490331,
          527916,
          1022736,
          1111918,
          1129254,
          1244739,
          1717608,
          1587799,
          2206528,
          1635513,
          1415422,
          1049979,
          1105060,
          982655,
          1533256,
          715401,
          725156,
          601446,
          344979,
          1050007,
          773684,
          758246
         ]
        },
        {
         "line": {
          "width": 4
         },
         "mode": "lines",
         "name": "Republic of Korea",
         "type": "scatter",
         "x": [
          "1993",
          "1994",
          "1995",
          "1996",
          "1997",
          "1998",
          "1999",
          "2000",
          "2001",
          "2002",
          "2003",
          "2004",
          "2005",
          "2006",
          "2007",
          "2008",
          "2009",
          "2010",
          "2011",
          "2012",
          "2013",
          "2014",
          "2015",
          "2016"
         ],
         "y": [
          103264,
          176643,
          52836,
          109418,
          34948,
          36338,
          104467,
          125204,
          109515,
          193020,
          246353,
          219733,
          459392,
          601531,
          586972,
          577150,
          505917,
          447020,
          446030,
          358765,
          396906,
          465511,
          745814,
          524340
         ]
        },
        {
         "line": {
          "width": 4
         },
         "mode": "lines",
         "name": "Japan",
         "type": "scatter",
         "x": [
          "1993",
          "1994",
          "1995",
          "1996",
          "1997",
          "1998",
          "1999",
          "2000",
          "2001",
          "2002",
          "2003",
          "2004",
          "2005",
          "2006",
          "2007",
          "2008",
          "2009",
          "2010",
          "2011",
          "2012",
          "2013",
          "2014",
          "2015",
          "2016"
         ],
         "y": [
          616636,
          780029,
          362155,
          378934,
          558644,
          523589,
          584749,
          751238,
          768490,
          812425,
          889920,
          778523,
          562540,
          377586,
          388366,
          568024,
          586781,
          568015,
          536111,
          548339,
          649093,
          590605,
          507486,
          524307
         ]
        }
       ],
       "layout": {
        "autosize": true,
        "template": {
         "data": {
          "bar": [
           {
            "error_x": {
             "color": "#2a3f5f"
            },
            "error_y": {
             "color": "#2a3f5f"
            },
            "marker": {
             "line": {
              "color": "#E5ECF6",
              "width": 0.5
             }
            },
            "type": "bar"
           }
          ],
          "barpolar": [
           {
            "marker": {
             "line": {
              "color": "#E5ECF6",
              "width": 0.5
             }
            },
            "type": "barpolar"
           }
          ],
          "carpet": [
           {
            "aaxis": {
             "endlinecolor": "#2a3f5f",
             "gridcolor": "white",
             "linecolor": "white",
             "minorgridcolor": "white",
             "startlinecolor": "#2a3f5f"
            },
            "baxis": {
             "endlinecolor": "#2a3f5f",
             "gridcolor": "white",
             "linecolor": "white",
             "minorgridcolor": "white",
             "startlinecolor": "#2a3f5f"
            },
            "type": "carpet"
           }
          ],
          "choropleth": [
           {
            "colorbar": {
             "outlinewidth": 0,
             "ticks": ""
            },
            "type": "choropleth"
           }
          ],
          "contour": [
           {
            "colorbar": {
             "outlinewidth": 0,
             "ticks": ""
            },
            "colorscale": [
             [
              0,
              "#0d0887"
             ],
             [
              0.1111111111111111,
              "#46039f"
             ],
             [
              0.2222222222222222,
              "#7201a8"
             ],
             [
              0.3333333333333333,
              "#9c179e"
             ],
             [
              0.4444444444444444,
              "#bd3786"
             ],
             [
              0.5555555555555556,
              "#d8576b"
             ],
             [
              0.6666666666666666,
              "#ed7953"
             ],
             [
              0.7777777777777778,
              "#fb9f3a"
             ],
             [
              0.8888888888888888,
              "#fdca26"
             ],
             [
              1,
              "#f0f921"
             ]
            ],
            "type": "contour"
           }
          ],
          "contourcarpet": [
           {
            "colorbar": {
             "outlinewidth": 0,
             "ticks": ""
            },
            "type": "contourcarpet"
           }
          ],
          "heatmap": [
           {
            "colorbar": {
             "outlinewidth": 0,
             "ticks": ""
            },
            "colorscale": [
             [
              0,
              "#0d0887"
             ],
             [
              0.1111111111111111,
              "#46039f"
             ],
             [
              0.2222222222222222,
              "#7201a8"
             ],
             [
              0.3333333333333333,
              "#9c179e"
             ],
             [
              0.4444444444444444,
              "#bd3786"
             ],
             [
              0.5555555555555556,
              "#d8576b"
             ],
             [
              0.6666666666666666,
              "#ed7953"
             ],
             [
              0.7777777777777778,
              "#fb9f3a"
             ],
             [
              0.8888888888888888,
              "#fdca26"
             ],
             [
              1,
              "#f0f921"
             ]
            ],
            "type": "heatmap"
           }
          ],
          "heatmapgl": [
           {
            "colorbar": {
             "outlinewidth": 0,
             "ticks": ""
            },
            "colorscale": [
             [
              0,
              "#0d0887"
             ],
             [
              0.1111111111111111,
              "#46039f"
             ],
             [
              0.2222222222222222,
              "#7201a8"
             ],
             [
              0.3333333333333333,
              "#9c179e"
             ],
             [
              0.4444444444444444,
              "#bd3786"
             ],
             [
              0.5555555555555556,
              "#d8576b"
             ],
             [
              0.6666666666666666,
              "#ed7953"
             ],
             [
              0.7777777777777778,
              "#fb9f3a"
             ],
             [
              0.8888888888888888,
              "#fdca26"
             ],
             [
              1,
              "#f0f921"
             ]
            ],
            "type": "heatmapgl"
           }
          ],
          "histogram": [
           {
            "marker": {
             "colorbar": {
              "outlinewidth": 0,
              "ticks": ""
             }
            },
            "type": "histogram"
           }
          ],
          "histogram2d": [
           {
            "colorbar": {
             "outlinewidth": 0,
             "ticks": ""
            },
            "colorscale": [
             [
              0,
              "#0d0887"
             ],
             [
              0.1111111111111111,
              "#46039f"
             ],
             [
              0.2222222222222222,
              "#7201a8"
             ],
             [
              0.3333333333333333,
              "#9c179e"
             ],
             [
              0.4444444444444444,
              "#bd3786"
             ],
             [
              0.5555555555555556,
              "#d8576b"
             ],
             [
              0.6666666666666666,
              "#ed7953"
             ],
             [
              0.7777777777777778,
              "#fb9f3a"
             ],
             [
              0.8888888888888888,
              "#fdca26"
             ],
             [
              1,
              "#f0f921"
             ]
            ],
            "type": "histogram2d"
           }
          ],
          "histogram2dcontour": [
           {
            "colorbar": {
             "outlinewidth": 0,
             "ticks": ""
            },
            "colorscale": [
             [
              0,
              "#0d0887"
             ],
             [
              0.1111111111111111,
              "#46039f"
             ],
             [
              0.2222222222222222,
              "#7201a8"
             ],
             [
              0.3333333333333333,
              "#9c179e"
             ],
             [
              0.4444444444444444,
              "#bd3786"
             ],
             [
              0.5555555555555556,
              "#d8576b"
             ],
             [
              0.6666666666666666,
              "#ed7953"
             ],
             [
              0.7777777777777778,
              "#fb9f3a"
             ],
             [
              0.8888888888888888,
              "#fdca26"
             ],
             [
              1,
              "#f0f921"
             ]
            ],
            "type": "histogram2dcontour"
           }
          ],
          "mesh3d": [
           {
            "colorbar": {
             "outlinewidth": 0,
             "ticks": ""
            },
            "type": "mesh3d"
           }
          ],
          "parcoords": [
           {
            "line": {
             "colorbar": {
              "outlinewidth": 0,
              "ticks": ""
             }
            },
            "type": "parcoords"
           }
          ],
          "pie": [
           {
            "automargin": true,
            "type": "pie"
           }
          ],
          "scatter": [
           {
            "marker": {
             "colorbar": {
              "outlinewidth": 0,
              "ticks": ""
             }
            },
            "type": "scatter"
           }
          ],
          "scatter3d": [
           {
            "line": {
             "colorbar": {
              "outlinewidth": 0,
              "ticks": ""
             }
            },
            "marker": {
             "colorbar": {
              "outlinewidth": 0,
              "ticks": ""
             }
            },
            "type": "scatter3d"
           }
          ],
          "scattercarpet": [
           {
            "marker": {
             "colorbar": {
              "outlinewidth": 0,
              "ticks": ""
             }
            },
            "type": "scattercarpet"
           }
          ],
          "scattergeo": [
           {
            "marker": {
             "colorbar": {
              "outlinewidth": 0,
              "ticks": ""
             }
            },
            "type": "scattergeo"
           }
          ],
          "scattergl": [
           {
            "marker": {
             "colorbar": {
              "outlinewidth": 0,
              "ticks": ""
             }
            },
            "type": "scattergl"
           }
          ],
          "scattermapbox": [
           {
            "marker": {
             "colorbar": {
              "outlinewidth": 0,
              "ticks": ""
             }
            },
            "type": "scattermapbox"
           }
          ],
          "scatterpolar": [
           {
            "marker": {
             "colorbar": {
              "outlinewidth": 0,
              "ticks": ""
             }
            },
            "type": "scatterpolar"
           }
          ],
          "scatterpolargl": [
           {
            "marker": {
             "colorbar": {
              "outlinewidth": 0,
              "ticks": ""
             }
            },
            "type": "scatterpolargl"
           }
          ],
          "scatterternary": [
           {
            "marker": {
             "colorbar": {
              "outlinewidth": 0,
              "ticks": ""
             }
            },
            "type": "scatterternary"
           }
          ],
          "surface": [
           {
            "colorbar": {
             "outlinewidth": 0,
             "ticks": ""
            },
            "colorscale": [
             [
              0,
              "#0d0887"
             ],
             [
              0.1111111111111111,
              "#46039f"
             ],
             [
              0.2222222222222222,
              "#7201a8"
             ],
             [
              0.3333333333333333,
              "#9c179e"
             ],
             [
              0.4444444444444444,
              "#bd3786"
             ],
             [
              0.5555555555555556,
              "#d8576b"
             ],
             [
              0.6666666666666666,
              "#ed7953"
             ],
             [
              0.7777777777777778,
              "#fb9f3a"
             ],
             [
              0.8888888888888888,
              "#fdca26"
             ],
             [
              1,
              "#f0f921"
             ]
            ],
            "type": "surface"
           }
          ],
          "table": [
           {
            "cells": {
             "fill": {
              "color": "#EBF0F8"
             },
             "line": {
              "color": "white"
             }
            },
            "header": {
             "fill": {
              "color": "#C8D4E3"
             },
             "line": {
              "color": "white"
             }
            },
            "type": "table"
           }
          ]
         },
         "layout": {
          "annotationdefaults": {
           "arrowcolor": "#2a3f5f",
           "arrowhead": 0,
           "arrowwidth": 1
          },
          "coloraxis": {
           "colorbar": {
            "outlinewidth": 0,
            "ticks": ""
           }
          },
          "colorscale": {
           "diverging": [
            [
             0,
             "#8e0152"
            ],
            [
             0.1,
             "#c51b7d"
            ],
            [
             0.2,
             "#de77ae"
            ],
            [
             0.3,
             "#f1b6da"
            ],
            [
             0.4,
             "#fde0ef"
            ],
            [
             0.5,
             "#f7f7f7"
            ],
            [
             0.6,
             "#e6f5d0"
            ],
            [
             0.7,
             "#b8e186"
            ],
            [
             0.8,
             "#7fbc41"
            ],
            [
             0.9,
             "#4d9221"
            ],
            [
             1,
             "#276419"
            ]
           ],
           "sequential": [
            [
             0,
             "#0d0887"
            ],
            [
             0.1111111111111111,
             "#46039f"
            ],
            [
             0.2222222222222222,
             "#7201a8"
            ],
            [
             0.3333333333333333,
             "#9c179e"
            ],
            [
             0.4444444444444444,
             "#bd3786"
            ],
            [
             0.5555555555555556,
             "#d8576b"
            ],
            [
             0.6666666666666666,
             "#ed7953"
            ],
            [
             0.7777777777777778,
             "#fb9f3a"
            ],
            [
             0.8888888888888888,
             "#fdca26"
            ],
            [
             1,
             "#f0f921"
            ]
           ],
           "sequentialminus": [
            [
             0,
             "#0d0887"
            ],
            [
             0.1111111111111111,
             "#46039f"
            ],
            [
             0.2222222222222222,
             "#7201a8"
            ],
            [
             0.3333333333333333,
             "#9c179e"
            ],
            [
             0.4444444444444444,
             "#bd3786"
            ],
            [
             0.5555555555555556,
             "#d8576b"
            ],
            [
             0.6666666666666666,
             "#ed7953"
            ],
            [
             0.7777777777777778,
             "#fb9f3a"
            ],
            [
             0.8888888888888888,
             "#fdca26"
            ],
            [
             1,
             "#f0f921"
            ]
           ]
          },
          "colorway": [
           "#636efa",
           "#EF553B",
           "#00cc96",
           "#ab63fa",
           "#FFA15A",
           "#19d3f3",
           "#FF6692",
           "#B6E880",
           "#FF97FF",
           "#FECB52"
          ],
          "font": {
           "color": "#2a3f5f"
          },
          "geo": {
           "bgcolor": "white",
           "lakecolor": "white",
           "landcolor": "#E5ECF6",
           "showlakes": true,
           "showland": true,
           "subunitcolor": "white"
          },
          "hoverlabel": {
           "align": "left"
          },
          "hovermode": "closest",
          "mapbox": {
           "style": "light"
          },
          "paper_bgcolor": "white",
          "plot_bgcolor": "#E5ECF6",
          "polar": {
           "angularaxis": {
            "gridcolor": "white",
            "linecolor": "white",
            "ticks": ""
           },
           "bgcolor": "#E5ECF6",
           "radialaxis": {
            "gridcolor": "white",
            "linecolor": "white",
            "ticks": ""
           }
          },
          "scene": {
           "xaxis": {
            "backgroundcolor": "#E5ECF6",
            "gridcolor": "white",
            "gridwidth": 2,
            "linecolor": "white",
            "showbackground": true,
            "ticks": "",
            "zerolinecolor": "white"
           },
           "yaxis": {
            "backgroundcolor": "#E5ECF6",
            "gridcolor": "white",
            "gridwidth": 2,
            "linecolor": "white",
            "showbackground": true,
            "ticks": "",
            "zerolinecolor": "white"
           },
           "zaxis": {
            "backgroundcolor": "#E5ECF6",
            "gridcolor": "white",
            "gridwidth": 2,
            "linecolor": "white",
            "showbackground": true,
            "ticks": "",
            "zerolinecolor": "white"
           }
          },
          "shapedefaults": {
           "line": {
            "color": "#2a3f5f"
           }
          },
          "ternary": {
           "aaxis": {
            "gridcolor": "white",
            "linecolor": "white",
            "ticks": ""
           },
           "baxis": {
            "gridcolor": "white",
            "linecolor": "white",
            "ticks": ""
           },
           "bgcolor": "#E5ECF6",
           "caxis": {
            "gridcolor": "white",
            "linecolor": "white",
            "ticks": ""
           }
          },
          "title": {
           "x": 0.05
          },
          "xaxis": {
           "automargin": true,
           "gridcolor": "white",
           "linecolor": "white",
           "ticks": "",
           "title": {
            "standoff": 15
           },
           "zerolinecolor": "white",
           "zerolinewidth": 2
          },
          "yaxis": {
           "automargin": true,
           "gridcolor": "white",
           "linecolor": "white",
           "ticks": "",
           "title": {
            "standoff": 15
           },
           "zerolinecolor": "white",
           "zerolinewidth": 2
          }
         }
        },
        "title": {
         "text": "Main countries to which Brazil exports soybeans"
        },
        "xaxis": {
         "autorange": true,
         "range": [
          1993,
          2016
         ],
         "title": {
          "text": "Year"
         },
         "type": "linear"
        },
        "yaxis": {
         "autorange": true,
         "range": [
          -2273639.2777777775,
          43199146.277777776
         ],
         "title": {
          "text": "Increase fold from 1993"
         },
         "type": "linear"
        }
       }
      },
      "image/png": "[encoded data removed]",
      "text/html": [
       "<div>\n",
       "        \n",
       "        \n",
       "            <div id=\"581b41a8-5047-4f2d-884d-146c495046c5\" class=\"plotly-graph-div\" style=\"height:525px; width:100%;\"></div>\n",
       "            <script type=\"text/javascript\">\n",
       "                require([\"plotly\"], function(Plotly) {\n",
       "                    window.PLOTLYENV=window.PLOTLYENV || {};\n",
       "                    \n",
       "                if (document.getElementById(\"581b41a8-5047-4f2d-884d-146c495046c5\")) {\n",
       "                    Plotly.newPlot(\n",
       "                        '581b41a8-5047-4f2d-884d-146c495046c5',\n",
       "                        [{\"line\": {\"width\": 4}, \"mode\": \"lines\", \"name\": \"China, mainland\", \"type\": \"scatter\", \"x\": [\"1993\", \"1994\", \"1995\", \"1996\", \"1997\", \"1998\", \"1999\", \"2000\", \"2001\", \"2002\", \"2003\", \"2004\", \"2005\", \"2006\", \"2007\", \"2008\", \"2009\", \"2010\", \"2011\", \"2012\", \"2013\", \"2014\", \"2015\", \"2016\"], \"y\": [0.0, 0.0, 7000.0, 52747.0, 439882.0, 944972.0, 860105.0, 2119545.0, 3192323.0, 4142665.0, 6470159.0, 5678005.0, 7951712.0, 11620230.0, 10582110.0, 11823570.0, 15993810.0, 18587210.0, 22104720.0, 23891340.0, 32251520.0, 32664328.0, 40925507.0, 38563909.0]}, {\"line\": {\"width\": 4}, \"mode\": \"lines\", \"name\": \"Thailand\", \"type\": \"scatter\", \"x\": [\"1993\", \"1994\", \"1995\", \"1996\", \"1997\", \"1998\", \"1999\", \"2000\", \"2001\", \"2002\", \"2003\", \"2004\", \"2005\", \"2006\", \"2007\", \"2008\", \"2009\", \"2010\", \"2011\", \"2012\", \"2013\", \"2014\", \"2015\", \"2016\"], \"y\": [0.0, 97988.0, 18500.0, 8000.0, 294166.0, 118250.0, 70816.0, 155162.0, 57621.0, 104430.0, 154353.0, 419390.0, 632068.0, 767080.0, 918057.0, 1364580.0, 929812.0, 1288746.0, 1242016.0, 1294530.0, 1121863.0, 1244266.0, 1761938.0, 1979470.0]}, {\"line\": {\"width\": 4}, \"mode\": \"lines\", \"name\": \"Spain\", \"type\": \"scatter\", \"x\": [\"1993\", \"1994\", \"1995\", \"1996\", \"1997\", \"1998\", \"1999\", \"2000\", \"2001\", \"2002\", \"2003\", \"2004\", \"2005\", \"2006\", \"2007\", \"2008\", \"2009\", \"2010\", \"2011\", \"2012\", \"2013\", \"2014\", \"2015\", \"2016\"], \"y\": [548167.0, 360779.0, 637871.0, 501707.0, 922289.0, 984170.0, 1416228.0, 1181662.0, 1370864.0, 1284067.0, 1569663.0, 1655738.0, 2089359.0, 1866685.0, 2356073.0, 2626567.0, 2240901.0, 1874991.0, 2369270.0, 2377674.0, 1962643.0, 2120346.0, 2376257.0, 1854043.0]}, {\"line\": {\"width\": 4}, \"mode\": \"lines\", \"name\": \"Netherlands\", \"type\": \"scatter\", \"x\": [\"1993\", \"1994\", \"1995\", \"1996\", \"1997\", \"1998\", \"1999\", \"2000\", \"2001\", \"2002\", \"2003\", \"2004\", \"2005\", \"2006\", \"2007\", \"2008\", \"2009\", \"2010\", \"2011\", \"2012\", \"2013\", \"2014\", \"2015\", \"2016\"], \"y\": [1895866.0, 2965885.0, 1738713.0, 2075524.0, 4320864.0, 2972473.0, 3021948.0, 3448717.0, 3501370.0, 3235158.0, 3669291.0, 3569139.0, 5049511.0, 3742297.0, 3359329.0, 2413243.0, 2366889.0, 1437354.0, 1520683.0, 1036919.0, 1585903.0, 2000437.0, 1496072.0, 1518146.0]}, {\"line\": {\"width\": 4}, \"mode\": \"lines\", \"name\": \"Iran (Islamic Republic of)\", \"type\": \"scatter\", \"x\": [\"1993\", \"1994\", \"1995\", \"1996\", \"1997\", \"1998\", \"1999\", \"2000\", \"2001\", \"2002\", \"2003\", \"2004\", \"2005\", \"2006\", \"2007\", \"2008\", \"2009\", \"2010\", \"2011\", \"2012\", \"2013\", \"2014\", \"2015\", \"2016\"], \"y\": [0.0, 0.0, 0.0, 0.0, 0.0, 19350.0, 136500.0, 318544.0, 522131.0, 355003.0, 524119.0, 627500.0, 842529.0, 928809.0, 390990.0, 68500.0, 117000.0, 58099.0, 174235.0, 19706.0, 131325.0, 66611.0, 551592.0, 1182706.0]}, {\"line\": {\"width\": 4}, \"mode\": \"lines\", \"name\": \"China, Taiwan Province of\", \"type\": \"scatter\", \"x\": [\"1993\", \"1994\", \"1995\", \"1996\", \"1997\", \"1998\", \"1999\", \"2000\", \"2001\", \"2002\", \"2003\", \"2004\", \"2005\", \"2006\", \"2007\", \"2008\", \"2009\", \"2010\", \"2011\", \"2012\", \"2013\", \"2014\", \"2015\", \"2016\"], \"y\": [0.0, 56691.0, 0.0, 0.0, 355812.0, 476814.0, 12220.0, 185235.0, 342451.0, 280943.0, 584669.0, 841004.0, 546994.0, 526730.0, 216107.0, 187993.0, 621666.0, 877730.0, 990337.0, 1128822.0, 984829.0, 933890.0, 1099321.0, 1111411.0]}, {\"line\": {\"width\": 4}, \"mode\": \"lines\", \"name\": \"Russian Federation\", \"type\": \"scatter\", \"x\": [\"1993\", \"1994\", \"1995\", \"1996\", \"1997\", \"1998\", \"1999\", \"2000\", \"2001\", \"2002\", \"2003\", \"2004\", \"2005\", \"2006\", \"2007\", \"2008\", \"2009\", \"2010\", \"2011\", \"2012\", \"2013\", \"2014\", \"2015\", \"2016\"], \"y\": [0.0, 0.0, 0.0, 0.0, 42992.0, 4500.0, 0.0, 0.0, 0.0, 53192.0, 15250.0, 0.0, 33685.0, 0.0, 124276.0, 396346.0, 369571.0, 420772.0, 302403.0, 125104.0, 0.0, 547105.0, 550333.0, 1017379.0]}, {\"line\": {\"width\": 4}, \"mode\": \"lines\", \"name\": \"Germany\", \"type\": \"scatter\", \"x\": [\"1993\", \"1994\", \"1995\", \"1996\", \"1997\", \"1998\", \"1999\", \"2000\", \"2001\", \"2002\", \"2003\", \"2004\", \"2005\", \"2006\", \"2007\", \"2008\", \"2009\", \"2010\", \"2011\", \"2012\", \"2013\", \"2014\", \"2015\", \"2016\"], \"y\": [650083.0, 765745.0, 490331.0, 527916.0, 1022736.0, 1111918.0, 1129254.0, 1244739.0, 1717608.0, 1587799.0, 2206528.0, 1635513.0, 1415422.0, 1049979.0, 1105060.0, 982655.0, 1533256.0, 715401.0, 725156.0, 601446.0, 344979.0, 1050007.0, 773684.0, 758246.0]}, {\"line\": {\"width\": 4}, \"mode\": \"lines\", \"name\": \"Republic of Korea\", \"type\": \"scatter\", \"x\": [\"1993\", \"1994\", \"1995\", \"1996\", \"1997\", \"1998\", \"1999\", \"2000\", \"2001\", \"2002\", \"2003\", \"2004\", \"2005\", \"2006\", \"2007\", \"2008\", \"2009\", \"2010\", \"2011\", \"2012\", \"2013\", \"2014\", \"2015\", \"2016\"], \"y\": [103264.0, 176643.0, 52836.0, 109418.0, 34948.0, 36338.0, 104467.0, 125204.0, 109515.0, 193020.0, 246353.0, 219733.0, 459392.0, 601531.0, 586972.0, 577150.0, 505917.0, 447020.0, 446030.0, 358765.0, 396906.0, 465511.0, 745814.0, 524340.0]}, {\"line\": {\"width\": 4}, \"mode\": \"lines\", \"name\": \"Japan\", \"type\": \"scatter\", \"x\": [\"1993\", \"1994\", \"1995\", \"1996\", \"1997\", \"1998\", \"1999\", \"2000\", \"2001\", \"2002\", \"2003\", \"2004\", \"2005\", \"2006\", \"2007\", \"2008\", \"2009\", \"2010\", \"2011\", \"2012\", \"2013\", \"2014\", \"2015\", \"2016\"], \"y\": [616636.0, 780029.0, 362155.0, 378934.0, 558644.0, 523589.0, 584749.0, 751238.0, 768490.0, 812425.0, 889920.0, 778523.0, 562540.0, 377586.0, 388366.0, 568024.0, 586781.0, 568015.0, 536111.0, 548339.0, 649093.0, 590605.0, 507486.0, 524307.0]}],\n",
       "                        {\"template\": {\"data\": {\"bar\": [{\"error_x\": {\"color\": \"#2a3f5f\"}, \"error_y\": {\"color\": \"#2a3f5f\"}, \"marker\": {\"line\": {\"color\": \"#E5ECF6\", \"width\": 0.5}}, \"type\": \"bar\"}], \"barpolar\": [{\"marker\": {\"line\": {\"color\": \"#E5ECF6\", \"width\": 0.5}}, \"type\": \"barpolar\"}], \"carpet\": [{\"aaxis\": {\"endlinecolor\": \"#2a3f5f\", \"gridcolor\": \"white\", \"linecolor\": \"white\", \"minorgridcolor\": \"white\", \"startlinecolor\": \"#2a3f5f\"}, \"baxis\": {\"endlinecolor\": \"#2a3f5f\", \"gridcolor\": \"white\", \"linecolor\": \"white\", \"minorgridcolor\": \"white\", \"startlinecolor\": \"#2a3f5f\"}, \"type\": \"carpet\"}], \"choropleth\": [{\"colorbar\": {\"outlinewidth\": 0, \"ticks\": \"\"}, \"type\": \"choropleth\"}], \"contour\": [{\"colorbar\": {\"outlinewidth\": 0, \"ticks\": \"\"}, \"colorscale\": [[0.0, \"#0d0887\"], [0.1111111111111111, \"#46039f\"], [0.2222222222222222, \"#7201a8\"], [0.3333333333333333, \"#9c179e\"], [0.4444444444444444, \"#bd3786\"], [0.5555555555555556, \"#d8576b\"], [0.6666666666666666, \"#ed7953\"], [0.7777777777777778, \"#fb9f3a\"], [0.8888888888888888, \"#fdca26\"], [1.0, \"#f0f921\"]], \"type\": \"contour\"}], \"contourcarpet\": [{\"colorbar\": {\"outlinewidth\": 0, \"ticks\": \"\"}, \"type\": \"contourcarpet\"}], \"heatmap\": [{\"colorbar\": {\"outlinewidth\": 0, \"ticks\": \"\"}, \"colorscale\": [[0.0, \"#0d0887\"], [0.1111111111111111, \"#46039f\"], [0.2222222222222222, \"#7201a8\"], [0.3333333333333333, \"#9c179e\"], [0.4444444444444444, \"#bd3786\"], [0.5555555555555556, \"#d8576b\"], [0.6666666666666666, \"#ed7953\"], [0.7777777777777778, \"#fb9f3a\"], [0.8888888888888888, \"#fdca26\"], [1.0, \"#f0f921\"]], \"type\": \"heatmap\"}], \"heatmapgl\": [{\"colorbar\": {\"outlinewidth\": 0, \"ticks\": \"\"}, \"colorscale\": [[0.0, \"#0d0887\"], [0.1111111111111111, \"#46039f\"], [0.2222222222222222, \"#7201a8\"], [0.3333333333333333, \"#9c179e\"], [0.4444444444444444, \"#bd3786\"], [0.5555555555555556, \"#d8576b\"], [0.6666666666666666, \"#ed7953\"], [0.7777777777777778, \"#fb9f3a\"], [0.8888888888888888, \"#fdca26\"], [1.0, \"#f0f921\"]], \"type\": \"heatmapgl\"}], \"histogram\": [{\"marker\": {\"colorbar\": {\"outlinewidth\": 0, \"ticks\": \"\"}}, \"type\": \"histogram\"}], \"histogram2d\": [{\"colorbar\": {\"outlinewidth\": 0, \"ticks\": \"\"}, \"colorscale\": [[0.0, \"#0d0887\"], [0.1111111111111111, \"#46039f\"], [0.2222222222222222, \"#7201a8\"], [0.3333333333333333, \"#9c179e\"], [0.4444444444444444, \"#bd3786\"], [0.5555555555555556, \"#d8576b\"], [0.6666666666666666, \"#ed7953\"], [0.7777777777777778, \"#fb9f3a\"], [0.8888888888888888, \"#fdca26\"], [1.0, \"#f0f921\"]], \"type\": \"histogram2d\"}], \"histogram2dcontour\": [{\"colorbar\": {\"outlinewidth\": 0, \"ticks\": \"\"}, \"colorscale\": [[0.0, \"#0d0887\"], [0.1111111111111111, \"#46039f\"], [0.2222222222222222, \"#7201a8\"], [0.3333333333333333, \"#9c179e\"], [0.4444444444444444, \"#bd3786\"], [0.5555555555555556, \"#d8576b\"], [0.6666666666666666, \"#ed7953\"], [0.7777777777777778, \"#fb9f3a\"], [0.8888888888888888, \"#fdca26\"], [1.0, \"#f0f921\"]], \"type\": \"histogram2dcontour\"}], \"mesh3d\": [{\"colorbar\": {\"outlinewidth\": 0, \"ticks\": \"\"}, \"type\": \"mesh3d\"}], \"parcoords\": [{\"line\": {\"colorbar\": {\"outlinewidth\": 0, \"ticks\": \"\"}}, \"type\": \"parcoords\"}], \"pie\": [{\"automargin\": true, \"type\": \"pie\"}], \"scatter\": [{\"marker\": {\"colorbar\": {\"outlinewidth\": 0, \"ticks\": \"\"}}, \"type\": \"scatter\"}], \"scatter3d\": [{\"line\": {\"colorbar\": {\"outlinewidth\": 0, \"ticks\": \"\"}}, \"marker\": {\"colorbar\": {\"outlinewidth\": 0, \"ticks\": \"\"}}, \"type\": \"scatter3d\"}], \"scattercarpet\": [{\"marker\": {\"colorbar\": {\"outlinewidth\": 0, \"ticks\": \"\"}}, \"type\": \"scattercarpet\"}], \"scattergeo\": [{\"marker\": {\"colorbar\": {\"outlinewidth\": 0, \"ticks\": \"\"}}, \"type\": \"scattergeo\"}], \"scattergl\": [{\"marker\": {\"colorbar\": {\"outlinewidth\": 0, \"ticks\": \"\"}}, \"type\": \"scattergl\"}], \"scattermapbox\": [{\"marker\": {\"colorbar\": {\"outlinewidth\": 0, \"ticks\": \"\"}}, \"type\": \"scattermapbox\"}], \"scatterpolar\": [{\"marker\": {\"colorbar\": {\"outlinewidth\": 0, \"ticks\": \"\"}}, \"type\": \"scatterpolar\"}], \"scatterpolargl\": [{\"marker\": {\"colorbar\": {\"outlinewidth\": 0, \"ticks\": \"\"}}, \"type\": \"scatterpolargl\"}], \"scatterternary\": [{\"marker\": {\"colorbar\": {\"outlinewidth\": 0, \"ticks\": \"\"}}, \"type\": \"scatterternary\"}], \"surface\": [{\"colorbar\": {\"outlinewidth\": 0, \"ticks\": \"\"}, \"colorscale\": [[0.0, \"#0d0887\"], [0.1111111111111111, \"#46039f\"], [0.2222222222222222, \"#7201a8\"], [0.3333333333333333, \"#9c179e\"], [0.4444444444444444, \"#bd3786\"], [0.5555555555555556, \"#d8576b\"], [0.6666666666666666, \"#ed7953\"], [0.7777777777777778, \"#fb9f3a\"], [0.8888888888888888, \"#fdca26\"], [1.0, \"#f0f921\"]], \"type\": \"surface\"}], \"table\": [{\"cells\": {\"fill\": {\"color\": \"#EBF0F8\"}, \"line\": {\"color\": \"white\"}}, \"header\": {\"fill\": {\"color\": \"#C8D4E3\"}, \"line\": {\"color\": \"white\"}}, \"type\": \"table\"}]}, \"layout\": {\"annotationdefaults\": {\"arrowcolor\": \"#2a3f5f\", \"arrowhead\": 0, \"arrowwidth\": 1}, \"coloraxis\": {\"colorbar\": {\"outlinewidth\": 0, \"ticks\": \"\"}}, \"colorscale\": {\"diverging\": [[0, \"#8e0152\"], [0.1, \"#c51b7d\"], [0.2, \"#de77ae\"], [0.3, \"#f1b6da\"], [0.4, \"#fde0ef\"], [0.5, \"#f7f7f7\"], [0.6, \"#e6f5d0\"], [0.7, \"#b8e186\"], [0.8, \"#7fbc41\"], [0.9, \"#4d9221\"], [1, \"#276419\"]], \"sequential\": [[0.0, \"#0d0887\"], [0.1111111111111111, \"#46039f\"], [0.2222222222222222, \"#7201a8\"], [0.3333333333333333, \"#9c179e\"], [0.4444444444444444, \"#bd3786\"], [0.5555555555555556, \"#d8576b\"], [0.6666666666666666, \"#ed7953\"], [0.7777777777777778, \"#fb9f3a\"], [0.8888888888888888, \"#fdca26\"], [1.0, \"#f0f921\"]], \"sequentialminus\": [[0.0, \"#0d0887\"], [0.1111111111111111, \"#46039f\"], [0.2222222222222222, \"#7201a8\"], [0.3333333333333333, \"#9c179e\"], [0.4444444444444444, \"#bd3786\"], [0.5555555555555556, \"#d8576b\"], [0.6666666666666666, \"#ed7953\"], [0.7777777777777778, \"#fb9f3a\"], [0.8888888888888888, \"#fdca26\"], [1.0, \"#f0f921\"]]}, \"colorway\": [\"#636efa\", \"#EF553B\", \"#00cc96\", \"#ab63fa\", \"#FFA15A\", \"#19d3f3\", \"#FF6692\", \"#B6E880\", \"#FF97FF\", \"#FECB52\"], \"font\": {\"color\": \"#2a3f5f\"}, \"geo\": {\"bgcolor\": \"white\", \"lakecolor\": \"white\", \"landcolor\": \"#E5ECF6\", \"showlakes\": true, \"showland\": true, \"subunitcolor\": \"white\"}, \"hoverlabel\": {\"align\": \"left\"}, \"hovermode\": \"closest\", \"mapbox\": {\"style\": \"light\"}, \"paper_bgcolor\": \"white\", \"plot_bgcolor\": \"#E5ECF6\", \"polar\": {\"angularaxis\": {\"gridcolor\": \"white\", \"linecolor\": \"white\", \"ticks\": \"\"}, \"bgcolor\": \"#E5ECF6\", \"radialaxis\": {\"gridcolor\": \"white\", \"linecolor\": \"white\", \"ticks\": \"\"}}, \"scene\": {\"xaxis\": {\"backgroundcolor\": \"#E5ECF6\", \"gridcolor\": \"white\", \"gridwidth\": 2, \"linecolor\": \"white\", \"showbackground\": true, \"ticks\": \"\", \"zerolinecolor\": \"white\"}, \"yaxis\": {\"backgroundcolor\": \"#E5ECF6\", \"gridcolor\": \"white\", \"gridwidth\": 2, \"linecolor\": \"white\", \"showbackground\": true, \"ticks\": \"\", \"zerolinecolor\": \"white\"}, \"zaxis\": {\"backgroundcolor\": \"#E5ECF6\", \"gridcolor\": \"white\", \"gridwidth\": 2, \"linecolor\": \"white\", \"showbackground\": true, \"ticks\": \"\", \"zerolinecolor\": \"white\"}}, \"shapedefaults\": {\"line\": {\"color\": \"#2a3f5f\"}}, \"ternary\": {\"aaxis\": {\"gridcolor\": \"white\", \"linecolor\": \"white\", \"ticks\": \"\"}, \"baxis\": {\"gridcolor\": \"white\", \"linecolor\": \"white\", \"ticks\": \"\"}, \"bgcolor\": \"#E5ECF6\", \"caxis\": {\"gridcolor\": \"white\", \"linecolor\": \"white\", \"ticks\": \"\"}}, \"title\": {\"x\": 0.05}, \"xaxis\": {\"automargin\": true, \"gridcolor\": \"white\", \"linecolor\": \"white\", \"ticks\": \"\", \"title\": {\"standoff\": 15}, \"zerolinecolor\": \"white\", \"zerolinewidth\": 2}, \"yaxis\": {\"automargin\": true, \"gridcolor\": \"white\", \"linecolor\": \"white\", \"ticks\": \"\", \"title\": {\"standoff\": 15}, \"zerolinecolor\": \"white\", \"zerolinewidth\": 2}}}, \"title\": {\"text\": \"Main countries to which Brazil exports soybeans\"}, \"xaxis\": {\"title\": {\"text\": \"Year\"}}, \"yaxis\": {\"title\": {\"text\": \"Increase fold from 1993\"}}},\n",
       "                        {\"responsive\": true}\n",
       "                    ).then(function(){\n",
       "                            \n",
       "var gd = document.getElementById('581b41a8-5047-4f2d-884d-146c495046c5');\n",
       "var x = new MutationObserver(function (mutations, observer) {{\n",
       "        var display = window.getComputedStyle(gd).display;\n",
       "        if (!display || display === 'none') {{\n",
       "            console.log([gd, 'removed!']);\n",
       "            Plotly.purge(gd);\n",
       "            observer.disconnect();\n",
       "        }}\n",
       "}});\n",
       "\n",
       "// Listen for the removal of the full notebook cells\n",
       "var notebookContainer = gd.closest('#notebook-container');\n",
       "if (notebookContainer) {{\n",
       "    x.observe(notebookContainer, {childList: true});\n",
       "}}\n",
       "\n",
       "// Listen for the clearing of the current output cell\n",
       "var outputEl = gd.closest('.output');\n",
       "if (outputEl) {{\n",
       "    x.observe(outputEl, {childList: true});\n",
       "}}\n",
       "\n",
       "                        })\n",
       "                };\n",
       "                });\n",
       "            </script>\n",
       "        </div>"
      ]
     },
     "metadata": {},
     "output_type": "display_data"
    }
   ],
   "source": [
    "import plotly.graph_objects as go\n",
    "years = [str(year) for year in range(1993, 2017)] \n",
    "fig = go.Figure()\n",
    "countries = df_soybeans_importers_brazil['Importer']\n",
    "for i in range(0, 10):\n",
    "    fig.add_trace(go.Scatter(x=years, y=df_soybeans_importers_brazil.iloc[i][years], mode='lines', name=countries[i], line = dict(width=4)))\n",
    "fig.update_layout(title='Main countries to which Brazil exports soybeans',\n",
    "                   xaxis_title='Year',\n",
    "                   yaxis_title='Increase fold from 1993')"
   ]
  },
  {
   "cell_type": "code",
   "execution_count": 43,
   "metadata": {},
   "outputs": [],
   "source": [
    "df_importers_brazil = df_trade.loc[df_trade['Exporter'] == 'Brazil']\n",
    "df_importers_brazil = df_importers_brazil.groupby(['Exporter', 'Importer'])\\\n",
    "                                         .sum() \\\n",
    "                                         .reset_index()\\\n",
    "                                         .sort_values(['2016'], ascending=False)\\\n",
    "                                         .reset_index()"
   ]
  },
  {
   "cell_type": "code",
   "execution_count": 44,
   "metadata": {},
   "outputs": [
    {
     "data": {
      "application/vnd.plotly.v1+json": {
       "config": {
        "plotlyServerURL": "https://plot.ly"
       },
       "data": [
        {
         "line": {
          "width": 4
         },
         "mode": "lines",
         "name": "China, mainland",
         "type": "scatter",
         "x": [
          "1993",
          "1994",
          "1995",
          "1996",
          "1997",
          "1998",
          "1999",
          "2000",
          "2001",
          "2002",
          "2003",
          "2004",
          "2005",
          "2006",
          "2007",
          "2008",
          "2009",
          "2010",
          "2011",
          "2012",
          "2013",
          "2014",
          "2015",
          "2016"
         ],
         "y": [
          5345,
          4513,
          18518,
          53349,
          443089,
          948178,
          873710,
          2137098,
          3224219,
          4175388,
          6510018,
          5724118,
          8150645,
          11722600,
          10668143,
          11918244,
          16143142,
          18774185,
          22494801,
          24418569,
          32537230,
          32953100,
          41281574,
          38879481
         ]
        },
        {
         "line": {
          "width": 4
         },
         "mode": "lines",
         "name": "Iran (Islamic Republic of)",
         "type": "scatter",
         "x": [
          "1993",
          "1994",
          "1995",
          "1996",
          "1997",
          "1998",
          "1999",
          "2000",
          "2001",
          "2002",
          "2003",
          "2004",
          "2005",
          "2006",
          "2007",
          "2008",
          "2009",
          "2010",
          "2011",
          "2012",
          "2013",
          "2014",
          "2015",
          "2016"
         ],
         "y": [
          0,
          0,
          0,
          0,
          15368,
          54851,
          294956,
          563562,
          1956409,
          1402677,
          1710641,
          1933817,
          1544525,
          2701995,
          3119844,
          543807,
          1891836,
          1606530,
          2084199,
          3141785,
          2348631,
          4765630,
          4759892,
          5975745
         ]
        },
        {
         "line": {
          "width": 4
         },
         "mode": "lines",
         "name": "Japan",
         "type": "scatter",
         "x": [
          "1993",
          "1994",
          "1995",
          "1996",
          "1997",
          "1998",
          "1999",
          "2000",
          "2001",
          "2002",
          "2003",
          "2004",
          "2005",
          "2006",
          "2007",
          "2008",
          "2009",
          "2010",
          "2011",
          "2012",
          "2013",
          "2014",
          "2015",
          "2016"
         ],
         "y": [
          708816,
          879887,
          454021,
          475788,
          657264,
          631033,
          700994,
          862405,
          1469232,
          1488229,
          1281477,
          1050301,
          733926,
          546325,
          611221,
          751519,
          1010731,
          1384846,
          1595097,
          3767358,
          5211574,
          2102874,
          3493046,
          4450669
         ]
        },
        {
         "line": {
          "width": 4
         },
         "mode": "lines",
         "name": "Viet Nam",
         "type": "scatter",
         "x": [
          "1993",
          "1994",
          "1995",
          "1996",
          "1997",
          "1998",
          "1999",
          "2000",
          "2001",
          "2002",
          "2003",
          "2004",
          "2005",
          "2006",
          "2007",
          "2008",
          "2009",
          "2010",
          "2011",
          "2012",
          "2013",
          "2014",
          "2015",
          "2016"
         ],
         "y": [
          0,
          0,
          115,
          160,
          5637,
          5732,
          431,
          547,
          1197,
          521,
          780,
          4439,
          3778,
          84774,
          10234,
          122069,
          212867,
          407406,
          669488,
          718245,
          1813989,
          3784332,
          6058578,
          3534948
         ]
        },
        {
         "line": {
          "width": 4
         },
         "mode": "lines",
         "name": "Republic of Korea",
         "type": "scatter",
         "x": [
          "1993",
          "1994",
          "1995",
          "1996",
          "1997",
          "1998",
          "1999",
          "2000",
          "2001",
          "2002",
          "2003",
          "2004",
          "2005",
          "2006",
          "2007",
          "2008",
          "2009",
          "2010",
          "2011",
          "2012",
          "2013",
          "2014",
          "2015",
          "2016"
         ],
         "y": [
          116345,
          187850,
          62773,
          124003,
          42044,
          42156,
          111493,
          136306,
          1448803,
          1418586,
          1010200,
          1709912,
          855813,
          1531945,
          1435164,
          1028629,
          1371642,
          959115,
          716047,
          3122478,
          4687774,
          2534397,
          4061782,
          3276632
         ]
        },
        {
         "line": {
          "width": 4
         },
         "mode": "lines",
         "name": "China, Taiwan Province of",
         "type": "scatter",
         "x": [
          "1993",
          "1994",
          "1995",
          "1996",
          "1997",
          "1998",
          "1999",
          "2000",
          "2001",
          "2002",
          "2003",
          "2004",
          "2005",
          "2006",
          "2007",
          "2008",
          "2009",
          "2010",
          "2011",
          "2012",
          "2013",
          "2014",
          "2015",
          "2016"
         ],
         "y": [
          1620,
          57620,
          6345,
          849,
          356529,
          478503,
          13077,
          186892,
          387663,
          286069,
          591858,
          856881,
          567990,
          555603,
          242636,
          403336,
          1357359,
          2120995,
          2199514,
          3334949,
          3292947,
          2513798,
          3480896,
          2831178
         ]
        },
        {
         "line": {
          "width": 4
         },
         "mode": "lines",
         "name": "Netherlands",
         "type": "scatter",
         "x": [
          "1993",
          "1994",
          "1995",
          "1996",
          "1997",
          "1998",
          "1999",
          "2000",
          "2001",
          "2002",
          "2003",
          "2004",
          "2005",
          "2006",
          "2007",
          "2008",
          "2009",
          "2010",
          "2011",
          "2012",
          "2013",
          "2014",
          "2015",
          "2016"
         ],
         "y": [
          2091700,
          3223416,
          1943151,
          2302503,
          4732744,
          3129253,
          3280230,
          3668316,
          3786312,
          3481167,
          4065395,
          4215257,
          5414651,
          4195774,
          4489130,
          3608494,
          2736990,
          2100822,
          2333705,
          1471418,
          2761790,
          2726058,
          2279576,
          2546445
         ]
        },
        {
         "line": {
          "width": 4
         },
         "mode": "lines",
         "name": "Spain",
         "type": "scatter",
         "x": [
          "1993",
          "1994",
          "1995",
          "1996",
          "1997",
          "1998",
          "1999",
          "2000",
          "2001",
          "2002",
          "2003",
          "2004",
          "2005",
          "2006",
          "2007",
          "2008",
          "2009",
          "2010",
          "2011",
          "2012",
          "2013",
          "2014",
          "2015",
          "2016"
         ],
         "y": [
          600102,
          409684,
          690032,
          564606,
          967143,
          1033997,
          1489953,
          1251364,
          2358502,
          1686603,
          2813427,
          2368609,
          2412221,
          3057582,
          5573303,
          3801061,
          2630836,
          2861311,
          2931824,
          3081604,
          3122173,
          2492006,
          3421782,
          2360647
         ]
        },
        {
         "line": {
          "width": 4
         },
         "mode": "lines",
         "name": "Thailand",
         "type": "scatter",
         "x": [
          "1993",
          "1994",
          "1995",
          "1996",
          "1997",
          "1998",
          "1999",
          "2000",
          "2001",
          "2002",
          "2003",
          "2004",
          "2005",
          "2006",
          "2007",
          "2008",
          "2009",
          "2010",
          "2011",
          "2012",
          "2013",
          "2014",
          "2015",
          "2016"
         ],
         "y": [
          4771,
          98479,
          23879,
          8127,
          294376,
          118419,
          71745,
          156536,
          68076,
          111097,
          162288,
          449698,
          653242,
          780279,
          939041,
          1400751,
          962191,
          1432111,
          1266166,
          1383994,
          1213902,
          1336322,
          2324894,
          2100616
         ]
        },
        {
         "line": {
          "width": 4
         },
         "mode": "lines",
         "name": "Malaysia",
         "type": "scatter",
         "x": [
          "1993",
          "1994",
          "1995",
          "1996",
          "1997",
          "1998",
          "1999",
          "2000",
          "2001",
          "2002",
          "2003",
          "2004",
          "2005",
          "2006",
          "2007",
          "2008",
          "2009",
          "2010",
          "2011",
          "2012",
          "2013",
          "2014",
          "2015",
          "2016"
         ],
         "y": [
          41706,
          35367,
          12704,
          32865,
          90761,
          55753,
          64062,
          22948,
          95333,
          16749,
          65961,
          85461,
          5175,
          6942,
          55587,
          343085,
          950122,
          935880,
          700145,
          774003,
          1160520,
          1697619,
          1862652,
          1760335
         ]
        }
       ],
       "layout": {
        "autosize": true,
        "template": {
         "data": {
          "bar": [
           {
            "error_x": {
             "color": "#2a3f5f"
            },
            "error_y": {
             "color": "#2a3f5f"
            },
            "marker": {
             "line": {
              "color": "#E5ECF6",
              "width": 0.5
             }
            },
            "type": "bar"
           }
          ],
          "barpolar": [
           {
            "marker": {
             "line": {
              "color": "#E5ECF6",
              "width": 0.5
             }
            },
            "type": "barpolar"
           }
          ],
          "carpet": [
           {
            "aaxis": {
             "endlinecolor": "#2a3f5f",
             "gridcolor": "white",
             "linecolor": "white",
             "minorgridcolor": "white",
             "startlinecolor": "#2a3f5f"
            },
            "baxis": {
             "endlinecolor": "#2a3f5f",
             "gridcolor": "white",
             "linecolor": "white",
             "minorgridcolor": "white",
             "startlinecolor": "#2a3f5f"
            },
            "type": "carpet"
           }
          ],
          "choropleth": [
           {
            "colorbar": {
             "outlinewidth": 0,
             "ticks": ""
            },
            "type": "choropleth"
           }
          ],
          "contour": [
           {
            "colorbar": {
             "outlinewidth": 0,
             "ticks": ""
            },
            "colorscale": [
             [
              0,
              "#0d0887"
             ],
             [
              0.1111111111111111,
              "#46039f"
             ],
             [
              0.2222222222222222,
              "#7201a8"
             ],
             [
              0.3333333333333333,
              "#9c179e"
             ],
             [
              0.4444444444444444,
              "#bd3786"
             ],
             [
              0.5555555555555556,
              "#d8576b"
             ],
             [
              0.6666666666666666,
              "#ed7953"
             ],
             [
              0.7777777777777778,
              "#fb9f3a"
             ],
             [
              0.8888888888888888,
              "#fdca26"
             ],
             [
              1,
              "#f0f921"
             ]
            ],
            "type": "contour"
           }
          ],
          "contourcarpet": [
           {
            "colorbar": {
             "outlinewidth": 0,
             "ticks": ""
            },
            "type": "contourcarpet"
           }
          ],
          "heatmap": [
           {
            "colorbar": {
             "outlinewidth": 0,
             "ticks": ""
            },
            "colorscale": [
             [
              0,
              "#0d0887"
             ],
             [
              0.1111111111111111,
              "#46039f"
             ],
             [
              0.2222222222222222,
              "#7201a8"
             ],
             [
              0.3333333333333333,
              "#9c179e"
             ],
             [
              0.4444444444444444,
              "#bd3786"
             ],
             [
              0.5555555555555556,
              "#d8576b"
             ],
             [
              0.6666666666666666,
              "#ed7953"
             ],
             [
              0.7777777777777778,
              "#fb9f3a"
             ],
             [
              0.8888888888888888,
              "#fdca26"
             ],
             [
              1,
              "#f0f921"
             ]
            ],
            "type": "heatmap"
           }
          ],
          "heatmapgl": [
           {
            "colorbar": {
             "outlinewidth": 0,
             "ticks": ""
            },
            "colorscale": [
             [
              0,
              "#0d0887"
             ],
             [
              0.1111111111111111,
              "#46039f"
             ],
             [
              0.2222222222222222,
              "#7201a8"
             ],
             [
              0.3333333333333333,
              "#9c179e"
             ],
             [
              0.4444444444444444,
              "#bd3786"
             ],
             [
              0.5555555555555556,
              "#d8576b"
             ],
             [
              0.6666666666666666,
              "#ed7953"
             ],
             [
              0.7777777777777778,
              "#fb9f3a"
             ],
             [
              0.8888888888888888,
              "#fdca26"
             ],
             [
              1,
              "#f0f921"
             ]
            ],
            "type": "heatmapgl"
           }
          ],
          "histogram": [
           {
            "marker": {
             "colorbar": {
              "outlinewidth": 0,
              "ticks": ""
             }
            },
            "type": "histogram"
           }
          ],
          "histogram2d": [
           {
            "colorbar": {
             "outlinewidth": 0,
             "ticks": ""
            },
            "colorscale": [
             [
              0,
              "#0d0887"
             ],
             [
              0.1111111111111111,
              "#46039f"
             ],
             [
              0.2222222222222222,
              "#7201a8"
             ],
             [
              0.3333333333333333,
              "#9c179e"
             ],
             [
              0.4444444444444444,
              "#bd3786"
             ],
             [
              0.5555555555555556,
              "#d8576b"
             ],
             [
              0.6666666666666666,
              "#ed7953"
             ],
             [
              0.7777777777777778,
              "#fb9f3a"
             ],
             [
              0.8888888888888888,
              "#fdca26"
             ],
             [
              1,
              "#f0f921"
             ]
            ],
            "type": "histogram2d"
           }
          ],
          "histogram2dcontour": [
           {
            "colorbar": {
             "outlinewidth": 0,
             "ticks": ""
            },
            "colorscale": [
             [
              0,
              "#0d0887"
             ],
             [
              0.1111111111111111,
              "#46039f"
             ],
             [
              0.2222222222222222,
              "#7201a8"
             ],
             [
              0.3333333333333333,
              "#9c179e"
             ],
             [
              0.4444444444444444,
              "#bd3786"
             ],
             [
              0.5555555555555556,
              "#d8576b"
             ],
             [
              0.6666666666666666,
              "#ed7953"
             ],
             [
              0.7777777777777778,
              "#fb9f3a"
             ],
             [
              0.8888888888888888,
              "#fdca26"
             ],
             [
              1,
              "#f0f921"
             ]
            ],
            "type": "histogram2dcontour"
           }
          ],
          "mesh3d": [
           {
            "colorbar": {
             "outlinewidth": 0,
             "ticks": ""
            },
            "type": "mesh3d"
           }
          ],
          "parcoords": [
           {
            "line": {
             "colorbar": {
              "outlinewidth": 0,
              "ticks": ""
             }
            },
            "type": "parcoords"
           }
          ],
          "pie": [
           {
            "automargin": true,
            "type": "pie"
           }
          ],
          "scatter": [
           {
            "marker": {
             "colorbar": {
              "outlinewidth": 0,
              "ticks": ""
             }
            },
            "type": "scatter"
           }
          ],
          "scatter3d": [
           {
            "line": {
             "colorbar": {
              "outlinewidth": 0,
              "ticks": ""
             }
            },
            "marker": {
             "colorbar": {
              "outlinewidth": 0,
              "ticks": ""
             }
            },
            "type": "scatter3d"
           }
          ],
          "scattercarpet": [
           {
            "marker": {
             "colorbar": {
              "outlinewidth": 0,
              "ticks": ""
             }
            },
            "type": "scattercarpet"
           }
          ],
          "scattergeo": [
           {
            "marker": {
             "colorbar": {
              "outlinewidth": 0,
              "ticks": ""
             }
            },
            "type": "scattergeo"
           }
          ],
          "scattergl": [
           {
            "marker": {
             "colorbar": {
              "outlinewidth": 0,
              "ticks": ""
             }
            },
            "type": "scattergl"
           }
          ],
          "scattermapbox": [
           {
            "marker": {
             "colorbar": {
              "outlinewidth": 0,
              "ticks": ""
             }
            },
            "type": "scattermapbox"
           }
          ],
          "scatterpolar": [
           {
            "marker": {
             "colorbar": {
              "outlinewidth": 0,
              "ticks": ""
             }
            },
            "type": "scatterpolar"
           }
          ],
          "scatterpolargl": [
           {
            "marker": {
             "colorbar": {
              "outlinewidth": 0,
              "ticks": ""
             }
            },
            "type": "scatterpolargl"
           }
          ],
          "scatterternary": [
           {
            "marker": {
             "colorbar": {
              "outlinewidth": 0,
              "ticks": ""
             }
            },
            "type": "scatterternary"
           }
          ],
          "surface": [
           {
            "colorbar": {
             "outlinewidth": 0,
             "ticks": ""
            },
            "colorscale": [
             [
              0,
              "#0d0887"
             ],
             [
              0.1111111111111111,
              "#46039f"
             ],
             [
              0.2222222222222222,
              "#7201a8"
             ],
             [
              0.3333333333333333,
              "#9c179e"
             ],
             [
              0.4444444444444444,
              "#bd3786"
             ],
             [
              0.5555555555555556,
              "#d8576b"
             ],
             [
              0.6666666666666666,
              "#ed7953"
             ],
             [
              0.7777777777777778,
              "#fb9f3a"
             ],
             [
              0.8888888888888888,
              "#fdca26"
             ],
             [
              1,
              "#f0f921"
             ]
            ],
            "type": "surface"
           }
          ],
          "table": [
           {
            "cells": {
             "fill": {
              "color": "#EBF0F8"
             },
             "line": {
              "color": "white"
             }
            },
            "header": {
             "fill": {
              "color": "#C8D4E3"
             },
             "line": {
              "color": "white"
             }
            },
            "type": "table"
           }
          ]
         },
         "layout": {
          "annotationdefaults": {
           "arrowcolor": "#2a3f5f",
           "arrowhead": 0,
           "arrowwidth": 1
          },
          "coloraxis": {
           "colorbar": {
            "outlinewidth": 0,
            "ticks": ""
           }
          },
          "colorscale": {
           "diverging": [
            [
             0,
             "#8e0152"
            ],
            [
             0.1,
             "#c51b7d"
            ],
            [
             0.2,
             "#de77ae"
            ],
            [
             0.3,
             "#f1b6da"
            ],
            [
             0.4,
             "#fde0ef"
            ],
            [
             0.5,
             "#f7f7f7"
            ],
            [
             0.6,
             "#e6f5d0"
            ],
            [
             0.7,
             "#b8e186"
            ],
            [
             0.8,
             "#7fbc41"
            ],
            [
             0.9,
             "#4d9221"
            ],
            [
             1,
             "#276419"
            ]
           ],
           "sequential": [
            [
             0,
             "#0d0887"
            ],
            [
             0.1111111111111111,
             "#46039f"
            ],
            [
             0.2222222222222222,
             "#7201a8"
            ],
            [
             0.3333333333333333,
             "#9c179e"
            ],
            [
             0.4444444444444444,
             "#bd3786"
            ],
            [
             0.5555555555555556,
             "#d8576b"
            ],
            [
             0.6666666666666666,
             "#ed7953"
            ],
            [
             0.7777777777777778,
             "#fb9f3a"
            ],
            [
             0.8888888888888888,
             "#fdca26"
            ],
            [
             1,
             "#f0f921"
            ]
           ],
           "sequentialminus": [
            [
             0,
             "#0d0887"
            ],
            [
             0.1111111111111111,
             "#46039f"
            ],
            [
             0.2222222222222222,
             "#7201a8"
            ],
            [
             0.3333333333333333,
             "#9c179e"
            ],
            [
             0.4444444444444444,
             "#bd3786"
            ],
            [
             0.5555555555555556,
             "#d8576b"
            ],
            [
             0.6666666666666666,
             "#ed7953"
            ],
            [
             0.7777777777777778,
             "#fb9f3a"
            ],
            [
             0.8888888888888888,
             "#fdca26"
            ],
            [
             1,
             "#f0f921"
            ]
           ]
          },
          "colorway": [
           "#636efa",
           "#EF553B",
           "#00cc96",
           "#ab63fa",
           "#FFA15A",
           "#19d3f3",
           "#FF6692",
           "#B6E880",
           "#FF97FF",
           "#FECB52"
          ],
          "font": {
           "color": "#2a3f5f"
          },
          "geo": {
           "bgcolor": "white",
           "lakecolor": "white",
           "landcolor": "#E5ECF6",
           "showlakes": true,
           "showland": true,
           "subunitcolor": "white"
          },
          "hoverlabel": {
           "align": "left"
          },
          "hovermode": "closest",
          "mapbox": {
           "style": "light"
          },
          "paper_bgcolor": "white",
          "plot_bgcolor": "#E5ECF6",
          "polar": {
           "angularaxis": {
            "gridcolor": "white",
            "linecolor": "white",
            "ticks": ""
           },
           "bgcolor": "#E5ECF6",
           "radialaxis": {
            "gridcolor": "white",
            "linecolor": "white",
            "ticks": ""
           }
          },
          "scene": {
           "xaxis": {
            "backgroundcolor": "#E5ECF6",
            "gridcolor": "white",
            "gridwidth": 2,
            "linecolor": "white",
            "showbackground": true,
            "ticks": "",
            "zerolinecolor": "white"
           },
           "yaxis": {
            "backgroundcolor": "#E5ECF6",
            "gridcolor": "white",
            "gridwidth": 2,
            "linecolor": "white",
            "showbackground": true,
            "ticks": "",
            "zerolinecolor": "white"
           },
           "zaxis": {
            "backgroundcolor": "#E5ECF6",
            "gridcolor": "white",
            "gridwidth": 2,
            "linecolor": "white",
            "showbackground": true,
            "ticks": "",
            "zerolinecolor": "white"
           }
          },
          "shapedefaults": {
           "line": {
            "color": "#2a3f5f"
           }
          },
          "ternary": {
           "aaxis": {
            "gridcolor": "white",
            "linecolor": "white",
            "ticks": ""
           },
           "baxis": {
            "gridcolor": "white",
            "linecolor": "white",
            "ticks": ""
           },
           "bgcolor": "#E5ECF6",
           "caxis": {
            "gridcolor": "white",
            "linecolor": "white",
            "ticks": ""
           }
          },
          "title": {
           "x": 0.05
          },
          "xaxis": {
           "automargin": true,
           "gridcolor": "white",
           "linecolor": "white",
           "ticks": "",
           "title": {
            "standoff": 15
           },
           "zerolinecolor": "white",
           "zerolinewidth": 2
          },
          "yaxis": {
           "automargin": true,
           "gridcolor": "white",
           "linecolor": "white",
           "ticks": "",
           "title": {
            "standoff": 15
           },
           "zerolinecolor": "white",
           "zerolinewidth": 2
          }
         }
        },
        "title": {
         "text": "Main countries to which Brazil exports"
        },
        "xaxis": {
         "autorange": true,
         "range": [
          1993,
          2016
         ],
         "title": {
          "text": "Year"
         },
         "type": "linear"
        },
        "yaxis": {
         "autorange": true,
         "range": [
          -2293420.7777777775,
          43574994.777777776
         ],
         "title": {
          "text": "Increase fold from 1993"
         },
         "type": "linear"
        }
       }
      },
      "image/png": "[encoded data removed]",
      "text/html": [
       "<div>\n",
       "        \n",
       "        \n",
       "            <div id=\"8d5df817-248b-437e-9aaa-2eb0c84c65f3\" class=\"plotly-graph-div\" style=\"height:525px; width:100%;\"></div>\n",
       "            <script type=\"text/javascript\">\n",
       "                require([\"plotly\"], function(Plotly) {\n",
       "                    window.PLOTLYENV=window.PLOTLYENV || {};\n",
       "                    \n",
       "                if (document.getElementById(\"8d5df817-248b-437e-9aaa-2eb0c84c65f3\")) {\n",
       "                    Plotly.newPlot(\n",
       "                        '8d5df817-248b-437e-9aaa-2eb0c84c65f3',\n",
       "                        [{\"line\": {\"width\": 4}, \"mode\": \"lines\", \"name\": \"China, mainland\", \"type\": \"scatter\", \"x\": [\"1993\", \"1994\", \"1995\", \"1996\", \"1997\", \"1998\", \"1999\", \"2000\", \"2001\", \"2002\", \"2003\", \"2004\", \"2005\", \"2006\", \"2007\", \"2008\", \"2009\", \"2010\", \"2011\", \"2012\", \"2013\", \"2014\", \"2015\", \"2016\"], \"y\": [5345.0, 4513.0, 18518.0, 53349.0, 443089.0, 948178.0, 873710.0, 2137098.0, 3224219.0, 4175388.0, 6510018.0, 5724118.0, 8150645.0, 11722600.0, 10668143.0, 11918244.0, 16143142.0, 18774185.0, 22494801.0, 24418569.0, 32537230.0, 32953100.0, 41281574.0, 38879481.0]}, {\"line\": {\"width\": 4}, \"mode\": \"lines\", \"name\": \"Iran (Islamic Republic of)\", \"type\": \"scatter\", \"x\": [\"1993\", \"1994\", \"1995\", \"1996\", \"1997\", \"1998\", \"1999\", \"2000\", \"2001\", \"2002\", \"2003\", \"2004\", \"2005\", \"2006\", \"2007\", \"2008\", \"2009\", \"2010\", \"2011\", \"2012\", \"2013\", \"2014\", \"2015\", \"2016\"], \"y\": [0.0, 0.0, 0.0, 0.0, 15368.0, 54851.0, 294956.0, 563562.0, 1956409.0, 1402677.0, 1710641.0, 1933817.0, 1544525.0, 2701995.0, 3119844.0, 543807.0, 1891836.0, 1606530.0, 2084199.0, 3141785.0, 2348631.0, 4765630.0, 4759892.0, 5975745.0]}, {\"line\": {\"width\": 4}, \"mode\": \"lines\", \"name\": \"Japan\", \"type\": \"scatter\", \"x\": [\"1993\", \"1994\", \"1995\", \"1996\", \"1997\", \"1998\", \"1999\", \"2000\", \"2001\", \"2002\", \"2003\", \"2004\", \"2005\", \"2006\", \"2007\", \"2008\", \"2009\", \"2010\", \"2011\", \"2012\", \"2013\", \"2014\", \"2015\", \"2016\"], \"y\": [708816.0, 879887.0, 454021.0, 475788.0, 657264.0, 631033.0, 700994.0, 862405.0, 1469232.0, 1488229.0, 1281477.0, 1050301.0, 733926.0, 546325.0, 611221.0, 751519.0, 1010731.0, 1384846.0, 1595097.0, 3767358.0, 5211574.0, 2102874.0, 3493046.0, 4450669.0]}, {\"line\": {\"width\": 4}, \"mode\": \"lines\", \"name\": \"Viet Nam\", \"type\": \"scatter\", \"x\": [\"1993\", \"1994\", \"1995\", \"1996\", \"1997\", \"1998\", \"1999\", \"2000\", \"2001\", \"2002\", \"2003\", \"2004\", \"2005\", \"2006\", \"2007\", \"2008\", \"2009\", \"2010\", \"2011\", \"2012\", \"2013\", \"2014\", \"2015\", \"2016\"], \"y\": [0.0, 0.0, 115.0, 160.0, 5637.0, 5732.0, 431.0, 547.0, 1197.0, 521.0, 780.0, 4439.0, 3778.0, 84774.0, 10234.0, 122069.0, 212867.0, 407406.0, 669488.0, 718245.0, 1813989.0, 3784332.0, 6058578.0, 3534948.0]}, {\"line\": {\"width\": 4}, \"mode\": \"lines\", \"name\": \"Republic of Korea\", \"type\": \"scatter\", \"x\": [\"1993\", \"1994\", \"1995\", \"1996\", \"1997\", \"1998\", \"1999\", \"2000\", \"2001\", \"2002\", \"2003\", \"2004\", \"2005\", \"2006\", \"2007\", \"2008\", \"2009\", \"2010\", \"2011\", \"2012\", \"2013\", \"2014\", \"2015\", \"2016\"], \"y\": [116345.0, 187850.0, 62773.0, 124003.0, 42044.0, 42156.0, 111493.0, 136306.0, 1448803.0, 1418586.0, 1010200.0, 1709912.0, 855813.0, 1531945.0, 1435164.0, 1028629.0, 1371642.0, 959115.0, 716047.0, 3122478.0, 4687774.0, 2534397.0, 4061782.0, 3276632.0]}, {\"line\": {\"width\": 4}, \"mode\": \"lines\", \"name\": \"China, Taiwan Province of\", \"type\": \"scatter\", \"x\": [\"1993\", \"1994\", \"1995\", \"1996\", \"1997\", \"1998\", \"1999\", \"2000\", \"2001\", \"2002\", \"2003\", \"2004\", \"2005\", \"2006\", \"2007\", \"2008\", \"2009\", \"2010\", \"2011\", \"2012\", \"2013\", \"2014\", \"2015\", \"2016\"], \"y\": [1620.0, 57620.0, 6345.0, 849.0, 356529.0, 478503.0, 13077.0, 186892.0, 387663.0, 286069.0, 591858.0, 856881.0, 567990.0, 555603.0, 242636.0, 403336.0, 1357359.0, 2120995.0, 2199514.0, 3334949.0, 3292947.0, 2513798.0, 3480896.0, 2831178.0]}, {\"line\": {\"width\": 4}, \"mode\": \"lines\", \"name\": \"Netherlands\", \"type\": \"scatter\", \"x\": [\"1993\", \"1994\", \"1995\", \"1996\", \"1997\", \"1998\", \"1999\", \"2000\", \"2001\", \"2002\", \"2003\", \"2004\", \"2005\", \"2006\", \"2007\", \"2008\", \"2009\", \"2010\", \"2011\", \"2012\", \"2013\", \"2014\", \"2015\", \"2016\"], \"y\": [2091700.0, 3223416.0, 1943151.0, 2302503.0, 4732744.0, 3129253.0, 3280230.0, 3668316.0, 3786312.0, 3481167.0, 4065395.0, 4215257.0, 5414651.0, 4195774.0, 4489130.0, 3608494.0, 2736990.0, 2100822.0, 2333705.0, 1471418.0, 2761790.0, 2726058.0, 2279576.0, 2546445.0]}, {\"line\": {\"width\": 4}, \"mode\": \"lines\", \"name\": \"Spain\", \"type\": \"scatter\", \"x\": [\"1993\", \"1994\", \"1995\", \"1996\", \"1997\", \"1998\", \"1999\", \"2000\", \"2001\", \"2002\", \"2003\", \"2004\", \"2005\", \"2006\", \"2007\", \"2008\", \"2009\", \"2010\", \"2011\", \"2012\", \"2013\", \"2014\", \"2015\", \"2016\"], \"y\": [600102.0, 409684.0, 690032.0, 564606.0, 967143.0, 1033997.0, 1489953.0, 1251364.0, 2358502.0, 1686603.0, 2813427.0, 2368609.0, 2412221.0, 3057582.0, 5573303.0, 3801061.0, 2630836.0, 2861311.0, 2931824.0, 3081604.0, 3122173.0, 2492006.0, 3421782.0, 2360647.0]}, {\"line\": {\"width\": 4}, \"mode\": \"lines\", \"name\": \"Thailand\", \"type\": \"scatter\", \"x\": [\"1993\", \"1994\", \"1995\", \"1996\", \"1997\", \"1998\", \"1999\", \"2000\", \"2001\", \"2002\", \"2003\", \"2004\", \"2005\", \"2006\", \"2007\", \"2008\", \"2009\", \"2010\", \"2011\", \"2012\", \"2013\", \"2014\", \"2015\", \"2016\"], \"y\": [4771.0, 98479.0, 23879.0, 8127.0, 294376.0, 118419.0, 71745.0, 156536.0, 68076.0, 111097.0, 162288.0, 449698.0, 653242.0, 780279.0, 939041.0, 1400751.0, 962191.0, 1432111.0, 1266166.0, 1383994.0, 1213902.0, 1336322.0, 2324894.0, 2100616.0]}, {\"line\": {\"width\": 4}, \"mode\": \"lines\", \"name\": \"Malaysia\", \"type\": \"scatter\", \"x\": [\"1993\", \"1994\", \"1995\", \"1996\", \"1997\", \"1998\", \"1999\", \"2000\", \"2001\", \"2002\", \"2003\", \"2004\", \"2005\", \"2006\", \"2007\", \"2008\", \"2009\", \"2010\", \"2011\", \"2012\", \"2013\", \"2014\", \"2015\", \"2016\"], \"y\": [41706.0, 35367.0, 12704.0, 32865.0, 90761.0, 55753.0, 64062.0, 22948.0, 95333.0, 16749.0, 65961.0, 85461.0, 5175.0, 6942.0, 55587.0, 343085.0, 950122.0, 935880.0, 700145.0, 774003.0, 1160520.0, 1697619.0, 1862652.0, 1760335.0]}],\n",
       "                        {\"template\": {\"data\": {\"bar\": [{\"error_x\": {\"color\": \"#2a3f5f\"}, \"error_y\": {\"color\": \"#2a3f5f\"}, \"marker\": {\"line\": {\"color\": \"#E5ECF6\", \"width\": 0.5}}, \"type\": \"bar\"}], \"barpolar\": [{\"marker\": {\"line\": {\"color\": \"#E5ECF6\", \"width\": 0.5}}, \"type\": \"barpolar\"}], \"carpet\": [{\"aaxis\": {\"endlinecolor\": \"#2a3f5f\", \"gridcolor\": \"white\", \"linecolor\": \"white\", \"minorgridcolor\": \"white\", \"startlinecolor\": \"#2a3f5f\"}, \"baxis\": {\"endlinecolor\": \"#2a3f5f\", \"gridcolor\": \"white\", \"linecolor\": \"white\", \"minorgridcolor\": \"white\", \"startlinecolor\": \"#2a3f5f\"}, \"type\": \"carpet\"}], \"choropleth\": [{\"colorbar\": {\"outlinewidth\": 0, \"ticks\": \"\"}, \"type\": \"choropleth\"}], \"contour\": [{\"colorbar\": {\"outlinewidth\": 0, \"ticks\": \"\"}, \"colorscale\": [[0.0, \"#0d0887\"], [0.1111111111111111, \"#46039f\"], [0.2222222222222222, \"#7201a8\"], [0.3333333333333333, \"#9c179e\"], [0.4444444444444444, \"#bd3786\"], [0.5555555555555556, \"#d8576b\"], [0.6666666666666666, \"#ed7953\"], [0.7777777777777778, \"#fb9f3a\"], [0.8888888888888888, \"#fdca26\"], [1.0, \"#f0f921\"]], \"type\": \"contour\"}], \"contourcarpet\": [{\"colorbar\": {\"outlinewidth\": 0, \"ticks\": \"\"}, \"type\": \"contourcarpet\"}], \"heatmap\": [{\"colorbar\": {\"outlinewidth\": 0, \"ticks\": \"\"}, \"colorscale\": [[0.0, \"#0d0887\"], [0.1111111111111111, \"#46039f\"], [0.2222222222222222, \"#7201a8\"], [0.3333333333333333, \"#9c179e\"], [0.4444444444444444, \"#bd3786\"], [0.5555555555555556, \"#d8576b\"], [0.6666666666666666, \"#ed7953\"], [0.7777777777777778, \"#fb9f3a\"], [0.8888888888888888, \"#fdca26\"], [1.0, \"#f0f921\"]], \"type\": \"heatmap\"}], \"heatmapgl\": [{\"colorbar\": {\"outlinewidth\": 0, \"ticks\": \"\"}, \"colorscale\": [[0.0, \"#0d0887\"], [0.1111111111111111, \"#46039f\"], [0.2222222222222222, \"#7201a8\"], [0.3333333333333333, \"#9c179e\"], [0.4444444444444444, \"#bd3786\"], [0.5555555555555556, \"#d8576b\"], [0.6666666666666666, \"#ed7953\"], [0.7777777777777778, \"#fb9f3a\"], [0.8888888888888888, \"#fdca26\"], [1.0, \"#f0f921\"]], \"type\": \"heatmapgl\"}], \"histogram\": [{\"marker\": {\"colorbar\": {\"outlinewidth\": 0, \"ticks\": \"\"}}, \"type\": \"histogram\"}], \"histogram2d\": [{\"colorbar\": {\"outlinewidth\": 0, \"ticks\": \"\"}, \"colorscale\": [[0.0, \"#0d0887\"], [0.1111111111111111, \"#46039f\"], [0.2222222222222222, \"#7201a8\"], [0.3333333333333333, \"#9c179e\"], [0.4444444444444444, \"#bd3786\"], [0.5555555555555556, \"#d8576b\"], [0.6666666666666666, \"#ed7953\"], [0.7777777777777778, \"#fb9f3a\"], [0.8888888888888888, \"#fdca26\"], [1.0, \"#f0f921\"]], \"type\": \"histogram2d\"}], \"histogram2dcontour\": [{\"colorbar\": {\"outlinewidth\": 0, \"ticks\": \"\"}, \"colorscale\": [[0.0, \"#0d0887\"], [0.1111111111111111, \"#46039f\"], [0.2222222222222222, \"#7201a8\"], [0.3333333333333333, \"#9c179e\"], [0.4444444444444444, \"#bd3786\"], [0.5555555555555556, \"#d8576b\"], [0.6666666666666666, \"#ed7953\"], [0.7777777777777778, \"#fb9f3a\"], [0.8888888888888888, \"#fdca26\"], [1.0, \"#f0f921\"]], \"type\": \"histogram2dcontour\"}], \"mesh3d\": [{\"colorbar\": {\"outlinewidth\": 0, \"ticks\": \"\"}, \"type\": \"mesh3d\"}], \"parcoords\": [{\"line\": {\"colorbar\": {\"outlinewidth\": 0, \"ticks\": \"\"}}, \"type\": \"parcoords\"}], \"pie\": [{\"automargin\": true, \"type\": \"pie\"}], \"scatter\": [{\"marker\": {\"colorbar\": {\"outlinewidth\": 0, \"ticks\": \"\"}}, \"type\": \"scatter\"}], \"scatter3d\": [{\"line\": {\"colorbar\": {\"outlinewidth\": 0, \"ticks\": \"\"}}, \"marker\": {\"colorbar\": {\"outlinewidth\": 0, \"ticks\": \"\"}}, \"type\": \"scatter3d\"}], \"scattercarpet\": [{\"marker\": {\"colorbar\": {\"outlinewidth\": 0, \"ticks\": \"\"}}, \"type\": \"scattercarpet\"}], \"scattergeo\": [{\"marker\": {\"colorbar\": {\"outlinewidth\": 0, \"ticks\": \"\"}}, \"type\": \"scattergeo\"}], \"scattergl\": [{\"marker\": {\"colorbar\": {\"outlinewidth\": 0, \"ticks\": \"\"}}, \"type\": \"scattergl\"}], \"scattermapbox\": [{\"marker\": {\"colorbar\": {\"outlinewidth\": 0, \"ticks\": \"\"}}, \"type\": \"scattermapbox\"}], \"scatterpolar\": [{\"marker\": {\"colorbar\": {\"outlinewidth\": 0, \"ticks\": \"\"}}, \"type\": \"scatterpolar\"}], \"scatterpolargl\": [{\"marker\": {\"colorbar\": {\"outlinewidth\": 0, \"ticks\": \"\"}}, \"type\": \"scatterpolargl\"}], \"scatterternary\": [{\"marker\": {\"colorbar\": {\"outlinewidth\": 0, \"ticks\": \"\"}}, \"type\": \"scatterternary\"}], \"surface\": [{\"colorbar\": {\"outlinewidth\": 0, \"ticks\": \"\"}, \"colorscale\": [[0.0, \"#0d0887\"], [0.1111111111111111, \"#46039f\"], [0.2222222222222222, \"#7201a8\"], [0.3333333333333333, \"#9c179e\"], [0.4444444444444444, \"#bd3786\"], [0.5555555555555556, \"#d8576b\"], [0.6666666666666666, \"#ed7953\"], [0.7777777777777778, \"#fb9f3a\"], [0.8888888888888888, \"#fdca26\"], [1.0, \"#f0f921\"]], \"type\": \"surface\"}], \"table\": [{\"cells\": {\"fill\": {\"color\": \"#EBF0F8\"}, \"line\": {\"color\": \"white\"}}, \"header\": {\"fill\": {\"color\": \"#C8D4E3\"}, \"line\": {\"color\": \"white\"}}, \"type\": \"table\"}]}, \"layout\": {\"annotationdefaults\": {\"arrowcolor\": \"#2a3f5f\", \"arrowhead\": 0, \"arrowwidth\": 1}, \"coloraxis\": {\"colorbar\": {\"outlinewidth\": 0, \"ticks\": \"\"}}, \"colorscale\": {\"diverging\": [[0, \"#8e0152\"], [0.1, \"#c51b7d\"], [0.2, \"#de77ae\"], [0.3, \"#f1b6da\"], [0.4, \"#fde0ef\"], [0.5, \"#f7f7f7\"], [0.6, \"#e6f5d0\"], [0.7, \"#b8e186\"], [0.8, \"#7fbc41\"], [0.9, \"#4d9221\"], [1, \"#276419\"]], \"sequential\": [[0.0, \"#0d0887\"], [0.1111111111111111, \"#46039f\"], [0.2222222222222222, \"#7201a8\"], [0.3333333333333333, \"#9c179e\"], [0.4444444444444444, \"#bd3786\"], [0.5555555555555556, \"#d8576b\"], [0.6666666666666666, \"#ed7953\"], [0.7777777777777778, \"#fb9f3a\"], [0.8888888888888888, \"#fdca26\"], [1.0, \"#f0f921\"]], \"sequentialminus\": [[0.0, \"#0d0887\"], [0.1111111111111111, \"#46039f\"], [0.2222222222222222, \"#7201a8\"], [0.3333333333333333, \"#9c179e\"], [0.4444444444444444, \"#bd3786\"], [0.5555555555555556, \"#d8576b\"], [0.6666666666666666, \"#ed7953\"], [0.7777777777777778, \"#fb9f3a\"], [0.8888888888888888, \"#fdca26\"], [1.0, \"#f0f921\"]]}, \"colorway\": [\"#636efa\", \"#EF553B\", \"#00cc96\", \"#ab63fa\", \"#FFA15A\", \"#19d3f3\", \"#FF6692\", \"#B6E880\", \"#FF97FF\", \"#FECB52\"], \"font\": {\"color\": \"#2a3f5f\"}, \"geo\": {\"bgcolor\": \"white\", \"lakecolor\": \"white\", \"landcolor\": \"#E5ECF6\", \"showlakes\": true, \"showland\": true, \"subunitcolor\": \"white\"}, \"hoverlabel\": {\"align\": \"left\"}, \"hovermode\": \"closest\", \"mapbox\": {\"style\": \"light\"}, \"paper_bgcolor\": \"white\", \"plot_bgcolor\": \"#E5ECF6\", \"polar\": {\"angularaxis\": {\"gridcolor\": \"white\", \"linecolor\": \"white\", \"ticks\": \"\"}, \"bgcolor\": \"#E5ECF6\", \"radialaxis\": {\"gridcolor\": \"white\", \"linecolor\": \"white\", \"ticks\": \"\"}}, \"scene\": {\"xaxis\": {\"backgroundcolor\": \"#E5ECF6\", \"gridcolor\": \"white\", \"gridwidth\": 2, \"linecolor\": \"white\", \"showbackground\": true, \"ticks\": \"\", \"zerolinecolor\": \"white\"}, \"yaxis\": {\"backgroundcolor\": \"#E5ECF6\", \"gridcolor\": \"white\", \"gridwidth\": 2, \"linecolor\": \"white\", \"showbackground\": true, \"ticks\": \"\", \"zerolinecolor\": \"white\"}, \"zaxis\": {\"backgroundcolor\": \"#E5ECF6\", \"gridcolor\": \"white\", \"gridwidth\": 2, \"linecolor\": \"white\", \"showbackground\": true, \"ticks\": \"\", \"zerolinecolor\": \"white\"}}, \"shapedefaults\": {\"line\": {\"color\": \"#2a3f5f\"}}, \"ternary\": {\"aaxis\": {\"gridcolor\": \"white\", \"linecolor\": \"white\", \"ticks\": \"\"}, \"baxis\": {\"gridcolor\": \"white\", \"linecolor\": \"white\", \"ticks\": \"\"}, \"bgcolor\": \"#E5ECF6\", \"caxis\": {\"gridcolor\": \"white\", \"linecolor\": \"white\", \"ticks\": \"\"}}, \"title\": {\"x\": 0.05}, \"xaxis\": {\"automargin\": true, \"gridcolor\": \"white\", \"linecolor\": \"white\", \"ticks\": \"\", \"title\": {\"standoff\": 15}, \"zerolinecolor\": \"white\", \"zerolinewidth\": 2}, \"yaxis\": {\"automargin\": true, \"gridcolor\": \"white\", \"linecolor\": \"white\", \"ticks\": \"\", \"title\": {\"standoff\": 15}, \"zerolinecolor\": \"white\", \"zerolinewidth\": 2}}}, \"title\": {\"text\": \"Main countries to which Brazil exports\"}, \"xaxis\": {\"title\": {\"text\": \"Year\"}}, \"yaxis\": {\"title\": {\"text\": \"Increase fold from 1993\"}}},\n",
       "                        {\"responsive\": true}\n",
       "                    ).then(function(){\n",
       "                            \n",
       "var gd = document.getElementById('8d5df817-248b-437e-9aaa-2eb0c84c65f3');\n",
       "var x = new MutationObserver(function (mutations, observer) {{\n",
       "        var display = window.getComputedStyle(gd).display;\n",
       "        if (!display || display === 'none') {{\n",
       "            console.log([gd, 'removed!']);\n",
       "            Plotly.purge(gd);\n",
       "            observer.disconnect();\n",
       "        }}\n",
       "}});\n",
       "\n",
       "// Listen for the removal of the full notebook cells\n",
       "var notebookContainer = gd.closest('#notebook-container');\n",
       "if (notebookContainer) {{\n",
       "    x.observe(notebookContainer, {childList: true});\n",
       "}}\n",
       "\n",
       "// Listen for the clearing of the current output cell\n",
       "var outputEl = gd.closest('.output');\n",
       "if (outputEl) {{\n",
       "    x.observe(outputEl, {childList: true});\n",
       "}}\n",
       "\n",
       "                        })\n",
       "                };\n",
       "                });\n",
       "            </script>\n",
       "        </div>"
      ]
     },
     "metadata": {},
     "output_type": "display_data"
    }
   ],
   "source": [
    "import plotly.graph_objects as go\n",
    "years = [str(year) for year in range(1993, 2017)] \n",
    "fig = go.Figure()\n",
    "countries = df_importers_brazil['Importer']\n",
    "for i in range(0, 10):\n",
    "    fig.add_trace(go.Scatter(x=years, y=df_importers_brazil.iloc[i][years], mode='lines', name=countries[i], line = dict(width=4)))\n",
    "fig.update_layout(title='Main countries to which Brazil exports',\n",
    "                   xaxis_title='Year',\n",
    "                   yaxis_title='Increase fold from 1993')"
   ]
  },
  {
   "cell_type": "code",
   "execution_count": 46,
   "metadata": {},
   "outputs": [],
   "source": [
    "df_maize_importers_brazil = df_trade.loc[df_trade['Exporter'] == 'Brazil'].loc[df_trade['Item'] == 'Maize']\n",
    "df_maize_importers_brazil = df_maize_importers_brazil.groupby(['Exporter', 'Importer'])\\\n",
    "                                                           .sum() \\\n",
    "                                                           .reset_index()\\\n",
    "                                                           .sort_values(['2016'], ascending=False)\\\n",
    "                                                           .reset_index()\\\n",
    "                                                           .drop(columns=['index'])"
   ]
  },
  {
   "cell_type": "code",
   "execution_count": 47,
   "metadata": {},
   "outputs": [
    {
     "data": {
      "application/vnd.plotly.v1+json": {
       "config": {
        "plotlyServerURL": "https://plot.ly"
       },
       "data": [
        {
         "line": {
          "width": 4
         },
         "mode": "lines",
         "name": "Iran (Islamic Republic of)",
         "type": "scatter",
         "x": [
          "1993",
          "1994",
          "1995",
          "1996",
          "1997",
          "1998",
          "1999",
          "2000",
          "2001",
          "2002",
          "2003",
          "2004",
          "2005",
          "2006",
          "2007",
          "2008",
          "2009",
          "2010",
          "2011",
          "2012",
          "2013",
          "2014",
          "2015",
          "2016"
         ],
         "y": [
          0,
          0,
          0,
          0,
          15240,
          0,
          157500,
          243410,
          1406663,
          1016980,
          1185454,
          1304642,
          700381,
          1770337,
          2723790,
          468963,
          1767387,
          1490644,
          1905670,
          2966923,
          2168575,
          4698583,
          4207984,
          4790853
         ]
        },
        {
         "line": {
          "width": 4
         },
         "mode": "lines",
         "name": "Japan",
         "type": "scatter",
         "x": [
          "1993",
          "1994",
          "1995",
          "1996",
          "1997",
          "1998",
          "1999",
          "2000",
          "2001",
          "2002",
          "2003",
          "2004",
          "2005",
          "2006",
          "2007",
          "2008",
          "2009",
          "2010",
          "2011",
          "2012",
          "2013",
          "2014",
          "2015",
          "2016"
         ],
         "y": [
          0,
          0,
          2,
          2,
          23,
          70,
          35,
          6,
          583232,
          553271,
          244754,
          90442,
          23947,
          21,
          54142,
          5950,
          269438,
          649900,
          887861,
          3049383,
          4374708,
          1311811,
          2776861,
          3733742
         ]
        },
        {
         "line": {
          "width": 4
         },
         "mode": "lines",
         "name": "Viet Nam",
         "type": "scatter",
         "x": [
          "1993",
          "1994",
          "1995",
          "1996",
          "1997",
          "1998",
          "1999",
          "2000",
          "2001",
          "2002",
          "2003",
          "2004",
          "2005",
          "2006",
          "2007",
          "2008",
          "2009",
          "2010",
          "2011",
          "2012",
          "2013",
          "2014",
          "2015",
          "2016"
         ],
         "y": [
          0,
          0,
          0,
          0,
          0,
          0,
          0,
          0,
          0,
          0,
          0,
          0,
          0,
          0,
          0,
          49115,
          190509,
          147288,
          119734,
          73421,
          1193535,
          3185384,
          4841356,
          2877048
         ]
        },
        {
         "line": {
          "width": 4
         },
         "mode": "lines",
         "name": "Republic of Korea",
         "type": "scatter",
         "x": [
          "1993",
          "1994",
          "1995",
          "1996",
          "1997",
          "1998",
          "1999",
          "2000",
          "2001",
          "2002",
          "2003",
          "2004",
          "2005",
          "2006",
          "2007",
          "2008",
          "2009",
          "2010",
          "2011",
          "2012",
          "2013",
          "2014",
          "2015",
          "2016"
         ],
         "y": [
          0,
          0,
          0,
          3965,
          0,
          0,
          0,
          0,
          1322403,
          1206387,
          737442,
          1455424,
          301174,
          814315,
          763435,
          319229,
          721911,
          280347,
          131022,
          2581258,
          3940138,
          1900076,
          3018991,
          2513828
         ]
        },
        {
         "line": {
          "width": 4
         },
         "mode": "lines",
         "name": "China, Taiwan Province of",
         "type": "scatter",
         "x": [
          "1993",
          "1994",
          "1995",
          "1996",
          "1997",
          "1998",
          "1999",
          "2000",
          "2001",
          "2002",
          "2003",
          "2004",
          "2005",
          "2006",
          "2007",
          "2008",
          "2009",
          "2010",
          "2011",
          "2012",
          "2013",
          "2014",
          "2015",
          "2016"
         ],
         "y": [
          5,
          5,
          6,
          0,
          0,
          0,
          0,
          0,
          41720,
          0,
          0,
          22,
          0,
          0,
          0,
          190228,
          701900,
          1214291,
          1174400,
          2163723,
          2250719,
          1528806,
          2332792,
          1678795
         ]
        },
        {
         "line": {
          "width": 4
         },
         "mode": "lines",
         "name": "Malaysia",
         "type": "scatter",
         "x": [
          "1993",
          "1994",
          "1995",
          "1996",
          "1997",
          "1998",
          "1999",
          "2000",
          "2001",
          "2002",
          "2003",
          "2004",
          "2005",
          "2006",
          "2007",
          "2008",
          "2009",
          "2010",
          "2011",
          "2012",
          "2013",
          "2014",
          "2015",
          "2016"
         ],
         "y": [
          0,
          0,
          0,
          25528,
          0,
          0,
          0,
          0,
          73589,
          0,
          0,
          0,
          0,
          0,
          0,
          319937,
          916849,
          924299,
          648720,
          686952,
          1020529,
          1594505,
          1682300,
          1609354
         ]
        },
        {
         "line": {
          "width": 4
         },
         "mode": "lines",
         "name": "Egypt",
         "type": "scatter",
         "x": [
          "1993",
          "1994",
          "1995",
          "1996",
          "1997",
          "1998",
          "1999",
          "2000",
          "2001",
          "2002",
          "2003",
          "2004",
          "2005",
          "2006",
          "2007",
          "2008",
          "2009",
          "2010",
          "2011",
          "2012",
          "2013",
          "2014",
          "2015",
          "2016"
         ],
         "y": [
          0,
          0,
          15000,
          23984,
          0,
          23006,
          59512,
          13000,
          225355,
          345932,
          405934,
          7377,
          280150,
          1411,
          48197,
          59755,
          19131,
          307085,
          543817,
          1846385,
          2017293,
          1246233,
          2008864,
          1500669
         ]
        },
        {
         "line": {
          "width": 4
         },
         "mode": "lines",
         "name": "Indonesia",
         "type": "scatter",
         "x": [
          "1993",
          "1994",
          "1995",
          "1996",
          "1997",
          "1998",
          "1999",
          "2000",
          "2001",
          "2002",
          "2003",
          "2004",
          "2005",
          "2006",
          "2007",
          "2008",
          "2009",
          "2010",
          "2011",
          "2012",
          "2013",
          "2014",
          "2015",
          "2016"
         ],
         "y": [
          0,
          0,
          0,
          0,
          0,
          1,
          0,
          18,
          41720,
          0,
          22,
          0,
          0,
          0,
          0,
          0,
          20775,
          445201,
          265014,
          129035,
          1346009,
          1308856,
          1331411,
          777504
         ]
        },
        {
         "line": {
          "width": 4
         },
         "mode": "lines",
         "name": "Bangladesh",
         "type": "scatter",
         "x": [
          "1993",
          "1994",
          "1995",
          "1996",
          "1997",
          "1998",
          "1999",
          "2000",
          "2001",
          "2002",
          "2003",
          "2004",
          "2005",
          "2006",
          "2007",
          "2008",
          "2009",
          "2010",
          "2011",
          "2012",
          "2013",
          "2014",
          "2015",
          "2016"
         ],
         "y": [
          0,
          0,
          0,
          0,
          0,
          0,
          0,
          0,
          0,
          0,
          0,
          0,
          0,
          0,
          0,
          0,
          0,
          0,
          0,
          0,
          0,
          0,
          190187,
          723519
         ]
        },
        {
         "line": {
          "width": 4
         },
         "mode": "lines",
         "name": "Saudi Arabia",
         "type": "scatter",
         "x": [
          "1993",
          "1994",
          "1995",
          "1996",
          "1997",
          "1998",
          "1999",
          "2000",
          "2001",
          "2002",
          "2003",
          "2004",
          "2005",
          "2006",
          "2007",
          "2008",
          "2009",
          "2010",
          "2011",
          "2012",
          "2013",
          "2014",
          "2015",
          "2016"
         ],
         "y": [
          0,
          0,
          0,
          0,
          0,
          0,
          0,
          0,
          18200,
          77399,
          136421,
          68075,
          0,
          11493,
          94741,
          345910,
          709345,
          815650,
          425434,
          754355,
          1132382,
          726267,
          744795,
          667113
         ]
        }
       ],
       "layout": {
        "autosize": true,
        "template": {
         "data": {
          "bar": [
           {
            "error_x": {
             "color": "#2a3f5f"
            },
            "error_y": {
             "color": "#2a3f5f"
            },
            "marker": {
             "line": {
              "color": "#E5ECF6",
              "width": 0.5
             }
            },
            "type": "bar"
           }
          ],
          "barpolar": [
           {
            "marker": {
             "line": {
              "color": "#E5ECF6",
              "width": 0.5
             }
            },
            "type": "barpolar"
           }
          ],
          "carpet": [
           {
            "aaxis": {
             "endlinecolor": "#2a3f5f",
             "gridcolor": "white",
             "linecolor": "white",
             "minorgridcolor": "white",
             "startlinecolor": "#2a3f5f"
            },
            "baxis": {
             "endlinecolor": "#2a3f5f",
             "gridcolor": "white",
             "linecolor": "white",
             "minorgridcolor": "white",
             "startlinecolor": "#2a3f5f"
            },
            "type": "carpet"
           }
          ],
          "choropleth": [
           {
            "colorbar": {
             "outlinewidth": 0,
             "ticks": ""
            },
            "type": "choropleth"
           }
          ],
          "contour": [
           {
            "colorbar": {
             "outlinewidth": 0,
             "ticks": ""
            },
            "colorscale": [
             [
              0,
              "#0d0887"
             ],
             [
              0.1111111111111111,
              "#46039f"
             ],
             [
              0.2222222222222222,
              "#7201a8"
             ],
             [
              0.3333333333333333,
              "#9c179e"
             ],
             [
              0.4444444444444444,
              "#bd3786"
             ],
             [
              0.5555555555555556,
              "#d8576b"
             ],
             [
              0.6666666666666666,
              "#ed7953"
             ],
             [
              0.7777777777777778,
              "#fb9f3a"
             ],
             [
              0.8888888888888888,
              "#fdca26"
             ],
             [
              1,
              "#f0f921"
             ]
            ],
            "type": "contour"
           }
          ],
          "contourcarpet": [
           {
            "colorbar": {
             "outlinewidth": 0,
             "ticks": ""
            },
            "type": "contourcarpet"
           }
          ],
          "heatmap": [
           {
            "colorbar": {
             "outlinewidth": 0,
             "ticks": ""
            },
            "colorscale": [
             [
              0,
              "#0d0887"
             ],
             [
              0.1111111111111111,
              "#46039f"
             ],
             [
              0.2222222222222222,
              "#7201a8"
             ],
             [
              0.3333333333333333,
              "#9c179e"
             ],
             [
              0.4444444444444444,
              "#bd3786"
             ],
             [
              0.5555555555555556,
              "#d8576b"
             ],
             [
              0.6666666666666666,
              "#ed7953"
             ],
             [
              0.7777777777777778,
              "#fb9f3a"
             ],
             [
              0.8888888888888888,
              "#fdca26"
             ],
             [
              1,
              "#f0f921"
             ]
            ],
            "type": "heatmap"
           }
          ],
          "heatmapgl": [
           {
            "colorbar": {
             "outlinewidth": 0,
             "ticks": ""
            },
            "colorscale": [
             [
              0,
              "#0d0887"
             ],
             [
              0.1111111111111111,
              "#46039f"
             ],
             [
              0.2222222222222222,
              "#7201a8"
             ],
             [
              0.3333333333333333,
              "#9c179e"
             ],
             [
              0.4444444444444444,
              "#bd3786"
             ],
             [
              0.5555555555555556,
              "#d8576b"
             ],
             [
              0.6666666666666666,
              "#ed7953"
             ],
             [
              0.7777777777777778,
              "#fb9f3a"
             ],
             [
              0.8888888888888888,
              "#fdca26"
             ],
             [
              1,
              "#f0f921"
             ]
            ],
            "type": "heatmapgl"
           }
          ],
          "histogram": [
           {
            "marker": {
             "colorbar": {
              "outlinewidth": 0,
              "ticks": ""
             }
            },
            "type": "histogram"
           }
          ],
          "histogram2d": [
           {
            "colorbar": {
             "outlinewidth": 0,
             "ticks": ""
            },
            "colorscale": [
             [
              0,
              "#0d0887"
             ],
             [
              0.1111111111111111,
              "#46039f"
             ],
             [
              0.2222222222222222,
              "#7201a8"
             ],
             [
              0.3333333333333333,
              "#9c179e"
             ],
             [
              0.4444444444444444,
              "#bd3786"
             ],
             [
              0.5555555555555556,
              "#d8576b"
             ],
             [
              0.6666666666666666,
              "#ed7953"
             ],
             [
              0.7777777777777778,
              "#fb9f3a"
             ],
             [
              0.8888888888888888,
              "#fdca26"
             ],
             [
              1,
              "#f0f921"
             ]
            ],
            "type": "histogram2d"
           }
          ],
          "histogram2dcontour": [
           {
            "colorbar": {
             "outlinewidth": 0,
             "ticks": ""
            },
            "colorscale": [
             [
              0,
              "#0d0887"
             ],
             [
              0.1111111111111111,
              "#46039f"
             ],
             [
              0.2222222222222222,
              "#7201a8"
             ],
             [
              0.3333333333333333,
              "#9c179e"
             ],
             [
              0.4444444444444444,
              "#bd3786"
             ],
             [
              0.5555555555555556,
              "#d8576b"
             ],
             [
              0.6666666666666666,
              "#ed7953"
             ],
             [
              0.7777777777777778,
              "#fb9f3a"
             ],
             [
              0.8888888888888888,
              "#fdca26"
             ],
             [
              1,
              "#f0f921"
             ]
            ],
            "type": "histogram2dcontour"
           }
          ],
          "mesh3d": [
           {
            "colorbar": {
             "outlinewidth": 0,
             "ticks": ""
            },
            "type": "mesh3d"
           }
          ],
          "parcoords": [
           {
            "line": {
             "colorbar": {
              "outlinewidth": 0,
              "ticks": ""
             }
            },
            "type": "parcoords"
           }
          ],
          "pie": [
           {
            "automargin": true,
            "type": "pie"
           }
          ],
          "scatter": [
           {
            "marker": {
             "colorbar": {
              "outlinewidth": 0,
              "ticks": ""
             }
            },
            "type": "scatter"
           }
          ],
          "scatter3d": [
           {
            "line": {
             "colorbar": {
              "outlinewidth": 0,
              "ticks": ""
             }
            },
            "marker": {
             "colorbar": {
              "outlinewidth": 0,
              "ticks": ""
             }
            },
            "type": "scatter3d"
           }
          ],
          "scattercarpet": [
           {
            "marker": {
             "colorbar": {
              "outlinewidth": 0,
              "ticks": ""
             }
            },
            "type": "scattercarpet"
           }
          ],
          "scattergeo": [
           {
            "marker": {
             "colorbar": {
              "outlinewidth": 0,
              "ticks": ""
             }
            },
            "type": "scattergeo"
           }
          ],
          "scattergl": [
           {
            "marker": {
             "colorbar": {
              "outlinewidth": 0,
              "ticks": ""
             }
            },
            "type": "scattergl"
           }
          ],
          "scattermapbox": [
           {
            "marker": {
             "colorbar": {
              "outlinewidth": 0,
              "ticks": ""
             }
            },
            "type": "scattermapbox"
           }
          ],
          "scatterpolar": [
           {
            "marker": {
             "colorbar": {
              "outlinewidth": 0,
              "ticks": ""
             }
            },
            "type": "scatterpolar"
           }
          ],
          "scatterpolargl": [
           {
            "marker": {
             "colorbar": {
              "outlinewidth": 0,
              "ticks": ""
             }
            },
            "type": "scatterpolargl"
           }
          ],
          "scatterternary": [
           {
            "marker": {
             "colorbar": {
              "outlinewidth": 0,
              "ticks": ""
             }
            },
            "type": "scatterternary"
           }
          ],
          "surface": [
           {
            "colorbar": {
             "outlinewidth": 0,
             "ticks": ""
            },
            "colorscale": [
             [
              0,
              "#0d0887"
             ],
             [
              0.1111111111111111,
              "#46039f"
             ],
             [
              0.2222222222222222,
              "#7201a8"
             ],
             [
              0.3333333333333333,
              "#9c179e"
             ],
             [
              0.4444444444444444,
              "#bd3786"
             ],
             [
              0.5555555555555556,
              "#d8576b"
             ],
             [
              0.6666666666666666,
              "#ed7953"
             ],
             [
              0.7777777777777778,
              "#fb9f3a"
             ],
             [
              0.8888888888888888,
              "#fdca26"
             ],
             [
              1,
              "#f0f921"
             ]
            ],
            "type": "surface"
           }
          ],
          "table": [
           {
            "cells": {
             "fill": {
              "color": "#EBF0F8"
             },
             "line": {
              "color": "white"
             }
            },
            "header": {
             "fill": {
              "color": "#C8D4E3"
             },
             "line": {
              "color": "white"
             }
            },
            "type": "table"
           }
          ]
         },
         "layout": {
          "annotationdefaults": {
           "arrowcolor": "#2a3f5f",
           "arrowhead": 0,
           "arrowwidth": 1
          },
          "coloraxis": {
           "colorbar": {
            "outlinewidth": 0,
            "ticks": ""
           }
          },
          "colorscale": {
           "diverging": [
            [
             0,
             "#8e0152"
            ],
            [
             0.1,
             "#c51b7d"
            ],
            [
             0.2,
             "#de77ae"
            ],
            [
             0.3,
             "#f1b6da"
            ],
            [
             0.4,
             "#fde0ef"
            ],
            [
             0.5,
             "#f7f7f7"
            ],
            [
             0.6,
             "#e6f5d0"
            ],
            [
             0.7,
             "#b8e186"
            ],
            [
             0.8,
             "#7fbc41"
            ],
            [
             0.9,
             "#4d9221"
            ],
            [
             1,
             "#276419"
            ]
           ],
           "sequential": [
            [
             0,
             "#0d0887"
            ],
            [
             0.1111111111111111,
             "#46039f"
            ],
            [
             0.2222222222222222,
             "#7201a8"
            ],
            [
             0.3333333333333333,
             "#9c179e"
            ],
            [
             0.4444444444444444,
             "#bd3786"
            ],
            [
             0.5555555555555556,
             "#d8576b"
            ],
            [
             0.6666666666666666,
             "#ed7953"
            ],
            [
             0.7777777777777778,
             "#fb9f3a"
            ],
            [
             0.8888888888888888,
             "#fdca26"
            ],
            [
             1,
             "#f0f921"
            ]
           ],
           "sequentialminus": [
            [
             0,
             "#0d0887"
            ],
            [
             0.1111111111111111,
             "#46039f"
            ],
            [
             0.2222222222222222,
             "#7201a8"
            ],
            [
             0.3333333333333333,
             "#9c179e"
            ],
            [
             0.4444444444444444,
             "#bd3786"
            ],
            [
             0.5555555555555556,
             "#d8576b"
            ],
            [
             0.6666666666666666,
             "#ed7953"
            ],
            [
             0.7777777777777778,
             "#fb9f3a"
            ],
            [
             0.8888888888888888,
             "#fdca26"
            ],
            [
             1,
             "#f0f921"
            ]
           ]
          },
          "colorway": [
           "#636efa",
           "#EF553B",
           "#00cc96",
           "#ab63fa",
           "#FFA15A",
           "#19d3f3",
           "#FF6692",
           "#B6E880",
           "#FF97FF",
           "#FECB52"
          ],
          "font": {
           "color": "#2a3f5f"
          },
          "geo": {
           "bgcolor": "white",
           "lakecolor": "white",
           "landcolor": "#E5ECF6",
           "showlakes": true,
           "showland": true,
           "subunitcolor": "white"
          },
          "hoverlabel": {
           "align": "left"
          },
          "hovermode": "closest",
          "mapbox": {
           "style": "light"
          },
          "paper_bgcolor": "white",
          "plot_bgcolor": "#E5ECF6",
          "polar": {
           "angularaxis": {
            "gridcolor": "white",
            "linecolor": "white",
            "ticks": ""
           },
           "bgcolor": "#E5ECF6",
           "radialaxis": {
            "gridcolor": "white",
            "linecolor": "white",
            "ticks": ""
           }
          },
          "scene": {
           "xaxis": {
            "backgroundcolor": "#E5ECF6",
            "gridcolor": "white",
            "gridwidth": 2,
            "linecolor": "white",
            "showbackground": true,
            "ticks": "",
            "zerolinecolor": "white"
           },
           "yaxis": {
            "backgroundcolor": "#E5ECF6",
            "gridcolor": "white",
            "gridwidth": 2,
            "linecolor": "white",
            "showbackground": true,
            "ticks": "",
            "zerolinecolor": "white"
           },
           "zaxis": {
            "backgroundcolor": "#E5ECF6",
            "gridcolor": "white",
            "gridwidth": 2,
            "linecolor": "white",
            "showbackground": true,
            "ticks": "",
            "zerolinecolor": "white"
           }
          },
          "shapedefaults": {
           "line": {
            "color": "#2a3f5f"
           }
          },
          "ternary": {
           "aaxis": {
            "gridcolor": "white",
            "linecolor": "white",
            "ticks": ""
           },
           "baxis": {
            "gridcolor": "white",
            "linecolor": "white",
            "ticks": ""
           },
           "bgcolor": "#E5ECF6",
           "caxis": {
            "gridcolor": "white",
            "linecolor": "white",
            "ticks": ""
           }
          },
          "title": {
           "x": 0.05
          },
          "xaxis": {
           "automargin": true,
           "gridcolor": "white",
           "linecolor": "white",
           "ticks": "",
           "title": {
            "standoff": 15
           },
           "zerolinecolor": "white",
           "zerolinewidth": 2
          },
          "yaxis": {
           "automargin": true,
           "gridcolor": "white",
           "linecolor": "white",
           "ticks": "",
           "title": {
            "standoff": 15
           },
           "zerolinecolor": "white",
           "zerolinewidth": 2
          }
         }
        },
        "title": {
         "text": "Main countries to which Brazil exports soybeans"
        },
        "xaxis": {
         "autorange": true,
         "range": [
          1993,
          2016
         ],
         "title": {
          "text": "Year"
         },
         "type": "linear"
        },
        "yaxis": {
         "autorange": true,
         "range": [
          -268964.22222222225,
          5110320.222222222
         ],
         "title": {
          "text": "Increase fold from 1993"
         },
         "type": "linear"
        }
       }
      },
      "image/png": "[encoded data removed]",
      "text/html": [
       "<div>\n",
       "        \n",
       "        \n",
       "            <div id=\"00a18107-d0ed-4bdf-b30c-cc1443c2cae7\" class=\"plotly-graph-div\" style=\"height:525px; width:100%;\"></div>\n",
       "            <script type=\"text/javascript\">\n",
       "                require([\"plotly\"], function(Plotly) {\n",
       "                    window.PLOTLYENV=window.PLOTLYENV || {};\n",
       "                    \n",
       "                if (document.getElementById(\"00a18107-d0ed-4bdf-b30c-cc1443c2cae7\")) {\n",
       "                    Plotly.newPlot(\n",
       "                        '00a18107-d0ed-4bdf-b30c-cc1443c2cae7',\n",
       "                        [{\"line\": {\"width\": 4}, \"mode\": \"lines\", \"name\": \"Iran (Islamic Republic of)\", \"type\": \"scatter\", \"x\": [\"1993\", \"1994\", \"1995\", \"1996\", \"1997\", \"1998\", \"1999\", \"2000\", \"2001\", \"2002\", \"2003\", \"2004\", \"2005\", \"2006\", \"2007\", \"2008\", \"2009\", \"2010\", \"2011\", \"2012\", \"2013\", \"2014\", \"2015\", \"2016\"], \"y\": [0.0, 0.0, 0.0, 0.0, 15240.0, 0.0, 157500.0, 243410.0, 1406663.0, 1016980.0, 1185454.0, 1304642.0, 700381.0, 1770337.0, 2723790.0, 468963.0, 1767387.0, 1490644.0, 1905670.0, 2966923.0, 2168575.0, 4698583.0, 4207984.0, 4790853.0]}, {\"line\": {\"width\": 4}, \"mode\": \"lines\", \"name\": \"Japan\", \"type\": \"scatter\", \"x\": [\"1993\", \"1994\", \"1995\", \"1996\", \"1997\", \"1998\", \"1999\", \"2000\", \"2001\", \"2002\", \"2003\", \"2004\", \"2005\", \"2006\", \"2007\", \"2008\", \"2009\", \"2010\", \"2011\", \"2012\", \"2013\", \"2014\", \"2015\", \"2016\"], \"y\": [0.0, 0.0, 2.0, 2.0, 23.0, 70.0, 35.0, 6.0, 583232.0, 553271.0, 244754.0, 90442.0, 23947.0, 21.0, 54142.0, 5950.0, 269438.0, 649900.0, 887861.0, 3049383.0, 4374708.0, 1311811.0, 2776861.0, 3733742.0]}, {\"line\": {\"width\": 4}, \"mode\": \"lines\", \"name\": \"Viet Nam\", \"type\": \"scatter\", \"x\": [\"1993\", \"1994\", \"1995\", \"1996\", \"1997\", \"1998\", \"1999\", \"2000\", \"2001\", \"2002\", \"2003\", \"2004\", \"2005\", \"2006\", \"2007\", \"2008\", \"2009\", \"2010\", \"2011\", \"2012\", \"2013\", \"2014\", \"2015\", \"2016\"], \"y\": [0.0, 0.0, 0.0, 0.0, 0.0, 0.0, 0.0, 0.0, 0.0, 0.0, 0.0, 0.0, 0.0, 0.0, 0.0, 49115.0, 190509.0, 147288.0, 119734.0, 73421.0, 1193535.0, 3185384.0, 4841356.0, 2877048.0]}, {\"line\": {\"width\": 4}, \"mode\": \"lines\", \"name\": \"Republic of Korea\", \"type\": \"scatter\", \"x\": [\"1993\", \"1994\", \"1995\", \"1996\", \"1997\", \"1998\", \"1999\", \"2000\", \"2001\", \"2002\", \"2003\", \"2004\", \"2005\", \"2006\", \"2007\", \"2008\", \"2009\", \"2010\", \"2011\", \"2012\", \"2013\", \"2014\", \"2015\", \"2016\"], \"y\": [0.0, 0.0, 0.0, 3965.0, 0.0, 0.0, 0.0, 0.0, 1322403.0, 1206387.0, 737442.0, 1455424.0, 301174.0, 814315.0, 763435.0, 319229.0, 721911.0, 280347.0, 131022.0, 2581258.0, 3940138.0, 1900076.0, 3018991.0, 2513828.0]}, {\"line\": {\"width\": 4}, \"mode\": \"lines\", \"name\": \"China, Taiwan Province of\", \"type\": \"scatter\", \"x\": [\"1993\", \"1994\", \"1995\", \"1996\", \"1997\", \"1998\", \"1999\", \"2000\", \"2001\", \"2002\", \"2003\", \"2004\", \"2005\", \"2006\", \"2007\", \"2008\", \"2009\", \"2010\", \"2011\", \"2012\", \"2013\", \"2014\", \"2015\", \"2016\"], \"y\": [5.0, 5.0, 6.0, 0.0, 0.0, 0.0, 0.0, 0.0, 41720.0, 0.0, 0.0, 22.0, 0.0, 0.0, 0.0, 190228.0, 701900.0, 1214291.0, 1174400.0, 2163723.0, 2250719.0, 1528806.0, 2332792.0, 1678795.0]}, {\"line\": {\"width\": 4}, \"mode\": \"lines\", \"name\": \"Malaysia\", \"type\": \"scatter\", \"x\": [\"1993\", \"1994\", \"1995\", \"1996\", \"1997\", \"1998\", \"1999\", \"2000\", \"2001\", \"2002\", \"2003\", \"2004\", \"2005\", \"2006\", \"2007\", \"2008\", \"2009\", \"2010\", \"2011\", \"2012\", \"2013\", \"2014\", \"2015\", \"2016\"], \"y\": [0.0, 0.0, 0.0, 25528.0, 0.0, 0.0, 0.0, 0.0, 73589.0, 0.0, 0.0, 0.0, 0.0, 0.0, 0.0, 319937.0, 916849.0, 924299.0, 648720.0, 686952.0, 1020529.0, 1594505.0, 1682300.0, 1609354.0]}, {\"line\": {\"width\": 4}, \"mode\": \"lines\", \"name\": \"Egypt\", \"type\": \"scatter\", \"x\": [\"1993\", \"1994\", \"1995\", \"1996\", \"1997\", \"1998\", \"1999\", \"2000\", \"2001\", \"2002\", \"2003\", \"2004\", \"2005\", \"2006\", \"2007\", \"2008\", \"2009\", \"2010\", \"2011\", \"2012\", \"2013\", \"2014\", \"2015\", \"2016\"], \"y\": [0.0, 0.0, 15000.0, 23984.0, 0.0, 23006.0, 59512.0, 13000.0, 225355.0, 345932.0, 405934.0, 7377.0, 280150.0, 1411.0, 48197.0, 59755.0, 19131.0, 307085.0, 543817.0, 1846385.0, 2017293.0, 1246233.0, 2008864.0, 1500669.0]}, {\"line\": {\"width\": 4}, \"mode\": \"lines\", \"name\": \"Indonesia\", \"type\": \"scatter\", \"x\": [\"1993\", \"1994\", \"1995\", \"1996\", \"1997\", \"1998\", \"1999\", \"2000\", \"2001\", \"2002\", \"2003\", \"2004\", \"2005\", \"2006\", \"2007\", \"2008\", \"2009\", \"2010\", \"2011\", \"2012\", \"2013\", \"2014\", \"2015\", \"2016\"], \"y\": [0.0, 0.0, 0.0, 0.0, 0.0, 1.0, 0.0, 18.0, 41720.0, 0.0, 22.0, 0.0, 0.0, 0.0, 0.0, 0.0, 20775.0, 445201.0, 265014.0, 129035.0, 1346009.0, 1308856.0, 1331411.0, 777504.0]}, {\"line\": {\"width\": 4}, \"mode\": \"lines\", \"name\": \"Bangladesh\", \"type\": \"scatter\", \"x\": [\"1993\", \"1994\", \"1995\", \"1996\", \"1997\", \"1998\", \"1999\", \"2000\", \"2001\", \"2002\", \"2003\", \"2004\", \"2005\", \"2006\", \"2007\", \"2008\", \"2009\", \"2010\", \"2011\", \"2012\", \"2013\", \"2014\", \"2015\", \"2016\"], \"y\": [0.0, 0.0, 0.0, 0.0, 0.0, 0.0, 0.0, 0.0, 0.0, 0.0, 0.0, 0.0, 0.0, 0.0, 0.0, 0.0, 0.0, 0.0, 0.0, 0.0, 0.0, 0.0, 190187.0, 723519.0]}, {\"line\": {\"width\": 4}, \"mode\": \"lines\", \"name\": \"Saudi Arabia\", \"type\": \"scatter\", \"x\": [\"1993\", \"1994\", \"1995\", \"1996\", \"1997\", \"1998\", \"1999\", \"2000\", \"2001\", \"2002\", \"2003\", \"2004\", \"2005\", \"2006\", \"2007\", \"2008\", \"2009\", \"2010\", \"2011\", \"2012\", \"2013\", \"2014\", \"2015\", \"2016\"], \"y\": [0.0, 0.0, 0.0, 0.0, 0.0, 0.0, 0.0, 0.0, 18200.0, 77399.0, 136421.0, 68075.0, 0.0, 11493.0, 94741.0, 345910.0, 709345.0, 815650.0, 425434.0, 754355.0, 1132382.0, 726267.0, 744795.0, 667113.0]}],\n",
       "                        {\"template\": {\"data\": {\"bar\": [{\"error_x\": {\"color\": \"#2a3f5f\"}, \"error_y\": {\"color\": \"#2a3f5f\"}, \"marker\": {\"line\": {\"color\": \"#E5ECF6\", \"width\": 0.5}}, \"type\": \"bar\"}], \"barpolar\": [{\"marker\": {\"line\": {\"color\": \"#E5ECF6\", \"width\": 0.5}}, \"type\": \"barpolar\"}], \"carpet\": [{\"aaxis\": {\"endlinecolor\": \"#2a3f5f\", \"gridcolor\": \"white\", \"linecolor\": \"white\", \"minorgridcolor\": \"white\", \"startlinecolor\": \"#2a3f5f\"}, \"baxis\": {\"endlinecolor\": \"#2a3f5f\", \"gridcolor\": \"white\", \"linecolor\": \"white\", \"minorgridcolor\": \"white\", \"startlinecolor\": \"#2a3f5f\"}, \"type\": \"carpet\"}], \"choropleth\": [{\"colorbar\": {\"outlinewidth\": 0, \"ticks\": \"\"}, \"type\": \"choropleth\"}], \"contour\": [{\"colorbar\": {\"outlinewidth\": 0, \"ticks\": \"\"}, \"colorscale\": [[0.0, \"#0d0887\"], [0.1111111111111111, \"#46039f\"], [0.2222222222222222, \"#7201a8\"], [0.3333333333333333, \"#9c179e\"], [0.4444444444444444, \"#bd3786\"], [0.5555555555555556, \"#d8576b\"], [0.6666666666666666, \"#ed7953\"], [0.7777777777777778, \"#fb9f3a\"], [0.8888888888888888, \"#fdca26\"], [1.0, \"#f0f921\"]], \"type\": \"contour\"}], \"contourcarpet\": [{\"colorbar\": {\"outlinewidth\": 0, \"ticks\": \"\"}, \"type\": \"contourcarpet\"}], \"heatmap\": [{\"colorbar\": {\"outlinewidth\": 0, \"ticks\": \"\"}, \"colorscale\": [[0.0, \"#0d0887\"], [0.1111111111111111, \"#46039f\"], [0.2222222222222222, \"#7201a8\"], [0.3333333333333333, \"#9c179e\"], [0.4444444444444444, \"#bd3786\"], [0.5555555555555556, \"#d8576b\"], [0.6666666666666666, \"#ed7953\"], [0.7777777777777778, \"#fb9f3a\"], [0.8888888888888888, \"#fdca26\"], [1.0, \"#f0f921\"]], \"type\": \"heatmap\"}], \"heatmapgl\": [{\"colorbar\": {\"outlinewidth\": 0, \"ticks\": \"\"}, \"colorscale\": [[0.0, \"#0d0887\"], [0.1111111111111111, \"#46039f\"], [0.2222222222222222, \"#7201a8\"], [0.3333333333333333, \"#9c179e\"], [0.4444444444444444, \"#bd3786\"], [0.5555555555555556, \"#d8576b\"], [0.6666666666666666, \"#ed7953\"], [0.7777777777777778, \"#fb9f3a\"], [0.8888888888888888, \"#fdca26\"], [1.0, \"#f0f921\"]], \"type\": \"heatmapgl\"}], \"histogram\": [{\"marker\": {\"colorbar\": {\"outlinewidth\": 0, \"ticks\": \"\"}}, \"type\": \"histogram\"}], \"histogram2d\": [{\"colorbar\": {\"outlinewidth\": 0, \"ticks\": \"\"}, \"colorscale\": [[0.0, \"#0d0887\"], [0.1111111111111111, \"#46039f\"], [0.2222222222222222, \"#7201a8\"], [0.3333333333333333, \"#9c179e\"], [0.4444444444444444, \"#bd3786\"], [0.5555555555555556, \"#d8576b\"], [0.6666666666666666, \"#ed7953\"], [0.7777777777777778, \"#fb9f3a\"], [0.8888888888888888, \"#fdca26\"], [1.0, \"#f0f921\"]], \"type\": \"histogram2d\"}], \"histogram2dcontour\": [{\"colorbar\": {\"outlinewidth\": 0, \"ticks\": \"\"}, \"colorscale\": [[0.0, \"#0d0887\"], [0.1111111111111111, \"#46039f\"], [0.2222222222222222, \"#7201a8\"], [0.3333333333333333, \"#9c179e\"], [0.4444444444444444, \"#bd3786\"], [0.5555555555555556, \"#d8576b\"], [0.6666666666666666, \"#ed7953\"], [0.7777777777777778, \"#fb9f3a\"], [0.8888888888888888, \"#fdca26\"], [1.0, \"#f0f921\"]], \"type\": \"histogram2dcontour\"}], \"mesh3d\": [{\"colorbar\": {\"outlinewidth\": 0, \"ticks\": \"\"}, \"type\": \"mesh3d\"}], \"parcoords\": [{\"line\": {\"colorbar\": {\"outlinewidth\": 0, \"ticks\": \"\"}}, \"type\": \"parcoords\"}], \"pie\": [{\"automargin\": true, \"type\": \"pie\"}], \"scatter\": [{\"marker\": {\"colorbar\": {\"outlinewidth\": 0, \"ticks\": \"\"}}, \"type\": \"scatter\"}], \"scatter3d\": [{\"line\": {\"colorbar\": {\"outlinewidth\": 0, \"ticks\": \"\"}}, \"marker\": {\"colorbar\": {\"outlinewidth\": 0, \"ticks\": \"\"}}, \"type\": \"scatter3d\"}], \"scattercarpet\": [{\"marker\": {\"colorbar\": {\"outlinewidth\": 0, \"ticks\": \"\"}}, \"type\": \"scattercarpet\"}], \"scattergeo\": [{\"marker\": {\"colorbar\": {\"outlinewidth\": 0, \"ticks\": \"\"}}, \"type\": \"scattergeo\"}], \"scattergl\": [{\"marker\": {\"colorbar\": {\"outlinewidth\": 0, \"ticks\": \"\"}}, \"type\": \"scattergl\"}], \"scattermapbox\": [{\"marker\": {\"colorbar\": {\"outlinewidth\": 0, \"ticks\": \"\"}}, \"type\": \"scattermapbox\"}], \"scatterpolar\": [{\"marker\": {\"colorbar\": {\"outlinewidth\": 0, \"ticks\": \"\"}}, \"type\": \"scatterpolar\"}], \"scatterpolargl\": [{\"marker\": {\"colorbar\": {\"outlinewidth\": 0, \"ticks\": \"\"}}, \"type\": \"scatterpolargl\"}], \"scatterternary\": [{\"marker\": {\"colorbar\": {\"outlinewidth\": 0, \"ticks\": \"\"}}, \"type\": \"scatterternary\"}], \"surface\": [{\"colorbar\": {\"outlinewidth\": 0, \"ticks\": \"\"}, \"colorscale\": [[0.0, \"#0d0887\"], [0.1111111111111111, \"#46039f\"], [0.2222222222222222, \"#7201a8\"], [0.3333333333333333, \"#9c179e\"], [0.4444444444444444, \"#bd3786\"], [0.5555555555555556, \"#d8576b\"], [0.6666666666666666, \"#ed7953\"], [0.7777777777777778, \"#fb9f3a\"], [0.8888888888888888, \"#fdca26\"], [1.0, \"#f0f921\"]], \"type\": \"surface\"}], \"table\": [{\"cells\": {\"fill\": {\"color\": \"#EBF0F8\"}, \"line\": {\"color\": \"white\"}}, \"header\": {\"fill\": {\"color\": \"#C8D4E3\"}, \"line\": {\"color\": \"white\"}}, \"type\": \"table\"}]}, \"layout\": {\"annotationdefaults\": {\"arrowcolor\": \"#2a3f5f\", \"arrowhead\": 0, \"arrowwidth\": 1}, \"coloraxis\": {\"colorbar\": {\"outlinewidth\": 0, \"ticks\": \"\"}}, \"colorscale\": {\"diverging\": [[0, \"#8e0152\"], [0.1, \"#c51b7d\"], [0.2, \"#de77ae\"], [0.3, \"#f1b6da\"], [0.4, \"#fde0ef\"], [0.5, \"#f7f7f7\"], [0.6, \"#e6f5d0\"], [0.7, \"#b8e186\"], [0.8, \"#7fbc41\"], [0.9, \"#4d9221\"], [1, \"#276419\"]], \"sequential\": [[0.0, \"#0d0887\"], [0.1111111111111111, \"#46039f\"], [0.2222222222222222, \"#7201a8\"], [0.3333333333333333, \"#9c179e\"], [0.4444444444444444, \"#bd3786\"], [0.5555555555555556, \"#d8576b\"], [0.6666666666666666, \"#ed7953\"], [0.7777777777777778, \"#fb9f3a\"], [0.8888888888888888, \"#fdca26\"], [1.0, \"#f0f921\"]], \"sequentialminus\": [[0.0, \"#0d0887\"], [0.1111111111111111, \"#46039f\"], [0.2222222222222222, \"#7201a8\"], [0.3333333333333333, \"#9c179e\"], [0.4444444444444444, \"#bd3786\"], [0.5555555555555556, \"#d8576b\"], [0.6666666666666666, \"#ed7953\"], [0.7777777777777778, \"#fb9f3a\"], [0.8888888888888888, \"#fdca26\"], [1.0, \"#f0f921\"]]}, \"colorway\": [\"#636efa\", \"#EF553B\", \"#00cc96\", \"#ab63fa\", \"#FFA15A\", \"#19d3f3\", \"#FF6692\", \"#B6E880\", \"#FF97FF\", \"#FECB52\"], \"font\": {\"color\": \"#2a3f5f\"}, \"geo\": {\"bgcolor\": \"white\", \"lakecolor\": \"white\", \"landcolor\": \"#E5ECF6\", \"showlakes\": true, \"showland\": true, \"subunitcolor\": \"white\"}, \"hoverlabel\": {\"align\": \"left\"}, \"hovermode\": \"closest\", \"mapbox\": {\"style\": \"light\"}, \"paper_bgcolor\": \"white\", \"plot_bgcolor\": \"#E5ECF6\", \"polar\": {\"angularaxis\": {\"gridcolor\": \"white\", \"linecolor\": \"white\", \"ticks\": \"\"}, \"bgcolor\": \"#E5ECF6\", \"radialaxis\": {\"gridcolor\": \"white\", \"linecolor\": \"white\", \"ticks\": \"\"}}, \"scene\": {\"xaxis\": {\"backgroundcolor\": \"#E5ECF6\", \"gridcolor\": \"white\", \"gridwidth\": 2, \"linecolor\": \"white\", \"showbackground\": true, \"ticks\": \"\", \"zerolinecolor\": \"white\"}, \"yaxis\": {\"backgroundcolor\": \"#E5ECF6\", \"gridcolor\": \"white\", \"gridwidth\": 2, \"linecolor\": \"white\", \"showbackground\": true, \"ticks\": \"\", \"zerolinecolor\": \"white\"}, \"zaxis\": {\"backgroundcolor\": \"#E5ECF6\", \"gridcolor\": \"white\", \"gridwidth\": 2, \"linecolor\": \"white\", \"showbackground\": true, \"ticks\": \"\", \"zerolinecolor\": \"white\"}}, \"shapedefaults\": {\"line\": {\"color\": \"#2a3f5f\"}}, \"ternary\": {\"aaxis\": {\"gridcolor\": \"white\", \"linecolor\": \"white\", \"ticks\": \"\"}, \"baxis\": {\"gridcolor\": \"white\", \"linecolor\": \"white\", \"ticks\": \"\"}, \"bgcolor\": \"#E5ECF6\", \"caxis\": {\"gridcolor\": \"white\", \"linecolor\": \"white\", \"ticks\": \"\"}}, \"title\": {\"x\": 0.05}, \"xaxis\": {\"automargin\": true, \"gridcolor\": \"white\", \"linecolor\": \"white\", \"ticks\": \"\", \"title\": {\"standoff\": 15}, \"zerolinecolor\": \"white\", \"zerolinewidth\": 2}, \"yaxis\": {\"automargin\": true, \"gridcolor\": \"white\", \"linecolor\": \"white\", \"ticks\": \"\", \"title\": {\"standoff\": 15}, \"zerolinecolor\": \"white\", \"zerolinewidth\": 2}}}, \"title\": {\"text\": \"Main countries to which Brazil exports soybeans\"}, \"xaxis\": {\"title\": {\"text\": \"Year\"}}, \"yaxis\": {\"title\": {\"text\": \"Increase fold from 1993\"}}},\n",
       "                        {\"responsive\": true}\n",
       "                    ).then(function(){\n",
       "                            \n",
       "var gd = document.getElementById('00a18107-d0ed-4bdf-b30c-cc1443c2cae7');\n",
       "var x = new MutationObserver(function (mutations, observer) {{\n",
       "        var display = window.getComputedStyle(gd).display;\n",
       "        if (!display || display === 'none') {{\n",
       "            console.log([gd, 'removed!']);\n",
       "            Plotly.purge(gd);\n",
       "            observer.disconnect();\n",
       "        }}\n",
       "}});\n",
       "\n",
       "// Listen for the removal of the full notebook cells\n",
       "var notebookContainer = gd.closest('#notebook-container');\n",
       "if (notebookContainer) {{\n",
       "    x.observe(notebookContainer, {childList: true});\n",
       "}}\n",
       "\n",
       "// Listen for the clearing of the current output cell\n",
       "var outputEl = gd.closest('.output');\n",
       "if (outputEl) {{\n",
       "    x.observe(outputEl, {childList: true});\n",
       "}}\n",
       "\n",
       "                        })\n",
       "                };\n",
       "                });\n",
       "            </script>\n",
       "        </div>"
      ]
     },
     "metadata": {},
     "output_type": "display_data"
    }
   ],
   "source": [
    "import plotly.graph_objects as go\n",
    "years = [str(year) for year in range(1993, 2017)] \n",
    "fig = go.Figure()\n",
    "countries = df_maize_importers_brazil['Importer']\n",
    "for i in range(0, 10):\n",
    "    fig.add_trace(go.Scatter(x=years, y=df_maize_importers_brazil.iloc[i][years], mode='lines', name=countries[i], line = dict(width=4)))\n",
    "fig.update_layout(title='Main countries to which Brazil exports soybeans',\n",
    "                   xaxis_title='Year',\n",
    "                   yaxis_title='Increase fold from 1993')"
   ]
  },
  {
   "cell_type": "markdown",
   "metadata": {},
   "source": [
    "# Data Story"
   ]
  },
  {
   "cell_type": "markdown",
   "metadata": {},
   "source": [
    "Brazil's trade policies were mostly oriented inwards in the past. However, in the early 1990s, it liberalized its trade regime and quickly established itself as one the main trade giants in the world. Furthermore, we notice that the growth is not exactly linear, as we notice a certain plateau in the exports between 1993 and 1996. This was mainly due to a an unstable macroeconomic and international context. A surge in production at the end of the 1990s, along with sound macroeconomic policies, helped Brazil gain momentum and increase their exports.\n",
    "\n",
    "Brazil mainly exports soybeans and maize, as it holds close proximity to the market of livestock and poultry\n",
    "\n",
    "Expanding trade regimes as well as increasing production and exports mean GDP growth, but at what cost? To be able to export that much soybeans and maize, Brazil has to find more arable land. And where else can it find it than in the Amazon? The promotion of those products is a major driver for deforestation in the Amazon, which contributes directly to climate change. This uncontrollable urge to expand has to be regulated if we want to have a chance to reduce the effects of climate change.\n"
   ]
  },
  {
   "cell_type": "markdown",
   "metadata": {},
   "source": [
    "**References**\n",
    "1. Moreira, Mauricio. (2009). Brazil's Trade Policy: Old and New Issues. SSRN Electronic Journal. 10.2139/ssrn.1555947. \n",
    "2. https://globalforestatlas.yale.edu/amazon/land-use/soy\n",
    "3. https://thinkprogress.org/switch-to-corn-promotes-amazon-deforestation-c826a5700e48/"
   ]
  },
  {
   "cell_type": "markdown",
   "metadata": {},
   "source": [
    "### Final combined graph"
   ]
  },
  {
   "cell_type": "code",
   "execution_count": 76,
   "metadata": {},
   "outputs": [],
   "source": [
    "import plotly.graph_objects as go\n",
    "years = [str(year) for year in range(1993, 2017)] \n",
    "fig = go.Figure()\n",
    "items = df_prod_brazil['Item']\n",
    "for i in range(0, 10):\n",
    "    fig.add_trace(go.Scatter(x=years, y= df_prod_brazil.iloc[i][years], mode='lines', name=items[i], line = dict(width=3)))\n",
    "items = df_exports_brazil['Item']\n",
    "for i in range(0, 10):\n",
    "    fig.add_trace(go.Scatter(x=years, y=df_exports_brazil.iloc[i][years], mode='lines', name=items[i], line = dict(width=3), visible = False))\n",
    "items = df_imports_brazil['Item']\n",
    "for i in range(0, 10):\n",
    "    fig.add_trace(go.Scatter(x=years, y=df_imports_brazil.iloc[i][years], mode='lines', name=items[i], line = dict(width=3), visible = False))"
   ]
  },
  {
   "cell_type": "code",
   "execution_count": 78,
   "metadata": {},
   "outputs": [
    {
     "data": {
      "application/vnd.plotly.v1+json": {
       "config": {
        "plotlyServerURL": "https://plot.ly"
       },
       "data": [
        {
         "line": {
          "width": 3
         },
         "mode": "lines",
         "name": "Soybeans",
         "type": "scatter",
         "visible": true,
         "x": [
          "1993",
          "1994",
          "1995",
          "1996",
          "1997",
          "1998",
          "1999",
          "2000",
          "2001",
          "2002",
          "2003",
          "2004",
          "2005",
          "2006",
          "2007",
          "2008",
          "2009",
          "2010",
          "2011",
          "2012",
          "2013",
          "2014",
          "2015",
          "2016"
         ],
         "y": [
          22590978,
          24931832,
          25682637,
          23166874,
          26392636,
          31307440,
          30987476,
          32820826,
          37907259,
          42107618,
          51919440,
          49549940,
          51182072,
          52464640,
          57857172,
          59833104,
          57345382,
          68756343,
          74815447,
          65848857,
          81724477,
          86760520,
          97464936,
          96394820
         ]
        },
        {
         "line": {
          "width": 3
         },
         "mode": "lines",
         "name": "Maize",
         "type": "scatter",
         "visible": true,
         "x": [
          "1993",
          "1994",
          "1995",
          "1996",
          "1997",
          "1998",
          "1999",
          "2000",
          "2001",
          "2002",
          "2003",
          "2004",
          "2005",
          "2006",
          "2007",
          "2008",
          "2009",
          "2010",
          "2011",
          "2012",
          "2013",
          "2014",
          "2015",
          "2016"
         ],
         "y": [
          30055633,
          32487625,
          36266951,
          29652791,
          32948044,
          29601753,
          32239479,
          32321000,
          41962475,
          35940832,
          48327323,
          41787558,
          35113312,
          42661677,
          52112217,
          58933347,
          50719822,
          55364271,
          55660235,
          71072810,
          80273172,
          79881614,
          85283074,
          64143414
         ]
        },
        {
         "line": {
          "width": 3
         },
         "mode": "lines",
         "name": "Cassava",
         "type": "scatter",
         "visible": true,
         "x": [
          "1993",
          "1994",
          "1995",
          "1996",
          "1997",
          "1998",
          "1999",
          "2000",
          "2001",
          "2002",
          "2003",
          "2004",
          "2005",
          "2006",
          "2007",
          "2008",
          "2009",
          "2010",
          "2011",
          "2012",
          "2013",
          "2014",
          "2015",
          "2016"
         ],
         "y": [
          21855690,
          24464290,
          25422960,
          17743160,
          19896200,
          19502720,
          20864340,
          23044190,
          22580282,
          23148303,
          21961082,
          23926552,
          25872016,
          26639012,
          26541200,
          26703040,
          24403981,
          24967052,
          25349542,
          23044557,
          21484218,
          23253514,
          23059704,
          21084418
         ]
        },
        {
         "line": {
          "width": 3
         },
         "mode": "lines",
         "name": "Oranges",
         "type": "scatter",
         "visible": true,
         "x": [
          "1993",
          "1994",
          "1995",
          "1996",
          "1997",
          "1998",
          "1999",
          "2000",
          "2001",
          "2002",
          "2003",
          "2004",
          "2005",
          "2006",
          "2007",
          "2008",
          "2009",
          "2010",
          "2011",
          "2012",
          "2013",
          "2014",
          "2015",
          "2016"
         ],
         "y": [
          18797188,
          17445968,
          19837212,
          21079044,
          23046800,
          20850504,
          22893312,
          21330258,
          16983436,
          18530582,
          16917558,
          18313716,
          17853444,
          18032312,
          18684984,
          18538084,
          17618450,
          18503139,
          19811064,
          18012560,
          17549536,
          16928457,
          16939635,
          17262314
         ]
        },
        {
         "line": {
          "width": 3
         },
         "mode": "lines",
         "name": "Wheat",
         "type": "scatter",
         "visible": true,
         "x": [
          "1993",
          "1994",
          "1995",
          "1996",
          "1997",
          "1998",
          "1999",
          "2000",
          "2001",
          "2002",
          "2003",
          "2004",
          "2005",
          "2006",
          "2007",
          "2008",
          "2009",
          "2010",
          "2011",
          "2012",
          "2013",
          "2014",
          "2015",
          "2016"
         ],
         "y": [
          2197354,
          2096259,
          1533871,
          3292777,
          2489070,
          2269847,
          2461856,
          1725792,
          3366599,
          3105660,
          6153500,
          5818846,
          4658790,
          2484848,
          4114057,
          6027131,
          5055525,
          6171250,
          5690043,
          4418388,
          5738473,
          6261895,
          5508451,
          6834421
         ]
        },
        {
         "line": {
          "width": 3
         },
         "mode": "lines",
         "name": "Bananas",
         "type": "scatter",
         "visible": true,
         "x": [
          "1993",
          "1994",
          "1995",
          "1996",
          "1997",
          "1998",
          "1999",
          "2000",
          "2001",
          "2002",
          "2003",
          "2004",
          "2005",
          "2006",
          "2007",
          "2008",
          "2009",
          "2010",
          "2011",
          "2012",
          "2013",
          "2014",
          "2015",
          "2016"
         ],
         "y": [
          5802992,
          5955238,
          5801110,
          5160178,
          5412360,
          5322200,
          5478350,
          5663360,
          6177293,
          6689179,
          6800981,
          6583564,
          6703400,
          6956179,
          7098350,
          6998150,
          6783490,
          6969306,
          7329471,
          6902184,
          6892622,
          6953747,
          6859227,
          6735260
         ]
        },
        {
         "line": {
          "width": 3
         },
         "mode": "lines",
         "name": "Tomatoes",
         "type": "scatter",
         "visible": true,
         "x": [
          "1993",
          "1994",
          "1995",
          "1996",
          "1997",
          "1998",
          "1999",
          "2000",
          "2001",
          "2002",
          "2003",
          "2004",
          "2005",
          "2006",
          "2007",
          "2008",
          "2009",
          "2010",
          "2011",
          "2012",
          "2013",
          "2014",
          "2015",
          "2016"
         ],
         "y": [
          2348498,
          2688570,
          2715016,
          2648627,
          2717965,
          2784111,
          3305053,
          3004797,
          3103363,
          3652923,
          3708602,
          3515567,
          3452973,
          3362655,
          3431232,
          3867655,
          4310477,
          4106846,
          4416652,
          3873985,
          4187646,
          4302777,
          4187729,
          4167629
         ]
        },
        {
         "line": {
          "width": 3
         },
         "mode": "lines",
         "name": "Potatoes",
         "type": "scatter",
         "visible": true,
         "x": [
          "1993",
          "1994",
          "1995",
          "1996",
          "1997",
          "1998",
          "1999",
          "2000",
          "2001",
          "2002",
          "2003",
          "2004",
          "2005",
          "2006",
          "2007",
          "2008",
          "2009",
          "2010",
          "2011",
          "2012",
          "2013",
          "2014",
          "2015",
          "2016"
         ],
         "y": [
          2367571,
          2488461,
          2692234,
          2412546,
          2670493,
          2784181,
          2904950,
          2606932,
          2848664,
          3126410,
          3089016,
          3047083,
          3130174,
          3151721,
          3550510,
          3676938,
          3443712,
          3547510,
          3917234,
          3731798,
          3553772,
          3689836,
          3867681,
          3851396
         ]
        },
        {
         "line": {
          "width": 3
         },
         "mode": "lines",
         "name": "Vegetables, fresh nes",
         "type": "scatter",
         "visible": true,
         "x": [
          "1993",
          "1994",
          "1995",
          "1996",
          "1997",
          "1998",
          "1999",
          "2000",
          "2001",
          "2002",
          "2003",
          "2004",
          "2005",
          "2006",
          "2007",
          "2008",
          "2009",
          "2010",
          "2011",
          "2012",
          "2013",
          "2014",
          "2015",
          "2016"
         ],
         "y": [
          2000000,
          2050000,
          2100000,
          2100000,
          2150000,
          2200000,
          2200000,
          2225000,
          2225000,
          2250000,
          2250000,
          2300000,
          2350000,
          2400000,
          2410000,
          2410000,
          2650000,
          2842215,
          2873134,
          2900000,
          2900000,
          2911788,
          2977044,
          3033272
         ]
        },
        {
         "line": {
          "width": 3
         },
         "mode": "lines",
         "name": "Coffee, green",
         "type": "scatter",
         "visible": true,
         "x": [
          "1993",
          "1994",
          "1995",
          "1996",
          "1997",
          "1998",
          "1999",
          "2000",
          "2001",
          "2002",
          "2003",
          "2004",
          "2005",
          "2006",
          "2007",
          "2008",
          "2009",
          "2010",
          "2011",
          "2012",
          "2013",
          "2014",
          "2015",
          "2016"
         ],
         "y": [
          1278759,
          1307289,
          930135,
          1369196,
          1228513,
          1689366,
          1631852,
          1903562,
          1819569,
          2610524,
          1987074,
          2465710,
          2140169,
          2573368,
          2249011,
          2796927,
          2440056,
          2907265,
          2700540,
          3037534,
          2964538,
          2804070,
          2647504,
          3019228
         ]
        },
        {
         "line": {
          "width": 3
         },
         "mode": "lines",
         "name": "Soybeans",
         "type": "scatter",
         "visible": false,
         "x": [
          "1993",
          "1994",
          "1995",
          "1996",
          "1997",
          "1998",
          "1999",
          "2000",
          "2001",
          "2002",
          "2003",
          "2004",
          "2005",
          "2006",
          "2007",
          "2008",
          "2009",
          "2010",
          "2011",
          "2012",
          "2013",
          "2014",
          "2015",
          "2016"
         ],
         "y": [
          4773455,
          6420710,
          4194835,
          4740557,
          10396631,
          9558369,
          9664327,
          12592900,
          16630095,
          16857119,
          21434619,
          20666776,
          24387094,
          26564109,
          25381465,
          25597902,
          29875719,
          29612482,
          33886258,
          34843950,
          43256714,
          46832700,
          55178218,
          52754779
         ]
        },
        {
         "line": {
          "width": 3
         },
         "mode": "lines",
         "name": "Maize",
         "type": "scatter",
         "visible": false,
         "x": [
          "1993",
          "1994",
          "1995",
          "1996",
          "1997",
          "1998",
          "1999",
          "2000",
          "2001",
          "2002",
          "2003",
          "2004",
          "2005",
          "2006",
          "2007",
          "2008",
          "2009",
          "2010",
          "2011",
          "2012",
          "2013",
          "2014",
          "2015",
          "2016"
         ],
         "y": [
          19065,
          4984,
          51354,
          456036,
          526744,
          45843,
          225069,
          266707,
          6845228,
          4608908,
          4922430,
          5662092,
          1569466,
          4021819,
          11387143,
          7107614,
          8223117,
          11204856,
          10222914,
          20254299,
          28568420,
          21484244,
          29549904,
          24889242
         ]
        },
        {
         "line": {
          "width": 3
         },
         "mode": "lines",
         "name": "Coffee, green",
         "type": "scatter",
         "visible": false,
         "x": [
          "1993",
          "1994",
          "1995",
          "1996",
          "1997",
          "1998",
          "1999",
          "2000",
          "2001",
          "2002",
          "2003",
          "2004",
          "2005",
          "2006",
          "2007",
          "2008",
          "2009",
          "2010",
          "2011",
          "2012",
          "2013",
          "2014",
          "2015",
          "2016"
         ],
         "y": [
          971818,
          891785,
          764812,
          782220,
          895572,
          990087,
          1259458,
          1053151,
          1296458,
          1609091,
          1478219,
          1488923,
          1443739,
          1581165,
          1626946,
          1682163,
          1777607,
          1905489,
          1919081,
          1651463,
          1825797,
          2129355,
          2161662,
          1971825
         ]
        },
        {
         "line": {
          "width": 3
         },
         "mode": "lines",
         "name": "Cotton lint",
         "type": "scatter",
         "visible": false,
         "x": [
          "1993",
          "1994",
          "1995",
          "1996",
          "1997",
          "1998",
          "1999",
          "2000",
          "2001",
          "2002",
          "2003",
          "2004",
          "2005",
          "2006",
          "2007",
          "2008",
          "2009",
          "2010",
          "2011",
          "2012",
          "2013",
          "2014",
          "2015",
          "2016"
         ],
         "y": [
          8922,
          3448,
          53701,
          6303,
          859,
          3919,
          4597,
          28942,
          158275,
          129109,
          185749,
          350925,
          424451,
          373414,
          429690,
          575043,
          616545,
          534862,
          761440,
          1095898,
          690274,
          753773,
          902980,
          904148
         ]
        },
        {
         "line": {
          "width": 3
         },
         "mode": "lines",
         "name": "Wheat",
         "type": "scatter",
         "visible": false,
         "x": [
          "1993",
          "1994",
          "1995",
          "1996",
          "1997",
          "1998",
          "1999",
          "2000",
          "2001",
          "2002",
          "2003",
          "2004",
          "2005",
          "2006",
          "2007",
          "2008",
          "2009",
          "2010",
          "2011",
          "2012",
          "2013",
          "2014",
          "2015",
          "2016"
         ],
         "y": [
          2505,
          5,
          135,
          571,
          55005,
          54958,
          2153,
          2125,
          6377,
          34643,
          53768,
          1594369,
          187570,
          836724,
          160368,
          761858,
          466649,
          1413994,
          2582650,
          2519188,
          1360142,
          277025,
          1779645,
          892152
         ]
        },
        {
         "line": {
          "width": 3
         },
         "mode": "lines",
         "name": "Tobacco, unmanufactured",
         "type": "scatter",
         "visible": false,
         "x": [
          "1993",
          "1994",
          "1995",
          "1996",
          "1997",
          "1998",
          "1999",
          "2000",
          "2001",
          "2002",
          "2003",
          "2004",
          "2005",
          "2006",
          "2007",
          "2008",
          "2009",
          "2010",
          "2011",
          "2012",
          "2013",
          "2014",
          "2015",
          "2016"
         ],
         "y": [
          236649,
          276012,
          260443,
          296453,
          311095,
          318664,
          335746,
          405900,
          474570,
          512825,
          519227,
          650975,
          716173,
          719265,
          772298,
          801600,
          778407,
          616403,
          640248,
          717616,
          690475,
          572654,
          586849,
          571220
         ]
        },
        {
         "line": {
          "width": 3
         },
         "mode": "lines",
         "name": "Melons, other (inc.cantaloupes)",
         "type": "scatter",
         "visible": false,
         "x": [
          "1993",
          "1994",
          "1995",
          "1996",
          "1997",
          "1998",
          "1999",
          "2000",
          "2001",
          "2002",
          "2003",
          "2004",
          "2005",
          "2006",
          "2007",
          "2008",
          "2009",
          "2010",
          "2011",
          "2012",
          "2013",
          "2014",
          "2015",
          "2016"
         ],
         "y": [
          72522,
          74522,
          66933,
          56298,
          50222,
          66839,
          77073,
          66912,
          103387,
          112690,
          162876,
          154815,
          192528,
          186131,
          220613,
          226687,
          192111,
          185752,
          175862,
          190825,
          196809,
          204986,
          233260,
          236258
         ]
        },
        {
         "line": {
          "width": 3
         },
         "mode": "lines",
         "name": "Mangoes, mangosteens, guavas",
         "type": "scatter",
         "visible": false,
         "x": [
          "1993",
          "1994",
          "1995",
          "1996",
          "1997",
          "1998",
          "1999",
          "2000",
          "2001",
          "2002",
          "2003",
          "2004",
          "2005",
          "2006",
          "2007",
          "2008",
          "2009",
          "2010",
          "2011",
          "2012",
          "2013",
          "2014",
          "2015",
          "2016"
         ],
         "y": [
          18591,
          15159,
          17883,
          25058,
          23958,
          39702,
          60221,
          70650,
          99215,
          109280,
          144381,
          118508,
          119442,
          120043,
          122649,
          142413,
          117654,
          136275,
          135461,
          138983,
          134141,
          142723,
          168367,
          164626
         ]
        },
        {
         "line": {
          "width": 3
         },
         "mode": "lines",
         "name": "Cottonseed",
         "type": "scatter",
         "visible": false,
         "x": [
          "1993",
          "1994",
          "1995",
          "1996",
          "1997",
          "1998",
          "1999",
          "2000",
          "2001",
          "2002",
          "2003",
          "2004",
          "2005",
          "2006",
          "2007",
          "2008",
          "2009",
          "2010",
          "2011",
          "2012",
          "2013",
          "2014",
          "2015",
          "2016"
         ],
         "y": [
          0,
          0,
          0,
          0,
          68,
          60,
          322,
          2507,
          10324,
          5514,
          11699,
          106509,
          24719,
          516,
          19373,
          30226,
          93451,
          8856,
          38819,
          9573,
          900,
          71999,
          91896,
          116712
         ]
        },
        {
         "line": {
          "width": 3
         },
         "mode": "lines",
         "name": "Lemons and limes",
         "type": "scatter",
         "visible": false,
         "x": [
          "1993",
          "1994",
          "1995",
          "1996",
          "1997",
          "1998",
          "1999",
          "2000",
          "2001",
          "2002",
          "2003",
          "2004",
          "2005",
          "2006",
          "2007",
          "2008",
          "2009",
          "2010",
          "2011",
          "2012",
          "2013",
          "2014",
          "2015",
          "2016"
         ],
         "y": [
          4244,
          4313,
          1470,
          1838,
          1776,
          2550,
          5901,
          10531,
          15903,
          23316,
          36932,
          39941,
          47217,
          54701,
          63668,
          65110,
          73671,
          71452,
          75414,
          83937,
          93844,
          104310,
          115175,
          106901
         ]
        },
        {
         "line": {
          "width": 3
         },
         "mode": "lines",
         "name": "Wheat",
         "type": "scatter",
         "visible": false,
         "x": [
          "1993",
          "1994",
          "1995",
          "1996",
          "1997",
          "1998",
          "1999",
          "2000",
          "2001",
          "2002",
          "2003",
          "2004",
          "2005",
          "2006",
          "2007",
          "2008",
          "2009",
          "2010",
          "2011",
          "2012",
          "2013",
          "2014",
          "2015",
          "2016"
         ],
         "y": [
          6115768,
          6978869,
          6474255,
          8085885,
          5013566,
          6539666,
          6891008,
          7601386,
          7016331,
          6644119,
          6622946,
          4857312,
          5316194,
          6664724,
          6795641,
          6065774,
          5600332,
          6373241,
          5824146,
          6964204,
          7889646,
          6041161,
          5441503,
          7133356
         ]
        },
        {
         "line": {
          "width": 3
         },
         "mode": "lines",
         "name": "Maize",
         "type": "scatter",
         "visible": false,
         "x": [
          "1993",
          "1994",
          "1995",
          "1996",
          "1997",
          "1998",
          "1999",
          "2000",
          "2001",
          "2002",
          "2003",
          "2004",
          "2005",
          "2006",
          "2007",
          "2008",
          "2009",
          "2010",
          "2011",
          "2012",
          "2013",
          "2014",
          "2015",
          "2016"
         ],
         "y": [
          1389242,
          1502192,
          1309333,
          335436,
          597231,
          1869705,
          822292,
          1834324,
          624362,
          384409,
          797797,
          331087,
          597917,
          1105665,
          1382351,
          770260,
          1232245,
          476119,
          749137,
          853901,
          911602,
          824634,
          370313,
          3319466
         ]
        },
        {
         "line": {
          "width": 3
         },
         "mode": "lines",
         "name": "Barley",
         "type": "scatter",
         "visible": false,
         "x": [
          "1993",
          "1994",
          "1995",
          "1996",
          "1997",
          "1998",
          "1999",
          "2000",
          "2001",
          "2002",
          "2003",
          "2004",
          "2005",
          "2006",
          "2007",
          "2008",
          "2009",
          "2010",
          "2011",
          "2012",
          "2013",
          "2014",
          "2015",
          "2016"
         ],
         "y": [
          124625,
          205541,
          268850,
          260412,
          129558,
          107261,
          61399,
          133776,
          209109,
          211053,
          332545,
          193222,
          164989,
          204195,
          264470,
          375168,
          489691,
          390796,
          320166,
          286509,
          409040,
          419878,
          477028,
          762613
         ]
        },
        {
         "line": {
          "width": 3
         },
         "mode": "lines",
         "name": "Soybeans",
         "type": "scatter",
         "visible": false,
         "x": [
          "1993",
          "1994",
          "1995",
          "1996",
          "1997",
          "1998",
          "1999",
          "2000",
          "2001",
          "2002",
          "2003",
          "2004",
          "2005",
          "2006",
          "2007",
          "2008",
          "2009",
          "2010",
          "2011",
          "2012",
          "2013",
          "2014",
          "2015",
          "2016"
         ],
         "y": [
          159333,
          1186342,
          878664,
          1064921,
          1451203,
          828228,
          611655,
          807541,
          849634,
          1762422,
          1189229,
          348415,
          368497,
          100455,
          156454,
          202817,
          251951,
          140465,
          57792,
          305061,
          321305,
          590515,
          341476,
          399390
         ]
        },
        {
         "line": {
          "width": 3
         },
         "mode": "lines",
         "name": "Beans, dry",
         "type": "scatter",
         "visible": false,
         "x": [
          "1993",
          "1994",
          "1995",
          "1996",
          "1997",
          "1998",
          "1999",
          "2000",
          "2001",
          "2002",
          "2003",
          "2004",
          "2005",
          "2006",
          "2007",
          "2008",
          "2009",
          "2010",
          "2011",
          "2012",
          "2013",
          "2014",
          "2015",
          "2016"
         ],
         "y": [
          79874,
          221772,
          171505,
          82628,
          171787,
          228354,
          101207,
          81353,
          133757,
          83817,
          104699,
          80276,
          102999,
          71185,
          99284,
          220657,
          110238,
          196922,
          214073,
          324698,
          304083,
          142427,
          156788,
          343396
         ]
        },
        {
         "line": {
          "width": 3
         },
         "mode": "lines",
         "name": "Oil, palm",
         "type": "scatter",
         "visible": false,
         "x": [
          "1993",
          "1994",
          "1995",
          "1996",
          "1997",
          "1998",
          "1999",
          "2000",
          "2001",
          "2002",
          "2003",
          "2004",
          "2005",
          "2006",
          "2007",
          "2008",
          "2009",
          "2010",
          "2011",
          "2012",
          "2013",
          "2014",
          "2015",
          "2016"
         ],
         "y": [
          45345,
          43406,
          11455,
          8702,
          33076,
          48735,
          23278,
          26111,
          24550,
          9339,
          29951,
          21763,
          40575,
          95896,
          107738,
          170419,
          136436,
          179585,
          226800,
          246626,
          260716,
          253674,
          233469,
          238397
         ]
        },
        {
         "line": {
          "width": 3
         },
         "mode": "lines",
         "name": "Onions, shallots, green",
         "type": "scatter",
         "visible": false,
         "x": [
          "1993",
          "1994",
          "1995",
          "1996",
          "1997",
          "1998",
          "1999",
          "2000",
          "2001",
          "2002",
          "2003",
          "2004",
          "2005",
          "2006",
          "2007",
          "2008",
          "2009",
          "2010",
          "2011",
          "2012",
          "2013",
          "2014",
          "2015",
          "2016"
         ],
         "y": [
          95733,
          137466,
          156271,
          228154,
          273086,
          330667,
          224419,
          75153,
          105214,
          111524,
          172688,
          192663,
          169518,
          198772,
          157216,
          200657,
          178238,
          238490,
          195170,
          179639,
          266921,
          150591,
          270325,
          178227
         ]
        },
        {
         "line": {
          "width": 3
         },
         "mode": "lines",
         "name": "Garlic",
         "type": "scatter",
         "visible": false,
         "x": [
          "1993",
          "1994",
          "1995",
          "1996",
          "1997",
          "1998",
          "1999",
          "2000",
          "2001",
          "2002",
          "2003",
          "2004",
          "2005",
          "2006",
          "2007",
          "2008",
          "2009",
          "2010",
          "2011",
          "2012",
          "2013",
          "2014",
          "2015",
          "2016"
         ],
         "y": [
          47307,
          53781,
          85607,
          100801,
          99467,
          110850,
          97925,
          90437,
          78375,
          88746,
          97563,
          107697,
          136368,
          120564,
          138749,
          149306,
          155451,
          153222,
          172106,
          166083,
          180335,
          167548,
          171867,
          173389
         ]
        },
        {
         "line": {
          "width": 3
         },
         "mode": "lines",
         "name": "Apples",
         "type": "scatter",
         "visible": false,
         "x": [
          "1993",
          "1994",
          "1995",
          "1996",
          "1997",
          "1998",
          "1999",
          "2000",
          "2001",
          "2002",
          "2003",
          "2004",
          "2005",
          "2006",
          "2007",
          "2008",
          "2009",
          "2010",
          "2011",
          "2012",
          "2013",
          "2014",
          "2015",
          "2016"
         ],
         "y": [
          79034,
          92233,
          248016,
          249131,
          122417,
          127884,
          67473,
          46181,
          82209,
          53833,
          42489,
          42968,
          69585,
          78427,
          69046,
          55338,
          62434,
          77765,
          97226,
          59210,
          94852,
          119927,
          79593,
          166305
         ]
        },
        {
         "line": {
          "width": 3
         },
         "mode": "lines",
         "name": "Onions, dry",
         "type": "scatter",
         "visible": false,
         "x": [
          "1993",
          "1994",
          "1995",
          "1996",
          "1997",
          "1998",
          "1999",
          "2000",
          "2001",
          "2002",
          "2003",
          "2004",
          "2005",
          "2006",
          "2007",
          "2008",
          "2009",
          "2010",
          "2011",
          "2012",
          "2013",
          "2014",
          "2015",
          "2016"
         ],
         "y": [
          83084,
          115756,
          155306,
          227996,
          250898,
          324769,
          462,
          73309,
          105512,
          109928,
          171266,
          189891,
          169173,
          197823,
          157260,
          201688,
          181789,
          235377,
          200010,
          176748,
          261839,
          151908,
          281231,
          166050
         ]
        }
       ],
       "layout": {
        "font": {
         "color": "rgb(0, 0, 0)",
         "family": "source-serif-pro",
         "size": 14
        },
        "height": 500,
        "template": {
         "data": {
          "scatter": [
           {
            "type": "scatter"
           }
          ]
         }
        },
        "title": {
         "text": "Brazil production, exports and imports"
        },
        "updatemenus": [
         {
          "active": 0,
          "buttons": [
           {
            "args": [
             {
              "visible": [
               true,
               true,
               true,
               true,
               true,
               true,
               true,
               true,
               true,
               true,
               false,
               false,
               false,
               false,
               false,
               false,
               false,
               false,
               false,
               false,
               false,
               false,
               false,
               false,
               false,
               false,
               false,
               false,
               false,
               false
              ]
             }
            ],
            "label": "Production",
            "method": "update"
           },
           {
            "args": [
             {
              "visible": [
               false,
               false,
               false,
               false,
               false,
               false,
               false,
               false,
               false,
               false,
               true,
               true,
               true,
               true,
               true,
               true,
               true,
               true,
               true,
               true,
               false,
               false,
               false,
               false,
               false,
               false,
               false,
               false,
               false,
               false
              ]
             }
            ],
            "label": "Exports",
            "method": "update"
           },
           {
            "args": [
             {
              "visible": [
               false,
               false,
               false,
               false,
               false,
               false,
               false,
               false,
               false,
               false,
               false,
               false,
               false,
               false,
               false,
               false,
               false,
               false,
               false,
               false,
               true,
               true,
               true,
               true,
               true,
               true,
               true,
               true,
               true,
               true
              ]
             }
            ],
            "label": "Imports",
            "method": "update"
           }
          ],
          "x": 0,
          "y": 1.2
         }
        ],
        "width": 800,
        "xaxis": {
         "autorange": true,
         "range": [
          1993,
          2016
         ],
         "scaleratio": 1,
         "type": "linear"
        },
        "yaxis": {
         "autorange": true,
         "range": [
          -4432909.5,
          102827980.5
         ],
         "tickfont": {
          "size": 12
         },
         "title": {
          "font": {
           "size": 14
          },
          "text": "Tonnes"
         },
         "type": "linear"
        }
       }
      },
      "image/png": "[encoded data removed]",
      "text/html": [
       "<div>\n",
       "        \n",
       "        \n",
       "            <div id=\"53260f6d-0be7-47c5-8f5f-3554a8cfe57b\" class=\"plotly-graph-div\" style=\"height:500px; width:800px;\"></div>\n",
       "            <script type=\"text/javascript\">\n",
       "                require([\"plotly\"], function(Plotly) {\n",
       "                    window.PLOTLYENV=window.PLOTLYENV || {};\n",
       "                    \n",
       "                if (document.getElementById(\"53260f6d-0be7-47c5-8f5f-3554a8cfe57b\")) {\n",
       "                    Plotly.newPlot(\n",
       "                        '53260f6d-0be7-47c5-8f5f-3554a8cfe57b',\n",
       "                        [{\"line\": {\"width\": 3}, \"mode\": \"lines\", \"name\": \"Soybeans\", \"type\": \"scatter\", \"x\": [\"1993\", \"1994\", \"1995\", \"1996\", \"1997\", \"1998\", \"1999\", \"2000\", \"2001\", \"2002\", \"2003\", \"2004\", \"2005\", \"2006\", \"2007\", \"2008\", \"2009\", \"2010\", \"2011\", \"2012\", \"2013\", \"2014\", \"2015\", \"2016\"], \"y\": [22590978.0, 24931832.0, 25682637.0, 23166874.0, 26392636.0, 31307440.0, 30987476.0, 32820826.0, 37907259.0, 42107618.0, 51919440.0, 49549940.0, 51182072.0, 52464640.0, 57857172.0, 59833104.0, 57345382.0, 68756343.0, 74815447.0, 65848857.0, 81724477.0, 86760520.0, 97464936.0, 96394820.0]}, {\"line\": {\"width\": 3}, \"mode\": \"lines\", \"name\": \"Maize\", \"type\": \"scatter\", \"x\": [\"1993\", \"1994\", \"1995\", \"1996\", \"1997\", \"1998\", \"1999\", \"2000\", \"2001\", \"2002\", \"2003\", \"2004\", \"2005\", \"2006\", \"2007\", \"2008\", \"2009\", \"2010\", \"2011\", \"2012\", \"2013\", \"2014\", \"2015\", \"2016\"], \"y\": [30055633.0, 32487625.0, 36266951.0, 29652791.0, 32948044.0, 29601753.0, 32239479.0, 32321000.0, 41962475.0, 35940832.0, 48327323.0, 41787558.0, 35113312.0, 42661677.0, 52112217.0, 58933347.0, 50719822.0, 55364271.0, 55660235.0, 71072810.0, 80273172.0, 79881614.0, 85283074.0, 64143414.0]}, {\"line\": {\"width\": 3}, \"mode\": \"lines\", \"name\": \"Cassava\", \"type\": \"scatter\", \"x\": [\"1993\", \"1994\", \"1995\", \"1996\", \"1997\", \"1998\", \"1999\", \"2000\", \"2001\", \"2002\", \"2003\", \"2004\", \"2005\", \"2006\", \"2007\", \"2008\", \"2009\", \"2010\", \"2011\", \"2012\", \"2013\", \"2014\", \"2015\", \"2016\"], \"y\": [21855690.0, 24464290.0, 25422960.0, 17743160.0, 19896200.0, 19502720.0, 20864340.0, 23044190.0, 22580282.0, 23148303.0, 21961082.0, 23926552.0, 25872016.0, 26639012.0, 26541200.0, 26703040.0, 24403981.0, 24967052.0, 25349542.0, 23044557.0, 21484218.0, 23253514.0, 23059704.0, 21084418.0]}, {\"line\": {\"width\": 3}, \"mode\": \"lines\", \"name\": \"Oranges\", \"type\": \"scatter\", \"x\": [\"1993\", \"1994\", \"1995\", \"1996\", \"1997\", \"1998\", \"1999\", \"2000\", \"2001\", \"2002\", \"2003\", \"2004\", \"2005\", \"2006\", \"2007\", \"2008\", \"2009\", \"2010\", \"2011\", \"2012\", \"2013\", \"2014\", \"2015\", \"2016\"], \"y\": [18797188.0, 17445968.0, 19837212.0, 21079044.0, 23046800.0, 20850504.0, 22893312.0, 21330258.0, 16983436.0, 18530582.0, 16917558.0, 18313716.0, 17853444.0, 18032312.0, 18684984.0, 18538084.0, 17618450.0, 18503139.0, 19811064.0, 18012560.0, 17549536.0, 16928457.0, 16939635.0, 17262314.0]}, {\"line\": {\"width\": 3}, \"mode\": \"lines\", \"name\": \"Wheat\", \"type\": \"scatter\", \"x\": [\"1993\", \"1994\", \"1995\", \"1996\", \"1997\", \"1998\", \"1999\", \"2000\", \"2001\", \"2002\", \"2003\", \"2004\", \"2005\", \"2006\", \"2007\", \"2008\", \"2009\", \"2010\", \"2011\", \"2012\", \"2013\", \"2014\", \"2015\", \"2016\"], \"y\": [2197354.0, 2096259.0, 1533871.0, 3292777.0, 2489070.0, 2269847.0, 2461856.0, 1725792.0, 3366599.0, 3105660.0, 6153500.0, 5818846.0, 4658790.0, 2484848.0, 4114057.0, 6027131.0, 5055525.0, 6171250.0, 5690043.0, 4418388.0, 5738473.0, 6261895.0, 5508451.0, 6834421.0]}, {\"line\": {\"width\": 3}, \"mode\": \"lines\", \"name\": \"Bananas\", \"type\": \"scatter\", \"x\": [\"1993\", \"1994\", \"1995\", \"1996\", \"1997\", \"1998\", \"1999\", \"2000\", \"2001\", \"2002\", \"2003\", \"2004\", \"2005\", \"2006\", \"2007\", \"2008\", \"2009\", \"2010\", \"2011\", \"2012\", \"2013\", \"2014\", \"2015\", \"2016\"], \"y\": [5802992.0, 5955238.0, 5801110.0, 5160178.0, 5412360.0, 5322200.0, 5478350.0, 5663360.0, 6177293.0, 6689179.0, 6800981.0, 6583564.0, 6703400.0, 6956179.0, 7098350.0, 6998150.0, 6783490.0, 6969306.0, 7329471.0, 6902184.0, 6892622.0, 6953747.0, 6859227.0, 6735260.0]}, {\"line\": {\"width\": 3}, \"mode\": \"lines\", \"name\": \"Tomatoes\", \"type\": \"scatter\", \"x\": [\"1993\", \"1994\", \"1995\", \"1996\", \"1997\", \"1998\", \"1999\", \"2000\", \"2001\", \"2002\", \"2003\", \"2004\", \"2005\", \"2006\", \"2007\", \"2008\", \"2009\", \"2010\", \"2011\", \"2012\", \"2013\", \"2014\", \"2015\", \"2016\"], \"y\": [2348498.0, 2688570.0, 2715016.0, 2648627.0, 2717965.0, 2784111.0, 3305053.0, 3004797.0, 3103363.0, 3652923.0, 3708602.0, 3515567.0, 3452973.0, 3362655.0, 3431232.0, 3867655.0, 4310477.0, 4106846.0, 4416652.0, 3873985.0, 4187646.0, 4302777.0, 4187729.0, 4167629.0]}, {\"line\": {\"width\": 3}, \"mode\": \"lines\", \"name\": \"Potatoes\", \"type\": \"scatter\", \"x\": [\"1993\", \"1994\", \"1995\", \"1996\", \"1997\", \"1998\", \"1999\", \"2000\", \"2001\", \"2002\", \"2003\", \"2004\", \"2005\", \"2006\", \"2007\", \"2008\", \"2009\", \"2010\", \"2011\", \"2012\", \"2013\", \"2014\", \"2015\", \"2016\"], \"y\": [2367571.0, 2488461.0, 2692234.0, 2412546.0, 2670493.0, 2784181.0, 2904950.0, 2606932.0, 2848664.0, 3126410.0, 3089016.0, 3047083.0, 3130174.0, 3151721.0, 3550510.0, 3676938.0, 3443712.0, 3547510.0, 3917234.0, 3731798.0, 3553772.0, 3689836.0, 3867681.0, 3851396.0]}, {\"line\": {\"width\": 3}, \"mode\": \"lines\", \"name\": \"Vegetables, fresh nes\", \"type\": \"scatter\", \"x\": [\"1993\", \"1994\", \"1995\", \"1996\", \"1997\", \"1998\", \"1999\", \"2000\", \"2001\", \"2002\", \"2003\", \"2004\", \"2005\", \"2006\", \"2007\", \"2008\", \"2009\", \"2010\", \"2011\", \"2012\", \"2013\", \"2014\", \"2015\", \"2016\"], \"y\": [2000000.0, 2050000.0, 2100000.0, 2100000.0, 2150000.0, 2200000.0, 2200000.0, 2225000.0, 2225000.0, 2250000.0, 2250000.0, 2300000.0, 2350000.0, 2400000.0, 2410000.0, 2410000.0, 2650000.0, 2842215.0, 2873134.0, 2900000.0, 2900000.0, 2911788.0, 2977044.0, 3033272.0]}, {\"line\": {\"width\": 3}, \"mode\": \"lines\", \"name\": \"Coffee, green\", \"type\": \"scatter\", \"x\": [\"1993\", \"1994\", \"1995\", \"1996\", \"1997\", \"1998\", \"1999\", \"2000\", \"2001\", \"2002\", \"2003\", \"2004\", \"2005\", \"2006\", \"2007\", \"2008\", \"2009\", \"2010\", \"2011\", \"2012\", \"2013\", \"2014\", \"2015\", \"2016\"], \"y\": [1278759.0, 1307289.0, 930135.0, 1369196.0, 1228513.0, 1689366.0, 1631852.0, 1903562.0, 1819569.0, 2610524.0, 1987074.0, 2465710.0, 2140169.0, 2573368.0, 2249011.0, 2796927.0, 2440056.0, 2907265.0, 2700540.0, 3037534.0, 2964538.0, 2804070.0, 2647504.0, 3019228.0]}, {\"line\": {\"width\": 3}, \"mode\": \"lines\", \"name\": \"Soybeans\", \"type\": \"scatter\", \"visible\": false, \"x\": [\"1993\", \"1994\", \"1995\", \"1996\", \"1997\", \"1998\", \"1999\", \"2000\", \"2001\", \"2002\", \"2003\", \"2004\", \"2005\", \"2006\", \"2007\", \"2008\", \"2009\", \"2010\", \"2011\", \"2012\", \"2013\", \"2014\", \"2015\", \"2016\"], \"y\": [4773455.0, 6420710.0, 4194835.0, 4740557.0, 10396631.0, 9558369.0, 9664327.0, 12592900.0, 16630095.0, 16857119.0, 21434619.0, 20666776.0, 24387094.0, 26564109.0, 25381465.0, 25597902.0, 29875719.0, 29612482.0, 33886258.0, 34843950.0, 43256714.0, 46832700.0, 55178218.0, 52754779.0]}, {\"line\": {\"width\": 3}, \"mode\": \"lines\", \"name\": \"Maize\", \"type\": \"scatter\", \"visible\": false, \"x\": [\"1993\", \"1994\", \"1995\", \"1996\", \"1997\", \"1998\", \"1999\", \"2000\", \"2001\", \"2002\", \"2003\", \"2004\", \"2005\", \"2006\", \"2007\", \"2008\", \"2009\", \"2010\", \"2011\", \"2012\", \"2013\", \"2014\", \"2015\", \"2016\"], \"y\": [19065.0, 4984.0, 51354.0, 456036.0, 526744.0, 45843.0, 225069.0, 266707.0, 6845228.0, 4608908.0, 4922430.0, 5662092.0, 1569466.0, 4021819.0, 11387143.0, 7107614.0, 8223117.0, 11204856.0, 10222914.0, 20254299.0, 28568420.0, 21484244.0, 29549904.0, 24889242.0]}, {\"line\": {\"width\": 3}, \"mode\": \"lines\", \"name\": \"Coffee, green\", \"type\": \"scatter\", \"visible\": false, \"x\": [\"1993\", \"1994\", \"1995\", \"1996\", \"1997\", \"1998\", \"1999\", \"2000\", \"2001\", \"2002\", \"2003\", \"2004\", \"2005\", \"2006\", \"2007\", \"2008\", \"2009\", \"2010\", \"2011\", \"2012\", \"2013\", \"2014\", \"2015\", \"2016\"], \"y\": [971818.0, 891785.0, 764812.0, 782220.0, 895572.0, 990087.0, 1259458.0, 1053151.0, 1296458.0, 1609091.0, 1478219.0, 1488923.0, 1443739.0, 1581165.0, 1626946.0, 1682163.0, 1777607.0, 1905489.0, 1919081.0, 1651463.0, 1825797.0, 2129355.0, 2161662.0, 1971825.0]}, {\"line\": {\"width\": 3}, \"mode\": \"lines\", \"name\": \"Cotton lint\", \"type\": \"scatter\", \"visible\": false, \"x\": [\"1993\", \"1994\", \"1995\", \"1996\", \"1997\", \"1998\", \"1999\", \"2000\", \"2001\", \"2002\", \"2003\", \"2004\", \"2005\", \"2006\", \"2007\", \"2008\", \"2009\", \"2010\", \"2011\", \"2012\", \"2013\", \"2014\", \"2015\", \"2016\"], \"y\": [8922.0, 3448.0, 53701.0, 6303.0, 859.0, 3919.0, 4597.0, 28942.0, 158275.0, 129109.0, 185749.0, 350925.0, 424451.0, 373414.0, 429690.0, 575043.0, 616545.0, 534862.0, 761440.0, 1095898.0, 690274.0, 753773.0, 902980.0, 904148.0]}, {\"line\": {\"width\": 3}, \"mode\": \"lines\", \"name\": \"Wheat\", \"type\": \"scatter\", \"visible\": false, \"x\": [\"1993\", \"1994\", \"1995\", \"1996\", \"1997\", \"1998\", \"1999\", \"2000\", \"2001\", \"2002\", \"2003\", \"2004\", \"2005\", \"2006\", \"2007\", \"2008\", \"2009\", \"2010\", \"2011\", \"2012\", \"2013\", \"2014\", \"2015\", \"2016\"], \"y\": [2505.0, 5.0, 135.0, 571.0, 55005.0, 54958.0, 2153.0, 2125.0, 6377.0, 34643.0, 53768.0, 1594369.0, 187570.0, 836724.0, 160368.0, 761858.0, 466649.0, 1413994.0, 2582650.0, 2519188.0, 1360142.0, 277025.0, 1779645.0, 892152.0]}, {\"line\": {\"width\": 3}, \"mode\": \"lines\", \"name\": \"Tobacco, unmanufactured\", \"type\": \"scatter\", \"visible\": false, \"x\": [\"1993\", \"1994\", \"1995\", \"1996\", \"1997\", \"1998\", \"1999\", \"2000\", \"2001\", \"2002\", \"2003\", \"2004\", \"2005\", \"2006\", \"2007\", \"2008\", \"2009\", \"2010\", \"2011\", \"2012\", \"2013\", \"2014\", \"2015\", \"2016\"], \"y\": [236649.0, 276012.0, 260443.0, 296453.0, 311095.0, 318664.0, 335746.0, 405900.0, 474570.0, 512825.0, 519227.0, 650975.0, 716173.0, 719265.0, 772298.0, 801600.0, 778407.0, 616403.0, 640248.0, 717616.0, 690475.0, 572654.0, 586849.0, 571220.0]}, {\"line\": {\"width\": 3}, \"mode\": \"lines\", \"name\": \"Melons, other (inc.cantaloupes)\", \"type\": \"scatter\", \"visible\": false, \"x\": [\"1993\", \"1994\", \"1995\", \"1996\", \"1997\", \"1998\", \"1999\", \"2000\", \"2001\", \"2002\", \"2003\", \"2004\", \"2005\", \"2006\", \"2007\", \"2008\", \"2009\", \"2010\", \"2011\", \"2012\", \"2013\", \"2014\", \"2015\", \"2016\"], \"y\": [72522.0, 74522.0, 66933.0, 56298.0, 50222.0, 66839.0, 77073.0, 66912.0, 103387.0, 112690.0, 162876.0, 154815.0, 192528.0, 186131.0, 220613.0, 226687.0, 192111.0, 185752.0, 175862.0, 190825.0, 196809.0, 204986.0, 233260.0, 236258.0]}, {\"line\": {\"width\": 3}, \"mode\": \"lines\", \"name\": \"Mangoes, mangosteens, guavas\", \"type\": \"scatter\", \"visible\": false, \"x\": [\"1993\", \"1994\", \"1995\", \"1996\", \"1997\", \"1998\", \"1999\", \"2000\", \"2001\", \"2002\", \"2003\", \"2004\", \"2005\", \"2006\", \"2007\", \"2008\", \"2009\", \"2010\", \"2011\", \"2012\", \"2013\", \"2014\", \"2015\", \"2016\"], \"y\": [18591.0, 15159.0, 17883.0, 25058.0, 23958.0, 39702.0, 60221.0, 70650.0, 99215.0, 109280.0, 144381.0, 118508.0, 119442.0, 120043.0, 122649.0, 142413.0, 117654.0, 136275.0, 135461.0, 138983.0, 134141.0, 142723.0, 168367.0, 164626.0]}, {\"line\": {\"width\": 3}, \"mode\": \"lines\", \"name\": \"Cottonseed\", \"type\": \"scatter\", \"visible\": false, \"x\": [\"1993\", \"1994\", \"1995\", \"1996\", \"1997\", \"1998\", \"1999\", \"2000\", \"2001\", \"2002\", \"2003\", \"2004\", \"2005\", \"2006\", \"2007\", \"2008\", \"2009\", \"2010\", \"2011\", \"2012\", \"2013\", \"2014\", \"2015\", \"2016\"], \"y\": [0.0, 0.0, 0.0, 0.0, 68.0, 60.0, 322.0, 2507.0, 10324.0, 5514.0, 11699.0, 106509.0, 24719.0, 516.0, 19373.0, 30226.0, 93451.0, 8856.0, 38819.0, 9573.0, 900.0, 71999.0, 91896.0, 116712.0]}, {\"line\": {\"width\": 3}, \"mode\": \"lines\", \"name\": \"Lemons and limes\", \"type\": \"scatter\", \"visible\": false, \"x\": [\"1993\", \"1994\", \"1995\", \"1996\", \"1997\", \"1998\", \"1999\", \"2000\", \"2001\", \"2002\", \"2003\", \"2004\", \"2005\", \"2006\", \"2007\", \"2008\", \"2009\", \"2010\", \"2011\", \"2012\", \"2013\", \"2014\", \"2015\", \"2016\"], \"y\": [4244.0, 4313.0, 1470.0, 1838.0, 1776.0, 2550.0, 5901.0, 10531.0, 15903.0, 23316.0, 36932.0, 39941.0, 47217.0, 54701.0, 63668.0, 65110.0, 73671.0, 71452.0, 75414.0, 83937.0, 93844.0, 104310.0, 115175.0, 106901.0]}, {\"line\": {\"width\": 3}, \"mode\": \"lines\", \"name\": \"Wheat\", \"type\": \"scatter\", \"visible\": false, \"x\": [\"1993\", \"1994\", \"1995\", \"1996\", \"1997\", \"1998\", \"1999\", \"2000\", \"2001\", \"2002\", \"2003\", \"2004\", \"2005\", \"2006\", \"2007\", \"2008\", \"2009\", \"2010\", \"2011\", \"2012\", \"2013\", \"2014\", \"2015\", \"2016\"], \"y\": [6115768.0, 6978869.0, 6474255.0, 8085885.0, 5013566.0, 6539666.0, 6891008.0, 7601386.0, 7016331.0, 6644119.0, 6622946.0, 4857312.0, 5316194.0, 6664724.0, 6795641.0, 6065774.0, 5600332.0, 6373241.0, 5824146.0, 6964204.0, 7889646.0, 6041161.0, 5441503.0, 7133356.0]}, {\"line\": {\"width\": 3}, \"mode\": \"lines\", \"name\": \"Maize\", \"type\": \"scatter\", \"visible\": false, \"x\": [\"1993\", \"1994\", \"1995\", \"1996\", \"1997\", \"1998\", \"1999\", \"2000\", \"2001\", \"2002\", \"2003\", \"2004\", \"2005\", \"2006\", \"2007\", \"2008\", \"2009\", \"2010\", \"2011\", \"2012\", \"2013\", \"2014\", \"2015\", \"2016\"], \"y\": [1389242.0, 1502192.0, 1309333.0, 335436.0, 597231.0, 1869705.0, 822292.0, 1834324.0, 624362.0, 384409.0, 797797.0, 331087.0, 597917.0, 1105665.0, 1382351.0, 770260.0, 1232245.0, 476119.0, 749137.0, 853901.0, 911602.0, 824634.0, 370313.0, 3319466.0]}, {\"line\": {\"width\": 3}, \"mode\": \"lines\", \"name\": \"Barley\", \"type\": \"scatter\", \"visible\": false, \"x\": [\"1993\", \"1994\", \"1995\", \"1996\", \"1997\", \"1998\", \"1999\", \"2000\", \"2001\", \"2002\", \"2003\", \"2004\", \"2005\", \"2006\", \"2007\", \"2008\", \"2009\", \"2010\", \"2011\", \"2012\", \"2013\", \"2014\", \"2015\", \"2016\"], \"y\": [124625.0, 205541.0, 268850.0, 260412.0, 129558.0, 107261.0, 61399.0, 133776.0, 209109.0, 211053.0, 332545.0, 193222.0, 164989.0, 204195.0, 264470.0, 375168.0, 489691.0, 390796.0, 320166.0, 286509.0, 409040.0, 419878.0, 477028.0, 762613.0]}, {\"line\": {\"width\": 3}, \"mode\": \"lines\", \"name\": \"Soybeans\", \"type\": \"scatter\", \"visible\": false, \"x\": [\"1993\", \"1994\", \"1995\", \"1996\", \"1997\", \"1998\", \"1999\", \"2000\", \"2001\", \"2002\", \"2003\", \"2004\", \"2005\", \"2006\", \"2007\", \"2008\", \"2009\", \"2010\", \"2011\", \"2012\", \"2013\", \"2014\", \"2015\", \"2016\"], \"y\": [159333.0, 1186342.0, 878664.0, 1064921.0, 1451203.0, 828228.0, 611655.0, 807541.0, 849634.0, 1762422.0, 1189229.0, 348415.0, 368497.0, 100455.0, 156454.0, 202817.0, 251951.0, 140465.0, 57792.0, 305061.0, 321305.0, 590515.0, 341476.0, 399390.0]}, {\"line\": {\"width\": 3}, \"mode\": \"lines\", \"name\": \"Beans, dry\", \"type\": \"scatter\", \"visible\": false, \"x\": [\"1993\", \"1994\", \"1995\", \"1996\", \"1997\", \"1998\", \"1999\", \"2000\", \"2001\", \"2002\", \"2003\", \"2004\", \"2005\", \"2006\", \"2007\", \"2008\", \"2009\", \"2010\", \"2011\", \"2012\", \"2013\", \"2014\", \"2015\", \"2016\"], \"y\": [79874.0, 221772.0, 171505.0, 82628.0, 171787.0, 228354.0, 101207.0, 81353.0, 133757.0, 83817.0, 104699.0, 80276.0, 102999.0, 71185.0, 99284.0, 220657.0, 110238.0, 196922.0, 214073.0, 324698.0, 304083.0, 142427.0, 156788.0, 343396.0]}, {\"line\": {\"width\": 3}, \"mode\": \"lines\", \"name\": \"Oil, palm\", \"type\": \"scatter\", \"visible\": false, \"x\": [\"1993\", \"1994\", \"1995\", \"1996\", \"1997\", \"1998\", \"1999\", \"2000\", \"2001\", \"2002\", \"2003\", \"2004\", \"2005\", \"2006\", \"2007\", \"2008\", \"2009\", \"2010\", \"2011\", \"2012\", \"2013\", \"2014\", \"2015\", \"2016\"], \"y\": [45345.0, 43406.0, 11455.0, 8702.0, 33076.0, 48735.0, 23278.0, 26111.0, 24550.0, 9339.0, 29951.0, 21763.0, 40575.0, 95896.0, 107738.0, 170419.0, 136436.0, 179585.0, 226800.0, 246626.0, 260716.0, 253674.0, 233469.0, 238397.0]}, {\"line\": {\"width\": 3}, \"mode\": \"lines\", \"name\": \"Onions, shallots, green\", \"type\": \"scatter\", \"visible\": false, \"x\": [\"1993\", \"1994\", \"1995\", \"1996\", \"1997\", \"1998\", \"1999\", \"2000\", \"2001\", \"2002\", \"2003\", \"2004\", \"2005\", \"2006\", \"2007\", \"2008\", \"2009\", \"2010\", \"2011\", \"2012\", \"2013\", \"2014\", \"2015\", \"2016\"], \"y\": [95733.0, 137466.0, 156271.0, 228154.0, 273086.0, 330667.0, 224419.0, 75153.0, 105214.0, 111524.0, 172688.0, 192663.0, 169518.0, 198772.0, 157216.0, 200657.0, 178238.0, 238490.0, 195170.0, 179639.0, 266921.0, 150591.0, 270325.0, 178227.0]}, {\"line\": {\"width\": 3}, \"mode\": \"lines\", \"name\": \"Garlic\", \"type\": \"scatter\", \"visible\": false, \"x\": [\"1993\", \"1994\", \"1995\", \"1996\", \"1997\", \"1998\", \"1999\", \"2000\", \"2001\", \"2002\", \"2003\", \"2004\", \"2005\", \"2006\", \"2007\", \"2008\", \"2009\", \"2010\", \"2011\", \"2012\", \"2013\", \"2014\", \"2015\", \"2016\"], \"y\": [47307.0, 53781.0, 85607.0, 100801.0, 99467.0, 110850.0, 97925.0, 90437.0, 78375.0, 88746.0, 97563.0, 107697.0, 136368.0, 120564.0, 138749.0, 149306.0, 155451.0, 153222.0, 172106.0, 166083.0, 180335.0, 167548.0, 171867.0, 173389.0]}, {\"line\": {\"width\": 3}, \"mode\": \"lines\", \"name\": \"Apples\", \"type\": \"scatter\", \"visible\": false, \"x\": [\"1993\", \"1994\", \"1995\", \"1996\", \"1997\", \"1998\", \"1999\", \"2000\", \"2001\", \"2002\", \"2003\", \"2004\", \"2005\", \"2006\", \"2007\", \"2008\", \"2009\", \"2010\", \"2011\", \"2012\", \"2013\", \"2014\", \"2015\", \"2016\"], \"y\": [79034.0, 92233.0, 248016.0, 249131.0, 122417.0, 127884.0, 67473.0, 46181.0, 82209.0, 53833.0, 42489.0, 42968.0, 69585.0, 78427.0, 69046.0, 55338.0, 62434.0, 77765.0, 97226.0, 59210.0, 94852.0, 119927.0, 79593.0, 166305.0]}, {\"line\": {\"width\": 3}, \"mode\": \"lines\", \"name\": \"Onions, dry\", \"type\": \"scatter\", \"visible\": false, \"x\": [\"1993\", \"1994\", \"1995\", \"1996\", \"1997\", \"1998\", \"1999\", \"2000\", \"2001\", \"2002\", \"2003\", \"2004\", \"2005\", \"2006\", \"2007\", \"2008\", \"2009\", \"2010\", \"2011\", \"2012\", \"2013\", \"2014\", \"2015\", \"2016\"], \"y\": [83084.0, 115756.0, 155306.0, 227996.0, 250898.0, 324769.0, 462.0, 73309.0, 105512.0, 109928.0, 171266.0, 189891.0, 169173.0, 197823.0, 157260.0, 201688.0, 181789.0, 235377.0, 200010.0, 176748.0, 261839.0, 151908.0, 281231.0, 166050.0]}],\n",
       "                        {\"font\": {\"color\": \"rgb(0,0,0)\", \"family\": \"source-serif-pro\", \"size\": 14}, \"height\": 500, \"template\": {\"data\": {\"scatter\": [{\"type\": \"scatter\"}]}}, \"title\": {\"text\": \"Brazil production, exports and imports\"}, \"updatemenus\": [{\"active\": 0, \"buttons\": [{\"args\": [{\"visible\": [true, true, true, true, true, true, true, true, true, true, false, false, false, false, false, false, false, false, false, false, false, false, false, false, false, false, false, false, false, false]}], \"label\": \"Production\", \"method\": \"update\"}, {\"args\": [{\"visible\": [false, false, false, false, false, false, false, false, false, false, true, true, true, true, true, true, true, true, true, true, false, false, false, false, false, false, false, false, false, false]}], \"label\": \"Exports\", \"method\": \"update\"}, {\"args\": [{\"visible\": [false, false, false, false, false, false, false, false, false, false, false, false, false, false, false, false, false, false, false, false, true, true, true, true, true, true, true, true, true, true]}], \"label\": \"Imports\", \"method\": \"update\"}], \"x\": 0, \"y\": 1.2}], \"width\": 800, \"xaxis\": {\"scaleratio\": 1}, \"yaxis\": {\"tickfont\": {\"size\": 12}, \"title\": {\"font\": {\"size\": 14}, \"text\": \"Tonnes\"}}},\n",
       "                        {\"responsive\": true}\n",
       "                    ).then(function(){\n",
       "                            \n",
       "var gd = document.getElementById('53260f6d-0be7-47c5-8f5f-3554a8cfe57b');\n",
       "var x = new MutationObserver(function (mutations, observer) {{\n",
       "        var display = window.getComputedStyle(gd).display;\n",
       "        if (!display || display === 'none') {{\n",
       "            console.log([gd, 'removed!']);\n",
       "            Plotly.purge(gd);\n",
       "            observer.disconnect();\n",
       "        }}\n",
       "}});\n",
       "\n",
       "// Listen for the removal of the full notebook cells\n",
       "var notebookContainer = gd.closest('#notebook-container');\n",
       "if (notebookContainer) {{\n",
       "    x.observe(notebookContainer, {childList: true});\n",
       "}}\n",
       "\n",
       "// Listen for the clearing of the current output cell\n",
       "var outputEl = gd.closest('.output');\n",
       "if (outputEl) {{\n",
       "    x.observe(outputEl, {childList: true});\n",
       "}}\n",
       "\n",
       "                        })\n",
       "                };\n",
       "                });\n",
       "            </script>\n",
       "        </div>"
      ]
     },
     "metadata": {},
     "output_type": "display_data"
    }
   ],
   "source": [
    "draft_template = go.layout.Template()\n",
    "fig.update_layout(\n",
    "    updatemenus=[\n",
    "        go.layout.Updatemenu(\n",
    "            active=0,\n",
    "            x=0,\n",
    "            y=1.2,\n",
    "            buttons=list([\n",
    "                dict(label=\"Production\",\n",
    "                     method=\"update\",\n",
    "                     args=[{\"visible\": [True, True, True, True, True, True, True, True, True, True,\n",
    "                                        False, False, False, False, False, False, False, False, False, False,\n",
    "                                       False, False, False, False, False, False, False, False, False, False]}]),\n",
    "                dict(label=\"Exports\",\n",
    "                     method=\"update\",\n",
    "                     args=[{\"visible\": [False, False, False, False, False, False, False, False, False, False,\n",
    "                                       True, True, True, True, True, True, True, True, True, True,\n",
    "                                       False, False, False, False, False, False, False, False, False, False]}]),\n",
    "                dict(label=\"Imports\",\n",
    "                     method=\"update\",\n",
    "                     args=[{\"visible\": [False, False, False, False, False, False, False, False, False, False,\n",
    "                                       False, False, False, False, False, False, False, False, False, False,\n",
    "                                       True, True, True, True, True, True, True, True, True, True]}]),\n",
    "            ]),\n",
    "        )\n",
    "    ],\n",
    "    template=draft_template,\n",
    "    yaxis=dict(\n",
    "        title='Tonnes',\n",
    "        titlefont_size=14,\n",
    "        tickfont_size=12,\n",
    "    ),\n",
    "    xaxis = dict(\n",
    "      scaleratio = 1,\n",
    "    ),\n",
    "    title = 'Brazil production, exports and imports',\n",
    "    width=800,\n",
    "    height=500,\n",
    "    font=dict(\n",
    "        family=\"source-serif-pro\",\n",
    "        size=14,\n",
    "        color = 'rgb(0,0,0)'\n",
    "    )\n",
    "    #paper_bgcolor='rgba(0,0,0,0)',\n",
    ")\n",
    "#fig.update_xaxes(tickvals = years)\n"
   ]
  },
  {
   "cell_type": "code",
   "execution_count": null,
   "metadata": {},
   "outputs": [],
   "source": []
  }
 ],
 "metadata": {
  "kernelspec": {
   "display_name": "Python [conda env:ada] *",
   "language": "python",
   "name": "conda-env-ada-py"
  },
  "language_info": {
   "codemirror_mode": {
    "name": "ipython",
    "version": 3
   },
   "file_extension": ".py",
   "mimetype": "text/x-python",
   "name": "python",
   "nbconvert_exporter": "python",
   "pygments_lexer": "ipython3",
   "version": "3.7.4"
  }
 },
 "nbformat": 4,
 "nbformat_minor": 4
}
