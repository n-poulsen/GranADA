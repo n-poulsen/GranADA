{
 "cells": [
  {
   "cell_type": "markdown",
   "metadata": {},
   "source": [
    "# Studying changes in global trade between 1993 and 2016\n",
    "## 1. Setup\n",
    "### Importing the trade data"
   ]
  },
  {
   "cell_type": "code",
   "execution_count": 1,
   "metadata": {
    "scrolled": true
   },
   "outputs": [],
   "source": [
    "import pandas as pd\n",
    "import matplotlib.pyplot as plt\n",
    "import numpy as np"
   ]
  },
  {
   "cell_type": "code",
   "execution_count": 2,
   "metadata": {},
   "outputs": [
    {
     "data": {
      "text/html": [
       "<div>\n",
       "<style scoped>\n",
       "    .dataframe tbody tr th:only-of-type {\n",
       "        vertical-align: middle;\n",
       "    }\n",
       "\n",
       "    .dataframe tbody tr th {\n",
       "        vertical-align: top;\n",
       "    }\n",
       "\n",
       "    .dataframe thead th {\n",
       "        text-align: right;\n",
       "    }\n",
       "</style>\n",
       "<table border=\"1\" class=\"dataframe\">\n",
       "  <thead>\n",
       "    <tr style=\"text-align: right;\">\n",
       "      <th></th>\n",
       "      <th>Reporter Countries</th>\n",
       "      <th>Partner Countries</th>\n",
       "      <th>Item</th>\n",
       "      <th>Element</th>\n",
       "      <th>Unit</th>\n",
       "      <th>Y1993</th>\n",
       "      <th>Y1994</th>\n",
       "      <th>Y1995</th>\n",
       "      <th>Y1996</th>\n",
       "      <th>Y1997</th>\n",
       "      <th>...</th>\n",
       "      <th>Y2007</th>\n",
       "      <th>Y2008</th>\n",
       "      <th>Y2009</th>\n",
       "      <th>Y2010</th>\n",
       "      <th>Y2011</th>\n",
       "      <th>Y2012</th>\n",
       "      <th>Y2013</th>\n",
       "      <th>Y2014</th>\n",
       "      <th>Y2015</th>\n",
       "      <th>Y2016</th>\n",
       "    </tr>\n",
       "  </thead>\n",
       "  <tbody>\n",
       "    <tr>\n",
       "      <td>11</td>\n",
       "      <td>Afghanistan</td>\n",
       "      <td>Argentina</td>\n",
       "      <td>Maize</td>\n",
       "      <td>Import Quantity</td>\n",
       "      <td>tonnes</td>\n",
       "      <td>0.0</td>\n",
       "      <td>0.0</td>\n",
       "      <td>0.0</td>\n",
       "      <td>0.0</td>\n",
       "      <td>0.0</td>\n",
       "      <td>...</td>\n",
       "      <td>0.0</td>\n",
       "      <td>0.0</td>\n",
       "      <td>0.0</td>\n",
       "      <td>0.0</td>\n",
       "      <td>0.0</td>\n",
       "      <td>0.0</td>\n",
       "      <td>0.0</td>\n",
       "      <td>0.0</td>\n",
       "      <td>0.0</td>\n",
       "      <td>0.0</td>\n",
       "    </tr>\n",
       "    <tr>\n",
       "      <td>12</td>\n",
       "      <td>Afghanistan</td>\n",
       "      <td>Argentina</td>\n",
       "      <td>Maize</td>\n",
       "      <td>Import Value</td>\n",
       "      <td>1000 US$</td>\n",
       "      <td>0.0</td>\n",
       "      <td>0.0</td>\n",
       "      <td>0.0</td>\n",
       "      <td>0.0</td>\n",
       "      <td>0.0</td>\n",
       "      <td>...</td>\n",
       "      <td>0.0</td>\n",
       "      <td>0.0</td>\n",
       "      <td>0.0</td>\n",
       "      <td>0.0</td>\n",
       "      <td>0.0</td>\n",
       "      <td>0.0</td>\n",
       "      <td>0.0</td>\n",
       "      <td>0.0</td>\n",
       "      <td>0.0</td>\n",
       "      <td>0.0</td>\n",
       "    </tr>\n",
       "    <tr>\n",
       "      <td>25</td>\n",
       "      <td>Afghanistan</td>\n",
       "      <td>Australia</td>\n",
       "      <td>Anise, badian, fennel, coriander</td>\n",
       "      <td>Export Quantity</td>\n",
       "      <td>tonnes</td>\n",
       "      <td>0.0</td>\n",
       "      <td>0.0</td>\n",
       "      <td>0.0</td>\n",
       "      <td>0.0</td>\n",
       "      <td>0.0</td>\n",
       "      <td>...</td>\n",
       "      <td>0.0</td>\n",
       "      <td>0.0</td>\n",
       "      <td>0.0</td>\n",
       "      <td>0.0</td>\n",
       "      <td>0.0</td>\n",
       "      <td>0.0</td>\n",
       "      <td>0.0</td>\n",
       "      <td>0.0</td>\n",
       "      <td>0.0</td>\n",
       "      <td>0.0</td>\n",
       "    </tr>\n",
       "    <tr>\n",
       "      <td>26</td>\n",
       "      <td>Afghanistan</td>\n",
       "      <td>Australia</td>\n",
       "      <td>Anise, badian, fennel, coriander</td>\n",
       "      <td>Export Value</td>\n",
       "      <td>1000 US$</td>\n",
       "      <td>0.0</td>\n",
       "      <td>0.0</td>\n",
       "      <td>0.0</td>\n",
       "      <td>0.0</td>\n",
       "      <td>0.0</td>\n",
       "      <td>...</td>\n",
       "      <td>0.0</td>\n",
       "      <td>0.0</td>\n",
       "      <td>0.0</td>\n",
       "      <td>0.0</td>\n",
       "      <td>0.0</td>\n",
       "      <td>0.0</td>\n",
       "      <td>0.0</td>\n",
       "      <td>0.0</td>\n",
       "      <td>0.0</td>\n",
       "      <td>0.0</td>\n",
       "    </tr>\n",
       "    <tr>\n",
       "      <td>27</td>\n",
       "      <td>Afghanistan</td>\n",
       "      <td>Australia</td>\n",
       "      <td>Apricots</td>\n",
       "      <td>Export Quantity</td>\n",
       "      <td>tonnes</td>\n",
       "      <td>0.0</td>\n",
       "      <td>0.0</td>\n",
       "      <td>0.0</td>\n",
       "      <td>0.0</td>\n",
       "      <td>0.0</td>\n",
       "      <td>...</td>\n",
       "      <td>0.0</td>\n",
       "      <td>0.0</td>\n",
       "      <td>0.0</td>\n",
       "      <td>3.0</td>\n",
       "      <td>0.0</td>\n",
       "      <td>0.0</td>\n",
       "      <td>0.0</td>\n",
       "      <td>0.0</td>\n",
       "      <td>0.0</td>\n",
       "      <td>0.0</td>\n",
       "    </tr>\n",
       "  </tbody>\n",
       "</table>\n",
       "<p>5 rows × 29 columns</p>\n",
       "</div>"
      ],
      "text/plain": [
       "   Reporter Countries Partner Countries                              Item  \\\n",
       "11        Afghanistan         Argentina                             Maize   \n",
       "12        Afghanistan         Argentina                             Maize   \n",
       "25        Afghanistan         Australia  Anise, badian, fennel, coriander   \n",
       "26        Afghanistan         Australia  Anise, badian, fennel, coriander   \n",
       "27        Afghanistan         Australia                          Apricots   \n",
       "\n",
       "            Element      Unit  Y1993  Y1994  Y1995  Y1996  Y1997  ...  Y2007  \\\n",
       "11  Import Quantity    tonnes    0.0    0.0    0.0    0.0    0.0  ...    0.0   \n",
       "12     Import Value  1000 US$    0.0    0.0    0.0    0.0    0.0  ...    0.0   \n",
       "25  Export Quantity    tonnes    0.0    0.0    0.0    0.0    0.0  ...    0.0   \n",
       "26     Export Value  1000 US$    0.0    0.0    0.0    0.0    0.0  ...    0.0   \n",
       "27  Export Quantity    tonnes    0.0    0.0    0.0    0.0    0.0  ...    0.0   \n",
       "\n",
       "    Y2008  Y2009  Y2010  Y2011  Y2012  Y2013  Y2014  Y2015  Y2016  \n",
       "11    0.0    0.0    0.0    0.0    0.0    0.0    0.0    0.0    0.0  \n",
       "12    0.0    0.0    0.0    0.0    0.0    0.0    0.0    0.0    0.0  \n",
       "25    0.0    0.0    0.0    0.0    0.0    0.0    0.0    0.0    0.0  \n",
       "26    0.0    0.0    0.0    0.0    0.0    0.0    0.0    0.0    0.0  \n",
       "27    0.0    0.0    3.0    0.0    0.0    0.0    0.0    0.0    0.0  \n",
       "\n",
       "[5 rows x 29 columns]"
      ]
     },
     "execution_count": 2,
     "metadata": {},
     "output_type": "execute_result"
    }
   ],
   "source": [
    "df_trade = pd.read_pickle('../data/df_trade.pkl')\n",
    "df_trade.head()"
   ]
  },
  {
   "cell_type": "code",
   "execution_count": 3,
   "metadata": {},
   "outputs": [
    {
     "name": "stderr",
     "output_type": "stream",
     "text": [
      "/Users/Niels/anaconda3/envs/ada/lib/python3.7/site-packages/pandas/core/frame.py:3494: SettingWithCopyWarning: \n",
      "A value is trying to be set on a copy of a slice from a DataFrame.\n",
      "Try using .loc[row_indexer,col_indexer] = value instead\n",
      "\n",
      "See the caveats in the documentation: http://pandas.pydata.org/pandas-docs/stable/user_guide/indexing.html#returning-a-view-versus-a-copy\n",
      "  self[k1] = value[k2]\n"
     ]
    }
   ],
   "source": [
    "def clean_trade(df):\n",
    "    df_importer = df[df['Element'] == 'Import Quantity']\n",
    "    df_exporter = df[df['Element'] == 'Export Quantity']\n",
    "    # Trades as reported by the importing country\n",
    "    df_importer = df_importer.rename(columns={\n",
    "        'Reporter Countries': 'Importer',\n",
    "        'Partner Countries': 'Exporter',\n",
    "    }).drop(['Element', 'Unit'], axis=1)\n",
    "\n",
    "    # Trades as reported by the exporting country\n",
    "    df_exporter = df_exporter.rename(columns={\n",
    "        'Reporter Countries': 'Exporter',\n",
    "        'Partner Countries': 'Importer',\n",
    "    }).drop(['Element', 'Unit'], axis=1)\n",
    "\n",
    "    # Rename the columns\n",
    "    cols_i = [name for name in df_importer.columns]\n",
    "    cols_e = [name for name in df_exporter.columns]\n",
    "    cols_i[3:] = [col + 'I' for col in cols_i[3:]]\n",
    "    cols_e[3:] = [col + 'E' for col in cols_e[3:]]\n",
    "    df_importer.columns = cols_i\n",
    "    df_exporter.columns = cols_e\n",
    "\n",
    "    # Merge the dataframes\n",
    "    df_trades_m = df_importer.merge(df_exporter, how='outer', on=['Importer', 'Exporter', 'Item']).fillna(0)\n",
    "\n",
    "    # Take the max of both types of reporter\n",
    "    df_clean_trades = df_trades_m[['Importer', 'Exporter', 'Item']]\n",
    "    df_importer_reports = df_trades_m[['Y' + str(year) + 'I' for year in range(1993, 2017)]]\n",
    "    df_importer_reports.columns = [str(year) for year in range(1993, 2017)]\n",
    "    df_exporter_reports = df_trades_m[['Y' + str(year) + 'E' for year in range(1993, 2017)]]\n",
    "    df_exporter_reports.columns = [str(year) for year in range(1993, 2017)]\n",
    "    max_values = df_importer_reports.where(df_importer_reports > df_exporter_reports, df_exporter_reports)\n",
    "    df_clean_trades[[str(year) for year in range(1993, 2017)]] = max_values\n",
    "    \n",
    "    return df_clean_trades\n",
    "\n",
    "df_trade_q = clean_trade(df_trade[df_trade['Element'].isin(['Import Quantity', 'Export Quantity'])])\n",
    "df_trade_v = clean_trade(df_trade[df_trade['Element'].isin(['Import Value', 'Export Value'])])"
   ]
  },
  {
   "cell_type": "code",
   "execution_count": 4,
   "metadata": {},
   "outputs": [
    {
     "data": {
      "text/html": [
       "<div>\n",
       "<style scoped>\n",
       "    .dataframe tbody tr th:only-of-type {\n",
       "        vertical-align: middle;\n",
       "    }\n",
       "\n",
       "    .dataframe tbody tr th {\n",
       "        vertical-align: top;\n",
       "    }\n",
       "\n",
       "    .dataframe thead th {\n",
       "        text-align: right;\n",
       "    }\n",
       "</style>\n",
       "<table border=\"1\" class=\"dataframe\">\n",
       "  <thead>\n",
       "    <tr style=\"text-align: right;\">\n",
       "      <th></th>\n",
       "      <th>Area</th>\n",
       "      <th>Item</th>\n",
       "      <th>Element</th>\n",
       "      <th>Unit</th>\n",
       "      <th>Y1993</th>\n",
       "      <th>Y1994</th>\n",
       "      <th>Y1995</th>\n",
       "      <th>Y1996</th>\n",
       "      <th>Y1997</th>\n",
       "      <th>Y1998</th>\n",
       "      <th>...</th>\n",
       "      <th>Y2007</th>\n",
       "      <th>Y2008</th>\n",
       "      <th>Y2009</th>\n",
       "      <th>Y2010</th>\n",
       "      <th>Y2011</th>\n",
       "      <th>Y2012</th>\n",
       "      <th>Y2013</th>\n",
       "      <th>Y2014</th>\n",
       "      <th>Y2015</th>\n",
       "      <th>Y2016</th>\n",
       "    </tr>\n",
       "  </thead>\n",
       "  <tbody>\n",
       "    <tr>\n",
       "      <td>0</td>\n",
       "      <td>Afghanistan</td>\n",
       "      <td>Almonds, with shell</td>\n",
       "      <td>Area harvested</td>\n",
       "      <td>ha</td>\n",
       "      <td>5500.0</td>\n",
       "      <td>5500.0</td>\n",
       "      <td>5500.0</td>\n",
       "      <td>5500.0</td>\n",
       "      <td>5500.0</td>\n",
       "      <td>5500.0</td>\n",
       "      <td>...</td>\n",
       "      <td>12000.0</td>\n",
       "      <td>12000.0</td>\n",
       "      <td>11029.0</td>\n",
       "      <td>11210.0</td>\n",
       "      <td>13469.0</td>\n",
       "      <td>13490.0</td>\n",
       "      <td>14114.0</td>\n",
       "      <td>13703.0</td>\n",
       "      <td>14676.0</td>\n",
       "      <td>19481.0</td>\n",
       "    </tr>\n",
       "    <tr>\n",
       "      <td>1</td>\n",
       "      <td>Afghanistan</td>\n",
       "      <td>Almonds, with shell</td>\n",
       "      <td>Yield</td>\n",
       "      <td>hg/ha</td>\n",
       "      <td>16364.0</td>\n",
       "      <td>16364.0</td>\n",
       "      <td>16364.0</td>\n",
       "      <td>16364.0</td>\n",
       "      <td>16364.0</td>\n",
       "      <td>16364.0</td>\n",
       "      <td>...</td>\n",
       "      <td>26234.0</td>\n",
       "      <td>35000.0</td>\n",
       "      <td>39154.0</td>\n",
       "      <td>49955.0</td>\n",
       "      <td>45000.0</td>\n",
       "      <td>45960.0</td>\n",
       "      <td>29910.0</td>\n",
       "      <td>19996.0</td>\n",
       "      <td>16521.0</td>\n",
       "      <td>16859.0</td>\n",
       "    </tr>\n",
       "    <tr>\n",
       "      <td>2</td>\n",
       "      <td>Afghanistan</td>\n",
       "      <td>Almonds, with shell</td>\n",
       "      <td>Production</td>\n",
       "      <td>tonnes</td>\n",
       "      <td>9000.0</td>\n",
       "      <td>9000.0</td>\n",
       "      <td>9000.0</td>\n",
       "      <td>9000.0</td>\n",
       "      <td>9000.0</td>\n",
       "      <td>9000.0</td>\n",
       "      <td>...</td>\n",
       "      <td>31481.0</td>\n",
       "      <td>42000.0</td>\n",
       "      <td>43183.0</td>\n",
       "      <td>56000.0</td>\n",
       "      <td>60611.0</td>\n",
       "      <td>62000.0</td>\n",
       "      <td>42215.0</td>\n",
       "      <td>27400.0</td>\n",
       "      <td>24246.0</td>\n",
       "      <td>32843.0</td>\n",
       "    </tr>\n",
       "    <tr>\n",
       "      <td>3</td>\n",
       "      <td>Afghanistan</td>\n",
       "      <td>Anise, badian, fennel, coriander</td>\n",
       "      <td>Area harvested</td>\n",
       "      <td>ha</td>\n",
       "      <td>2270.0</td>\n",
       "      <td>2871.0</td>\n",
       "      <td>3000.0</td>\n",
       "      <td>7000.0</td>\n",
       "      <td>4000.0</td>\n",
       "      <td>12000.0</td>\n",
       "      <td>...</td>\n",
       "      <td>28000.0</td>\n",
       "      <td>15000.0</td>\n",
       "      <td>17748.0</td>\n",
       "      <td>17000.0</td>\n",
       "      <td>19500.0</td>\n",
       "      <td>18500.0</td>\n",
       "      <td>18500.0</td>\n",
       "      <td>30000.0</td>\n",
       "      <td>25000.0</td>\n",
       "      <td>26019.0</td>\n",
       "    </tr>\n",
       "    <tr>\n",
       "      <td>4</td>\n",
       "      <td>Afghanistan</td>\n",
       "      <td>Anise, badian, fennel, coriander</td>\n",
       "      <td>Yield</td>\n",
       "      <td>hg/ha</td>\n",
       "      <td>6854.0</td>\n",
       "      <td>6761.0</td>\n",
       "      <td>6667.0</td>\n",
       "      <td>6000.0</td>\n",
       "      <td>6250.0</td>\n",
       "      <td>5917.0</td>\n",
       "      <td>...</td>\n",
       "      <td>6071.0</td>\n",
       "      <td>6000.0</td>\n",
       "      <td>6203.0</td>\n",
       "      <td>6000.0</td>\n",
       "      <td>6414.0</td>\n",
       "      <td>6757.0</td>\n",
       "      <td>6757.0</td>\n",
       "      <td>7167.0</td>\n",
       "      <td>7200.0</td>\n",
       "      <td>6923.0</td>\n",
       "    </tr>\n",
       "  </tbody>\n",
       "</table>\n",
       "<p>5 rows × 28 columns</p>\n",
       "</div>"
      ],
      "text/plain": [
       "          Area                              Item         Element    Unit  \\\n",
       "0  Afghanistan               Almonds, with shell  Area harvested      ha   \n",
       "1  Afghanistan               Almonds, with shell           Yield   hg/ha   \n",
       "2  Afghanistan               Almonds, with shell      Production  tonnes   \n",
       "3  Afghanistan  Anise, badian, fennel, coriander  Area harvested      ha   \n",
       "4  Afghanistan  Anise, badian, fennel, coriander           Yield   hg/ha   \n",
       "\n",
       "     Y1993    Y1994    Y1995    Y1996    Y1997    Y1998  ...    Y2007  \\\n",
       "0   5500.0   5500.0   5500.0   5500.0   5500.0   5500.0  ...  12000.0   \n",
       "1  16364.0  16364.0  16364.0  16364.0  16364.0  16364.0  ...  26234.0   \n",
       "2   9000.0   9000.0   9000.0   9000.0   9000.0   9000.0  ...  31481.0   \n",
       "3   2270.0   2871.0   3000.0   7000.0   4000.0  12000.0  ...  28000.0   \n",
       "4   6854.0   6761.0   6667.0   6000.0   6250.0   5917.0  ...   6071.0   \n",
       "\n",
       "     Y2008    Y2009    Y2010    Y2011    Y2012    Y2013    Y2014    Y2015  \\\n",
       "0  12000.0  11029.0  11210.0  13469.0  13490.0  14114.0  13703.0  14676.0   \n",
       "1  35000.0  39154.0  49955.0  45000.0  45960.0  29910.0  19996.0  16521.0   \n",
       "2  42000.0  43183.0  56000.0  60611.0  62000.0  42215.0  27400.0  24246.0   \n",
       "3  15000.0  17748.0  17000.0  19500.0  18500.0  18500.0  30000.0  25000.0   \n",
       "4   6000.0   6203.0   6000.0   6414.0   6757.0   6757.0   7167.0   7200.0   \n",
       "\n",
       "     Y2016  \n",
       "0  19481.0  \n",
       "1  16859.0  \n",
       "2  32843.0  \n",
       "3  26019.0  \n",
       "4   6923.0  \n",
       "\n",
       "[5 rows x 28 columns]"
      ]
     },
     "execution_count": 4,
     "metadata": {},
     "output_type": "execute_result"
    }
   ],
   "source": [
    "df_prod = pd.read_pickle('../data/df_prod.pkl')\n",
    "df_prod.head()"
   ]
  },
  {
   "cell_type": "markdown",
   "metadata": {},
   "source": [
    "### Plotting function"
   ]
  },
  {
   "cell_type": "code",
   "execution_count": 5,
   "metadata": {},
   "outputs": [],
   "source": [
    "def plot_trade(s1, s2, label):\n",
    "    plt.figure(figsize=(15,5))\n",
    "    plt.xlabel('Year')\n",
    "\n",
    "    ax1 = s1.plot(label=label+' Weights')\n",
    "    ax2 = s2.plot(label=label+' Values', secondary_y=True)\n",
    "\n",
    "    ax1.set_ylabel('tonnes')\n",
    "    ax2.set_ylabel('1000 US$')\n",
    "\n",
    "    h1, l1 = ax1.get_legend_handles_labels()\n",
    "    h2, l2 = ax2.get_legend_handles_labels()\n",
    "\n",
    "    plt.legend(h1+h2, l1+l2, loc=2)\n",
    "    plt.show()"
   ]
  },
  {
   "cell_type": "markdown",
   "metadata": {},
   "source": [
    "## 2. Global Trade Volume\n",
    "We start by looking at the difference in trade volume by looking at the change in imports and exports by weight (in tonnes) and by value (in 1000 US$, adjusted to 2014-2016 value) "
   ]
  },
  {
   "cell_type": "code",
   "execution_count": 6,
   "metadata": {},
   "outputs": [
    {
     "data": {
      "image/png": "[encoded data removed]",
      "text/plain": [
       "<Figure size 1080x360 with 2 Axes>"
      ]
     },
     "metadata": {
      "needs_background": "light"
     },
     "output_type": "display_data"
    }
   ],
   "source": [
    "import_w = df_trade[(df_trade['Element'] == 'Import Quantity')]\\\n",
    "    [[f'Y{label}' for label in range(1993, 2017)]].sum(axis=0)\n",
    "import_v = df_trade[(df_trade['Element'] == 'Import Value')]\\\n",
    "    [[f'Y{label}' for label in range(1993, 2017)]].sum(axis=0)\n",
    "\n",
    "plot_trade(import_w, import_v, 'Import')"
   ]
  },
  {
   "cell_type": "markdown",
   "metadata": {},
   "source": [
    "Cool. Now exports"
   ]
  },
  {
   "cell_type": "code",
   "execution_count": 9,
   "metadata": {},
   "outputs": [
    {
     "data": {
      "image/png": "[encoded data removed]",
      "text/plain": [
       "<Figure size 1080x360 with 2 Axes>"
      ]
     },
     "metadata": {
      "needs_background": "light"
     },
     "output_type": "display_data"
    }
   ],
   "source": [
    "export_w = df_trade[(df_trade['Element'] == 'Export Quantity')]\\\n",
    "    [[f'Y{label}' for label in range(1993, 2017)]].sum(axis=0)\n",
    "export_v = df_trade[(df_trade['Element'] == 'Export Value')]\\\n",
    "    [[f'Y{label}' for label in range(1993, 2017)]].sum(axis=0)\n",
    "\n",
    "plot_trade(export_w, export_v, 'Export')"
   ]
  },
  {
   "cell_type": "markdown",
   "metadata": {},
   "source": [
    "We can see some slight disparities between imports and exports. This arises from multiple issues. Let's see the difference."
   ]
  },
  {
   "cell_type": "code",
   "execution_count": 8,
   "metadata": {
    "scrolled": true
   },
   "outputs": [
    {
     "data": {
      "image/png": "[encoded data removed]",
      "text/plain": [
       "<Figure size 1080x360 with 2 Axes>"
      ]
     },
     "metadata": {
      "needs_background": "light"
     },
     "output_type": "display_data"
    }
   ],
   "source": [
    "diff_w = import_w - export_w\n",
    "diff_v = import_v - export_v\n",
    "\n",
    "plot_trade(diff_w, diff_v, 'Import - Export')"
   ]
  },
  {
   "cell_type": "code",
   "execution_count": 12,
   "metadata": {},
   "outputs": [
    {
     "data": {
      "image/png": "[encoded data removed]",
      "text/plain": [
       "<Figure size 1080x360 with 1 Axes>"
      ]
     },
     "metadata": {
      "needs_background": "light"
     },
     "output_type": "display_data"
    }
   ],
   "source": [
    "plt.figure(figsize=(15,5))\n",
    "plt.xlabel('Year')\n",
    "plt.ylabel('tonnes')\n",
    "ax1 = import_w.plot(label='Import Weights')\n",
    "ax2 = export_w.plot(label='Export Weights')\n",
    "ax3 = df_trade_q[[f'{label}' for label in range(1993, 2017)]].sum(axis=0).plot(label='Maxed Weights')\n",
    "plt.legend()\n",
    "plt.show()"
   ]
  },
  {
   "cell_type": "markdown",
   "metadata": {},
   "source": [
    "We can see that every year, the amount of produce exported is greater than the amount of produce imported, but the value of imported produce is greater than the value of exported produce. Interesting."
   ]
  },
  {
   "cell_type": "markdown",
   "metadata": {},
   "source": [
    "## 3. Inter/Intra - Continental Trade Volume\n",
    "Now we want to see how continents trade with each other. We define for this the following continents\n",
    "\n",
    "* Africa\n",
    "* Americas\n",
    "* Asia\n",
    "* Europe\n",
    "* Oceania\n",
    "\n",
    "I use the FAO's data to seperate the countries in the matrix into continents.\n",
    "\n",
    "http://www.fao.org/faostat/en/#definitions"
   ]
  },
  {
   "cell_type": "code",
   "execution_count": null,
   "metadata": {},
   "outputs": [],
   "source": [
    "country_groups = pd.read_csv('../data/FAOSTAT_data_11-19-2019.csv')\n",
    "country_groups.head()"
   ]
  },
  {
   "cell_type": "code",
   "execution_count": null,
   "metadata": {},
   "outputs": [],
   "source": [
    "african_countries = set(country_groups[country_groups['Country Group'] == 'Africa']['Country'])\n",
    "american_countries = set(country_groups[country_groups['Country Group'] == 'Americas']['Country'])\n",
    "asian_countries = set(country_groups[country_groups['Country Group'] == 'Asia']['Country'])\n",
    "european_countries = set(country_groups[country_groups['Country Group'] == 'Europe']['Country'])\n",
    "oceanian_countries = set(country_groups[country_groups['Country Group'] == 'Oceania']['Country'])\n",
    "\n",
    "continents = [african_countries, american_countries, asian_countries, european_countries, oceanian_countries]\n",
    "continent_names = ['Africa', 'Americas', 'Asia', 'Europe', 'Oceania']"
   ]
  },
  {
   "cell_type": "markdown",
   "metadata": {},
   "source": [
    "We start by looking at how inter and intra continental has evolved between 1993 and 2016."
   ]
  },
  {
   "cell_type": "code",
   "execution_count": null,
   "metadata": {},
   "outputs": [],
   "source": [
    "df_intra_continental_imports_w = pd.DataFrame(columns=df_trade.columns)\n",
    "df_intra_continental_imports_v = pd.DataFrame(columns=df_trade.columns)\n",
    "\n",
    "df_inter_continental_imports_w = pd.DataFrame(columns=df_trade.columns)\n",
    "df_inter_continental_imports_v = pd.DataFrame(columns=df_trade.columns)\n",
    "\n",
    "for c in continents:\n",
    "    df_intra_continental_imports_w = df_intra_continental_imports_w\\\n",
    "        .append(df_trade[(df_trade['Reporter Countries'].isin(c)) &\n",
    "                         (df_trade['Partner Countries'].isin(c)) &\n",
    "                         (df_trade['Element'] == 'Import Quantity')])\n",
    "    df_intra_continental_imports_v = df_intra_continental_imports_v\\\n",
    "        .append(df_trade[(df_trade['Reporter Countries'].isin(c)) &\n",
    "                         (df_trade['Partner Countries'].isin(c)) &\n",
    "                         (df_trade['Element'] == 'Import Value')])\n",
    "\n",
    "for c1 in continents:\n",
    "    for c2 in continents:\n",
    "        if c1 != c2:\n",
    "            df_inter_continental_imports_w = df_inter_continental_imports_w\\\n",
    "                .append(df_trade[(df_trade['Reporter Countries'].isin(c1)) &\n",
    "                                 (df_trade['Partner Countries'].isin(c2)) &\n",
    "                                 (df_trade['Element'] == 'Import Quantity')])\n",
    "            df_inter_continental_imports_v = df_inter_continental_imports_v\\\n",
    "                .append(df_trade[(df_trade['Reporter Countries'].isin(c1)) &\n",
    "                                 (df_trade['Partner Countries'].isin(c2)) &\n",
    "                                 (df_trade['Element'] == 'Import Value')])\n",
    "\n",
    "df_intra_continental_imports_w_sums = df_intra_continental_imports_w[[f'Y{label}' for label in range(1993, 2017)]]\\\n",
    "                                    .sum(axis=0)\n",
    "df_intra_continental_imports_v_sums = df_intra_continental_imports_v[[f'Y{label}' for label in range(1993, 2017)]]\\\n",
    "                                    .sum(axis=0)\n",
    "\n",
    "df_inter_continental_imports_w_sums = df_inter_continental_imports_w[[f'Y{label}' for label in range(1993, 2017)]]\\\n",
    "                                    .sum(axis=0)\n",
    "df_inter_continental_imports_v_sums = df_inter_continental_imports_v[[f'Y{label}' for label in range(1993, 2017)]]\\\n",
    "                                    .sum(axis=0)\n",
    "\n",
    "plot_trade(df_intra_continental_imports_w_sums, df_intra_continental_imports_v_sums, 'Intra-continental trade')\n",
    "plot_trade(df_inter_continental_imports_w_sums, df_inter_continental_imports_v_sums, 'Inter-continental trade')"
   ]
  },
  {
   "cell_type": "markdown",
   "metadata": {},
   "source": [
    "At first glance, their increase looks more or less similar. But these plots are on different scales. We hence look at what proportion of imports were from other continents, compared to the same continent."
   ]
  },
  {
   "cell_type": "code",
   "execution_count": null,
   "metadata": {},
   "outputs": [],
   "source": [
    "df_total_imports_w_sums = df_intra_continental_imports_w_sums + df_inter_continental_imports_w_sums\n",
    "df_total_imports_v_sums = df_intra_continental_imports_v_sums + df_inter_continental_imports_v_sums\n",
    "\n",
    "df_intra_continental_perc_w = df_intra_continental_imports_w_sums/df_total_imports_w_sums\n",
    "df_intra_continental_perc_v = df_intra_continental_imports_v_sums/df_total_imports_v_sums\n",
    "\n",
    "plt.figure(figsize=(15,5))\n",
    "plt.xlabel('Year')\n",
    "df_intra_continental_perc_w.plot(label='Intracontinental proportion of weight of imports')\n",
    "df_intra_continental_perc_v.plot(label='Intracontinental proportion of value of imports')\n",
    "plt.ylim([0.4, 0.6])\n",
    "plt.grid()\n",
    "plt.legend()\n",
    "plt.show()"
   ]
  },
  {
   "cell_type": "markdown",
   "metadata": {},
   "source": [
    "We notice that despite some fluctuations, and a more stable increase between 2003 and 2016, the proportion of intra and inter continental trade stays quite stable. We now want to look more precisely at regions. Instead of considering continents, we consider the regions:\n",
    "\n",
    "* Africa\n",
    "    * Eastern Africa\n",
    "    * Middle Africa\n",
    "    * Northern Africa\n",
    "    * Southern Africa\n",
    "    * Western Africa\n",
    "* Americas\n",
    "    * Northern America\n",
    "    * Central America\n",
    "    * Caribbean\n",
    "    * South America\n",
    "* Asia\n",
    "    * Central Asia\n",
    "    * Eastern Asia\n",
    "    * Southern Asia\n",
    "    * South-Eastern Asia\n",
    "    * Western Asia\n",
    "* Europe\n",
    "    * Eastern Europe\n",
    "    * Northern Europe\n",
    "    * Southern Europe\n",
    "    * Western Europe\n",
    "* Oceania\n",
    "    * Australia and New Zealand\n",
    "    * Melanesia\n",
    "    * Polynesia"
   ]
  },
  {
   "cell_type": "code",
   "execution_count": null,
   "metadata": {},
   "outputs": [],
   "source": [
    "region_names = ['Eastern Africa', 'Middle Africa', 'Northern Africa', 'Southern Africa', 'Western Africa',\n",
    "                'Northern America', 'Central America', 'Caribbean', 'South America',\n",
    "                'Central Asia', 'Eastern Asia', 'Southern Asia', 'South-Eastern Asia', 'Western Asia',\n",
    "                'Eastern Europe', 'Northern Europe', 'Southern Europe', 'Western Europe',\n",
    "                'Australia and New Zealand', 'Melanesia', 'Polynesia']\n",
    "regions = [set(country_groups[country_groups['Country Group'] == region]['Country']) for region in region_names]"
   ]
  },
  {
   "cell_type": "code",
   "execution_count": null,
   "metadata": {},
   "outputs": [],
   "source": [
    "df_intra_regional_imports_w = pd.DataFrame(columns=df_trade.columns)\n",
    "df_intra_regional_imports_v = pd.DataFrame(columns=df_trade.columns)\n",
    "\n",
    "df_inter_regional_imports_w = pd.DataFrame(columns=df_trade.columns)\n",
    "df_inter_regional_imports_v = pd.DataFrame(columns=df_trade.columns)\n",
    "\n",
    "\n",
    "for c in regions:\n",
    "    df_intra_regional_imports_w = df_intra_regional_imports_w\\\n",
    "                                    .append(df_trade[(df_trade['Reporter Countries'].isin(c)) &\n",
    "                                                     (df_trade['Partner Countries'].isin(c)) &\n",
    "                                                     (df_trade['Element'] == 'Import Quantity')])\n",
    "    df_intra_regional_imports_v = df_intra_regional_imports_v\\\n",
    "                                    .append(df_trade[(df_trade['Reporter Countries'].isin(c)) &\n",
    "                                                     (df_trade['Partner Countries'].isin(c)) &\n",
    "                                                     (df_trade['Element'] == 'Import Value')])\n",
    "\n",
    "for c1 in regions:\n",
    "    for c2 in regions:\n",
    "        if c1 != c2:\n",
    "            df_inter_regional_imports_w = df_inter_regional_imports_w\\\n",
    "                .append(df_trade[(df_trade['Reporter Countries'].isin(c1)) &\n",
    "                                 (df_trade['Partner Countries'].isin(c2)) &\n",
    "                                 (df_trade['Element'] == 'Import Quantity')])\n",
    "            df_inter_regional_imports_v = df_inter_regional_imports_v\\\n",
    "                .append(df_trade[(df_trade['Reporter Countries'].isin(c1)) &\n",
    "                                 (df_trade['Partner Countries'].isin(c2)) &\n",
    "                                 (df_trade['Element'] == 'Import Value')])\n",
    "\n",
    "df_intra_regional_imports_w_sums = df_intra_regional_imports_w[[f'Y{label}' for label in range(1993, 2017)]]\\\n",
    "                                    .sum(axis=0)\n",
    "df_intra_regional_imports_v_sums = df_intra_regional_imports_v[[f'Y{label}' for label in range(1993, 2017)]]\\\n",
    "                                    .sum(axis=0)\n",
    "\n",
    "df_inter_regional_imports_w_sums = df_inter_regional_imports_w[[f'Y{label}' for label in range(1993, 2017)]]\\\n",
    "                                    .sum(axis=0)\n",
    "df_inter_regional_imports_v_sums = df_inter_regional_imports_v[[f'Y{label}' for label in range(1993, 2017)]]\\\n",
    "                                    .sum(axis=0)\n",
    "\n",
    "plot_trade(df_intra_regional_imports_w_sums, df_intra_regional_imports_v_sums, 'Intra-Regional trade')\n",
    "plot_trade(df_inter_regional_imports_w_sums, df_inter_regional_imports_v_sums, 'Inter-Regional trade')"
   ]
  },
  {
   "cell_type": "code",
   "execution_count": null,
   "metadata": {},
   "outputs": [],
   "source": [
    "df_total_imports_w = df_intra_regional_imports_w_sums + df_inter_regional_imports_w_sums\n",
    "df_total_imports_v = df_intra_regional_imports_v_sums + df_inter_regional_imports_v_sums\n",
    "\n",
    "df_intra_regional_perc_w = df_intra_regional_imports_w_sums/df_total_imports_w\n",
    "df_intra_regional_perc_v = df_intra_regional_imports_v_sums/df_total_imports_v\n",
    "\n",
    "plt.figure(figsize=(15,5))\n",
    "plt.xlabel('Year')\n",
    "df_intra_regional_perc_w.plot(label='Intra-Regional proportion of weight of imports')\n",
    "df_intra_regional_perc_v.plot(label='Intra-Regional proportion of value of imports')\n",
    "plt.ylim([0.1, 0.3])\n",
    "plt.grid()\n",
    "plt.legend()\n",
    "plt.show()"
   ]
  },
  {
   "cell_type": "markdown",
   "metadata": {},
   "source": [
    "We can see that there seems to be a slow decrease in the proportion of trade that is done between countries in the same region, that started around 2008.\n",
    "\n",
    "## 4 Looking at Specific Items\n",
    "\n",
    "What items show the most change in how they are traded?\n",
    "\n",
    "We only look at the 100 items that are the most traded."
   ]
  },
  {
   "cell_type": "code",
   "execution_count": null,
   "metadata": {},
   "outputs": [],
   "source": [
    "popular_items = df_trade.groupby('Item').sum().sort_values(by='Y2016', ascending=False)[:100]\n",
    "popular_items.head()"
   ]
  },
  {
   "cell_type": "code",
   "execution_count": null,
   "metadata": {
    "scrolled": true
   },
   "outputs": [],
   "source": [
    "items_kept = list(popular_items.index)\n",
    "\n",
    "def change_sort(item):\n",
    "    row = item[1]\n",
    "    if row.isnull().values.any():\n",
    "        return 0\n",
    "    else:\n",
    "        return np.abs(row['Y1993'] - row['Y2016'])\n",
    "\n",
    "df_item_intra_regional_w = df_intra_regional_imports_w[df_intra_regional_imports_w['Item'].isin(items_kept)]\\\n",
    "                            [['Item'] + [f'Y{label}' for label in range(1993, 2017)]].groupby('Item').sum()\n",
    "df_item_intra_regional_v = df_intra_regional_imports_v[df_intra_regional_imports_v['Item'].isin(items_kept)]\\\n",
    "                            [['Item'] + [f'Y{label}' for label in range(1993, 2017)]].groupby('Item').sum()\n",
    "\n",
    "df_item_inter_regional_w = df_inter_regional_imports_w[df_inter_regional_imports_w['Item'].isin(items_kept)]\\\n",
    "                            [['Item'] + [f'Y{label}' for label in range(1993, 2017)]].groupby('Item').sum()\n",
    "df_item_inter_regional_v = df_inter_regional_imports_v[df_inter_regional_imports_v['Item'].isin(items_kept)]\\\n",
    "                            [['Item'] + [f'Y{label}' for label in range(1993, 2017)]].groupby('Item').sum()\n",
    "\n",
    "df_item_imports_w = df_item_intra_regional_w + df_item_inter_regional_w\n",
    "df_item_imports_v = df_item_intra_regional_v + df_item_inter_regional_v\n",
    "\n",
    "df_item_intra_regional_perc_w = df_item_intra_regional_w/df_item_imports_w\n",
    "df_item_intra_regional_perc_v = df_item_intra_regional_v/df_item_imports_v\n",
    "\n",
    "item_intra_regional_perc_w = []\n",
    "for index, row in df_item_intra_regional_perc_w.iterrows():\n",
    "    item_intra_regional_perc_w.append((\n",
    "        row.name,\n",
    "        row\n",
    "    ))\n",
    "\n",
    "item_intra_regional_perc_v = []\n",
    "for index, row in df_item_intra_regional_perc_v.iterrows():\n",
    "    item_intra_regional_perc_v.append((\n",
    "        row.name,\n",
    "        row\n",
    "    ))\n",
    "\n",
    "item_intra_regional_perc_w.sort(key=change_sort, reverse=True)\n",
    "item_intra_regional_perc_v.sort(key=change_sort, reverse=True)\n",
    "\n",
    "plt.figure(figsize=(15,5))\n",
    "plt.xlabel('Year')\n",
    "for name, row in item_intra_regional_perc_w[:5]:\n",
    "    row.plot(label=name)\n",
    "plt.grid()\n",
    "plt.legend()\n",
    "plt.show()\n",
    "\n",
    "plt.figure(figsize=(15,5))\n",
    "plt.xlabel('Year')\n",
    "for name, row in item_intra_regional_perc_v[:5]:\n",
    "    row.plot(label=name)\n",
    "plt.grid()\n",
    "plt.legend()\n",
    "plt.show()"
   ]
  },
  {
   "cell_type": "code",
   "execution_count": null,
   "metadata": {
    "scrolled": true
   },
   "outputs": [],
   "source": [
    "quinoa_exports_w = df_trade[(df_trade['Item'] == 'Quinoa') & (df_trade['Element'] == 'Export Quantity')]\n",
    "quinoa_imports_w = df_trade[(df_trade['Item'] == 'Quinoa') & (df_trade['Element'] == 'Import Quantity')]\n",
    "quinoa_imports_w.head()"
   ]
  },
  {
   "cell_type": "code",
   "execution_count": null,
   "metadata": {},
   "outputs": [],
   "source": [
    "quinoa_exports_sum = quinoa_exports_w[[f'Y{label}' for label in range(1993, 2017)]].sum()\n",
    "quinoa_imports_sum = quinoa_imports_w[[f'Y{label}' for label in range(1993, 2017)]].sum()"
   ]
  },
  {
   "cell_type": "code",
   "execution_count": null,
   "metadata": {},
   "outputs": [],
   "source": [
    "plt.figure(figsize=(15,5))\n",
    "plt.xlabel('Year')\n",
    "quinoa_exports_sum.plot(label='Quinoa Exports')\n",
    "quinoa_imports_sum.plot(label='Quinoa Imports')\n",
    "plt.grid()\n",
    "plt.legend()\n",
    "plt.show()"
   ]
  },
  {
   "cell_type": "markdown",
   "metadata": {},
   "source": [
    "Fruit, tropical fresh nes:\n",
    "\n",
    "FRUIT, FRESH NES Including inter alia: azarole (Crataegus azarolus); babaco (Carica pentagona); elderberry (Sambucus nigra); jujube (Zizyphus jujuba); litchi (Nephelium litchi); loquat (Eriobotrya japonica); medlar (Mespilus germanica); pawpaw (Asimina triloba); pomegranate (Punica granatum); prickly pear (Opuntia ficus-indica); rose hips (Rosa spp.); rowanberry (Sorbus aucuparia); service-apple (Sorbus domestica); tamarind (Tamarindus indica); tree-strawberry (Arbutus unedo)\n",
    "\n",
    "Other fresh fruit that are not identified separately because of their minor relevance at the international level. Because of their limited local importance, some countries report fresh fruit under this heading that are classified separately by FAO.\n",
    "\n",
    "http://www.fao.org/waicent/faoinfo/economic/faodef/fdef08e.htm#8.08"
   ]
  },
  {
   "cell_type": "markdown",
   "metadata": {},
   "source": [
    "## 5 China and Imports\n",
    "\n",
    "What are China's biggest trade partners, and how are they changing?"
   ]
  },
  {
   "cell_type": "code",
   "execution_count": null,
   "metadata": {},
   "outputs": [],
   "source": [
    "print(list(df_trade['Reporter Countries'].value_counts().index))"
   ]
  },
  {
   "cell_type": "code",
   "execution_count": null,
   "metadata": {},
   "outputs": [],
   "source": [
    "china_names = ['China, mainland', 'China, Hong Kong SAR', 'China, Taiwan Province of', 'China, Macao SAR']\n",
    "\n",
    "df_china_trade_w = df_trade[(df_trade['Reporter Countries'] == 'China, mainland') &\n",
    "                            (df_trade['Element'] == 'Import Quantity')]\n",
    "df_china_trade_v = df_trade[(df_trade['Reporter Countries'] == 'China, mainland') &\n",
    "                            (df_trade['Element'] == 'Import Value')]"
   ]
  },
  {
   "cell_type": "markdown",
   "metadata": {},
   "source": [
    "### 5.1 The Evolution of Chinese Imports\n",
    "\n",
    "We start by looking at how Chinese imports changed over the past 20 years."
   ]
  },
  {
   "cell_type": "code",
   "execution_count": null,
   "metadata": {},
   "outputs": [],
   "source": [
    "china_trades_w = df_china_trade_w[[f'Y{label}' for label in range(1993, 2017)]].sum(axis=0)\n",
    "china_trades_v = df_china_trade_v[[f'Y{label}' for label in range(1993, 2017)]].sum(axis=0)\n",
    "\n",
    "plot_trade(china_trades_w, china_trades_v, 'Chinese Imports')"
   ]
  },
  {
   "cell_type": "markdown",
   "metadata": {},
   "source": [
    "Unsurprisingly, Chinese imports have greatly increased in the past 20 years\n",
    "\n",
    "### 5.2 Trades with each continent\n",
    "\n",
    "First, let's look at how much trade China does with countries on each continent"
   ]
  },
  {
   "cell_type": "code",
   "execution_count": null,
   "metadata": {},
   "outputs": [],
   "source": [
    "def sort_stuf(a):\n",
    "    return a[1]['Y2016']\n",
    "\n",
    "\n",
    "def group_trades(trade_df, sets_of_partners):\n",
    "    \"\"\"\n",
    "    trade_df: the df to use\n",
    "    sets_of_partners: list of sets of countries, with names\n",
    "    \"\"\"\n",
    "    country_trades = []\n",
    "    for name, countries in sets_of_partners:\n",
    "        country_trades.append((\n",
    "            name,\n",
    "            trade_df[(trade_df['Partner Countries'].isin(countries))][\n",
    "                    [f'Y{label}' for label in range(1993, 2017)]\n",
    "                ].sum(axis=0)\n",
    "        ))\n",
    "    return country_trades\n",
    "    \n",
    "\n",
    "def plot_results(trade_sets, unit):\n",
    "    plt.figure(figsize=(15,5))\n",
    "    plt.xlabel('Year')\n",
    "    plt.ylabel(f'Exports to China [{unit}]')\n",
    "    for name, trades in trade_sets:\n",
    "        trades_with_country = trades\n",
    "        # Plot total trades\n",
    "        trades_with_country.plot(label=f'Trade with {name}')\n",
    "\n",
    "    plt.grid()\n",
    "    plt.legend()\n",
    "    plt.show()\n",
    "    \n",
    "\n",
    "def plot_partners(sets_of_partners, n):\n",
    "    \"\"\"\n",
    "    sets_of_partners: list of sets of countries, with names\n",
    "    n: the number of sets of countries to be plotted, the most important will be ploted\n",
    "    \"\"\"\n",
    "    china_country_trades_w = group_trades(df_china_trade_w, sets_of_partners)\n",
    "    china_country_trades_v = group_trades(df_china_trade_v, sets_of_partners)\n",
    "    \n",
    "    china_country_trades_w.sort(key=sort_stuf, reverse=True)\n",
    "    china_country_trades_v.sort(key=sort_stuf, reverse=True)\n",
    "    \n",
    "    plot_results(china_country_trades_w[:n], 'tonnes')\n",
    "    plot_results(china_country_trades_v[:n], 'US$, in Millions')\n",
    "    \n",
    "    trade_proportion_w = [(name, weights/china_trades_w) for (name, weights) in china_country_trades_w]\n",
    "    trade_proportion_v = [(name, weights/china_trades_v) for (name, weights) in china_country_trades_v]\n",
    "\n",
    "    trade_proportion_w.sort(key=sort_stuf, reverse=True)\n",
    "    trade_proportion_v.sort(key=sort_stuf, reverse=True)\n",
    "    \n",
    "    plot_results(trade_proportion_w[:n], '% of total volume')\n",
    "    plot_results(trade_proportion_v[:n], '% of total value')"
   ]
  },
  {
   "cell_type": "code",
   "execution_count": null,
   "metadata": {},
   "outputs": [],
   "source": [
    "p = [(c_name, c) for (c_name, c) in zip(continent_names, continents)]\n",
    "plot_partners(p, 5)"
   ]
  },
  {
   "cell_type": "markdown",
   "metadata": {},
   "source": [
    "We can see that the American continent is China's main agricultural trade partner. In terms of proportion of total value, there has been an increase from between 50% and 60% in the 90s to around 70% in the 2010s.  Interestingly, trade with Asian countries has gone from around 30% of its total value in 1993 to around 13% in 2016.\n",
    "\n",
    "### 5.3 Regions\n",
    "\n",
    "We refine our search to which regions are most import to China."
   ]
  },
  {
   "cell_type": "code",
   "execution_count": null,
   "metadata": {},
   "outputs": [],
   "source": [
    "p = [(c_name, c) for (c_name, c) in zip(region_names, regions)]\n",
    "plot_partners(p, 5)"
   ]
  },
  {
   "cell_type": "markdown",
   "metadata": {},
   "source": [
    "South America has gone from a tiny playa in the 90s to one of the two main partners in 2016.\n",
    "\n",
    "\n",
    "### 5.4 Countries"
   ]
  },
  {
   "cell_type": "code",
   "execution_count": null,
   "metadata": {},
   "outputs": [],
   "source": [
    "all_countries = african_countries.union(american_countries)\\\n",
    "                                    .union(asian_countries)\\\n",
    "                                    .union(european_countries)\\\n",
    "                                    .union(oceanian_countries)\n",
    "\n",
    "p = [(c, {c}) for c in all_countries]\n",
    "plot_partners(p, 5)"
   ]
  },
  {
   "cell_type": "code",
   "execution_count": null,
   "metadata": {},
   "outputs": [],
   "source": []
  }
 ],
 "metadata": {
  "kernelspec": {
   "display_name": "Python 3",
   "language": "python",
   "name": "python3"
  },
  "language_info": {
   "codemirror_mode": {
    "name": "ipython",
    "version": 3
   },
   "file_extension": ".py",
   "mimetype": "text/x-python",
   "name": "python",
   "nbconvert_exporter": "python",
   "pygments_lexer": "ipython3",
   "version": "3.7.4"
  }
 },
 "nbformat": 4,
 "nbformat_minor": 2
}
