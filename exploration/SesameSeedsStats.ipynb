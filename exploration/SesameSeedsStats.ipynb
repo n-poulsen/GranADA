{
 "cells": [
  {
   "cell_type": "code",
   "execution_count": 1,
   "metadata": {},
   "outputs": [],
   "source": [
    "import pandas as pd\n",
    "import numpy as np"
   ]
  },
  {
   "cell_type": "code",
   "execution_count": 2,
   "metadata": {},
   "outputs": [],
   "source": [
    "df_trade = pd.read_pickle(\"../data/df_trade_merged.pkl\")"
   ]
  },
  {
   "cell_type": "code",
   "execution_count": 3,
   "metadata": {},
   "outputs": [],
   "source": [
    "df_prod = pd.read_pickle(\"../data/df_prod.pkl\")"
   ]
  },
  {
   "cell_type": "code",
   "execution_count": 4,
   "metadata": {},
   "outputs": [],
   "source": [
    "country_groups = pd.read_csv('../data/FAOSTAT_data_11-19-2019.csv')"
   ]
  },
  {
   "cell_type": "code",
   "execution_count": 5,
   "metadata": {},
   "outputs": [],
   "source": [
    "def replace_country(country, replacements, replacements_names):\n",
    "    for i, replacement in enumerate(replacements):\n",
    "        if country in replacement:\n",
    "            return replacements_names[i]"
   ]
  },
  {
   "cell_type": "code",
   "execution_count": 6,
   "metadata": {},
   "outputs": [],
   "source": [
    "african_countries = set(country_groups[country_groups['Country Group'] == 'Africa']['Country'])\n",
    "american_countries = set(country_groups[country_groups['Country Group'] == 'Americas']['Country'])\n",
    "asian_countries = set(country_groups[country_groups['Country Group'] == 'Asia']['Country'])\n",
    "european_countries = set(country_groups[country_groups['Country Group'] == 'Europe']['Country'])\n",
    "oceanian_countries = set(country_groups[country_groups['Country Group'] == 'Oceania']['Country'])\n",
    "\n",
    "continents = [african_countries, american_countries, asian_countries, european_countries, oceanian_countries]\n",
    "continent_names = ['Africa', 'Americas', 'Asia', 'Europe', 'Oceania']"
   ]
  },
  {
   "cell_type": "code",
   "execution_count": 40,
   "metadata": {},
   "outputs": [],
   "source": [
    "df_trade_continent = df_trade.copy()\n",
    "\n",
    "for i, row in df_trade_continent.iterrows():\n",
    "        df_trade_continent.at[i, 'Exporter'] = replace_country(row['Exporter'], continents, continent_names)\n",
    "        df_trade_continent.at[i, 'Importer'] = replace_country(row['Importer'], continents, continent_names)"
   ]
  },
  {
   "cell_type": "code",
   "execution_count": 41,
   "metadata": {},
   "outputs": [],
   "source": [
    "df_trade_sesame = df_trade_continent[df_trade_continent['Item'] == 'Sesame seed'].groupby(['Exporter', 'Importer'])\\\n",
    "                                                                                  .sum().reset_index()\n",
    "df_trade_sesame = df_trade_sesame[(df_trade_sesame['Exporter'] == 'Africa') & (df_trade_sesame['Importer'] == 'Asia')]"
   ]
  },
  {
   "cell_type": "code",
   "execution_count": 42,
   "metadata": {},
   "outputs": [
    {
     "data": {
      "text/html": [
       "<div>\n",
       "<style scoped>\n",
       "    .dataframe tbody tr th:only-of-type {\n",
       "        vertical-align: middle;\n",
       "    }\n",
       "\n",
       "    .dataframe tbody tr th {\n",
       "        vertical-align: top;\n",
       "    }\n",
       "\n",
       "    .dataframe thead th {\n",
       "        text-align: right;\n",
       "    }\n",
       "</style>\n",
       "<table border=\"1\" class=\"dataframe\">\n",
       "  <thead>\n",
       "    <tr style=\"text-align: right;\">\n",
       "      <th></th>\n",
       "      <th>Exporter</th>\n",
       "      <th>Importer</th>\n",
       "      <th>1993</th>\n",
       "      <th>1994</th>\n",
       "      <th>1995</th>\n",
       "      <th>1996</th>\n",
       "      <th>1997</th>\n",
       "      <th>1998</th>\n",
       "      <th>1999</th>\n",
       "      <th>2000</th>\n",
       "      <th>...</th>\n",
       "      <th>2007</th>\n",
       "      <th>2008</th>\n",
       "      <th>2009</th>\n",
       "      <th>2010</th>\n",
       "      <th>2011</th>\n",
       "      <th>2012</th>\n",
       "      <th>2013</th>\n",
       "      <th>2014</th>\n",
       "      <th>2015</th>\n",
       "      <th>2016</th>\n",
       "    </tr>\n",
       "  </thead>\n",
       "  <tbody>\n",
       "    <tr>\n",
       "      <td>2</td>\n",
       "      <td>Africa</td>\n",
       "      <td>Asia</td>\n",
       "      <td>20516.0</td>\n",
       "      <td>21178.0</td>\n",
       "      <td>28895.0</td>\n",
       "      <td>42712.0</td>\n",
       "      <td>58208.0</td>\n",
       "      <td>79661.0</td>\n",
       "      <td>84678.0</td>\n",
       "      <td>76984.0</td>\n",
       "      <td>...</td>\n",
       "      <td>360826.0</td>\n",
       "      <td>326189.0</td>\n",
       "      <td>532362.0</td>\n",
       "      <td>613033.0</td>\n",
       "      <td>577094.0</td>\n",
       "      <td>808562.0</td>\n",
       "      <td>931229.0</td>\n",
       "      <td>1001361.0</td>\n",
       "      <td>1363144.0</td>\n",
       "      <td>1452811.0</td>\n",
       "    </tr>\n",
       "  </tbody>\n",
       "</table>\n",
       "<p>1 rows × 26 columns</p>\n",
       "</div>"
      ],
      "text/plain": [
       "  Exporter Importer     1993     1994     1995     1996     1997     1998  \\\n",
       "2   Africa     Asia  20516.0  21178.0  28895.0  42712.0  58208.0  79661.0   \n",
       "\n",
       "      1999     2000  ...      2007      2008      2009      2010      2011  \\\n",
       "2  84678.0  76984.0  ...  360826.0  326189.0  532362.0  613033.0  577094.0   \n",
       "\n",
       "       2012      2013       2014       2015       2016  \n",
       "2  808562.0  931229.0  1001361.0  1363144.0  1452811.0  \n",
       "\n",
       "[1 rows x 26 columns]"
      ]
     },
     "execution_count": 42,
     "metadata": {},
     "output_type": "execute_result"
    }
   ],
   "source": [
    "df_trade_sesame"
   ]
  },
  {
   "cell_type": "code",
   "execution_count": 48,
   "metadata": {},
   "outputs": [],
   "source": [
    "df_prod_continent = df_prod.copy()\n",
    "for i, row in df_prod_continent.iterrows():\n",
    "        df_prod_continent.at[i, 'Area'] = replace_country(row['Area'], continents, continent_names)"
   ]
  },
  {
   "cell_type": "code",
   "execution_count": 49,
   "metadata": {},
   "outputs": [],
   "source": [
    "df_prod_sesame = df_prod_continent[df_prod_continent['Item'] == 'Sesame seed'].groupby('Area')\\\n",
    "                                                                               .sum().reset_index()\n",
    "df_prod_sesame = df_prod_sesame[df_prod_sesame['Area'] == 'Africa']"
   ]
  },
  {
   "cell_type": "code",
   "execution_count": 50,
   "metadata": {},
   "outputs": [
    {
     "data": {
      "text/html": [
       "<div>\n",
       "<style scoped>\n",
       "    .dataframe tbody tr th:only-of-type {\n",
       "        vertical-align: middle;\n",
       "    }\n",
       "\n",
       "    .dataframe tbody tr th {\n",
       "        vertical-align: top;\n",
       "    }\n",
       "\n",
       "    .dataframe thead th {\n",
       "        text-align: right;\n",
       "    }\n",
       "</style>\n",
       "<table border=\"1\" class=\"dataframe\">\n",
       "  <thead>\n",
       "    <tr style=\"text-align: right;\">\n",
       "      <th></th>\n",
       "      <th>Area</th>\n",
       "      <th>Y1993</th>\n",
       "      <th>Y1994</th>\n",
       "      <th>Y1995</th>\n",
       "      <th>Y1996</th>\n",
       "      <th>Y1997</th>\n",
       "      <th>Y1998</th>\n",
       "      <th>Y1999</th>\n",
       "      <th>Y2000</th>\n",
       "      <th>Y2001</th>\n",
       "      <th>...</th>\n",
       "      <th>Y2007</th>\n",
       "      <th>Y2008</th>\n",
       "      <th>Y2009</th>\n",
       "      <th>Y2010</th>\n",
       "      <th>Y2011</th>\n",
       "      <th>Y2012</th>\n",
       "      <th>Y2013</th>\n",
       "      <th>Y2014</th>\n",
       "      <th>Y2015</th>\n",
       "      <th>Y2016</th>\n",
       "    </tr>\n",
       "  </thead>\n",
       "  <tbody>\n",
       "    <tr>\n",
       "      <td>0</td>\n",
       "      <td>Africa</td>\n",
       "      <td>1172935.0</td>\n",
       "      <td>1172243.0</td>\n",
       "      <td>1236492.0</td>\n",
       "      <td>1264362.0</td>\n",
       "      <td>1340196.0</td>\n",
       "      <td>1355720.0</td>\n",
       "      <td>1434695.0</td>\n",
       "      <td>1539483.0</td>\n",
       "      <td>1505847.0</td>\n",
       "      <td>...</td>\n",
       "      <td>2560343.0</td>\n",
       "      <td>2475196.0</td>\n",
       "      <td>2995142.0</td>\n",
       "      <td>3503568.0</td>\n",
       "      <td>3917078.0</td>\n",
       "      <td>7120579.0</td>\n",
       "      <td>9251144.0</td>\n",
       "      <td>10097681.0</td>\n",
       "      <td>8418406.0</td>\n",
       "      <td>9249763.0</td>\n",
       "    </tr>\n",
       "  </tbody>\n",
       "</table>\n",
       "<p>1 rows × 25 columns</p>\n",
       "</div>"
      ],
      "text/plain": [
       "     Area      Y1993      Y1994      Y1995      Y1996      Y1997      Y1998  \\\n",
       "0  Africa  1172935.0  1172243.0  1236492.0  1264362.0  1340196.0  1355720.0   \n",
       "\n",
       "       Y1999      Y2000      Y2001  ...      Y2007      Y2008      Y2009  \\\n",
       "0  1434695.0  1539483.0  1505847.0  ...  2560343.0  2475196.0  2995142.0   \n",
       "\n",
       "       Y2010      Y2011      Y2012      Y2013       Y2014      Y2015  \\\n",
       "0  3503568.0  3917078.0  7120579.0  9251144.0  10097681.0  8418406.0   \n",
       "\n",
       "       Y2016  \n",
       "0  9249763.0  \n",
       "\n",
       "[1 rows x 25 columns]"
      ]
     },
     "execution_count": 50,
     "metadata": {},
     "output_type": "execute_result"
    }
   ],
   "source": [
    "df_prod_sesame"
   ]
  },
  {
   "cell_type": "code",
   "execution_count": 56,
   "metadata": {},
   "outputs": [
    {
     "data": {
      "text/plain": [
       "array([[ 1.74911653,  1.80662201,  2.33685297,  3.37814645,  4.34324532,\n",
       "         5.87591833,  5.90216039,  5.00063983,  8.1901415 ,  9.83657803,\n",
       "         8.46713675, 10.81416456, 14.68191218, 17.29887446, 14.0928774 ,\n",
       "        13.17830992, 17.77418233, 17.49739123, 14.73276764, 11.35528445,\n",
       "        10.06609561,  9.91674227, 16.19242408, 15.70646729]])"
      ]
     },
     "execution_count": 56,
     "metadata": {},
     "output_type": "execute_result"
    }
   ],
   "source": [
    "df_trade_sesame.drop(columns=['Exporter', 'Importer']).values/df_prod_sesame.drop(columns=['Area']).values*100"
   ]
  },
  {
   "cell_type": "code",
   "execution_count": null,
   "metadata": {},
   "outputs": [],
   "source": []
  }
 ],
 "metadata": {
  "kernelspec": {
   "display_name": "Python [conda env:ada] *",
   "language": "python",
   "name": "conda-env-ada-py"
  },
  "language_info": {
   "codemirror_mode": {
    "name": "ipython",
    "version": 3
   },
   "file_extension": ".py",
   "mimetype": "text/x-python",
   "name": "python",
   "nbconvert_exporter": "python",
   "pygments_lexer": "ipython3",
   "version": "3.7.4"
  }
 },
 "nbformat": 4,
 "nbformat_minor": 4
}
