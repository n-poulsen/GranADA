{
 "cells": [
  {
   "cell_type": "code",
   "execution_count": 1,
   "metadata": {},
   "outputs": [],
   "source": [
    "import numpy as np\n",
    "import pandas as pd\n"
   ]
  },
  {
   "cell_type": "code",
   "execution_count": 36,
   "metadata": {},
   "outputs": [],
   "source": [
    "df_prod = pd.read_pickle('../data/df_prod.pkl')\n",
    "df_prod = df_prod[df_prod[\"Unit\"]==\"tonnes\"]\n",
    "df_trade = pd.read_pickle('../data/df_trade_merged.pkl')"
   ]
  },
  {
   "cell_type": "markdown",
   "metadata": {},
   "source": [
    "# Soybean Statistics"
   ]
  },
  {
   "cell_type": "code",
   "execution_count": 9,
   "metadata": {},
   "outputs": [],
   "source": [
    "df_tchina = df_trade[df_trade[\"Importer\"]==\"China, mainland\"]"
   ]
  },
  {
   "cell_type": "code",
   "execution_count": 15,
   "metadata": {},
   "outputs": [
    {
     "data": {
      "text/plain": [
       "1993    0.027074\n",
       "1994    0.036213\n",
       "1995    0.067516\n",
       "1996    0.044456\n",
       "1997    0.029130\n",
       "1998    0.031030\n",
       "1999    0.033551\n",
       "2000    0.043212\n",
       "2001    0.049382\n",
       "2002    0.040423\n",
       "2003    0.063662\n",
       "2004    0.077528\n",
       "2005    0.080344\n",
       "2006    0.079746\n",
       "2007    0.075169\n",
       "2008    0.087077\n",
       "2009    0.100677\n",
       "2010    0.117131\n",
       "2011    0.118259\n",
       "2012    0.128980\n",
       "2013    0.139355\n",
       "2014    0.140317\n",
       "2015    0.161910\n",
       "2016    0.144567\n",
       "dtype: float64"
      ]
     },
     "execution_count": 15,
     "metadata": {},
     "output_type": "execute_result"
    }
   ],
   "source": [
    "# Chinese trade as percentage of total trade\n",
    "df_tchina.loc[:,\"1993\":].sum() / df_trade.loc[:,\"1993\":].sum()"
   ]
  },
  {
   "cell_type": "code",
   "execution_count": 14,
   "metadata": {},
   "outputs": [
    {
     "data": {
      "text/plain": [
       "1993    0.013101\n",
       "1994    0.005093\n",
       "1995    0.016034\n",
       "1996    0.118266\n",
       "1997    0.272285\n",
       "1998    0.270081\n",
       "1999    0.316699\n",
       "2000    0.533121\n",
       "2001    0.612373\n",
       "2002    0.591478\n",
       "2003    0.731341\n",
       "2004    0.522561\n",
       "2005    0.623332\n",
       "2006    0.648709\n",
       "2007    0.711957\n",
       "2008    0.738342\n",
       "2009    0.688250\n",
       "2010    0.721785\n",
       "2011    0.697423\n",
       "2012    0.638507\n",
       "2013    0.639259\n",
       "2014    0.643133\n",
       "2015    0.618137\n",
       "2016    0.697583\n",
       "dtype: float64"
      ]
     },
     "execution_count": 14,
     "metadata": {},
     "output_type": "execute_result"
    }
   ],
   "source": [
    "#Soybean percent\n",
    "df_tchina[df_tchina[\"Item\"]==\"Soybeans\"].loc[:,\"1993\":].sum() / df_tchina.loc[:,\"1993\":].sum()"
   ]
  },
  {
   "cell_type": "code",
   "execution_count": 27,
   "metadata": {},
   "outputs": [
    {
     "data": {
      "text/plain": [
       "1993    0.000000\n",
       "1994    0.000000\n",
       "1995    0.018682\n",
       "1996    0.028490\n",
       "1997    0.152169\n",
       "1998    0.290709\n",
       "1999    0.198461\n",
       "2000    0.202247\n",
       "2001    0.228236\n",
       "2002    0.357817\n",
       "2003    0.277367\n",
       "2004    0.279527\n",
       "2005    0.297167\n",
       "2006    0.403581\n",
       "2007    0.331608\n",
       "2008    0.303559\n",
       "2009    0.366429\n",
       "2010    0.333150\n",
       "2011    0.402423\n",
       "2012    0.405271\n",
       "2013    0.486611\n",
       "2014    0.448061\n",
       "2015    0.493463\n",
       "2016    0.446242\n",
       "dtype: float64"
      ]
     },
     "execution_count": 27,
     "metadata": {},
     "output_type": "execute_result"
    }
   ],
   "source": [
    "# Percent Chinese soybean import from brazil\n",
    "df_tchina[df_tchina[\"Item\"]==\"Soybeans\"][df_tchina[df_tchina[\"Item\"]==\"Soybeans\"][\"Exporter\"]==\"Brazil\"].loc[:,\"1993\":].sum()\\\n",
    "/df_tchina[df_tchina[\"Item\"]==\"Soybeans\"].loc[:,\"1993\":].sum() "
   ]
  },
  {
   "cell_type": "code",
   "execution_count": 28,
   "metadata": {},
   "outputs": [
    {
     "data": {
      "text/html": [
       "<div>\n",
       "<style scoped>\n",
       "    .dataframe tbody tr th:only-of-type {\n",
       "        vertical-align: middle;\n",
       "    }\n",
       "\n",
       "    .dataframe tbody tr th {\n",
       "        vertical-align: top;\n",
       "    }\n",
       "\n",
       "    .dataframe thead th {\n",
       "        text-align: right;\n",
       "    }\n",
       "</style>\n",
       "<table border=\"1\" class=\"dataframe\">\n",
       "  <thead>\n",
       "    <tr style=\"text-align: right;\">\n",
       "      <th></th>\n",
       "      <th>Importer</th>\n",
       "      <th>Exporter</th>\n",
       "      <th>Item</th>\n",
       "      <th>1993</th>\n",
       "      <th>1994</th>\n",
       "      <th>1995</th>\n",
       "      <th>1996</th>\n",
       "      <th>1997</th>\n",
       "      <th>1998</th>\n",
       "      <th>1999</th>\n",
       "      <th>...</th>\n",
       "      <th>2007</th>\n",
       "      <th>2008</th>\n",
       "      <th>2009</th>\n",
       "      <th>2010</th>\n",
       "      <th>2011</th>\n",
       "      <th>2012</th>\n",
       "      <th>2013</th>\n",
       "      <th>2014</th>\n",
       "      <th>2015</th>\n",
       "      <th>2016</th>\n",
       "    </tr>\n",
       "  </thead>\n",
       "  <tbody>\n",
       "    <tr>\n",
       "      <td>64008</td>\n",
       "      <td>China, mainland</td>\n",
       "      <td>Brazil</td>\n",
       "      <td>Soybeans</td>\n",
       "      <td>0.0</td>\n",
       "      <td>0.0</td>\n",
       "      <td>7000.0</td>\n",
       "      <td>52747.0</td>\n",
       "      <td>439882.0</td>\n",
       "      <td>944972.0</td>\n",
       "      <td>860105.0</td>\n",
       "      <td>...</td>\n",
       "      <td>10582110.0</td>\n",
       "      <td>11823570.0</td>\n",
       "      <td>15993810.0</td>\n",
       "      <td>18587210.0</td>\n",
       "      <td>22104720.0</td>\n",
       "      <td>23891340.0</td>\n",
       "      <td>32251520.0</td>\n",
       "      <td>32664328.0</td>\n",
       "      <td>40925507.0</td>\n",
       "      <td>38563909.0</td>\n",
       "    </tr>\n",
       "  </tbody>\n",
       "</table>\n",
       "<p>1 rows × 27 columns</p>\n",
       "</div>"
      ],
      "text/plain": [
       "              Importer Exporter      Item  1993  1994    1995     1996  \\\n",
       "64008  China, mainland   Brazil  Soybeans   0.0   0.0  7000.0  52747.0   \n",
       "\n",
       "           1997      1998      1999  ...        2007        2008        2009  \\\n",
       "64008  439882.0  944972.0  860105.0  ...  10582110.0  11823570.0  15993810.0   \n",
       "\n",
       "             2010        2011        2012        2013        2014        2015  \\\n",
       "64008  18587210.0  22104720.0  23891340.0  32251520.0  32664328.0  40925507.0   \n",
       "\n",
       "             2016  \n",
       "64008  38563909.0  \n",
       "\n",
       "[1 rows x 27 columns]"
      ]
     },
     "execution_count": 28,
     "metadata": {},
     "output_type": "execute_result"
    }
   ],
   "source": [
    "df_tchina[df_tchina[\"Item\"]==\"Soybeans\"][df_tchina[df_tchina[\"Item\"]==\"Soybeans\"][\"Exporter\"]==\"Brazil\"]"
   ]
  },
  {
   "cell_type": "markdown",
   "metadata": {},
   "source": [
    "# Sesame Seed Statistics"
   ]
  },
  {
   "cell_type": "code",
   "execution_count": 57,
   "metadata": {},
   "outputs": [],
   "source": [
    "df_sesame = df_prod[df_prod[\"Item\"]==\"Sesame seed\"]\n",
    "df_ttanz = df_trade[df_trade[\"Exporter\"]==\"United Republic of Tanzania\"]\n"
   ]
  },
  {
   "cell_type": "code",
   "execution_count": 58,
   "metadata": {},
   "outputs": [
    {
     "data": {
      "text/html": [
       "<div>\n",
       "<style scoped>\n",
       "    .dataframe tbody tr th:only-of-type {\n",
       "        vertical-align: middle;\n",
       "    }\n",
       "\n",
       "    .dataframe tbody tr th {\n",
       "        vertical-align: top;\n",
       "    }\n",
       "\n",
       "    .dataframe thead th {\n",
       "        text-align: right;\n",
       "    }\n",
       "</style>\n",
       "<table border=\"1\" class=\"dataframe\">\n",
       "  <thead>\n",
       "    <tr style=\"text-align: right;\">\n",
       "      <th></th>\n",
       "      <th>Y1993</th>\n",
       "      <th>Y1994</th>\n",
       "      <th>Y1995</th>\n",
       "      <th>Y1996</th>\n",
       "      <th>Y1997</th>\n",
       "      <th>Y1998</th>\n",
       "      <th>Y1999</th>\n",
       "      <th>Y2000</th>\n",
       "      <th>Y2001</th>\n",
       "      <th>Y2002</th>\n",
       "      <th>...</th>\n",
       "      <th>Y2007</th>\n",
       "      <th>Y2008</th>\n",
       "      <th>Y2009</th>\n",
       "      <th>Y2010</th>\n",
       "      <th>Y2011</th>\n",
       "      <th>Y2012</th>\n",
       "      <th>Y2013</th>\n",
       "      <th>Y2014</th>\n",
       "      <th>Y2015</th>\n",
       "      <th>Y2016</th>\n",
       "    </tr>\n",
       "  </thead>\n",
       "  <tbody>\n",
       "    <tr>\n",
       "      <td>34649</td>\n",
       "      <td>0.013863</td>\n",
       "      <td>0.013905</td>\n",
       "      <td>0.014042</td>\n",
       "      <td>0.013707</td>\n",
       "      <td>0.014942</td>\n",
       "      <td>0.016635</td>\n",
       "      <td>0.01729</td>\n",
       "      <td>0.015134</td>\n",
       "      <td>0.005202</td>\n",
       "      <td>0.020961</td>\n",
       "      <td>...</td>\n",
       "      <td>0.045976</td>\n",
       "      <td>0.013851</td>\n",
       "      <td>0.025367</td>\n",
       "      <td>0.035451</td>\n",
       "      <td>0.082121</td>\n",
       "      <td>0.084342</td>\n",
       "      <td>0.174801</td>\n",
       "      <td>0.177658</td>\n",
       "      <td>0.205978</td>\n",
       "      <td>0.167519</td>\n",
       "    </tr>\n",
       "  </tbody>\n",
       "</table>\n",
       "<p>1 rows × 24 columns</p>\n",
       "</div>"
      ],
      "text/plain": [
       "          Y1993     Y1994     Y1995     Y1996     Y1997     Y1998    Y1999  \\\n",
       "34649  0.013863  0.013905  0.014042  0.013707  0.014942  0.016635  0.01729   \n",
       "\n",
       "          Y2000     Y2001     Y2002  ...     Y2007     Y2008     Y2009  \\\n",
       "34649  0.015134  0.005202  0.020961  ...  0.045976  0.013851  0.025367   \n",
       "\n",
       "          Y2010     Y2011     Y2012     Y2013     Y2014     Y2015     Y2016  \n",
       "34649  0.035451  0.082121  0.084342  0.174801  0.177658  0.205978  0.167519  \n",
       "\n",
       "[1 rows x 24 columns]"
      ]
     },
     "execution_count": 58,
     "metadata": {},
     "output_type": "execute_result"
    }
   ],
   "source": [
    "# % Tanzanina Production of sesame compared to worlwide\n",
    "df_sesame[df_sesame[\"Area\"]==\"United Republic of Tanzania\"].loc[:,\"Y1993\":] /df_sesame.loc[:,\"Y1993\":].sum() "
   ]
  },
  {
   "cell_type": "code",
   "execution_count": 56,
   "metadata": {},
   "outputs": [
    {
     "data": {
      "text/plain": [
       "array([[0.30075862, 0.21353333, 0.31422581, 0.48093939, 0.42584848,\n",
       "        0.54686111, 0.476525  , 0.41041026, 1.11183844, 0.42399274,\n",
       "        0.61958537, 0.53592939, 0.49751061, 0.72547917, 0.21404547,\n",
       "        0.70305985, 0.80647778, 0.54851821, 0.21310498, 0.19860746,\n",
       "        0.09315238, 0.11038419, 0.12205205, 0.14189898]])"
      ]
     },
     "execution_count": 56,
     "metadata": {},
     "output_type": "execute_result"
    }
   ],
   "source": [
    "# Percent of production traded by tanzania\n",
    "df_ttanz[df_ttanz[\"Item\"]==\"Sesame seed\"].loc[:,\"1993\":].sum().values/df_sesame[df_sesame[\"Area\"]==\"United Republic of Tanzania\"].loc[:,\"Y1993\":].values"
   ]
  },
  {
   "cell_type": "code",
   "execution_count": 49,
   "metadata": {
    "scrolled": true
   },
   "outputs": [
    {
     "data": {
      "text/plain": [
       "1993    0.019264\n",
       "1994    0.013410\n",
       "1995    0.018731\n",
       "1996    0.028925\n",
       "1997    0.025644\n",
       "1998    0.038460\n",
       "1999    0.036804\n",
       "2000    0.025463\n",
       "2001    0.022663\n",
       "2002    0.034219\n",
       "2003    0.033196\n",
       "2004    0.043561\n",
       "2005    0.052136\n",
       "2006    0.033586\n",
       "2007    0.031680\n",
       "2008    0.031782\n",
       "2009    0.059370\n",
       "2010    0.057855\n",
       "2011    0.055929\n",
       "2012    0.059220\n",
       "2013    0.056336\n",
       "2014    0.066263\n",
       "2015    0.066509\n",
       "2016    0.059103\n",
       "dtype: float64"
      ]
     },
     "execution_count": 49,
     "metadata": {},
     "output_type": "execute_result"
    }
   ],
   "source": [
    "# Percent of tanzanian sesame traded compared to total sesame traded\n",
    "df_ttanz[df_ttanz[\"Item\"]==\"Sesame seed\"].loc[:,\"1993\":].sum() /\\\n",
    "df_trade[df_trade[\"Item\"]==\"Sesame seed\"].loc[:,\"1993\":].sum()"
   ]
  },
  {
   "cell_type": "code",
   "execution_count": null,
   "metadata": {},
   "outputs": [],
   "source": []
  }
 ],
 "metadata": {
  "kernelspec": {
   "display_name": "Python 3",
   "language": "python",
   "name": "python3"
  },
  "language_info": {
   "codemirror_mode": {
    "name": "ipython",
    "version": 3
   },
   "file_extension": ".py",
   "mimetype": "text/x-python",
   "name": "python",
   "nbconvert_exporter": "python",
   "pygments_lexer": "ipython3",
   "version": "3.7.4"
  }
 },
 "nbformat": 4,
 "nbformat_minor": 2
}
